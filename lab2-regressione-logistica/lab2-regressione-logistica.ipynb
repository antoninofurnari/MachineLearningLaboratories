{
 "cells": [
  {
   "cell_type": "markdown",
   "metadata": {},
   "source": [
    "<style>\n",
    ".rendered_html * + p, .rendered_html p {\n",
    "    text-align:justify;\n",
    "}\n",
    ".print {\n",
    "    display:none;\n",
    "}\n",
    ".highlight {\n",
    "    background:white;\n",
    "}\n",
    "@media print {\n",
    " a[href]:after {\n",
    "     content: \"\"\n",
    " }\n",
    " .noprint {\n",
    "  display:none\n",
    "  }\n",
    "  .print {\n",
    "        display:block;\n",
    "    }\n",
    "}\n",
    "</style>\n",
    "<head>\n",
    "    <base target=\"_blank\">\n",
    "</head>\n",
    "<div style=\"text-align:left\"><a href=\"http://web.dmi.unict.it/\"><img src=\"img/dmi.png\" style=\"width:300px; margin:0;\"></a></div>"
   ]
  },
  {
   "cell_type": "markdown",
   "metadata": {},
   "source": [
    "<a href=\"http://iplab.dmi.unict.it/\"><img src=\"img/iplab.png\" style=\"width:900px\"></a>\n",
    "<center><h2>Machine Learning - A.A. 2020-2021</h2></center>\n",
    "<center><h3>Regressione Logistica in Pytorch, Valutazione di Regressione e Classificazione, Regolarizzazione e Momentum</h3></center>\n",
    "<br>\n",
    "<center>Antonino Furnari - <a href=\"http://www.dmi.unict.it/~furnari/\" target=\"_blank\">http://www.dmi.unict.it/~furnari/</a> - <a href=\"mailto:furnari@dmi.unict.it\">furnari@dmi.unict.it</a> </center>\n",
    "<center>Giovanni Maria Farinella - <a href=\"http://www.dmi.unict.it/farinella/\" target=\"_blank\">http://www.dmi.unict.it/farinella/</a> - <a href=\"mailto:gfarinella@dmi.unict.it\">gfarinella@dmi.unict.it</a> </center>"
   ]
  },
  {
   "cell_type": "markdown",
   "metadata": {},
   "source": [
    "# 1. Valutazione di un regressore lineare\n",
    "\n",
    "Nello scorso laboratorio abbiamo visto come allenare un regressore lineare. Vediamo ora come valutarlo. Iniziamo caricando il dataset visto nello scorso laboratorio e suddividendolo in training e testing set:"
   ]
  },
  {
   "cell_type": "code",
   "execution_count": 1,
   "metadata": {},
   "outputs": [],
   "source": [
    "from sklearn.datasets import load_boston\n",
    "import numpy as np\n",
    "import torch\n",
    "from torch import nn\n",
    "\n",
    "np.random.seed(123)\n",
    "torch.random.manual_seed(123);\n",
    "\n",
    "boston = load_boston()\n",
    "X = boston.data\n",
    "Y = boston.target\n",
    "\n",
    "idx = np.random.permutation(len(X))\n",
    "\n",
    "X = X[idx]\n",
    "Y = Y[idx]\n",
    "\n",
    "X_training = torch.Tensor(X[50:])\n",
    "Y_training = torch.Tensor(Y[50:])\n",
    "X_testing = torch.Tensor(X[:50])\n",
    "Y_testing = torch.Tensor(Y[:50])"
   ]
  },
  {
   "cell_type": "markdown",
   "metadata": {},
   "source": [
    "Definiamo l'oggetto `LinearRegressor` come visto nello scorso laboratorio:"
   ]
  },
  {
   "cell_type": "code",
   "execution_count": 2,
   "metadata": {},
   "outputs": [],
   "source": [
    "class LinearRegressor(nn.Module):\n",
    "    def __init__(self, in_size, out_size):\n",
    "        \"\"\"Costruisce un regressore logistico.\n",
    "            Input:\n",
    "                in_size: numero di feature in input (es. 13)\n",
    "                out_size: numero di elementi in output (es. 1)\"\"\"\n",
    "        super(LinearRegressor, self).__init__() #richiamo il costruttore della superclasse\n",
    "        #questo passo è necessario per abilitare alcuni meccanismi automatici dei moduli di PyTorch\n",
    "        \n",
    "        self.linear = nn.Linear(in_size,out_size)\n",
    "        \n",
    "    def forward(self,x):\n",
    "        \"\"\"Definisce come processare l'input x\"\"\"\n",
    "        result = self.linear(x)\n",
    "        \n",
    "        return result"
   ]
  },
  {
   "cell_type": "markdown",
   "metadata": {},
   "source": [
    "Effettuiamo l'allenamento del regressore lineare come visto nello scorso laboratorio:"
   ]
  },
  {
   "cell_type": "code",
   "execution_count": 3,
   "metadata": {},
   "outputs": [],
   "source": [
    "from torch.utils.tensorboard import SummaryWriter\n",
    "\n",
    "lr = 0.01\n",
    "epochs = 300\n",
    "\n",
    "writer = SummaryWriter('logs/linear_regressor_1')\n",
    "\n",
    "#normalizzazione dei dati\n",
    "means = X_training.mean(0)\n",
    "stds = X_training.std(0)\n",
    "\n",
    "X_training_norm = (X_training-means)/stds\n",
    "X_testing_norm = (X_testing-means)/stds\n",
    "\n",
    "reg = LinearRegressor(13,1)\n",
    "criterion = nn.MSELoss()\n",
    "\n",
    "optimizer = torch.optim.SGD(reg.parameters(),lr=lr)\n",
    "\n",
    "for e in range(epochs):\n",
    "    reg.train()\n",
    "    output = reg(X_training_norm)\n",
    "    l = criterion(output.view(-1),Y_training)\n",
    "    \n",
    "    writer.add_scalar('loss/train', l.item(), global_step=e)\n",
    "    \n",
    "    l.backward()\n",
    "    \n",
    "    optimizer.step()\n",
    "    optimizer.zero_grad()\n",
    "\n",
    "    reg.eval()\n",
    "    \n",
    "    with torch.set_grad_enabled(False):\n",
    "        y_test = reg(X_testing_norm)\n",
    "        l = criterion(y_test.view(-1),Y_testing)\n",
    "        writer.add_scalar('loss/test', l.item(), global_step=e)"
   ]
  },
  {
   "cell_type": "markdown",
   "metadata": {},
   "source": [
    "A questo punto possiamo utilizzare il modello per predire le etichette sia per il training che per il test set:"
   ]
  },
  {
   "cell_type": "code",
   "execution_count": 4,
   "metadata": {},
   "outputs": [],
   "source": [
    "preds_training = reg(X_training_norm)\n",
    "preds_testing = reg(X_testing_norm)"
   ]
  },
  {
   "cell_type": "markdown",
   "metadata": {},
   "source": [
    "Un modo semplice per valutare il modello consiste nel calcolare l'errore MSE. Definiamo una funzione e utilizziamola per calcolare l'errore di test:"
   ]
  },
  {
   "cell_type": "code",
   "execution_count": 5,
   "metadata": {},
   "outputs": [
    {
     "name": "stdout",
     "output_type": "stream",
     "text": [
      "Mean Squared Error (MSE) di training: 20.52\n",
      "Mean Squared Error (MSE) di testing: 44.04\n"
     ]
    }
   ],
   "source": [
    "def MSE(predictions, gt):\n",
    "    #inseriamo un assert per assicurarci che le due shape siano compatibili\n",
    "    #questo serve ad evitare problemi indotti dal broadcasting\n",
    "    assert predictions.shape == gt.shape\n",
    "    return ((predictions-gt)**2).mean()\n",
    "\n",
    "#quando chiamiamo il metodo MSE, facciamo un reshape delle predizioni in modo che da shape [N x 1] diventino di shape [1]\n",
    "print(\"Mean Squared Error (MSE) di training: {:0.2f}\".format(MSE(preds_training.view(-1),Y_training)))\n",
    "print(\"Mean Squared Error (MSE) di testing: {:0.2f}\".format(MSE(preds_testing.view(-1),Y_testing)))"
   ]
  },
  {
   "cell_type": "markdown",
   "metadata": {},
   "source": [
    "L'unità di misura dell'errore MSE è la stessa unità dei dati al quadrato. Pertanto, dato che i target del dataset considerato si misurano in migliaia di dollari, l'errore riportato è in migliaia di dollari al quadrato. Se vogliamo avere un errore nella stessa unità di misura dei dati in ingresso, possiamo definire il Root Mean Squared Error (RMSE), ottenuto prendendo la radice quadrata di MSE:"
   ]
  },
  {
   "cell_type": "code",
   "execution_count": 6,
   "metadata": {},
   "outputs": [
    {
     "name": "stdout",
     "output_type": "stream",
     "text": [
      "Root Mean Squared Error (RMSE) di training: 4.53\n",
      "Root Mean Squared Error (RMSE) di testing: 6.64\n"
     ]
    }
   ],
   "source": [
    "def RMSE(predictions, gt):\n",
    "    assert predictions.shape == gt.shape\n",
    "    return ((predictions-gt)**2).mean()**(1/2)\n",
    "\n",
    "print(\"Root Mean Squared Error (RMSE) di training: {:0.2f}\".format(RMSE(preds_training.view(-1),Y_training)))\n",
    "print(\"Root Mean Squared Error (RMSE) di testing: {:0.2f}\".format(RMSE(preds_testing.view(-1),Y_testing)))"
   ]
  },
  {
   "cell_type": "markdown",
   "metadata": {},
   "source": [
    "Gli errori adesso ci dicono quanto il modello sbaglia in media in \"migliaia di errori\"."
   ]
  },
  {
   "cell_type": "markdown",
   "metadata": {},
   "source": [
    "Un ulteriore misura di errore generalmente utilizzata è il Mean Absolute Error (MAE), che consiste nel calcolare la media dei valori assoluti delle differenze tra valori predetti e valori di ground truth. Anche in questo caso l'unità di misura è la stessa dei valori di target. Implementiamo la misura di errore e calcoliamo errore su trainin e test set:"
   ]
  },
  {
   "cell_type": "code",
   "execution_count": 7,
   "metadata": {},
   "outputs": [
    {
     "name": "stdout",
     "output_type": "stream",
     "text": [
      "Mean Absolute Error (MAE) di training: 3.08\n",
      "Mean Absolute Error (MAE) di testing: 4.31\n"
     ]
    }
   ],
   "source": [
    "def MAE(predictions, gt):\n",
    "    assert predictions.shape == gt.shape\n",
    "    return ((predictions-gt).abs()).mean()\n",
    "\n",
    "print(\"Mean Absolute Error (MAE) di training: {:0.2f}\".format(MAE(preds_training.view(-1),Y_training)))\n",
    "print(\"Mean Absolute Error (MAE) di testing: {:0.2f}\".format(MAE(preds_testing.view(-1),Y_testing)))"
   ]
  },
  {
   "cell_type": "markdown",
   "metadata": {},
   "source": [
    "Un altro modo per valuatare un regressore, consiste nel costruire una curva REC (Regression Error Curve). La curva riporta sull'asse delle $x$ una serie di soglie di tolleranza e sull'asse delle $y$ la percentuale degli elementi di test che presentano un errore inferiore o uguale alla soglia corrispondente. Inoltre, alla curva è spesso associata l'area sopra la curva (AOC) per offrire una misura dell'errore del metodo. Definiamo una funzione che calcoli tali valori:"
   ]
  },
  {
   "cell_type": "code",
   "execution_count": 8,
   "metadata": {},
   "outputs": [],
   "source": [
    "from matplotlib import pyplot as plt\n",
    "def rec_curve(predictions, gt):\n",
    "    assert predictions.shape == gt.shape\n",
    "    #calcoliamo tutti gli errori mediante MAE\n",
    "    errors = np.abs(np.array((predictions.detach()-gt)))\n",
    "    #prendiamo i valori unici degli erorri e ordiniamoli\n",
    "    tolerances = sorted(np.unique(errors))\n",
    "    correct= [] #lista delle \"accuracy\" relative a ogni soglia\n",
    "    for t in tolerances:\n",
    "        correct.append((errors<=t).mean()) #frazione di elementi \"correttamente\" regressi\n",
    "    AUC = np.trapz(correct, tolerances) #area sotto la curva calcolata col metodo dei trapezi\n",
    "    tot_area = np.max(tolerances)*1 #area totale\n",
    "    AOC = tot_area - AUC\n",
    "    #restituiamo le soglie, la frazione di campioni correttamente regressi e l'area sopra la curva\n",
    "    return tolerances, correct, AOC"
   ]
  },
  {
   "cell_type": "markdown",
   "metadata": {},
   "source": [
    "Utilizziamo la funzione per calcolare la curva REC e plottiamola:"
   ]
  },
  {
   "cell_type": "code",
   "execution_count": 9,
   "metadata": {},
   "outputs": [
    {
     "data": {
      "image/png": "[encoded data removed]",
      "text/plain": [
       "<Figure size 432x288 with 1 Axes>"
      ]
     },
     "metadata": {
      "needs_background": "light"
     },
     "output_type": "display_data"
    }
   ],
   "source": [
    "boston_linear_regressor_rec = rec_curve(preds_testing.view(-1),Y_testing)\n",
    "plt.plot(boston_linear_regressor_rec[0], boston_linear_regressor_rec[1])\n",
    "plt.legend(['Boston Linear Regressor. AOC: %0.2f'%boston_linear_regressor_rec[2]])\n",
    "plt.grid()\n",
    "plt.show()"
   ]
  },
  {
   "cell_type": "markdown",
   "metadata": {},
   "source": [
    "In pratica, le curve REC possono essere molto utili per confrontare le performance di due regressori diversi. Confrontiamo ad esempio le performance del regressore su training e test set:"
   ]
  },
  {
   "cell_type": "code",
   "execution_count": 10,
   "metadata": {},
   "outputs": [
    {
     "data": {
      "image/png": "[encoded data removed]",
      "text/plain": [
       "<Figure size 432x288 with 1 Axes>"
      ]
     },
     "metadata": {
      "needs_background": "light"
     },
     "output_type": "display_data"
    }
   ],
   "source": [
    "boston_linear_regressor_training_rec = rec_curve(preds_training.view(-1),Y_training)\n",
    "boston_linear_regressor_testing_rec = rec_curve(preds_testing.view(-1),Y_testing)\n",
    "plt.plot(boston_linear_regressor_training_rec[0], boston_linear_regressor_training_rec[1])\n",
    "plt.plot(boston_linear_regressor_testing_rec[0], boston_linear_regressor_testing_rec[1])\n",
    "plt.legend(['Boston Linear Regressor [train]. AOC: %0.2f'%boston_linear_regressor_training_rec[2],'Boston Linear Regressor [test]. AOC: %0.2f'%boston_linear_regressor_testing_rec[2]])\n",
    "plt.grid()\n",
    "plt.show()"
   ]
  },
  {
   "cell_type": "markdown",
   "metadata": {},
   "source": [
    "# 2. Regressione Logistica in PyTorch\n",
    "\n",
    "Abbiamo visto come allenare un regressore lineare utilizzando PyTorch. Vediamo adesso come implementare e allenare un regressore logistico. Consideriamo il dataset \"Breast Cancer\" contenuto in **scikit-learn**:"
   ]
  },
  {
   "cell_type": "code",
   "execution_count": 11,
   "metadata": {},
   "outputs": [
    {
     "name": "stdout",
     "output_type": "stream",
     "text": [
      "(569, 30)\n",
      "(569,)\n",
      "[0 0 0 0 0 0 0 0 0 0 0 0 0 0 0 0 0 0 0 1 1 1 0 0 0 0 0 0 0 0 0 0 0 0 0 0 0\n",
      " 1 0 0 0 0 0 0 0 0 1 0 1 1 1 1 1 0 0 1 0 0 1 1 1 1 0 1 0 0 1 1 1 1 0 1 0 0\n",
      " 1 0 1 0 0 1 1 1 0 0 1 0 0 0 1 1 1 0 1 1 0 0 1 1 1 0]\n"
     ]
    }
   ],
   "source": [
    "from sklearn.datasets import load_breast_cancer\n",
    "dataset = load_breast_cancer()\n",
    "X=dataset.data\n",
    "Y=dataset.target\n",
    "#features\n",
    "print(X.shape)\n",
    "#classi target\n",
    "print(Y.shape)\n",
    "print(Y[:100])"
   ]
  },
  {
   "cell_type": "markdown",
   "metadata": {},
   "source": [
    "Il dataset contiene 569 osservazioni. Ognuna di esse contiene $30$ attributi relativi a misurazioni di alcune proprietà dei nuclei delle cellule di un tessuto sotto analisi. Ogni osservazione può appartenere alla classe $1$ (cancro presente) o alla classe $0$ (cancro assente). Si veda https://archive.ics.uci.edu/ml/datasets/Breast+Cancer+Wisconsin+(Diagnostic) per maggiori informazioni."
   ]
  },
  {
   "cell_type": "markdown",
   "metadata": {},
   "source": [
    "Analogamente a quanto fatto nel caso del regressore lineare, vorremmo poter costruire un algoritmo che, dato un nuovo campione contenente le $30$ osservazioni, lo classifichi come appartenente alla classe $0$ o alla classe $1$.\n",
    "\n",
    "Potremmo pensare di allenare un classificatore lineare per predire i valori $0$ o $1$ dai dati, tuttavia avremmo un problema: _anche se alleniamo il regressore usando solo valori target pari a $0$ o $1$, una volta allenato, il regressore sarebbe in grado di predire anche valori diversi da $0$ o $1$_. In generale, ciò renderebbe poco chiaro come interpretare i valori predetti dal regressore.\n"
   ]
  },
  {
   "cell_type": "markdown",
   "metadata": {},
   "source": [
    "Per poter trattare comunque il probelma con un problema di regressione, potremmo pensare di predire la **probabilità che la classe target sia pari a $1$**. Le probabilità sono dei valori continui, che quindi risolverebbero in parte il problema discusso sopra. Tuttavia, le probabilità restano dei numeri compresi tra $0$ e $1$, mentre il regressore potrebbe predire valori arbitrari (es, $100$). \n",
    "\n",
    "Dobbiamo dunque effettuare una trasformazione dei valori di probabilità che restituisca valori continui e non compresi tra $0$ e $1$. Una trasformazione possibile si ottiene utilizzando la funzione **logit**:\n",
    "\n",
    "\\begin{equation}\n",
    "logit(P) = ln(\\frac{P(1\\ |\\ \\mathbf{x})}{1-P(1\\ |\\ \\mathbf{x})})\n",
    "\\end{equation}\n",
    "\n",
    "dove $P(1\\ |\\ \\mathbf{x})$ è la probabilità che la classe relativa al campione $\\mathbf{x}$ sia $1$ e, di conseguenza, $1-P(1\\ |\\ \\mathbf{x})=P(0\\ |\\ \\mathbf{x})$ indica la probabilità che la classe corretta sia $0$. L'espressione $\\frac{P(1\\ |\\ \\mathbf{x})}{1-P(1\\ |\\ \\mathbf{x})}$ è detta \"odd\" e assume sempre valori positivi e che tali valori possono essere sia minori di $1$ (se $P(1|\\mathbf{x})<0.5$), che maggiori di $1$ (se $P(1|\\mathbf{x})>0.5$), pertanto il dominio della funzione logit è l'insieme dei numeri reali. Un regressore lineare si presta dunque bene a predire questo genere di valori. Definiamo il nostro problema quindi come un problema di regressione lineare in cui vogliamo predire da ogni campione uno \"score\" $z$ che poniamo uguale al logit:\n",
    "\n",
    "\\begin{equation}\n",
    "z = logit(P) = ln(\\frac{P(1\\ |\\ \\mathbf{x})}{1-P(1\\ |\\ \\mathbf{x})})\n",
    "\\end{equation}\n",
    "\n",
    "Il regressore sarà dunque definito come segue:\n",
    "\n",
    "\\begin{equation}\n",
    "z = \\theta_0 + \\theta_1 x_1 + \\ldots + \\theta_n x_n\n",
    "\\end{equation}\n",
    "\n",
    "Dove $\\mathbf{x}=x_1,\\ldots,x_n$ è il vettore in ingresso e $\\theta_0, \\ldots, \\theta_n$ sono i parametri del regressore logistico."
   ]
  },
  {
   "cell_type": "markdown",
   "metadata": {},
   "source": [
    "Una volta allenato il regressore, lo si può utilizzare per predire i valori $z=logit(\\hat P(1|\\mathbf{x})$. Dunque si può ottenere la probabilità $P(1|\\mathbf{x})$ utilizzando la funzione inversa della funzione logit, nota anche come **funzione logistica**:\n",
    "\n",
    "\\begin{equation}\n",
    "\\hat P(1|\\mathbf{x}) = p = \\frac{1}{1+e^{-z}}\n",
    "\\end{equation}\n",
    "\n",
    "dove $\\hat P(1|\\mathbf{x})$ è la probabilità stimata che la classe del campione $\\mathbf{x}$ sia $1$. Inoltre si ha:\n",
    "\n",
    "\\begin{equation}\n",
    "\\hat P(0|\\mathbf{x}) = 1-p=1-\\frac{1}{1+e^{-z}}=\\frac{1}{1+e^{z}}\n",
    "\\end{equation}\n",
    "\n",
    "Per allenare il regressore logistico, definiamo una funzione di \"loss\" che assume valori alti quando le nostre predizioni sono sbagliate e valori bassi quando le predizioni sono corrette. La funzione di loss per un dato campione $\\mathbf{x}$ è definita come segue:\n",
    "\n",
    "\\begin{equation}\n",
    "\\mathcal{L}_\\theta(z,y) = -y log(p) - (1-y) log(1-p)\n",
    "\\end{equation}\n",
    "\n",
    "o alternativamente, in funzione di $z$:\n",
    "\n",
    "\\begin{equation}\n",
    "\\mathcal{L}_\\theta(z,y) = -y log(\\frac{1}{1+e^{-z}}) - (1-y) log(\\frac{1}{1+e^{z}})\n",
    "\\end{equation}\n",
    "\n",
    "Date le proprietà dei logaritmi, la funzione sopra si può scrivere come:\n",
    "\n",
    "\\begin{equation}\n",
    "\\mathcal{L}_\\theta(z,y) = y log(1+e^{-z}) + (1-y) log(1+e^{z})\n",
    "\\end{equation}\n",
    "\n",
    "\n",
    "dove $z$ è lo score stimato, $y$ rappresenta la classe corretta e $L$ è una funzione differenziabile rispetto ai parametri $\\beta_i$. In generale, la loss viene definita su un insieme di $N$ campioni $\\mathbf{x}_i$:\n",
    "\n",
    "\\begin{equation}\n",
    "\\mathcal{L}_\\theta(z,y) = \\frac{1}{N}\\sum_i-y_i log(p_i) - (1-y_i) log(1-p_i)=\\frac{1}{N}\\sum_i y_i log(1+e^{-z_i}) + (1-y_i) log(1+e^{z_i})\n",
    "\\end{equation}"
   ]
  },
  {
   "cell_type": "markdown",
   "metadata": {},
   "source": [
    "In pratica, un **regressore logistico** si può vedere come un **regressore lineare** al quale output è stata applicata la **funzione logistica**. Vediamo come implementarlo. Impostiamo un seed per avere risultati ripetibili:"
   ]
  },
  {
   "cell_type": "code",
   "execution_count": 12,
   "metadata": {},
   "outputs": [],
   "source": [
    "import torch\n",
    "import numpy as np\n",
    "np.random.seed(1234)\n",
    "torch.random.manual_seed(1234);"
   ]
  },
  {
   "cell_type": "markdown",
   "metadata": {},
   "source": [
    "Otteniamo una permutazione casuale dei dati:"
   ]
  },
  {
   "cell_type": "code",
   "execution_count": 13,
   "metadata": {},
   "outputs": [],
   "source": [
    "idx = np.random.permutation(len(X))"
   ]
  },
  {
   "cell_type": "markdown",
   "metadata": {},
   "source": [
    "Applichiamo la stessa permutazione a X e Y:"
   ]
  },
  {
   "cell_type": "code",
   "execution_count": 14,
   "metadata": {},
   "outputs": [],
   "source": [
    "X = X[idx]\n",
    "Y = Y[idx]"
   ]
  },
  {
   "cell_type": "markdown",
   "metadata": {},
   "source": [
    "Suddividiamo il dataset in **training** e **testing** set indipendenti selezionando i primi $100$ valori per formare il testing set. Trasformiamo inoltre gli array in tensori. In questo caso non dobbiamo specificare `require_grads=True` in quanto si tratta di osservazioni che non andremo a ottimizzare:"
   ]
  },
  {
   "cell_type": "code",
   "execution_count": 15,
   "metadata": {},
   "outputs": [],
   "source": [
    "X_training = torch.Tensor(X[100:])\n",
    "Y_training = torch.Tensor(Y[100:])\n",
    "X_testing = torch.Tensor(X[:100])\n",
    "Y_testing = torch.Tensor(Y[:100])"
   ]
  },
  {
   "cell_type": "markdown",
   "metadata": {},
   "source": [
    "Normalizziamo i dati per media e deviazione standard:"
   ]
  },
  {
   "cell_type": "code",
   "execution_count": 16,
   "metadata": {},
   "outputs": [],
   "source": [
    "X_mean = X_training.mean(0)\n",
    "X_std = X_training.std(0)\n",
    "X_training_norm = (X_training-X_mean)/X_std\n",
    "X_testing_norm = (X_testing-X_mean)/X_std"
   ]
  },
  {
   "cell_type": "markdown",
   "metadata": {},
   "source": [
    "Definiamo dunque un normale regressore della forma seguente per iniziare:\n",
    "\n",
    "\n",
    "\\begin{equation}\n",
    "y(x) = \\theta_0 + \\theta_1 x_1 + \\ldots + \\theta_{30} x_{30}\n",
    "\\end{equation}\n",
    "\n",
    "Il modello dipenderà da $31$ parametri. $30$ sono relativi alle $30$ feature in ingresso, mentre il trentunesimo rappresenta l'intercetta della retta di regressione. Possiamo costruire il regressore lineare usando `nn.Linear`:"
   ]
  },
  {
   "cell_type": "code",
   "execution_count": 17,
   "metadata": {},
   "outputs": [],
   "source": [
    "from torch import nn\n",
    "linear_regressor = nn.Linear(30,1)"
   ]
  },
  {
   "cell_type": "markdown",
   "metadata": {},
   "source": [
    "Proviamo ad applicare la funzione ai nostri dati:"
   ]
  },
  {
   "cell_type": "code",
   "execution_count": 18,
   "metadata": {},
   "outputs": [
    {
     "name": "stdout",
     "output_type": "stream",
     "text": [
      "tensor([[-0.1096],\n",
      "        [ 0.0380],\n",
      "        [ 0.2178],\n",
      "        [ 0.3410],\n",
      "        [ 0.1903],\n",
      "        [ 0.4142],\n",
      "        [-0.0980],\n",
      "        [-0.0238],\n",
      "        [ 0.1587],\n",
      "        [ 0.1500]], grad_fn=<SliceBackward>)\n"
     ]
    }
   ],
   "source": [
    "z = linear_regressor(X_training_norm)\n",
    "print(z[:10]) #stampiamo i primi 10 valori predetti"
   ]
  },
  {
   "cell_type": "markdown",
   "metadata": {},
   "source": [
    "Questi valori rappresentano i nostri score $z$, ovvero i **logit**. Verifichiamo che il range dei score non è compatibile con la definizione di probabilità:"
   ]
  },
  {
   "cell_type": "code",
   "execution_count": 19,
   "metadata": {},
   "outputs": [
    {
     "name": "stdout",
     "output_type": "stream",
     "text": [
      "tensor(-0.9687, grad_fn=<MinBackward1>)\n",
      "tensor(1.2384, grad_fn=<MaxBackward1>)\n"
     ]
    }
   ],
   "source": [
    "print(z.min())\n",
    "print(z.max())"
   ]
  },
  {
   "cell_type": "markdown",
   "metadata": {},
   "source": [
    "Per ottenere delle probabilità, dobbiamo applicare la funzione logistica. Definiamola:"
   ]
  },
  {
   "cell_type": "code",
   "execution_count": 20,
   "metadata": {},
   "outputs": [],
   "source": [
    "def logistic(z):\n",
    "    return 1./(1+torch.exp(-z))"
   ]
  },
  {
   "cell_type": "markdown",
   "metadata": {},
   "source": [
    "Applichiamo la funzione ai dati:"
   ]
  },
  {
   "cell_type": "code",
   "execution_count": 21,
   "metadata": {},
   "outputs": [
    {
     "name": "stdout",
     "output_type": "stream",
     "text": [
      "tensor([[0.4726],\n",
      "        [0.5095],\n",
      "        [0.5542],\n",
      "        [0.5844],\n",
      "        [0.5474],\n",
      "        [0.6021],\n",
      "        [0.4755],\n",
      "        [0.4941],\n",
      "        [0.5396],\n",
      "        [0.5374]], grad_fn=<SliceBackward>)\n"
     ]
    }
   ],
   "source": [
    "p = logistic(z)\n",
    "print(p[:10])"
   ]
  },
  {
   "cell_type": "markdown",
   "metadata": {},
   "source": [
    "Possiamo verificare che i valori ottenuti siano delle probabilità valide, ovvero che siano compresi tra $0$ e $1$:"
   ]
  },
  {
   "cell_type": "code",
   "execution_count": 22,
   "metadata": {},
   "outputs": [
    {
     "name": "stdout",
     "output_type": "stream",
     "text": [
      "tensor(0.2751, grad_fn=<MinBackward1>)\n",
      "tensor(0.7753, grad_fn=<MaxBackward1>)\n"
     ]
    }
   ],
   "source": [
    "print(p.min())\n",
    "print(p.max())"
   ]
  },
  {
   "cell_type": "markdown",
   "metadata": {},
   "source": [
    "Pytorch mette a disposizione una implementazione della funzione logistica mediante l'oggetto `nn.Sigmoid` (la funzione logistica è detta anche sigmoide):"
   ]
  },
  {
   "cell_type": "code",
   "execution_count": 23,
   "metadata": {},
   "outputs": [],
   "source": [
    "sigmoid=nn.Sigmoid()"
   ]
  },
  {
   "cell_type": "markdown",
   "metadata": {},
   "source": [
    "La funzione ha lo stesso comportamento di quella definita da noi:"
   ]
  },
  {
   "cell_type": "code",
   "execution_count": 24,
   "metadata": {},
   "outputs": [
    {
     "name": "stdout",
     "output_type": "stream",
     "text": [
      "tensor(0.2751, grad_fn=<MinBackward1>)\n",
      "tensor(0.7753, grad_fn=<MaxBackward1>)\n"
     ]
    }
   ],
   "source": [
    "p2=sigmoid(z)\n",
    "print(p2.min())\n",
    "print(p2.max())"
   ]
  },
  {
   "cell_type": "markdown",
   "metadata": {},
   "source": [
    "Definiamo adesso la funzione di loss a partire dai valori di probabilità:"
   ]
  },
  {
   "cell_type": "code",
   "execution_count": 25,
   "metadata": {},
   "outputs": [],
   "source": [
    "def loss(p,y):\n",
    "    return (-y*torch.log(p)-(1-y)*torch.log(1-p)).mean()"
   ]
  },
  {
   "cell_type": "markdown",
   "metadata": {},
   "source": [
    "Calcoliamo la loss per le predizioni appena ottenute:"
   ]
  },
  {
   "cell_type": "code",
   "execution_count": 26,
   "metadata": {},
   "outputs": [
    {
     "name": "stdout",
     "output_type": "stream",
     "text": [
      "tensor(0.6579, grad_fn=<MeanBackward0>)\n"
     ]
    }
   ],
   "source": [
    "print(loss(p,Y_training.view(-1,1)))"
   ]
  },
  {
   "cell_type": "markdown",
   "metadata": {},
   "source": [
    "La stessa funzione di loss è implementata mediante il modulo `BCELoss` (Binary Cross Entropy Loss):"
   ]
  },
  {
   "cell_type": "code",
   "execution_count": 27,
   "metadata": {},
   "outputs": [],
   "source": [
    "loss = nn.BCELoss()"
   ]
  },
  {
   "cell_type": "markdown",
   "metadata": {},
   "source": [
    "Verifichiamo che la loss funzioni esattamente come quella da noi implementata:"
   ]
  },
  {
   "cell_type": "code",
   "execution_count": 28,
   "metadata": {},
   "outputs": [
    {
     "name": "stdout",
     "output_type": "stream",
     "text": [
      "tensor(0.6579, grad_fn=<BinaryCrossEntropyBackward>)\n"
     ]
    }
   ],
   "source": [
    "print(loss(p,Y_training.view(-1,1)))"
   ]
  },
  {
   "cell_type": "markdown",
   "metadata": {},
   "source": [
    "Adesso abbiamo tutti gli ingredienti che ci servono per allenare il regressore logistico. Effettuiamo il training utilizzando lo schema visto nel caso della regressione lineare:\n",
    "\n",
    " 1. Normalizzare i dati in ingresso $\\mathbf{x}$; \n",
    " 2. Inizializzare i parametri $\\theta$ in maniera opportuna;\n",
    " 3. Calcolare i logit $\\hat{\\mathbf{z}} = \\sum_i (\\theta_i x_i) + \\theta_0$;\n",
    " 4. Calcolare le probabilità $p=\\frac{1}{1+e^{-z}}$;\n",
    " 5. Calcolare il valore della loss $\\mathcal{L}_{\\theta}(p,y)$;\n",
    " 6. Calcolare il gradiente rispetto ai parametri $\\theta$ della funzione di loss $\\nabla_\\theta \\mathcal{L}_\\theta(p,y)$;\n",
    " 7. Aggiornare i pesi $\\theta$ secondo la regola: $\\theta = \\theta - \\eta \\nabla_\\theta \\mathcal{L}_\\theta(p,y)$, dove $\\eta$ è il learning rate;\n",
    " 8. Ripetere i passi 3-7 fino a convergenza."
   ]
  },
  {
   "cell_type": "markdown",
   "metadata": {},
   "source": [
    "**Domanda 1**\n",
    "<img src=\"img/qmark.jpg\" style=\"width:150px; float:left;\"/>\n",
    "\n",
    "Quali sono le differenze tra questa procedura di training e quella vista nel caso del regressore lineare?"
   ]
  },
  {
   "cell_type": "markdown",
   "metadata": {},
   "source": [
    "**Risposta 1**\n",
    "<img style=\"float: left;width:150px;\" src=\"img/note.png\">\n",
    "\n",
    "<div style=\"background-color:#efefef; margin-left:150px; border:solid 1px; border-color:#dddddd; border-radius: 3px;\">\n",
    "<br><br><br><br><br><br>\n",
    "</div>"
   ]
  },
  {
   "cell_type": "markdown",
   "metadata": {},
   "source": [
    "Prima di passare all'implementazione, definiamo un oggetto che effettui la regressione lineare:"
   ]
  },
  {
   "cell_type": "code",
   "execution_count": 29,
   "metadata": {},
   "outputs": [],
   "source": [
    "class LogisticRegressor(nn.Module):\n",
    "    def __init__(self, in_features):\n",
    "        \"\"\"Costruisce un regressore logistico.\n",
    "            Input:\n",
    "                in_features: numero di feature in input (es. 30)\"\"\"\n",
    "        super(LogisticRegressor, self).__init__() #richiamo il costruttore della superclasse\n",
    "        #questo passo è necessario per abilitare alcuni meccanismi automatici dei moduli di PyTorch\n",
    "        \n",
    "        self.linear = nn.Linear(in_features,1) #il regressore logistico restituisce probabilità\n",
    "        #quindi il numero di feature di output è \"1\"\n",
    "        self.logistic = nn.Sigmoid()\n",
    "        \n",
    "    def forward(self,x):\n",
    "        \"\"\"Definisce come processare l'input x\"\"\"\n",
    "        logits = self.linear(x)\n",
    "\n",
    "        return self.logistic(logits)"
   ]
  },
  {
   "cell_type": "markdown",
   "metadata": {},
   "source": [
    "Implmentiamo adesso la procedura di training impostando il learning rate a $0.1$ e ottimizzando il modello per $500$ epoche. Utilizzeremo tensorboard per tracciare la procedura di training:"
   ]
  },
  {
   "cell_type": "code",
   "execution_count": 30,
   "metadata": {},
   "outputs": [],
   "source": [
    "from torch.utils.tensorboard import SummaryWriter\n",
    "\n",
    "writer = SummaryWriter('logs/logistic_regressor')\n",
    "\n",
    "lr = 0.01\n",
    "epochs = 500\n",
    "\n",
    "# Passo 1: normalizzazione dei dati\n",
    "means = X_training.mean(0)\n",
    "stds = X_training.std(0)\n",
    "\n",
    "X_training_norm = (X_training-means)/stds\n",
    "X_testing_norm = (X_testing-means)/stds\n",
    "\n",
    "#Passo 2: inizializziamo il modello\n",
    "regressor = LogisticRegressor(30)\n",
    "\n",
    "loss = nn.BCELoss()\n",
    "sgd = torch.optim.SGD(regressor.parameters(), lr)\n",
    "\n",
    "for e in range(epochs):\n",
    "    regressor.train()\n",
    "    #Passo 3 & 4: calcoliamo le probabilità\n",
    "    p = regressor(X_training_norm)\n",
    "    \n",
    "    #Passo 5: calcoliamo il valore della loss\n",
    "    l = loss(p, Y_training.view(-1,1))\n",
    "    \n",
    "    #Passo 6: calcoliamo il gradiente della loss rispetto a tutti i parametri\n",
    "    l.backward()\n",
    "    \n",
    "    #facciamo log del valore della loss\n",
    "    writer.add_scalar('loss/train', l.item(), global_step=e)\n",
    "    \n",
    "    #Passo 7: Aggiorniamo i pesi\n",
    "    sgd.step()\n",
    "    \n",
    "    #azzeriamo i gradienti per evitare di accumularli\n",
    "    sgd.zero_grad()\n",
    "    \n",
    "    #calcoliamo e facciamo log la loss di test:\n",
    "    regressor.eval()\n",
    "    with torch.set_grad_enabled(False):\n",
    "        p = regressor(X_testing_norm)\n",
    "        l = loss(p, Y_testing.view(-1,1))\n",
    "        writer.add_scalar('loss/test', l.item(), global_step=e)"
   ]
  },
  {
   "cell_type": "markdown",
   "metadata": {},
   "source": [
    "**Domanda 2**\n",
    "<img src=\"img/qmark.jpg\" style=\"width:150px; float:left;\"/>\n",
    "\n",
    "Si evidenzino le differenze tra il codice mostrato sopra e quello visto nel caso del regressore lineare."
   ]
  },
  {
   "cell_type": "markdown",
   "metadata": {},
   "source": [
    "**Risposta 2**\n",
    "<img style=\"float: left;width:150px;\" src=\"img/note.png\">\n",
    "\n",
    "<div style=\"background-color:#efefef; margin-left:150px; border:solid 1px; border-color:#dddddd; border-radius: 3px;\">\n",
    "<br><br><br><br><br><br>\n",
    "</div>"
   ]
  },
  {
   "cell_type": "markdown",
   "metadata": {},
   "source": [
    "Su tensorboard si dovrebbe visualizzare un grafico del genere:\n",
    "\n",
    "<img width=75% src='img/graph1_tf.jpg'>"
   ]
  },
  {
   "cell_type": "markdown",
   "metadata": {},
   "source": [
    "**Domanda 3**\n",
    "<img src=\"img/qmark.jpg\" style=\"width:150px; float:left;\"/>\n",
    "\n",
    "Si osservi il grafico ottenuto. Possiamo dire che il modello è arrivato a convergenza? Avrebbe senso allenarlo per un numero minore di epoche? E per un numero maggiore?"
   ]
  },
  {
   "cell_type": "markdown",
   "metadata": {},
   "source": [
    "**Risposta 3**\n",
    "<img style=\"float: left;width:150px;\" src=\"img/note.png\">\n",
    "\n",
    "<div style=\"background-color:#efefef; margin-left:150px; border:solid 1px; border-color:#dddddd; border-radius: 3px;\">\n",
    "<br><br><br><br><br><br>\n",
    "</div>"
   ]
  },
  {
   "cell_type": "markdown",
   "metadata": {},
   "source": [
    "Adesso otteniamo le predizioni per il test set utilizzando il modello finale e calcoliamo la relativa loss:"
   ]
  },
  {
   "cell_type": "code",
   "execution_count": 31,
   "metadata": {},
   "outputs": [
    {
     "name": "stdout",
     "output_type": "stream",
     "text": [
      "tensor(0.1860, grad_fn=<BinaryCrossEntropyBackward>)\n"
     ]
    }
   ],
   "source": [
    "#iniziamo calcolando le predizioni del modello dati i pesi allenati\n",
    "p_test = regressor(X_testing_norm)\n",
    "#calcoliamo il valore della loss\n",
    "print(loss(p_test, Y_testing.view(-1,1)))"
   ]
  },
  {
   "cell_type": "markdown",
   "metadata": {},
   "source": [
    "L'output del regressore logistico consiste in probabilità. Per ottenere le etichette (\"0\" o \"1\"), sogliamo le probabilità. Tutti gli elementi per i quali abbiamo predetto probabilità maggiore o uguale a $0.5$ saranno di classe $1$, mentre gli altri saranno di classe $0$:"
   ]
  },
  {
   "cell_type": "code",
   "execution_count": 32,
   "metadata": {},
   "outputs": [
    {
     "name": "stdout",
     "output_type": "stream",
     "text": [
      "tensor([[ True],\n",
      "        [ True],\n",
      "        [ True],\n",
      "        [ True],\n",
      "        [ True],\n",
      "        [ True],\n",
      "        [ True],\n",
      "        [ True],\n",
      "        [False],\n",
      "        [False]])\n"
     ]
    }
   ],
   "source": [
    "prob_training = regressor(X_training_norm)\n",
    "prob_testing = regressor(X_testing_norm)\n",
    "\n",
    "pred_training = prob_training>=0.5\n",
    "pred_testing = prob_testing>=0.5\n",
    "\n",
    "print(pred_testing[:10])"
   ]
  },
  {
   "cell_type": "markdown",
   "metadata": {},
   "source": [
    "Adesso abbiamo le etichette predette dal modello. Per capire \"quanto\" il modello funziona, possiamo confrontare queste predizioni con i valori di ground truth. Iniziamo con una semplice misura di valutazione, l'accuracy, che conta la frazione di elementi per i quali è stata predetta la corretta etichetta:"
   ]
  },
  {
   "cell_type": "code",
   "execution_count": 33,
   "metadata": {},
   "outputs": [],
   "source": [
    "def accuracy(pred,gt):\n",
    "    \"\"\"Calcola l'accuracy date le predizioni pred\n",
    "    e le etichette di ground truth gt\"\"\"\n",
    "    correct = pred.view(-1).byte()==gt.view(-1).byte() \n",
    "    #conterrà true in corrispondenza degli elementi per i quali è stata predetta la classe corretta\n",
    "    #inseriamo \"view(-1)\" per essere sicuri di lavorare con array monodimensionali\n",
    "    return float(correct.sum())/len(correct)#conta il numero di predizioni corrette e divide per il numero totale di predizioni"
   ]
  },
  {
   "cell_type": "markdown",
   "metadata": {},
   "source": [
    "**Domanda 3**\n",
    "<img src=\"img/qmark.jpg\" style=\"width:150px; float:left;\"/>\n",
    "\n",
    "Si discuta la funzione `accuracy`. Perché richiamiamo il metodo `.byte` sui due tensori? "
   ]
  },
  {
   "cell_type": "markdown",
   "metadata": {},
   "source": [
    "**Risposta 3**\n",
    "<img style=\"float: left;width:150px;\" src=\"img/note.png\">\n",
    "\n",
    "<div style=\"background-color:#efefef; margin-left:150px; border:solid 1px; border-color:#dddddd; border-radius: 3px;\">\n",
    "<br><br><br><br><br><br>\n",
    "</div>"
   ]
  },
  {
   "cell_type": "markdown",
   "metadata": {},
   "source": [
    "Calcoliamo dunque le accuracy di training e di test:"
   ]
  },
  {
   "cell_type": "code",
   "execution_count": 34,
   "metadata": {},
   "outputs": [
    {
     "name": "stdout",
     "output_type": "stream",
     "text": [
      "Accuracy di training: 0.97\n",
      "Accuracy di test: 0.93\n"
     ]
    }
   ],
   "source": [
    "print(\"Accuracy di training: {:0.2f}\".format(accuracy(pred_training,Y_training)))\n",
    "print(\"Accuracy di test: {:0.2f}\".format(accuracy(pred_testing,Y_testing)))"
   ]
  },
  {
   "cell_type": "markdown",
   "metadata": {},
   "source": [
    "**Domanda 4**\n",
    "<img src=\"img/qmark.jpg\" style=\"width:150px; float:left;\"/>\n",
    "\n",
    "Perché il classificatore funziona meglio sul training set che sul test set?"
   ]
  },
  {
   "cell_type": "markdown",
   "metadata": {},
   "source": [
    "**Risposta 4**\n",
    "<img style=\"float: left;width:150px;\" src=\"img/note.png\">\n",
    "\n",
    "<div style=\"background-color:#efefef; margin-left:150px; border:solid 1px; border-color:#dddddd; border-radius: 3px;\">\n",
    "<br><br><br><br><br><br>\n",
    "</div>"
   ]
  },
  {
   "cell_type": "markdown",
   "metadata": {},
   "source": [
    "L'accuracy è una misura di performance molto intuitiva per un classificatore. Un valore prossimo a $1$ indica che tutti gli elementi sono stati classificati correttamente, mentre un valore prossimo a zero indica che nessun elemento è stato classificato correttamente."
   ]
  },
  {
   "cell_type": "markdown",
   "metadata": {},
   "source": [
    "**Domanda 5**\n",
    "<img src=\"img/qmark.jpg\" style=\"width:150px; float:left;\"/>\n",
    "\n",
    "Un classificatore ottiene una accuracy pari a $0.91$ su un dataset di $189$ elementi. Quanti elementi sono stati classificati correttamente? Quanti elementi non sono stati classificati correttamente?"
   ]
  },
  {
   "cell_type": "markdown",
   "metadata": {},
   "source": [
    "**Risposta 5**\n",
    "<img style=\"float: left;width:150px;\" src=\"img/note.png\">\n",
    "\n",
    "<div style=\"background-color:#efefef; margin-left:150px; border:solid 1px; border-color:#dddddd; border-radius: 3px;\">\n",
    "<br><br><br><br><br><br>\n",
    "</div>"
   ]
  },
  {
   "cell_type": "markdown",
   "metadata": {},
   "source": [
    "E' spesso utile monitorare come l'accuracy di training e test cambiano durante l'allenamento di un modello, in maniera analoga a quanto visto nel caso della loss. Modifichiamo il codice di training visto prima per plottare anche accuracy di training e test mediante tensorboard:"
   ]
  },
  {
   "cell_type": "code",
   "execution_count": 35,
   "metadata": {},
   "outputs": [],
   "source": [
    "from torch.utils.tensorboard import SummaryWriter\n",
    "\n",
    "writer = SummaryWriter('logs/logistic_regressor_2')\n",
    "\n",
    "lr = 0.01\n",
    "epochs = 500\n",
    "\n",
    "means = X_training.mean(0)\n",
    "stds = X_training.std(0)\n",
    "\n",
    "X_training_norm = (X_training-means)/stds\n",
    "X_testing_norm = (X_testing-means)/stds\n",
    "\n",
    "regressor = LogisticRegressor(30)\n",
    "\n",
    "loss = nn.BCELoss()\n",
    "sgd = torch.optim.SGD(regressor.parameters(), lr)\n",
    "\n",
    "for e in range(epochs):\n",
    "    regressor.train()\n",
    "    p = regressor(X_training_norm)    \n",
    "    l = loss(p, Y_training.view(-1,1))\n",
    "    l.backward()\n",
    "    writer.add_scalar('loss/train',l.item(),global_step=e)\n",
    "    sgd.step()\n",
    "    sgd.zero_grad()\n",
    "\n",
    "    writer.add_scalar('accuracy/train',accuracy(p>=0.5,Y_training),global_step=e)\n",
    "    \n",
    "    regressor.eval()\n",
    "    with torch.set_grad_enabled(False):\n",
    "        p = regressor(X_testing_norm)\n",
    "        l = loss(p, Y_testing.view(-1,1))\n",
    "        writer.add_scalar('loss/test',l.item(),global_step=e)\n",
    "        \n",
    "        #calcoliamo e facciamo log dell'accuracy di training a partire dalle predizioni\n",
    "        writer.add_scalar('accuracy/test',accuracy(p>=0.5,Y_testing),global_step=e)"
   ]
  },
  {
   "cell_type": "markdown",
   "metadata": {},
   "source": [
    "In tensorboard si dovrebbe a questo punto visualizzare un grafico del genere:\n",
    "\n",
    "<img width=75% src='img/graph2_tf.jpg'>"
   ]
  },
  {
   "cell_type": "markdown",
   "metadata": {},
   "source": [
    "**Domanda 6**\n",
    "<img src=\"img/qmark.jpg\" style=\"width:150px; float:left;\"/>\n",
    "\n",
    "Accuracy e loss sono concordi? A cosa è dovuta la discretizzazione della curva di accuracy? Perché quella di loss non è altrettanto discretizzata?"
   ]
  },
  {
   "cell_type": "markdown",
   "metadata": {},
   "source": [
    "**Risposta 6**\n",
    "<img style=\"float: left;width:150px;\" src=\"img/note.png\">\n",
    "\n",
    "<div style=\"background-color:#efefef; margin-left:150px; border:solid 1px; border-color:#dddddd; border-radius: 3px;\">\n",
    "<br><br><br><br><br><br>\n",
    "</div>"
   ]
  },
  {
   "cell_type": "markdown",
   "metadata": {},
   "source": [
    "## 2.1 Stabilità Numerica\n",
    "Finora abbiamo utilizzato la loss:\n",
    "\n",
    "\\begin{equation}\n",
    "\\mathcal{L}_\\theta(z,y) = \\frac{1}{N}\\sum_i-y_i log(p_i) - (1-y_i) log(1-p_i)\n",
    "\\end{equation}\n",
    "\n",
    "dove:\n",
    "\\begin{equation}\n",
    "p_i = \\frac{1}{1+e^{-z_i}}\n",
    "\\end{equation}\n",
    "\n",
    "Questa loss può essere numericamente instabile in quanto, per valori di $z_i$ molto bassi, $e^{-z_i}$ sarà un numero molto alto e di conseguenza $p_i$ sarà molto piccolo. Se il valore di $p_i$ scende al di sotto della precisione della macchina (cioè va in underflow), esso verrà arrotondato a zero. A questo punto, all'interno della funzione di loss $\\mathcal{L}$, il valore $y_i\\log(p_i)$ restituirà un `nan` se $y_i=0$."
   ]
  },
  {
   "cell_type": "markdown",
   "metadata": {},
   "source": [
    "Per evitare questi problemi, in genere si utilizza la loss definita a partire dai logit:\n",
    "\n",
    "\\begin{equation}\n",
    "\\mathcal{L}_\\theta(z,y) =\\frac{1}{N}\\sum_i y_i log(1+e^{-z_i}) + (1-y_i) log(1+e^{z_i})\n",
    "\\end{equation}\n",
    "\n",
    "Notiamo che questa loss non soffre dei problemi discussi sopra. Per valori molto bassi di $z_i$, infatti $e^{-z_i}$ non comparirà, mentre il termine $1+e^{-z_i}$ sarà almeno pari a $1$ (per cui potremo sempre calcolarne il logaritmo. Possiamo dunque effettuare la procedura di training evitando di calcolare esplicitamente le probabilità e applicando la seconda loss direttamente ai logit $z_i$. Definiamo la loss:"
   ]
  },
  {
   "cell_type": "code",
   "execution_count": 36,
   "metadata": {},
   "outputs": [],
   "source": [
    "def loss2(z,y):\n",
    "    return (y*torch.log(1+torch.exp(-z))+(1-y)*torch.log(1+torch.exp(z))).mean()"
   ]
  },
  {
   "cell_type": "markdown",
   "metadata": {},
   "source": [
    "La loss vista sopra va applicata direttamente ai logit, mentre il nostro modello restituisce direttamente probabilità. Modifichiamo il modello per restituire i logit invece delle probabilità:"
   ]
  },
  {
   "cell_type": "code",
   "execution_count": 37,
   "metadata": {},
   "outputs": [],
   "source": [
    "class LogisticRegressor(nn.Module):\n",
    "    def __init__(self, in_features):\n",
    "        super(LogisticRegressor, self).__init__() \n",
    "        self.linear = nn.Linear(in_features,1) \n",
    "        \n",
    "    def forward(self,x):\n",
    "        logits = self.linear(x)\n",
    "        return logits"
   ]
  },
  {
   "cell_type": "markdown",
   "metadata": {},
   "source": [
    "Se vogliamo ottenere delle probabilità in fase di test, dobbiamo trasformarle manualmente mediante la funziona logistica:"
   ]
  },
  {
   "cell_type": "code",
   "execution_count": 38,
   "metadata": {},
   "outputs": [
    {
     "name": "stdout",
     "output_type": "stream",
     "text": [
      "tensor(-2.5596, grad_fn=<MinBackward1>) tensor(1.4102, grad_fn=<MaxBackward1>)\n",
      "tensor(0.0718, grad_fn=<MinBackward1>) tensor(0.8038, grad_fn=<MaxBackward1>)\n"
     ]
    }
   ],
   "source": [
    "regressor=LogisticRegressor(30)\n",
    "logistic = nn.Sigmoid()\n",
    "\n",
    "#logits\n",
    "z = regressor(X_training_norm)\n",
    "print(z.min(),z.max())\n",
    "\n",
    "#probabilità\n",
    "p = logistic(z)\n",
    "print(p.min(),p.max())"
   ]
  },
  {
   "cell_type": "markdown",
   "metadata": {},
   "source": [
    "In pratica, la loss definita in precedenza come `loss2` viene implementata da Pytorch mediante il modulo `nn.BCEWithLogitsLoss`. Verifichiamo che le due loss restituiscano gli stessi risultati:"
   ]
  },
  {
   "cell_type": "code",
   "execution_count": 39,
   "metadata": {},
   "outputs": [
    {
     "name": "stdout",
     "output_type": "stream",
     "text": [
      "tensor(0.8208, grad_fn=<BinaryCrossEntropyWithLogitsBackward>)\n",
      "tensor(0.8208, grad_fn=<MeanBackward0>)\n"
     ]
    }
   ],
   "source": [
    "loss_stable = nn.BCEWithLogitsLoss()\n",
    "l_1=loss_stable(z,Y_training.view(-1,1))\n",
    "l_2=loss2(z,Y_training.view(-1,1))\n",
    "print(l_1)\n",
    "print(l_2)"
   ]
  },
  {
   "cell_type": "markdown",
   "metadata": {},
   "source": [
    "La procedura di training diventa dunque la seguente:\n",
    "\n",
    "1. Normalizzare i dati in ingresso $\\mathbf{x}$; \n",
    "2. Inizializzare i parametri $\\theta$ in maniera opportuna;\n",
    "3. Calcolare i logit $\\hat{\\mathbf{z}} = \\sum_i (\\theta_i x_i) + \\theta_0$;\n",
    "4. Calcolare il valore della loss $\\mathcal{L}_{\\theta}(z,y)$;\n",
    "5. Calcolare il gradiente rispetto ai parametri $\\theta$ della funzione di loss $\\nabla_\\theta \\mathcal{L}_\\theta(z,y)$;\n",
    "6. Aggiornare i pesi $\\theta$ secondo la regola: $\\theta = \\theta - \\eta \\nabla_\\theta \\mathcal{L}_\\theta(z,y)$, dove $\\eta$ è il learning rate;\n",
    "7. Ripetere i passi 3-6 fino a convergenza."
   ]
  },
  {
   "cell_type": "markdown",
   "metadata": {},
   "source": [
    "Modifichiamo il codice precedente per effettuare il training utilizzando la nuova loss:"
   ]
  },
  {
   "cell_type": "code",
   "execution_count": 40,
   "metadata": {},
   "outputs": [],
   "source": [
    "from torch.utils.tensorboard import SummaryWriter\n",
    "\n",
    "writer = SummaryWriter('logs/logistic_regressor_3')\n",
    "\n",
    "lr = 0.01\n",
    "epochs = 500\n",
    "\n",
    "means = X_training.mean(0)\n",
    "stds = X_training.std(0)\n",
    "\n",
    "X_training_norm = (X_training-means)/stds\n",
    "X_testing_norm = (X_testing-means)/stds\n",
    "\n",
    "regressor = LogisticRegressor(30)\n",
    "\n",
    "#inseriamo qui la nuova loss\n",
    "loss = nn.BCEWithLogitsLoss()\n",
    "sgd = torch.optim.SGD(regressor.parameters(), lr)\n",
    "\n",
    "for e in range(epochs):\n",
    "    regressor.train()\n",
    "    z = regressor(X_training_norm)    \n",
    "    l = loss(z, Y_training.view(-1,1))\n",
    "    l.backward()\n",
    "    writer.add_scalar('loss/train',l.item(),global_step=e)\n",
    "    sgd.step()\n",
    "    sgd.zero_grad()\n",
    "    \n",
    "    #calcoliamo le probabilità\n",
    "    p=logistic(z)\n",
    "    writer.add_scalar('accuracy/train',accuracy(p>=0.5,Y_training),global_step=e)\n",
    "    \n",
    "    regressor.eval()\n",
    "    with torch.set_grad_enabled(False):\n",
    "        z = regressor(X_testing_norm)\n",
    "        l = loss(z, Y_testing.view(-1,1))\n",
    "        writer.add_scalar('loss/test',l.item(),global_step=e)\n",
    "        \n",
    "        #calcoliamo le probabilità\n",
    "        p=logistic(z)\n",
    "        writer.add_scalar('accuracy/test',accuracy(p>=0.5,Y_testing),global_step=e)"
   ]
  },
  {
   "cell_type": "markdown",
   "metadata": {},
   "source": [
    "In tensorboard si dovrebbe a questo punto visualizzare un grafico del genere:\n",
    "\n",
    "<img width=75% src='img/graph3_tf.jpg'>"
   ]
  },
  {
   "cell_type": "markdown",
   "metadata": {},
   "source": [
    "Calcoliamo accuracy di training e di testing:"
   ]
  },
  {
   "cell_type": "code",
   "execution_count": 41,
   "metadata": {},
   "outputs": [
    {
     "name": "stdout",
     "output_type": "stream",
     "text": [
      "Accuracy di training: 0.97\n",
      "Accuracy di test: 0.93\n"
     ]
    }
   ],
   "source": [
    "print(\"Accuracy di training: {:0.2f}\".format(accuracy(logistic(regressor(X_training_norm))>=0.5,Y_training)))\n",
    "print(\"Accuracy di test: {:0.2f}\".format(accuracy(logistic(regressor(X_testing_norm))>=0.5,Y_testing)))"
   ]
  },
  {
   "cell_type": "markdown",
   "metadata": {},
   "source": [
    "## 2.2 Valutazione del regressore logistico\n",
    "\n",
    "La libreria **scikit-learn** mette a disposizione diverse misure di valutazione, tra cui l'accuracy, che finora abbiamo implementato manualmente. Prima di vedere qualche esempio, otteniamo le predizioni di training e testing:"
   ]
  },
  {
   "cell_type": "code",
   "execution_count": 42,
   "metadata": {},
   "outputs": [],
   "source": [
    "preds_training = logistic(regressor(X_training_norm))>=0.5\n",
    "preds_testing = logistic(regressor(X_testing_norm))>=0.5"
   ]
  },
  {
   "cell_type": "markdown",
   "metadata": {},
   "source": [
    "### 2.2.1 Accuracy\n",
    "Possiamo calcolare l'accuracy del classificatore mediante la funzione `accuracy_score` utilizzando la funzione messa a disposizione da scikit-learn:"
   ]
  },
  {
   "cell_type": "code",
   "execution_count": 43,
   "metadata": {},
   "outputs": [
    {
     "name": "stdout",
     "output_type": "stream",
     "text": [
      "Accuracy di training: 0.97\n",
      "Accuracy di test: 0.93\n"
     ]
    }
   ],
   "source": [
    "from sklearn.metrics import accuracy_score\n",
    "acc_training = accuracy_score(Y_training,preds_training)\n",
    "acc_testing = accuracy_score(Y_testing,preds_testing)\n",
    "\n",
    "print(\"Accuracy di training: {:0.2f}\".format(acc_training))\n",
    "print(\"Accuracy di test: {:0.2f}\".format(acc_testing))"
   ]
  },
  {
   "cell_type": "markdown",
   "metadata": {},
   "source": [
    "### 2.2.2 Matrice di Confusione"
   ]
  },
  {
   "cell_type": "markdown",
   "metadata": {},
   "source": [
    "Scikit-Learn mette a disposizione anche altre misure di valutazione. Vediamo ad esempio la matrice di confusione:"
   ]
  },
  {
   "cell_type": "code",
   "execution_count": 44,
   "metadata": {},
   "outputs": [
    {
     "name": "stdout",
     "output_type": "stream",
     "text": [
      "[[169   6]\n",
      " [  6 288]]\n",
      "[[32  5]\n",
      " [ 2 61]]\n"
     ]
    }
   ],
   "source": [
    "from sklearn.metrics import confusion_matrix\n",
    "cm_training =  confusion_matrix(Y_training,preds_training)\n",
    "cm_testing =  confusion_matrix(Y_testing,preds_testing)\n",
    "print(cm_training)\n",
    "print(cm_testing)"
   ]
  },
  {
   "cell_type": "markdown",
   "metadata": {},
   "source": [
    "L'elemento di indici $i,j$ indica il numero di elementi appartenenti alla classe $i$ che è stato classificato come appartenente alla classe $j$. La matrice di confusione ci da qualche indicazione in più su \"dove\" si trovano gli errori. Possiamo normalizzare la matrice di confusione per ottenere dei numeri in percentuale come segue:"
   ]
  },
  {
   "cell_type": "code",
   "execution_count": 45,
   "metadata": {},
   "outputs": [
    {
     "name": "stdout",
     "output_type": "stream",
     "text": [
      "[[0.86486486 0.13513514]\n",
      " [0.03174603 0.96825397]]\n"
     ]
    }
   ],
   "source": [
    "cm_testing = cm_testing.astype(float)/cm_testing.sum(1).reshape(-1,1)\n",
    "print(cm_testing)"
   ]
  },
  {
   "cell_type": "markdown",
   "metadata": {},
   "source": [
    "### 2.2.3 Precision e Recall\n",
    "\n",
    "Precision e Recall possono essere calcolate utilizzando le apposite funzioni `precision_score` e `recall_score` di `scikit-learn`:"
   ]
  },
  {
   "cell_type": "code",
   "execution_count": 46,
   "metadata": {},
   "outputs": [
    {
     "name": "stdout",
     "output_type": "stream",
     "text": [
      "0.9795918367346939 0.9795918367346939\n",
      "0.9242424242424242 0.9682539682539683\n"
     ]
    }
   ],
   "source": [
    "from sklearn.metrics import precision_score, recall_score\n",
    "precision_training =  precision_score(Y_training, preds_training)\n",
    "precision_test =  precision_score(Y_testing, preds_testing)\n",
    "\n",
    "recall_training =  recall_score(Y_training, preds_training)\n",
    "recall_test =  recall_score(Y_testing, preds_testing)\n",
    "print(precision_training, recall_training)\n",
    "print(precision_test, recall_test)"
   ]
  },
  {
   "cell_type": "markdown",
   "metadata": {},
   "source": [
    "### 2.2.4 $F_1$ score\n",
    "\n",
    "Lo score $F_1$ permette di valutare le performance del classificatore classe per classe. Ciò avviene suddividendo il problema di classificazione multiclasse in $K$ problemi di classificazione binaria (un po' come avviene quando si allena un classificatore one-vs-all). Per ogni classe vengono dunque calcolate precision e recall. Lo score $F_1$ viene ottenuto per ogni classe calcolando una media pesata tra precision e recall:\n",
    "\n",
    "\\begin{equation}\n",
    "F_1 = 2 \\frac{precision \\cdot recall}{precision + recall}\n",
    "\\end{equation}\n",
    "\n",
    "Possiamo calcolare gli score $F_1$ come segue:"
   ]
  },
  {
   "cell_type": "code",
   "execution_count": 47,
   "metadata": {},
   "outputs": [
    {
     "name": "stdout",
     "output_type": "stream",
     "text": [
      "[0.96571429 0.97959184]\n",
      "[0.90140845 0.94573643]\n"
     ]
    }
   ],
   "source": [
    "from sklearn.metrics import f1_score\n",
    "scores_training =  f1_score(Y_training,preds_training, average=None)\n",
    "scores_testing =  f1_score(Y_testing,preds_testing, average=None)\n",
    "print(scores_training)\n",
    "print(scores_testing)"
   ]
  },
  {
   "cell_type": "markdown",
   "metadata": {},
   "source": [
    "I tre punteggi indicano le performance del classificatore per ogni classe. E' pratica comune calcolare il \"mean $F_1$ score\" ($mF_1$) come la media dei punteggi relativi alle singole classi per ottenere un indicatore generale di performance:"
   ]
  },
  {
   "cell_type": "code",
   "execution_count": 48,
   "metadata": {},
   "outputs": [
    {
     "name": "stdout",
     "output_type": "stream",
     "text": [
      "0.9726530612244897\n",
      "0.9235724424063763\n"
     ]
    }
   ],
   "source": [
    "print(scores_training.mean())\n",
    "print(scores_testing.mean())"
   ]
  },
  {
   "cell_type": "markdown",
   "metadata": {},
   "source": [
    "**Domanda 7**\n",
    "<img src=\"img/qmark.jpg\" style=\"width:150px; float:left;\"/>\n",
    "\n",
    "Cosa ci dicono in più i due score F1 rispetto all'accuracy da sola? In quale delle due classi il classificatore è \"pià bravo\"?"
   ]
  },
  {
   "cell_type": "markdown",
   "metadata": {},
   "source": [
    "**Risposta 7**\n",
    "<img style=\"float: left;width:150px;\" src=\"img/note.png\">\n",
    "\n",
    "<div style=\"background-color:#efefef; margin-left:150px; border:solid 1px; border-color:#dddddd; border-radius: 3px;\">\n",
    "<br><br><br><br><br><br>\n",
    "</div>"
   ]
  },
  {
   "cell_type": "markdown",
   "metadata": {},
   "source": [
    "# 3 Regolarizzazione e Momentum\n",
    "\n",
    "Fino a questo momento abbiamo utilizzato ciò che viene in gergo chiamato \"vanilla gradient descent\", ovvero la versione più semplice dell'algoritmo della discesa del gradiente. E' tuttavia possibile applicare delle modifiche per migliorare la generalizzazione o velocizzare l'apprendimento. Iniziamo vedendo come applicare una tecnica di regolarizzazione basata su \"weight decay\".\n",
    "\n",
    "## 3.1 Regolarizzazione mediante weight decay\n",
    "La tecnica del weight decay implementa la regolarizzazione L2 in una rete neurale. Se $\\mathbf{W}$ sono i parametri del modello e $E(\\mathbf{W})$ è la sua loss, è possibile definire la loss regolarizzata sommando una penalità sulla norma dei pesi $\\mathbf{W}$:\n",
    "\n",
    "\\begin{equation}\n",
    "\\tilde E(\\mathbf{W}) = E(\\mathbf{W}) + \\frac{\\lambda}{2} ||\\mathbf{W}||^2\n",
    "\\end{equation}\n",
    "\n",
    "dove $\\lambda$ è il coefficiente di regolarizzazione e regola l'influenza della penalità.\n",
    "\n",
    "La discesa del gradiente viene applicata alla loss regolarizzata aggiornando il parametro i-esimo come segue:\n",
    "\n",
    "\\begin{equation}\n",
    "w_i = w_i - \\eta \\frac{\\partial E}{\\partial w_i} - \\eta \\lambda w_i\n",
    "\\end{equation}\n",
    "\n",
    "dove $\\eta$ è il learning rate e il termine $\\eta \\lambda w_i$ deriva dalla penalità.\n",
    "\n",
    "In pratica, l'applicazione della regola di aggiornamento dei pesi vista sopra fa \"decadere\" esponenzialmente (da cui il termine \"weight decay\") il valore dei pesi che ricevono gradienti nulli. Ciò impedisce che i pesi crescano a dismisura durante il training.\n",
    "\n",
    "Il weight decay viene gestito implicitamente dagli optimizer di PyTorch. Ad esempio, nel caso dell'optimizer SGD, basta specificare un valore per il parametro `weight_decay`:\n",
    "\n",
    "```python \n",
    "SGD(model.parameters(),lr, weight_decay = 0.001) \n",
    "```\n",
    "\n",
    "Modifichiamo il codice di training inserendo il weight decay:"
   ]
  },
  {
   "cell_type": "code",
   "execution_count": 49,
   "metadata": {},
   "outputs": [],
   "source": [
    "from torch.utils.tensorboard import SummaryWriter\n",
    "\n",
    "writer = SummaryWriter('logs/logistic_regressor_4')\n",
    "\n",
    "lr = 0.01\n",
    "epochs = 500\n",
    "\n",
    "means = X_training.mean(0)\n",
    "stds = X_training.std(0)\n",
    "\n",
    "X_training_norm = (X_training-means)/stds\n",
    "X_testing_norm = (X_testing-means)/stds\n",
    "\n",
    "regressor = LogisticRegressor(30)\n",
    "\n",
    "loss = nn.BCEWithLogitsLoss()\n",
    "#specifichiamo il weight_decay\n",
    "sgd = torch.optim.SGD(regressor.parameters(), lr, weight_decay=0.001)\n",
    "\n",
    "for e in range(epochs):\n",
    "    regressor.train()\n",
    "    z = regressor(X_training_norm)\n",
    "    l = loss(z, Y_training.view(-1,1))\n",
    "    l.backward()\n",
    "    writer.add_scalar('loss/train',l.item(),global_step=e)\n",
    "    sgd.step()\n",
    "    sgd.zero_grad()\n",
    "    \n",
    "    p = logistic(z)\n",
    "    writer.add_scalar('accuracy/train',accuracy(p>=0.5,Y_training),global_step=e)\n",
    "    \n",
    "    regressor.eval()\n",
    "    with torch.set_grad_enabled(False):\n",
    "        z = regressor(X_testing_norm)\n",
    "        l = loss(z, Y_testing.view(-1,1))\n",
    "        writer.add_scalar('loss/test',l.item(),global_step=e)\n",
    "        \n",
    "        p = logistic(z)\n",
    "        writer.add_scalar('accuracy/test',accuracy(p>=0.5,Y_testing),global_step=e)"
   ]
  },
  {
   "cell_type": "markdown",
   "metadata": {},
   "source": [
    "Calcoliamo accuracy di training e test:"
   ]
  },
  {
   "cell_type": "code",
   "execution_count": 50,
   "metadata": {},
   "outputs": [
    {
     "name": "stdout",
     "output_type": "stream",
     "text": [
      "Accuracy di training: 0.97\n",
      "Accuracy di test: 0.92\n"
     ]
    }
   ],
   "source": [
    "print(\"Accuracy di training: {:0.2f}\".format(accuracy(logistic(regressor(X_training_norm))>=0.5,Y_training)))\n",
    "print(\"Accuracy di test: {:0.2f}\".format(accuracy(logistic(regressor(X_testing_norm))>=0.5,Y_testing)))"
   ]
  },
  {
   "cell_type": "markdown",
   "metadata": {},
   "source": [
    "## 3.2 Momentum\n",
    "Il momentum in genere permette di accelerare l'apprendimento. Per utilizzare il momentum è sufficiente specificare un parametro `momentum` al momento della costruzione dell'optimizer. Ad esempio:\n",
    "\n",
    "```python \n",
    "SGD(model.parameters(),lr, weight_decay = 0.001, momentum=0.9) \n",
    "```\n",
    "\n",
    "Proviamo ad effettuare l'allenamento con momentum:"
   ]
  },
  {
   "cell_type": "code",
   "execution_count": 51,
   "metadata": {},
   "outputs": [],
   "source": [
    "from torch.utils.tensorboard import SummaryWriter\n",
    "\n",
    "writer = SummaryWriter('logs/logistic_regressor_5')\n",
    "\n",
    "lr = 0.01\n",
    "epochs = 500\n",
    "\n",
    "means = X_training.mean(0)\n",
    "stds = X_training.std(0)\n",
    "\n",
    "X_training_norm = (X_training-means)/stds\n",
    "X_testing_norm = (X_testing-means)/stds\n",
    "\n",
    "regressor = LogisticRegressor(30)\n",
    "\n",
    "loss = nn.BCEWithLogitsLoss()\n",
    "#specifichiamo il momentum\n",
    "sgd = torch.optim.SGD(regressor.parameters(), lr, weight_decay=0.001, momentum=0.9)\n",
    "\n",
    "for e in range(epochs):\n",
    "    regressor.train()\n",
    "    z = regressor(X_training_norm)    \n",
    "    l = loss(z, Y_training.view(-1,1))\n",
    "    l.backward()\n",
    "    writer.add_scalar('loss/train',l.item(),global_step=e)\n",
    "    sgd.step()\n",
    "    sgd.zero_grad()\n",
    "    \n",
    "    p = logistic(z)\n",
    "    writer.add_scalar('accuracy/train',accuracy(p>=0.5,Y_training),global_step=e)\n",
    "    \n",
    "    regressor.eval()\n",
    "    with torch.set_grad_enabled(False):\n",
    "        z = regressor(X_testing_norm)\n",
    "        l = loss(z, Y_testing.view(-1,1))\n",
    "        writer.add_scalar('loss/test',l.item(),global_step=e)\n",
    "        \n",
    "        p = logistic(z)\n",
    "        writer.add_scalar('accuracy/test',accuracy(p>=0.5,Y_testing),global_step=e)"
   ]
  },
  {
   "cell_type": "markdown",
   "metadata": {},
   "source": [
    "Otterremo un grafico del genere:\n",
    "\n",
    "<img width=70% src=\"img/graph4_tf.jpg\">"
   ]
  },
  {
   "cell_type": "markdown",
   "metadata": {},
   "source": [
    "**Domanda 8**\n",
    "<img src=\"img/qmark.jpg\" style=\"width:150px; float:left;\"/>\n",
    "\n",
    "Si confrontino su tensorboard il grafico visto sopra con i precedenti. Quali sono le principali differenze?"
   ]
  },
  {
   "cell_type": "markdown",
   "metadata": {},
   "source": [
    "**Risposta 8**\n",
    "<img style=\"float: left;width:150px;\" src=\"img/note.png\">\n",
    "\n",
    "<div style=\"background-color:#efefef; margin-left:150px; border:solid 1px; border-color:#dddddd; border-radius: 3px;\">\n",
    "<br><br><br><br><br><br>\n",
    "</div>"
   ]
  },
  {
   "cell_type": "markdown",
   "metadata": {},
   "source": [
    "Valutiamo accuracy di training e di test:"
   ]
  },
  {
   "cell_type": "code",
   "execution_count": 52,
   "metadata": {},
   "outputs": [
    {
     "name": "stdout",
     "output_type": "stream",
     "text": [
      "Accuracy di training: 0.99\n",
      "Accuracy di test: 0.96\n"
     ]
    }
   ],
   "source": [
    "print(\"Accuracy di training: {:0.2f}\".format(accuracy(regressor(X_training_norm)>=0.5,Y_training)))\n",
    "print(\"Accuracy di test: {:0.2f}\".format(accuracy(regressor(X_testing_norm)>=0.5,Y_testing)))"
   ]
  },
  {
   "cell_type": "markdown",
   "metadata": {},
   "source": [
    "# Esercizi"
   ]
  },
  {
   "cell_type": "markdown",
   "metadata": {},
   "source": [
    "<img src=\"img/code.png\" style=\"width:150px; margin-right:30px; float:left\">\n",
    "\n",
    "<b>Esercizio 1</b>\n",
    "\n",
    "Si costruisca un regressore polinomiale per risolvere il problema di regressione visto nello scorso laboratorio. Si confrontino le performance del regressore ottenuto con quello lineare mediante MSE, RMSE e curve REC."
   ]
  },
  {
   "cell_type": "markdown",
   "metadata": {},
   "source": [
    "<img src=\"img/code.png\" style=\"width:150px; margin-right:30px; float:left\">\n",
    "\n",
    "<b>Esercizio 2</b>\n",
    "\n",
    "Si alleni un regressore lineare sul dataset Boston utilizzando weight decay e momentum. Si provino diverse combinazioni di parametri. Si confrontino le performance dei regressori ottenuti sul test set mediante curve REC."
   ]
  },
  {
   "cell_type": "markdown",
   "metadata": {},
   "source": [
    "<img src=\"img/code.png\" style=\"width:150px; margin-right:30px; float:left\">\n",
    "\n",
    "<b>Esercizio 3</b>\n",
    "\n",
    "Si risolva il problema di classificazione binaria visto in questo laboratorio mediante un semplice regressore lineare. Si confrontino le performance del classificatore ottenuto con quelle dei classificatori logistici visti in questo laboratorio. Quale metodo raggiunge risultati migliori?"
   ]
  },
  {
   "cell_type": "markdown",
   "metadata": {},
   "source": [
    "<img src=\"img/code.png\" style=\"width:150px; margin-right:30px; float:left\">\n",
    "\n",
    "<b>Esercizio 4</b>\n",
    "\n",
    "Si consideri il dataset degli iris di Fisher (http://scikit-learn.org/stable/modules/generated/sklearn.datasets.load_iris.html). Si tratta di un dataset contenenti $4$ misurazioni relativi a $3$ specie di fiori diverse. Si costruisca un classificatore multiclasse utilizzando il criterio \"one-vs-all\". Ognuno dei classificatori richiesti dal criterio \"one-vs-all\" va implementato come un classificatore logistico a se stante."
   ]
  },
  {
   "cell_type": "markdown",
   "metadata": {},
   "source": [
    "<img src=\"img/code.png\" style=\"width:150px; margin-right:30px; float:left\">\n",
    "<b>Esercizio 5</b>\n",
    "\n",
    "Si riveda l'esercizio 2 dello scorso laboratorio: per semplificare l'utilizzo del modello, si cotruisca una classe `Regressore` con i seguenti metodi:\n",
    " * Costruttore: prende in input il numero di feature $D$ e un parametro `logistic` che indica se il regressore è logistico o lineare. Il costruttore inizializza il modello di regressione opportuno;\n",
    " * Metodo `fit`: prende in input i dati $X$ e le etichette $Y$ per effettuare il training. Il metodo prende in input anche i parametri `lr` e `epochs` che indicano il learning rate e il numero di epoche. I valori di default per questi due parametri sono rispettivamente $0.01$ e $1000$. Il metodo `fit` calcola medie e deviazioni standard di $X$ e conserva tali valori per usi futuri, normalizza i dati $X$ ed effettua l'allenamento del modello. Ad ogni epoca, viene stampato il valore della loss;\n",
    " * Metodo `predict`: prende in input i dati $X$. Il metodo normalizza i dati $X$ utilizzando le medie e le deviazioni standard precedentemente salvate, poi predice e restituisce le etichette predette dal modello sui dati $X$;\n",
    " * Metodo `score`: prende in input i dati $X$ e le etichette $Y$. Il metodo utilizza `predict` per predire le etichette a partire dai dati $X$, poi calcola e restituisce il valore della loss (nel caso del regressore lineare) o l'accuracy (nel caso del regressore logistico) calcolata utilizzando le etichette predette e le etichette fornite $Y$;\n",
    " \n",
    "E' possibile inserire altri metodi privati (devono iniziare per `_`, ad esempio `_loss`) per rendere la computazione modulare. Si faccia uso dell'API ad oggetti di PyTorch.\n",
    "\n",
    "Utilizzare l'oggetto per:\n",
    " * Allenare un modello di regressione lineare per risolvere il problema di regressione visto nello scorso laboratorio;\n",
    " * Calcolare la loss di training mediante il metodo `score`;\n",
    " * Predire le etichette di test mediante il metodo `predict`;\n",
    " * Calcolare la loss di test mediante il metodo `score`.\n",
    " * Allenare un modello di regressione logistica per risolvere il problema di classificazione visto in questo laboratorio;\n",
    " * Calcolare l'accuracy di training mediante il metodo `score`;\n",
    " * Calcolare l'accurayc di test test mediante il metodo `score`."
   ]
  },
  {
   "cell_type": "markdown",
   "metadata": {},
   "source": [
    "# References\n",
    "\n",
    " * Documentazione di PyTorch. http://pytorch.org/docs/stable/index.html"
   ]
  }
 ],
 "metadata": {
  "anaconda-cloud": {},
  "kernelspec": {
   "display_name": "Python 3",
   "language": "python",
   "name": "python3"
  },
  "language_info": {
   "codemirror_mode": {
    "name": "ipython",
    "version": 3
   },
   "file_extension": ".py",
   "mimetype": "text/x-python",
   "name": "python",
   "nbconvert_exporter": "python",
   "pygments_lexer": "ipython3",
   "version": "3.7.3"
  }
 },
 "nbformat": 4,
 "nbformat_minor": 2
}
