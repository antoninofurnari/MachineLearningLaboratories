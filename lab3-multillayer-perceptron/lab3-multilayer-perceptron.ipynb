{
 "cells": [
  {
   "cell_type": "markdown",
   "metadata": {},
   "source": [
    "<style>\n",
    ".rendered_html * + p, .rendered_html p {\n",
    "    text-align:justify;\n",
    "}\n",
    ".print {\n",
    "    display:none;\n",
    "}\n",
    ".highlight {\n",
    "    background:white;\n",
    "}\n",
    "@media print {\n",
    " a[href]:after {\n",
    "     content: \"\"\n",
    " }\n",
    " .noprint {\n",
    "  display:none\n",
    "  }\n",
    "  .print {\n",
    "        display:block;\n",
    "    }\n",
    "}\n",
    "</style>\n",
    "<head>\n",
    "    <base target=\"_blank\">\n",
    "</head>\n",
    "<div style=\"text-align:left\"><a href=\"http://web.dmi.unict.it/\"><img src=\"img/dmi.png\" style=\"width:300px; margin:0;\"></a></div>"
   ]
  },
  {
   "cell_type": "markdown",
   "metadata": {},
   "source": [
    "<a href=\"http://iplab.dmi.unict.it/\"><img src=\"img/iplab.png\" style=\"width:900px\"></a>\n",
    "<center><h2>Machine Learning - A.A. 2020-2021</h2></center>\n",
    "<center><h3>Softmax, Stochastic Gradient Descent, MLP, Caricamento Dati con PyTorch</h3></center>\n",
    "<br>\n",
    "<center>Antonino Furnari - <a href=\"http://www.dmi.unict.it/~furnari/\" target=\"_blank\">http://www.dmi.unict.it/~furnari/</a> - <a href=\"mailto:furnari@dmi.unict.it\">furnari@dmi.unict.it</a> </center>\n",
    "<center>Giovanni Maria Farinella - <a href=\"http://www.dmi.unict.it/farinella/\" target=\"_blank\">http://www.dmi.unict.it/farinella/</a> - <a href=\"mailto:gfarinella@dmi.unict.it\">gfarinella@dmi.unict.it</a> </center>"
   ]
  },
  {
   "cell_type": "markdown",
   "metadata": {},
   "source": [
    "# 1. Classificazione SoftMax\n",
    "\n",
    "Abbiamo visto come sia possibile \"trasformare\" un regressore lineare in un classificatore binario utilizzando la funzione logistica. Abbiamo anche visto che è possibile implementare un classificatore multiclasse mediante il principio \"one-vs-all\". Tuttavia, il principio one-vs-all è poco naturale per risolvere problemi di classificazione multiclasse. Un regressore logistico ci permette di stimare la probabilità:\n",
    "\n",
    "\\begin{equation}\n",
    "p(c\\ |\\ x)\n",
    "\\end{equation}\n",
    "\n",
    "dove $c$ è la classe ($c=0$ nel caso della classe negativa e $c=1$ nel caso della classe positiva) e $x$ è il campione in ingresso. Sappiamo inoltre che\n",
    "\n",
    "\\begin{equation}\n",
    "p(c=0\\ |\\ x)+p(c=1\\ |\\ x)=1\n",
    "\\end{equation}\n",
    "\n",
    "per cui il un regressore logistico ci permette di stimare la distribuzione di probabilità condizionale sulle classi possibili (solo due in questo caso), dato il campione in ingresso $x$.\n",
    "\n",
    "Supponiamo adesso di avere un problema di classificazione su $K$ classi $c=0, c=1, \\ldots, c=K-1$. Il principio \"one-vs-all\" ci permette di classificare gli elementi $x$, ma non di stimare direttamente una distribuzione di probabilità condizionale sulle tre classi dato il campione in ingresso:\n",
    "\n",
    "\\begin{equation}\n",
    "p(c\\ |\\ x)\\ :\\ p(c=0\\ |\\ x)+p(c=1\\ |\\ x)+\\ldots + p(c=K\\ |x\\ )=1\n",
    "\\end{equation}"
   ]
  },
  {
   "cell_type": "markdown",
   "metadata": {},
   "source": [
    "**Domanda 1**\n",
    "<img src=\"img/qmark.jpg\" style=\"width:150px; float:left;\"/>\n",
    "\n",
    "A cosa può servire stimare le probabilità a posteriori $p(c\\ |\\ x)$ oltre a inferire la classe più probabile per il campione $x$?"
   ]
  },
  {
   "cell_type": "markdown",
   "metadata": {},
   "source": [
    "**Risposta 1**\n",
    "<img style=\"float: left;width:150px;\" src=\"img/note.png\">\n",
    "\n",
    "<div style=\"background-color:#efefef; margin-left:150px; border:solid 1px; border-color:#dddddd; border-radius: 3px;\">\n",
    "<br><br><br><br><br><br>\n",
    "</div>"
   ]
  },
  {
   "cell_type": "markdown",
   "metadata": {},
   "source": [
    "Se volessimo ottenere una distribuzione di probabilità sulle $K$ classi, potremmo pensare di costruire un regressore lineare che, preso in input un dato, restituisce un vettore di $K$ elementi. Ciò può essere ottenuto semplicemente con una trasformazione lineare del tipo $\\mathbf{z}=A\\mathbf{x} + \\mathbf{b}$, dove $A$ è una matrice $n\\times K$, con $n$ numero di feature in ingresso. Analogamente a quanto visto nel caso del regressore logistico, tuttavia, non vi è alcuna garanzia che il vettore $\\mathbf{z}$ rappresenti una valida distribuzione di probabilità. Ricordiamo che affinché ciò accada ci serve che:\n",
    " * $z_i\\geq0,\\ \\forall i \\in \\{1,\\ldots,K\\}$;\n",
    " * $\\sum_{i=1}^K z_i = 1$.\n",
    "\n",
    "La funzione SoftMax è una generalizzazione della funzione logistica che ci permette di normalizzare un vettore arbitrario di numeri in modo che rispetti le due proprietà appena viste:\n",
    "\n",
    "\\begin{equation}\n",
    "\\sigma(\\mathbf{x})_j = \\frac{e^{z_j}}{\\sum_{k=1}^K{e^{z_k}}}\n",
    "\\end{equation}\n",
    "\n",
    "dove $z_j$ rappresenta la j-esima componente del vettore $\\mathbf{z}$ (e dunque $\\sigma(\\mathbf{x})_j$ rappresenta la j-esima componente del vettore normalizzato mediante SoftMax $\\sigma(\\mathbf{x})$). In pratica, la funzione SoftMax esegue due operazioni:\n",
    " * Applica la funzione esponenziale a tutte le componenti del vettore non normalizzato ($e^{z_i}$). Questa operazione permette di soddisfare la prima proprietà mappando numeri $x \\in ]-\\infty, +\\infty[$ su numeri del range $[0,+\\infty[$. Si noti che la funzione esponenziale è monotona crescente, per cui se $z_i \\leq z_j$, allora $e^{z_i} \\leq e^{z_j}$;\n",
    " * Normalizza gli elementi del vettore in uscita dividendoli per la somma dei valori positivi $e^{z_i}$ ($\\frac{e^{z_i}}{\\sum z_k}$). Questa normalizzazione ci assicura che la seconda proprietà sia rispettata: $\\sum_{i=1}^K \\sigma(\\mathbf{z})_i = 1$."
   ]
  },
  {
   "cell_type": "markdown",
   "metadata": {},
   "source": [
    "**Domanda 2**\n",
    "<img src=\"img/qmark.jpg\" style=\"width:150px; float:left;\"/>\n",
    "\n",
    "Cosa garantisce che i valori restituiti dalla funzione SoftMax siano non negativi? Disegnare la funzione esponenziale per rispondere alla domanda. E' possibile ottenere delle probabilità nulle utilizzando la funzione SoftMax in teoria? E' possibile in pratica?"
   ]
  },
  {
   "cell_type": "markdown",
   "metadata": {},
   "source": [
    "**Risposta 2**\n",
    "<img style=\"float: left;width:150px;\" src=\"img/note.png\">\n",
    "\n",
    "<div style=\"background-color:#efefef; margin-left:150px; border:solid 1px; border-color:#dddddd; border-radius: 3px;\">\n",
    "<br><br><br><br><br><br>\n",
    "</div>"
   ]
  },
  {
   "cell_type": "markdown",
   "metadata": {},
   "source": [
    "La formulazione del regressore SoftMax è dunque la seguente:\n",
    "\n",
    "\\begin{equation}\n",
    "f(\\mathbf{x}) = \\sigma(A \\mathbf{x} +\\mathbf{b}) = \\sigma(\\mathbf{z})= \\frac{e^{z_j}}{\\sum_{k=1}^K{e^{z_k}}}\n",
    "\\end{equation}\n",
    "\n",
    "dove $\\mathbf{z}=A \\mathbf{x} +\\mathbf{b}$, la funzione f stima la probabilità a posteriori che $\\mathbf{x}$ appartenga ad una data classe:\n",
    "\n",
    "\\begin{equation}\n",
    "p(c=i\\ |\\ \\mathbf{x}) = f(\\mathbf{x})_i\n",
    "\\end{equation}\n",
    "\n",
    "e $f(\\mathbf{x})_i$ indica la iesima componente del vettore di probabilità ottenuto mediante il regressore softmax $f$."
   ]
  },
  {
   "cell_type": "markdown",
   "metadata": {},
   "source": [
    "Per allenare il regressore softmax, utilizziamo una generalizzazione della loss vista nel caso del regressore logistico: la **cross entropy loss**. In teoria dell'informazione, la cross entropy tra due distribuzioni di probabilità $p$ e $q$ è definita come:\n",
    "\n",
    "\\begin{equation}\n",
    "H(p,q) = -\\sum_x p(x) \\log q(x)\n",
    "\\end{equation}\n",
    "\n",
    "La cross entropy $H(p,q)$ indica il *numero medio di bit necessario per identificare eventi $x$ che seguono la probabilità $p$ se li descriviamo con la probabilità stimata $q$*. La cross entropy raggiunge il suo minimo quando $p$ e $q$ sono uguali. In tal caso la cross entropy corrisponde all'entropia di $p$:\n",
    "\n",
    "\\begin{equation}\n",
    "H(p) = -\\sum_x p(x) \\log p(x)\n",
    "\\end{equation}\n",
    "\n",
    "Nel nostro caso, la probabilità $q$ è data dal regressore softmax, mentre $p$ rappresenta la probabilità \"ideale\" che il campione $x$ appartenga a una data classe. Dato che conosciamo le classi di appartenenza di ogni campione, la probabilità ideale è data da una rappresentazione di tipo \"one-hot-vector\", in cui $p(\\mathbf{x})=\\mathbf{y}$ e $\\mathbf{y}$ ha una unica componente $y_j=1$, mentre tutte le altre sono nulle. Ad esempio, se le classi sono tre e il campione appartiene alla seconda classe ($c=1$), allora $\\mathbf{y}=[0,1,0]$."
   ]
  },
  {
   "cell_type": "markdown",
   "metadata": {},
   "source": [
    "**Domanda 3**\n",
    "<img src=\"img/qmark.jpg\" style=\"width:150px; float:left;\"/>\n",
    "\n",
    "I vettori \"one-hot\" $\\mathbf{y}$ sono delle valide distribuzioni di probabilità?"
   ]
  },
  {
   "cell_type": "markdown",
   "metadata": {},
   "source": [
    "**Risposta 3**\n",
    "<img style=\"float: left;width:150px;\" src=\"img/note.png\">\n",
    "\n",
    "<div style=\"background-color:#efefef; margin-left:150px; border:solid 1px; border-color:#dddddd; border-radius: 3px;\">\n",
    "<br><br><br><br><br><br>\n",
    "</div>"
   ]
  },
  {
   "cell_type": "markdown",
   "metadata": {},
   "source": [
    "Possiamo dunque scrivere la loss relativa a un dato campione $\\mathbf{x}$ di etichetta (one-hot) $\\mathbf{y}$ come segue:\n",
    "\n",
    "\\begin{equation}\n",
    "\\mathcal{L}_\\theta(\\mathbf{x},\\mathbf{y}) = -\\sum_i \\mathbf{y}_i \\log f(\\mathbf{x})_i\n",
    "\\end{equation}\n",
    "\n",
    "Notiamo che, $\\mathbf{y}_i$ sarà uguale a zero tranne che per $i=j$, dove $j$ è la classe del campione $\\mathbf{x}$. Pertanto, solo uno dei termini della sommatoria nella formula sopra sarà non nullo. Ciò ci permette di riscrivere la loss come segue:\n",
    "\n",
    "\\begin{equation}\n",
    "\\mathcal{L}_\\theta(\\mathbf{x},j) = - \\log f(\\mathbf{x})_j\n",
    "\\end{equation}\n",
    "\n",
    "Dove $j$ è la classe di $\\mathbf{x}$. Ricordando che $f(\\mathbf{x}) = \\sigma(A \\mathbf{x} +\\mathbf{b}) = \\sigma(\\mathbf{z})= \\frac{e^{z_j}}{\\sum_{k=1}^K{e^{z_k}}}$, possiamo riscrivere la loss come:\n",
    "\n",
    "\\begin{equation}\n",
    "\\mathcal{L}_\\theta(\\mathbf{x},j) = - \\log \\frac{e^{z_j}}{\\sum_{k=1}^K{e^{z_k}}} = \\log \\sum_{k=1}^K{e^{z_k}} - \\log {e^{z_j}}\n",
    "\\end{equation}\n",
    "\n",
    "da cui, ricordando che $\\mathbf{z}=A \\mathbf{x} +\\mathbf{b}$, abbiamo:\n",
    "\n",
    "\\begin{equation}\n",
    "\\mathcal{L}_\\theta(\\mathbf{x},j) = \\log \\sum_{k=1}^K{e^{z_k}} -z_j\n",
    "\\end{equation}"
   ]
  },
  {
   "cell_type": "markdown",
   "metadata": {},
   "source": [
    "**Domanda 4**\n",
    "<img src=\"img/qmark.jpg\" style=\"width:150px; float:left;\"/>\n",
    "\n",
    "Le loss $\\mathcal{L}_\\theta(\\mathbf{x},j) = - \\log f(\\mathbf{x})_j$ e $\\mathcal{L}_\\theta(\\mathbf{x},j) = \\log \\sum_{k=1}^K{e^{z_k}} -z_j$ sono entrambe valide? Una delle due offre dei vantaggi rispetto all'altra?"
   ]
  },
  {
   "cell_type": "markdown",
   "metadata": {},
   "source": [
    "**Risposta 4**\n",
    "<img style=\"float: left;width:150px;\" src=\"img/note.png\">\n",
    "\n",
    "<div style=\"background-color:#efefef; margin-left:150px; border:solid 1px; border-color:#dddddd; border-radius: 3px;\">\n",
    "<br><br><br><br><br><br>\n",
    "</div>"
   ]
  },
  {
   "cell_type": "markdown",
   "metadata": {},
   "source": [
    "## 1.1 Implementazione di un Regressore Softmax\n",
    "Implementiamo un regressore softmax. Iniziamo caricando il dataset delle iris di Fisher. Si tratta di un dataset contenente le misurazioni di $4$ quantità relative a $150$ fiori appartenenti a $3$ specie diverse. Il dataset viene spesso utilizzato per illustrare il funzionamento degli algoritmi di classificazione multiclasse, considerando il problema di stimare la specie di appartenenza di ciascun fiore a partire dalle misurazioni. "
   ]
  },
  {
   "cell_type": "code",
   "execution_count": 1,
   "metadata": {},
   "outputs": [
    {
     "name": "stdout",
     "output_type": "stream",
     "text": [
      "(150, 4)\n",
      "(150,)\n",
      "[0 0 0 0 0 0 0 0 0 0 0 0 0 0 0 0 0 0 0 0 0 0 0 0 0 0 0 0 0 0 0 0 0 0 0 0 0\n",
      " 0 0 0 0 0 0 0 0 0 0 0 0 0 1 1 1 1 1 1 1 1 1 1 1 1 1 1 1 1 1 1 1 1 1 1 1 1\n",
      " 1 1 1 1 1 1 1 1 1 1 1 1 1 1 1 1 1 1 1 1 1 1 1 1 1 1 2 2 2 2 2 2 2 2 2 2 2\n",
      " 2 2 2 2 2 2 2 2 2 2 2 2 2 2 2 2 2 2 2 2 2 2 2 2 2 2 2 2 2 2 2 2 2 2 2 2 2\n",
      " 2 2]\n"
     ]
    }
   ],
   "source": [
    "from sklearn.datasets import load_iris\n",
    "iris = load_iris()\n",
    "X=iris.data\n",
    "Y=iris.target\n",
    "#features\n",
    "print(X.shape)\n",
    "#classi target\n",
    "print(Y.shape)\n",
    "print(Y)"
   ]
  },
  {
   "cell_type": "markdown",
   "metadata": {},
   "source": [
    "I dati dunque caratterizzati da:\n",
    " * $4$ features;\n",
    " * $3$ classi;\n",
    " * $150$ istanze."
   ]
  },
  {
   "cell_type": "markdown",
   "metadata": {},
   "source": [
    "Impostiamo un seed per avere risultati ripetibili:"
   ]
  },
  {
   "cell_type": "code",
   "execution_count": 2,
   "metadata": {},
   "outputs": [],
   "source": [
    "import torch\n",
    "import numpy as np\n",
    "np.random.seed(1234)\n",
    "torch.random.manual_seed(1234);"
   ]
  },
  {
   "cell_type": "markdown",
   "metadata": {},
   "source": [
    "Otteniamo una permutazione casuale dei dati:"
   ]
  },
  {
   "cell_type": "code",
   "execution_count": 3,
   "metadata": {},
   "outputs": [],
   "source": [
    "idx = np.random.permutation(len(X))"
   ]
  },
  {
   "cell_type": "markdown",
   "metadata": {},
   "source": [
    "Applichiamo la stessa permutazione a X e Y:"
   ]
  },
  {
   "cell_type": "code",
   "execution_count": 4,
   "metadata": {},
   "outputs": [],
   "source": [
    "X = X[idx]\n",
    "Y = Y[idx]"
   ]
  },
  {
   "cell_type": "markdown",
   "metadata": {},
   "source": [
    "Suddividiamo il dataset in **training** e **testing** set indipendenti selezionando i primi $30$ valori per formare il testing set. Trasformiamo inoltre gli array in tensori:"
   ]
  },
  {
   "cell_type": "code",
   "execution_count": 5,
   "metadata": {},
   "outputs": [],
   "source": [
    "from torch import Tensor\n",
    "X_training = Tensor(X[30:])\n",
    "Y_training = Tensor(Y[30:])\n",
    "X_testing = Tensor(X[:30])\n",
    "Y_testing = Tensor(Y[:30])"
   ]
  },
  {
   "cell_type": "markdown",
   "metadata": {},
   "source": [
    "Normalizziamo i dati:"
   ]
  },
  {
   "cell_type": "code",
   "execution_count": 6,
   "metadata": {},
   "outputs": [],
   "source": [
    "X_mean = X_training.mean(0)\n",
    "X_std = X_training.std(0)\n",
    "\n",
    "X_training_norm = (X_training-X_mean)/X_std\n",
    "X_testing_norm = (X_testing-X_mean)/X_std"
   ]
  },
  {
   "cell_type": "markdown",
   "metadata": {},
   "source": [
    "Definiamo dunque un nuovo modulo per effettuare la regressione softmax:"
   ]
  },
  {
   "cell_type": "code",
   "execution_count": 7,
   "metadata": {},
   "outputs": [],
   "source": [
    "from torch import nn\n",
    "\n",
    "class SoftMaxRegressor(nn.Module):\n",
    "    def __init__(self, in_features, out_classes):\n",
    "        \"\"\"Costruisce un regressore softmax.\n",
    "            Input:\n",
    "                in_features: numero di feature in input (es. 4)\n",
    "                out_classes: numero di classi in uscita (es. 3)\"\"\"\n",
    "        super(SoftMaxRegressor, self).__init__() #richiamo il costruttore della superclasse\n",
    "        #questo passo è necessario per abilitare alcuni meccanismi automatici dei moduli di PyTorch\n",
    "        \n",
    "        self.linear = nn.Linear(in_features,out_classes) #il regressore softmax restituisce \n",
    "        #distribuzioni di probabilità, quindi il numero di feature di output coincide con il numero di classi\n",
    "        \n",
    "    def forward(self,x):\n",
    "        \"\"\"Definisce come processare l'input x\"\"\"\n",
    "        scores = self.linear(x)\n",
    "        return scores"
   ]
  },
  {
   "cell_type": "markdown",
   "metadata": {},
   "source": [
    "Costruiamo un regressore softmax e passiamogli i dati di training:"
   ]
  },
  {
   "cell_type": "code",
   "execution_count": 8,
   "metadata": {},
   "outputs": [
    {
     "data": {
      "text/plain": [
       "tensor([[ 0.9326,  0.6582, -0.2940],\n",
       "        [-0.1301, -0.2885,  0.1746],\n",
       "        [ 1.1440,  1.6170, -1.0236],\n",
       "        [-0.1766, -0.4061,  0.2196],\n",
       "        [-0.4706, -0.5166,  0.2307],\n",
       "        [ 1.2162,  1.5326, -0.9408],\n",
       "        [ 1.6219,  1.6549, -0.9210],\n",
       "        [ 0.8984,  1.2598, -0.8457],\n",
       "        [ 1.4105,  1.9569, -1.2018],\n",
       "        [ 1.0097,  0.5520, -0.2012]], grad_fn=<SliceBackward>)"
      ]
     },
     "execution_count": 8,
     "metadata": {},
     "output_type": "execute_result"
    }
   ],
   "source": [
    "model = SoftMaxRegressor(4,3)# 4 feature in ingresso, 3 classi in uscita\n",
    "#mostriamo le prime 4 predizioni\n",
    "model(X_training_norm)[:10]"
   ]
  },
  {
   "cell_type": "markdown",
   "metadata": {},
   "source": [
    "Ogni riga della matrice è una predizione. Come si può notare, non si tratta di valide distribuzioni di probabilità. Per ottenere le distribuzioni dobbiamo utilizzare la funzione softmax:"
   ]
  },
  {
   "cell_type": "code",
   "execution_count": 9,
   "metadata": {},
   "outputs": [
    {
     "data": {
      "text/plain": [
       "tensor([[0.4870, 0.3701, 0.1428],\n",
       "        [0.3116, 0.2659, 0.4225],\n",
       "        [0.3678, 0.5902, 0.0421],\n",
       "        [0.3048, 0.2423, 0.4529],\n",
       "        [0.2518, 0.2405, 0.5077],\n",
       "        [0.4020, 0.5516, 0.0465],\n",
       "        [0.4734, 0.4893, 0.0372],\n",
       "        [0.3831, 0.5499, 0.0670],\n",
       "        [0.3571, 0.6167, 0.0262],\n",
       "        [0.5180, 0.3277, 0.1543]], grad_fn=<SliceBackward>)"
      ]
     },
     "execution_count": 9,
     "metadata": {},
     "output_type": "execute_result"
    }
   ],
   "source": [
    "softmax = nn.Softmax(dim=1)#dim=1 specifica che effettueremo il sofmax per righe\n",
    "softmax(model(X_training_norm))[:10]"
   ]
  },
  {
   "cell_type": "markdown",
   "metadata": {},
   "source": [
    "Ogni riga della matrice è adesso una valida distribuzione di probabilità sulle tre classi considerate. Infatti, la somma dei valori lungo le righe è, come ci si aspetterebbe, pari ad 1:"
   ]
  },
  {
   "cell_type": "code",
   "execution_count": 10,
   "metadata": {},
   "outputs": [
    {
     "data": {
      "text/plain": [
       "tensor([1.0000, 1.0000, 1.0000, 1.0000, 1.0000, 1.0000, 1.0000, 1.0000, 1.0000,\n",
       "        1.0000, 1.0000, 1.0000, 1.0000, 1.0000, 1.0000, 1.0000, 1.0000, 1.0000,\n",
       "        1.0000, 1.0000, 1.0000, 1.0000, 1.0000, 1.0000, 1.0000, 1.0000, 1.0000,\n",
       "        1.0000, 1.0000, 1.0000, 1.0000, 1.0000, 1.0000, 1.0000, 1.0000, 1.0000,\n",
       "        1.0000, 1.0000, 1.0000, 1.0000, 1.0000, 1.0000, 1.0000, 1.0000, 1.0000,\n",
       "        1.0000, 1.0000, 1.0000, 1.0000, 1.0000, 1.0000, 1.0000, 1.0000, 1.0000,\n",
       "        1.0000, 1.0000, 1.0000, 1.0000, 1.0000, 1.0000, 1.0000, 1.0000, 1.0000,\n",
       "        1.0000, 1.0000, 1.0000, 1.0000, 1.0000, 1.0000, 1.0000, 1.0000, 1.0000,\n",
       "        1.0000, 1.0000, 1.0000, 1.0000, 1.0000, 1.0000, 1.0000, 1.0000, 1.0000,\n",
       "        1.0000, 1.0000, 1.0000, 1.0000, 1.0000, 1.0000, 1.0000, 1.0000, 1.0000,\n",
       "        1.0000, 1.0000, 1.0000, 1.0000, 1.0000, 1.0000, 1.0000, 1.0000, 1.0000,\n",
       "        1.0000, 1.0000, 1.0000, 1.0000, 1.0000, 1.0000, 1.0000, 1.0000, 1.0000,\n",
       "        1.0000, 1.0000, 1.0000, 1.0000, 1.0000, 1.0000, 1.0000, 1.0000, 1.0000,\n",
       "        1.0000, 1.0000, 1.0000], grad_fn=<SumBackward1>)"
      ]
     },
     "execution_count": 10,
     "metadata": {},
     "output_type": "execute_result"
    }
   ],
   "source": [
    "softmax(model(X_training_norm)).sum(1)"
   ]
  },
  {
   "cell_type": "markdown",
   "metadata": {},
   "source": [
    "Una volta allenato, il modello ci permetterà di predire una distribuzione di probabilità per ogni elemento. Per ottenere l'etichetta predetta, possiamo applicare il principo Maximum A Posteriori (MAP), scegliendo la classe che presenta la probabilità maggiore mediante la funzione argmax, che è inclusa in PyTorch nella funzione max:"
   ]
  },
  {
   "cell_type": "code",
   "execution_count": 11,
   "metadata": {},
   "outputs": [
    {
     "data": {
      "text/plain": [
       "tensor([0, 2, 1, 2, 2, 1, 1, 1, 1, 0, 1, 2, 1, 2, 2, 1, 2, 2, 2, 2, 1, 2, 2, 2,\n",
       "        0, 0, 0, 2, 2, 1, 1, 2, 2, 2, 1, 1, 1, 2, 0, 2, 2, 0, 1, 2, 1, 2, 1, 0,\n",
       "        0, 1, 0, 1, 2, 2, 2, 1, 1, 1, 2, 2, 0, 1, 2, 2, 1, 2, 2, 0, 1, 1, 0, 0,\n",
       "        1, 2, 0, 2, 2, 0, 1, 2, 2, 1, 1, 2, 0, 0, 0, 0, 1, 0, 2, 2, 2, 2, 1, 1,\n",
       "        1, 1, 2, 2, 2, 1, 1, 2, 2, 2, 0, 0, 2, 2, 2, 1, 2, 1, 1, 2, 2, 0, 1, 1])"
      ]
     },
     "execution_count": 11,
     "metadata": {},
     "output_type": "execute_result"
    }
   ],
   "source": [
    "#la funzione max restituisce i valori dei massimi \n",
    "#e i loro indici (il risultato della funzione argmax)\n",
    "#per questo includiamo \"[1]\" nell'equazione successiva\n",
    "preds = softmax(model(X_training_norm)).max(1)[1]\n",
    "preds"
   ]
  },
  {
   "cell_type": "markdown",
   "metadata": {},
   "source": [
    "Abbiamo dunque ottenuto le predizioni sotto forma di indici delle tre clasis, che vanno da $0$ a $2$. Possiamo dunque valutare le predizioni come visto nel caso binario. Ad esempio, possiamo calcolare l'accuracy come segue:"
   ]
  },
  {
   "cell_type": "code",
   "execution_count": 12,
   "metadata": {},
   "outputs": [
    {
     "name": "stdout",
     "output_type": "stream",
     "text": [
      "0.35833333333333334\n"
     ]
    }
   ],
   "source": [
    "from sklearn.metrics import accuracy_score\n",
    "print(accuracy_score(Y_training,preds))"
   ]
  },
  {
   "cell_type": "markdown",
   "metadata": {},
   "source": [
    "L'accuracy è bassa in quanto dobbiamo ancora allaenare il modello. "
   ]
  },
  {
   "cell_type": "markdown",
   "metadata": {},
   "source": [
    "Va notato che, dato che la funzione softmax è monotona, possiamo applicare la funzione argmax direttamente ai logits ottenendo lo stesso risultato:"
   ]
  },
  {
   "cell_type": "code",
   "execution_count": 13,
   "metadata": {},
   "outputs": [
    {
     "name": "stdout",
     "output_type": "stream",
     "text": [
      "tensor(1.)\n"
     ]
    }
   ],
   "source": [
    "preds_logits = model(X_training_norm).max(1)[1]\n",
    "print((preds_logits==preds).float().mean()) #il risultato ottenuto è lo stesso"
   ]
  },
  {
   "cell_type": "markdown",
   "metadata": {},
   "source": [
    "In pratica, si preferisce dunque non applicare la funzione softmax per il calcolo delle etichette predette."
   ]
  },
  {
   "cell_type": "markdown",
   "metadata": {},
   "source": [
    "La procedura di training del regressore logistico sarà la seguente:\n",
    "\n",
    "1. Normalizzare i dati in ingresso $\\mathbf{x}$; \n",
    "2. Costruire il modulo che implementa il modello (il costruttore si preoccuperà di inizializzare i parametri);\n",
    "3. Mettere il modello in modalità \"training\";\n",
    "4. Calcolare l'output del modello $\\hat y$;\n",
    "5. Calcolare il valore della loss $\\mathcal{L}_\\theta(\\mathbf{x},y)$;\n",
    "6. Calcolare il gradiente della loss rispetto ai parametri del modello;\n",
    "7. Aggiornare i pesi $\\theta$ utilizzando il gradient descent;\n",
    "8. Ripetere i passi 4-7 fino a convergenza."
   ]
  },
  {
   "cell_type": "markdown",
   "metadata": {},
   "source": [
    "Implementiamo la procedura includendo il monitoring delle curve mediante tensorboard e il calcolo dell'accuracy ad ogni iterazione."
   ]
  },
  {
   "cell_type": "code",
   "execution_count": 14,
   "metadata": {},
   "outputs": [],
   "source": [
    "from torch.utils.tensorboard import SummaryWriter\n",
    "from torch.optim import SGD\n",
    "\n",
    "writer = SummaryWriter('logs/softmax_regressor')\n",
    "\n",
    "lr = 0.1\n",
    "epochs = 500\n",
    "\n",
    "#normalizzazione dei dati\n",
    "X_mean = X_training.mean(0)\n",
    "X_std = X_training.std(0)\n",
    "\n",
    "X_training_norm = (X_training-X_mean)/X_std\n",
    "X_testing_norm = (X_testing-X_mean)/X_std\n",
    "\n",
    "model = SoftMaxRegressor(4,3)\n",
    "criterion = nn.CrossEntropyLoss() #utilizziamo la cross entropy loss\n",
    "optimizer = SGD(model.parameters(),lr) #utilizziamo un optimizer\n",
    "\n",
    "for e in range(epochs):\n",
    "    model.train()\n",
    "    out = model(X_training_norm)\n",
    "    l = criterion(out,Y_training.long())\n",
    "    l.backward()\n",
    "    writer.add_scalar('loss/train', l.item(), global_step=e)\n",
    "    \n",
    "    optimizer.step()\n",
    "    optimizer.zero_grad()\n",
    "    \n",
    "    preds_train = out.max(1)[1]\n",
    "    writer.add_scalar('accuracy/train', accuracy_score(Y_training,preds_train), global_step=e)\n",
    "    \n",
    "    model.eval()\n",
    "    with torch.set_grad_enabled(False):\n",
    "        out = model(X_testing_norm)\n",
    "        l = criterion(out, Y_testing.long())\n",
    "        writer.add_scalar('loss/test', l.item(), global_step=e)\n",
    "        preds_test = out.max(1)[1]\n",
    "        writer.add_scalar('accuracy/test', accuracy_score(Y_testing,preds_test), global_step=e)"
   ]
  },
  {
   "cell_type": "markdown",
   "metadata": {},
   "source": [
    "Calcoliamo accuracy di training e test:"
   ]
  },
  {
   "cell_type": "code",
   "execution_count": 15,
   "metadata": {},
   "outputs": [
    {
     "name": "stdout",
     "output_type": "stream",
     "text": [
      "Accuracy di training 0.9583333333333334\n",
      "Accuracy di test 1.0\n"
     ]
    }
   ],
   "source": [
    "preds_train = model(X_training_norm).max(1)[1]\n",
    "preds_test = model(X_testing_norm).max(1)[1]\n",
    "print(\"Accuracy di training\",accuracy_score(Y_training,preds_train))\n",
    "print(\"Accuracy di test\",accuracy_score(Y_testing,preds_test))"
   ]
  },
  {
   "cell_type": "markdown",
   "metadata": {},
   "source": [
    "**Domanda 5**\n",
    "<img src=\"img/qmark.jpg\" style=\"width:150px; float:left;\"/>\n",
    "\n",
    "Si confronti la procedura di training appena vista con quelle viste in precedenza. Quali sono le principali differenze?"
   ]
  },
  {
   "cell_type": "markdown",
   "metadata": {},
   "source": [
    "**Risposta 5**\n",
    "<img style=\"float: left;width:150px;\" src=\"img/note.png\">\n",
    "\n",
    "<div style=\"background-color:#efefef; margin-left:150px; border:solid 1px; border-color:#dddddd; border-radius: 3px;\">\n",
    "<br><br><br><br><br><br>\n",
    "</div>"
   ]
  },
  {
   "cell_type": "markdown",
   "metadata": {},
   "source": [
    "# 2. Datasets, Data Loaders, Stochastic Gradient Descent, Salvataggio e Caricamento dei Modelli\n",
    "\n",
    "Finora abbiamo effettuato la discesa del gradiente calcolando i gradienti rispetto alla loss calcolata sull'intero dataset. Questa procedura è nota come \"Batch Gradient Descent\". In pratica, se il dataset è molto grande, questa procedura può essere infattibile (se il dataset è grande, potrebbe essere difficile tenerlo tutto in memoria RAM). Per superare questi limiti, è possibile utilizzare la tecnica della \"Stochastic Gradient Descent\" (SGD). Questa tecnica consiste nel suddividere il dataset in una serie di mini-batch e effettuare la discesa del gradiente su un batch alla volta. Vediamo un esempio di training mediante Stochastic Gradient Descent considerando un esempio di dataset più grande.\n",
    "\n",
    "Considereremo il dataset MNIST. Questo dataset contiene $70,000$ immagini monocromatiche $28 \\times 28$ pixels raffiguranti cifre scritte a mano (da $0$ a $9$). Ogni immagine è classificata in relazione alla cifra contenuta nell'immagine. Le immagini sono suddivise come segue: $60,000$ immagini costituiscono il training set, mentre le restanti $10,000$ costisuiscono il test set.\n",
    "\n",
    "<center>\n",
    "<img src=\"img/mnist.png\">\n",
    "</center>\n",
    "\n",
    "PyTorch mette a disposizione una serie di oggetti per caricare dataset noti (come MNIST) e suddividerli in mini-batch in modo da effettuare la stochastic gradient descent."
   ]
  },
  {
   "cell_type": "markdown",
   "metadata": {},
   "source": [
    "## 2.1 Dataset e Trasformazioni\n",
    "L'oggetto `MNIST` fornito da PyTorch permette di scaricare il dataset sul proprio computer e utilizzarlo."
   ]
  },
  {
   "cell_type": "code",
   "execution_count": 16,
   "metadata": {},
   "outputs": [
    {
     "name": "stdout",
     "output_type": "stream",
     "text": [
      "Downloading http://yann.lecun.com/exdb/mnist/train-images-idx3-ubyte.gz to data/MNIST/raw/train-images-idx3-ubyte.gz\n"
     ]
    },
    {
     "data": {
      "application/vnd.jupyter.widget-view+json": {
       "model_id": "eb5d1dc364764c2aa42086d162b5d024",
       "version_major": 2,
       "version_minor": 0
      },
      "text/plain": [
       "HBox(children=(FloatProgress(value=1.0, bar_style='info', max=1.0), HTML(value='')))"
      ]
     },
     "metadata": {},
     "output_type": "display_data"
    },
    {
     "name": "stdout",
     "output_type": "stream",
     "text": [
      "Extracting data/MNIST/raw/train-images-idx3-ubyte.gz to data/MNIST/raw\n",
      "Downloading http://yann.lecun.com/exdb/mnist/train-labels-idx1-ubyte.gz to data/MNIST/raw/train-labels-idx1-ubyte.gz\n"
     ]
    },
    {
     "data": {
      "application/vnd.jupyter.widget-view+json": {
       "model_id": "d47e47842b8d47aabec1fca7cd91e9b3",
       "version_major": 2,
       "version_minor": 0
      },
      "text/plain": [
       "HBox(children=(FloatProgress(value=1.0, bar_style='info', max=1.0), HTML(value='')))"
      ]
     },
     "metadata": {},
     "output_type": "display_data"
    },
    {
     "name": "stdout",
     "output_type": "stream",
     "text": [
      "Extracting data/MNIST/raw/train-labels-idx1-ubyte.gz to data/MNIST/raw\n",
      "Downloading http://yann.lecun.com/exdb/mnist/t10k-images-idx3-ubyte.gz to data/MNIST/raw/t10k-images-idx3-ubyte.gz\n"
     ]
    },
    {
     "data": {
      "application/vnd.jupyter.widget-view+json": {
       "model_id": "077dbb7ad15b443eb453d142239a3989",
       "version_major": 2,
       "version_minor": 0
      },
      "text/plain": [
       "HBox(children=(FloatProgress(value=1.0, bar_style='info', max=1.0), HTML(value='')))"
      ]
     },
     "metadata": {},
     "output_type": "display_data"
    },
    {
     "name": "stdout",
     "output_type": "stream",
     "text": [
      "Extracting data/MNIST/raw/t10k-images-idx3-ubyte.gz to data/MNIST/raw\n",
      "Downloading http://yann.lecun.com/exdb/mnist/t10k-labels-idx1-ubyte.gz to data/MNIST/raw/t10k-labels-idx1-ubyte.gz\n"
     ]
    },
    {
     "data": {
      "application/vnd.jupyter.widget-view+json": {
       "model_id": "4b0596d75b314612b2557e8ab3d62202",
       "version_major": 2,
       "version_minor": 0
      },
      "text/plain": [
       "HBox(children=(FloatProgress(value=1.0, bar_style='info', max=1.0), HTML(value='')))"
      ]
     },
     "metadata": {},
     "output_type": "display_data"
    },
    {
     "name": "stdout",
     "output_type": "stream",
     "text": [
      "Extracting data/MNIST/raw/t10k-labels-idx1-ubyte.gz to data/MNIST/raw\n",
      "Processing...\n",
      "Done!\n"
     ]
    }
   ],
   "source": [
    "from torchvision.datasets import MNIST\n",
    "#root='data' indica di scaricare il dataset nella sottocartella \"data\" della cartella corrente\n",
    "#train=True indica che vogliamo caricare il training set\n",
    "#download=True indica di scaricare il dataset se non è già presente nella directory specificata\n",
    "mnist_train = MNIST(root='data',train=True, download=True)\n",
    "#test set\n",
    "mnist_test = MNIST(root='data',train=False, download=True)"
   ]
  },
  {
   "cell_type": "markdown",
   "metadata": {},
   "source": [
    "Si noti che, la prima volta che si esegue il codice mostrato sopra, il dataset verrà scaricato nella cartella \"data\", mentre nelle volte successive, verrà utilizzata la versione già scaricata per evitare di scaricare nuovamente i dati. Gli oggetti di tipo dataset (ne vedremo altri oltre a MNIST) si comportano in maniera simile a una lista. E' possibile determinare il numero di elementi mediante la funzione `len`:"
   ]
  },
  {
   "cell_type": "code",
   "execution_count": 17,
   "metadata": {},
   "outputs": [
    {
     "name": "stdout",
     "output_type": "stream",
     "text": [
      "Numero di campioni di training: 60000\n",
      "Numero di campioni di test: 10000\n"
     ]
    }
   ],
   "source": [
    "print(\"Numero di campioni di training:\",len(mnist_train))\n",
    "print(\"Numero di campioni di test:\",len(mnist_test))"
   ]
  },
  {
   "cell_type": "markdown",
   "metadata": {},
   "source": [
    "Possiamo accedere agli elementi del dataset con l'indicizzazione:"
   ]
  },
  {
   "cell_type": "code",
   "execution_count": 18,
   "metadata": {},
   "outputs": [
    {
     "name": "stdout",
     "output_type": "stream",
     "text": [
      "(<PIL.Image.Image image mode=L size=28x28 at 0x7F662DA4A470>, 5)\n",
      "(<PIL.Image.Image image mode=L size=28x28 at 0x7F662DA4A438>, 7)\n",
      "<class 'PIL.Image.Image'>\n",
      "<class 'int'>\n"
     ]
    }
   ],
   "source": [
    "print(mnist_train[0])\n",
    "print(mnist_test[0])\n",
    "print(type(mnist_train[0][0]))\n",
    "print(type(mnist_train[0][1]))"
   ]
  },
  {
   "cell_type": "markdown",
   "metadata": {},
   "source": [
    "Gli elementi del dataset sono delle tuple contenenti due elementi:\n",
    " * Una immagine di tipo `PIL.Image`;\n",
    " * L'etichetta (es., $5$, $7$) dell'immagine.\n",
    " \n",
    "Si noti però che, a differenza di quanto avviene con una lista, `MNIST` non contiene in memoria tutti i campioni, ma li carica da file dinamicamente quando essi vengono richiesti. Ciò permette di lavorare efficientemente con dataset molto grandi (anche milioni di immagini). Possiamo visualizzare le immagini di PIL mediante matplotlib:"
   ]
  },
  {
   "cell_type": "code",
   "execution_count": 19,
   "metadata": {},
   "outputs": [
    {
     "data": {
      "image/png": "[encoded data removed]",
      "text/plain": [
       "<Figure size 432x288 with 1 Axes>"
      ]
     },
     "metadata": {
      "needs_background": "light"
     },
     "output_type": "display_data"
    }
   ],
   "source": [
    "from matplotlib import pyplot as plt\n",
    "\n",
    "#cmap='gray' serve per evitare di visualizzare le immagini in falsi colori\n",
    "plt.imshow(mnist_train[0][0],cmap='gray') \n",
    "plt.title(\"Classe: \"+str(mnist_train[0][1]))\n",
    "plt.show()"
   ]
  },
  {
   "cell_type": "markdown",
   "metadata": {},
   "source": [
    "Per lavorare su immagini, dobbiamo prima trasformarle in tensori. Ciò si può fare convertendo prima l'immagine in un array di numpy, poi in un tensore:"
   ]
  },
  {
   "cell_type": "code",
   "execution_count": 20,
   "metadata": {},
   "outputs": [
    {
     "data": {
      "text/plain": [
       "torch.Size([28, 28])"
      ]
     },
     "execution_count": 20,
     "metadata": {},
     "output_type": "execute_result"
    }
   ],
   "source": [
    "im=torch.from_numpy(np.array(mnist_train[0][0]))\n",
    "im.shape #l'immagine è un tensore 28x28 pixels"
   ]
  },
  {
   "cell_type": "markdown",
   "metadata": {},
   "source": [
    "Questa operazione dovrà essere effettuata su tutti gli elementi del dataset. Per automatizzare questa operazione, PyTorch permette di specificare una funzione di trasformazione, ovvero una funzione che verrà applicata a tutti gli elementi del dataset \"al volo\" quando questi vengono richiesti:\n",
    "\n",
    "Per trasformare le immagini di PIL in tensori di PyTorch, specifichiamo l'oggetto `torchvision.transforms.ToTensor()` come trasformazione al costruttore di MNIST:"
   ]
  },
  {
   "cell_type": "code",
   "execution_count": 21,
   "metadata": {},
   "outputs": [],
   "source": [
    "from torchvision import transforms\n",
    "mnist_train = MNIST(root='data',train=True, download=True, transform=transforms.ToTensor())\n",
    "mnist_test = MNIST(root='data',train=False, download=True, transform=transforms.ToTensor())"
   ]
  },
  {
   "cell_type": "markdown",
   "metadata": {},
   "source": [
    "Vediamo di che tipo sono gli elementi del dataset adesso:"
   ]
  },
  {
   "cell_type": "code",
   "execution_count": 22,
   "metadata": {},
   "outputs": [
    {
     "name": "stdout",
     "output_type": "stream",
     "text": [
      "<class 'torch.Tensor'>\n",
      "<class 'int'>\n"
     ]
    }
   ],
   "source": [
    "sample =  mnist_train[0]\n",
    "print(type(sample[0]))\n",
    "print(type(sample[1]))"
   ]
  },
  {
   "cell_type": "markdown",
   "metadata": {},
   "source": [
    "Vediamo qual è la shape del tensore:"
   ]
  },
  {
   "cell_type": "code",
   "execution_count": 23,
   "metadata": {},
   "outputs": [
    {
     "name": "stdout",
     "output_type": "stream",
     "text": [
      "torch.Size([1, 28, 28])\n"
     ]
    }
   ],
   "source": [
    "print(mnist_train[0][0].shape)"
   ]
  },
  {
   "cell_type": "markdown",
   "metadata": {},
   "source": [
    "Si tratta di un tensore $1 \\times 28 \\times 28$, dove $1$ indica che l'immagine è in scala di grigi (le immagini RGB hanno $3$ canali), mentre $28 \\times 28$ indica le dimensioni delle immagini. La dimensione aggiuntiva \"1\" viene aggiunta in automatico dall'oggetto `ToTensor` per compatibilità con le immagini a colori. Proviamo a mostrare alcune immagini utilizzando la libreria matplotlib:"
   ]
  },
  {
   "cell_type": "code",
   "execution_count": 24,
   "metadata": {},
   "outputs": [
    {
     "data": {
      "image/png": "[encoded data removed]",
      "text/plain": [
       "<Figure size 864x396 with 10 Axes>"
      ]
     },
     "metadata": {
      "needs_background": "light"
     },
     "output_type": "display_data"
    }
   ],
   "source": [
    "from matplotlib import pyplot as plt\n",
    "\n",
    "plt.figure(figsize=(12,5.5))\n",
    "for i in range(10):\n",
    "    plt.subplot(2,5,i+1)\n",
    "    plt.title(\"Classe %d\" % mnist_train[i][1])\n",
    "    plt.imshow(mnist_train[i][0].squeeze().numpy(),cmap='gray') \n",
    "    #`squeeze` serve a trasformare il tensore 1 x 28 x 28 in un tensore 28 x 28\n",
    "plt.show()"
   ]
  },
  {
   "cell_type": "markdown",
   "metadata": {},
   "source": [
    "Per poter allenare un classificatore su questi dati, abbiamo bisogno di normalizzarli in modo che essi abbiano media nulla e deviazione standard unitaria. Calcoliamo media e varianza dei pixel contenuti in tutte le immagini del training set:"
   ]
  },
  {
   "cell_type": "code",
   "execution_count": 25,
   "metadata": {},
   "outputs": [],
   "source": [
    "m = 0\n",
    "for sample in mnist_train:\n",
    "    m+=sample[0].sum() #accumuliamo la somma di tutti i pixel\n",
    "\n",
    "#dividiamo per il numero di immagini moltiplicato per il numero di pixel\n",
    "m=m/(len(mnist_train)*28*28)\n",
    "    \n",
    "#procedura simile per calcolare la deviazione standard\n",
    "s=0\n",
    "for sample in mnist_train:\n",
    "    s+=((sample[0]-m)**2).sum()\n",
    "    \n",
    "s=np.sqrt(s/(len(mnist_train)*28*28))"
   ]
  },
  {
   "cell_type": "markdown",
   "metadata": {},
   "source": [
    "I valori trovati sono i seguenti:"
   ]
  },
  {
   "cell_type": "code",
   "execution_count": 26,
   "metadata": {},
   "outputs": [
    {
     "name": "stdout",
     "output_type": "stream",
     "text": [
      "Mean: 0.1307\n",
      "Std: 0.3081\n"
     ]
    }
   ],
   "source": [
    "print(\"Mean: %0.4f\"%m)\n",
    "print(\"Std: %0.4f\"%s)"
   ]
  },
  {
   "cell_type": "markdown",
   "metadata": {},
   "source": [
    "Va notato che questa procedura può essere effettuata per qualsiasi dataset ed è necessario effettuarla solo una volta. In seguito è possibile conservare questi valori e utilizzarli direttamente per normalizzare i dati. Possiamo dunque normalizzare un singolo campione come segue:"
   ]
  },
  {
   "cell_type": "code",
   "execution_count": 27,
   "metadata": {},
   "outputs": [
    {
     "name": "stdout",
     "output_type": "stream",
     "text": [
      "Minimo: tensor(-0.4241)\n",
      "Massimo: tensor(2.8215)\n",
      "Media: tensor(-0.0134)\n",
      "Dev. Std.: tensor(0.9860)\n"
     ]
    }
   ],
   "source": [
    "sample=(mnist_train[15][0]-m)/s\n",
    "print(\"Minimo:\",sample.min())\n",
    "print(\"Massimo:\",sample.max())\n",
    "print(\"Media:\",sample.mean())\n",
    "print(\"Dev. Std.:\",sample.std())"
   ]
  },
  {
   "cell_type": "markdown",
   "metadata": {},
   "source": [
    "Per evitare di effettuare questa operazione in maniera manuale, possiamo specificare l'oggetto `transforms.Normalize` come trasformazione all'oggetto dataset. Abbiamo però bisogno di combinare la nuova trasformazione con la trasformazione `ToTensor`. Per farlo usiamo l'oggetto `transforms.Compose`:"
   ]
  },
  {
   "cell_type": "code",
   "execution_count": 28,
   "metadata": {},
   "outputs": [],
   "source": [
    "#Compose prende in input una lista di trasformazioni\n",
    "transform = transforms.Compose([transforms.ToTensor(), transforms.Normalize((m,),(s,))])\n",
    "mnist_train = MNIST(root='data',train=True, download=True, transform=transform)\n",
    "mnist_test = MNIST(root='data',train=False, download=True, transform=transform)"
   ]
  },
  {
   "cell_type": "markdown",
   "metadata": {},
   "source": [
    "Calcoliamo qualche statistica su uno degli elementi del dataset:"
   ]
  },
  {
   "cell_type": "code",
   "execution_count": 29,
   "metadata": {},
   "outputs": [
    {
     "name": "stdout",
     "output_type": "stream",
     "text": [
      "Minimo: tensor(-0.4241)\n",
      "Massimo: tensor(2.8215)\n",
      "Media: tensor(-0.0134)\n",
      "Dev. Std.: tensor(0.9860)\n"
     ]
    }
   ],
   "source": [
    "sample=mnist_train[15][0]\n",
    "print(\"Minimo:\",sample.min())\n",
    "print(\"Massimo:\",sample.max())\n",
    "print(\"Media:\",sample.mean())\n",
    "print(\"Dev. Std.:\",sample.std())"
   ]
  },
  {
   "cell_type": "markdown",
   "metadata": {},
   "source": [
    "Ogni immagine è adesso rappresentata da un tensore $1 \\times 28 \\times 28$. Tuttavia finora abbiamo visto solo algoritmi (es. regressore softmax) che lavorano su vettori unidimensionali di dati. Per poter lavorare sulle immagini con questi metodi, possiamo trasformare le immagini $28 \\times 28$ in vettori di $784$ dimensioni come segue:"
   ]
  },
  {
   "cell_type": "code",
   "execution_count": 30,
   "metadata": {},
   "outputs": [
    {
     "name": "stdout",
     "output_type": "stream",
     "text": [
      "torch.Size([784])\n"
     ]
    }
   ],
   "source": [
    "sample = sample.view(-1)\n",
    "print(sample.shape)"
   ]
  },
  {
   "cell_type": "markdown",
   "metadata": {},
   "source": [
    "Se vogliamo effettuare anche questa operazione in automatico mediante le trasformazioni, possiamo definirne una \"custom\" utilizzando la funzione `torchvision.Lambda`:"
   ]
  },
  {
   "cell_type": "code",
   "execution_count": 31,
   "metadata": {},
   "outputs": [],
   "source": [
    "transform = transforms.Compose([transforms.ToTensor(), \n",
    "                                transforms.Normalize((m,),(s,)),\n",
    "                               transforms.Lambda(lambda x: x.view(-1))])#specifichiamo l'operazione \"custom\"\n",
    "mnist_train = MNIST(root='data',train=True, download=True, transform=transform)\n",
    "mnist_test = MNIST(root='data',train=False, download=True, transform=transform)"
   ]
  },
  {
   "cell_type": "code",
   "execution_count": 32,
   "metadata": {},
   "outputs": [
    {
     "name": "stdout",
     "output_type": "stream",
     "text": [
      "torch.Size([784])\n",
      "5\n"
     ]
    }
   ],
   "source": [
    "print(mnist_train[0][0].shape)\n",
    "print(mnist_train[0][1])"
   ]
  },
  {
   "cell_type": "markdown",
   "metadata": {},
   "source": [
    "## 2.2 Data Loader\n",
    "Ogni campione ottenuto mediante l'oggetto dataset MNIST verrà automaticamente normalizzato e trasformato in un vettore. Per effettuare l'ottimizzazione mediante Stochastic Gradient Descent, dobbiamo suddividere i campioni in mini-batch. Inoltre, è importante fornire i campioni in ordine casuale, in quanto fornire consecutivamente elementi con caratteristiche simili (es. stessa classe) favorirebbe l'overfitting. PyTorch ci permette di gestire il \"batching\" in automatico e in maniera multithread mediante l'oggetto `DataLoader`. Utilizziamo un batch size di $256$ immagini e due thread paralleli per velocizzare il caricamento dei dati:"
   ]
  },
  {
   "cell_type": "code",
   "execution_count": 33,
   "metadata": {},
   "outputs": [],
   "source": [
    "from torch.utils.data import DataLoader\n",
    "mnist_train_loader = DataLoader(mnist_train, batch_size=256, num_workers=2, shuffle=True)\n",
    "#shuffle permette di accedere ai dati in maniera casuale\n",
    "mnist_test_loader = DataLoader(mnist_test, batch_size=256, num_workers=2)"
   ]
  },
  {
   "cell_type": "markdown",
   "metadata": {},
   "source": [
    "I data loader sono degli oggetti iterabili. Possiamo dunque accedere ai diversi batch in maniera sequenziale all'interno di un ciclo for. Il ciclo terminerà quando tutti i batch del dataset saranno stati caricati. Proviamo ad accedere al primo batch e interrompiamo il ciclo:"
   ]
  },
  {
   "cell_type": "code",
   "execution_count": 34,
   "metadata": {},
   "outputs": [
    {
     "name": "stdout",
     "output_type": "stream",
     "text": [
      "torch.Size([256, 784])\n",
      "torch.Size([256])\n"
     ]
    }
   ],
   "source": [
    "for batch in mnist_test_loader:\n",
    "    break\n",
    "    \n",
    "print(batch[0].shape)\n",
    "print(batch[1].shape)"
   ]
  },
  {
   "cell_type": "markdown",
   "metadata": {},
   "source": [
    "Il batch contiene $256$ vettori di training di dimensione $784$ e altrettante etichette corrisponenti. Se il numero di elementi del dataset non è un multiplo del batch size, l'ultimo batch sarà di dimensioni inferiori. Proviamo ad iterare tutto il loader e vediamo quanti elementi contiene l'ultimo batch:"
   ]
  },
  {
   "cell_type": "code",
   "execution_count": 35,
   "metadata": {},
   "outputs": [
    {
     "name": "stdout",
     "output_type": "stream",
     "text": [
      "torch.Size([16, 784])\n",
      "torch.Size([16])\n"
     ]
    }
   ],
   "source": [
    "for batch in mnist_test_loader:\n",
    "    pass\n",
    "    \n",
    "print(batch[0].shape)\n",
    "print(batch[1].shape)"
   ]
  },
  {
   "cell_type": "markdown",
   "metadata": {},
   "source": [
    "## 2.3 Salvataggio e Caricamento di Modelli\n",
    "\n",
    "Quando si allenano modelli su grandi dataset, la procedura di allenamento può essere molto lenta. Risulta dunque conveniente poter salvare su disco i modelli in modo da poterli caricare e riutilizzare in seguito. PyTorch permette di salvare e caricare modelli in maniera semplice. Il salvataggio viene effettuato serializzando tutti i parametri. E' possibile accedere a un dizionario contenente tutti i parametri del modello utilizzando il metodo `state_dict`."
   ]
  },
  {
   "cell_type": "code",
   "execution_count": 36,
   "metadata": {},
   "outputs": [
    {
     "name": "stdout",
     "output_type": "stream",
     "text": [
      "odict_keys(['linear.weight', 'linear.bias'])\n"
     ]
    }
   ],
   "source": [
    "state_dict=model.state_dict()\n",
    "print(state_dict.keys())"
   ]
  },
  {
   "cell_type": "markdown",
   "metadata": {},
   "source": [
    "Nel nostro caso si tratta di soli due elementi, ma in generale potrebbero essere di più. Possiamo dunque salvare il dizionario mediante `torch.save`:"
   ]
  },
  {
   "cell_type": "code",
   "execution_count": 37,
   "metadata": {},
   "outputs": [],
   "source": [
    "torch.save(model.state_dict(),'model.pth')"
   ]
  },
  {
   "cell_type": "markdown",
   "metadata": {},
   "source": [
    "Per ripristinare lo stato del modello, dobbiamo prima costruire l'oggetto e poi utilizzare il metodo `load_state_dict`:"
   ]
  },
  {
   "cell_type": "code",
   "execution_count": 38,
   "metadata": {},
   "outputs": [
    {
     "data": {
      "text/plain": [
       "<All keys matched successfully>"
      ]
     },
     "execution_count": 38,
     "metadata": {},
     "output_type": "execute_result"
    }
   ],
   "source": [
    "model = SoftMaxRegressor(4,3)\n",
    "model.load_state_dict(torch.load('model.pth'))"
   ]
  },
  {
   "cell_type": "markdown",
   "metadata": {},
   "source": [
    "## 2.4 Allenamento su GPU\n",
    "\n",
    "Dato che l'allenamento di un modello su grandi quantità di dati può essere lento, risulta conveniente velocizzare i calcoli effettuando l'allenamento su GPU, qualora una GPU dovesse essere disponibile nel sistema. Vediamo alcuni semplici passi per convertire il codice di training in questo senso.\n",
    "\n",
    "E' possibile verificare qualora una GPU sia disponibile nel sistema come segue:"
   ]
  },
  {
   "cell_type": "code",
   "execution_count": 39,
   "metadata": {},
   "outputs": [
    {
     "data": {
      "text/plain": [
       "False"
      ]
     },
     "execution_count": 39,
     "metadata": {},
     "output_type": "execute_result"
    }
   ],
   "source": [
    "torch.cuda.is_available()"
   ]
  },
  {
   "cell_type": "markdown",
   "metadata": {},
   "source": [
    "Possiamo dunque costruire una variabile `device` che sia uguale a `cpu` se non c'è nessuna GPU disponibile e `cuda` altrimenti:"
   ]
  },
  {
   "cell_type": "code",
   "execution_count": 40,
   "metadata": {},
   "outputs": [],
   "source": [
    "device = \"cuda\" if torch.cuda.is_available() else \"cpu\""
   ]
  },
  {
   "cell_type": "markdown",
   "metadata": {},
   "source": [
    "A questo punto, dobbiamo \"portare\" il modello che utilizzeremo sul device corretto. Possiamo farlo come segue:"
   ]
  },
  {
   "cell_type": "code",
   "execution_count": 41,
   "metadata": {},
   "outputs": [
    {
     "data": {
      "text/plain": [
       "SoftMaxRegressor(\n",
       "  (linear): Linear(in_features=4, out_features=3, bias=True)\n",
       ")"
      ]
     },
     "execution_count": 41,
     "metadata": {},
     "output_type": "execute_result"
    }
   ],
   "source": [
    "model.to(device)"
   ]
  },
  {
   "cell_type": "markdown",
   "metadata": {},
   "source": [
    "La stessa operazione va effettuata su ciascun tensore con il quale lavoreremo, come segue:"
   ]
  },
  {
   "cell_type": "code",
   "execution_count": 42,
   "metadata": {},
   "outputs": [],
   "source": [
    "X_training_norm.to(device);"
   ]
  },
  {
   "cell_type": "markdown",
   "metadata": {},
   "source": [
    "Queste modifiche ci permetteranno di utilizzare la GPU automaticamente se disponibile."
   ]
  },
  {
   "cell_type": "markdown",
   "metadata": {},
   "source": [
    "## 2.5 Log di loss e accuracy e SGD\n",
    "\n",
    "Quando si effettua un allenamento mediante stochastic gradient descent, risulta un po' meno immedianto effettuare il log di loss e accuarcy. In genere, abbiamo conservato i valori di loss e accuracy calcolati su training set e test set alla fine di ogni epoca. Tuttavia, noi calcoleremo esplicitamente loss e accuracy sui singoli batch.\n",
    "\n",
    "Per ottenere delle stime valide per ogni epoca, accumuleremo i valori di loss e accuracy batch per batch e calcoleremo la media di questi valori pesata sulla base del numero di elementi contenuti in quel batch. Supponiamo di avere 3 batch nel dataset, la loss totale va calcolata come segue:\n",
    "\n",
    "\\begin{equation}\n",
    "L = \\frac{l_0\\cdot n_0 + l_1 \\cdot n_1 + l_2 \\cdot n_2}{n_0+n_1+n_2}\n",
    "\\end{equation}\n",
    "\n",
    "dove $l_i$ è la loss calcolata al batch i-esimo e $n_i$ è il numero di elementi contenuti nel batch i-esimo. E' inoltre possibile calcolare la loss \"parziale\" ad un batch diverso dal batch finale come segue:\n",
    "\n",
    "\\begin{equation}\n",
    "L_1 = \\frac{l_0\\cdot n_0 + l_1 \\cdot n_1}{n_0+n_1}\n",
    "\\end{equation}\n",
    "\n",
    "dove $L_1$ è la loss parziale calcolata fino al batch 1. Questi calcoli possono essere automatizzati mediante un oggetto chiamato `Meter`. Scriviamone uno molto semplice:"
   ]
  },
  {
   "cell_type": "code",
   "execution_count": 43,
   "metadata": {},
   "outputs": [],
   "source": [
    "class AverageValueMeter():\n",
    "    def __init__(self):\n",
    "        self.reset()\n",
    "        \n",
    "    def reset(self):\n",
    "        self.sum = 0\n",
    "        self.num = 0\n",
    "    \n",
    "    def add(self, value, num):\n",
    "        self.sum += value*num\n",
    "        self.num += num\n",
    "        \n",
    "    def value(self):\n",
    "        try:\n",
    "            return self.sum/self.num\n",
    "        except:\n",
    "            return None"
   ]
  },
  {
   "cell_type": "markdown",
   "metadata": {},
   "source": [
    "Vediamo come utilizzare la classe appena definita:"
   ]
  },
  {
   "cell_type": "code",
   "execution_count": 44,
   "metadata": {},
   "outputs": [
    {
     "name": "stdout",
     "output_type": "stream",
     "text": [
      "Media pesata calcolata manualmente: 4.3\n",
      "Media pesata calcolata mediante meter: 4.3\n"
     ]
    }
   ],
   "source": [
    "meter = AverageValueMeter()\n",
    "\n",
    "meter.add(10,3) #inseriamo il valore 10, calcolato da un batch di 3 elementi\n",
    "meter.add(3,5) #inseriamo il valore 3, calcolato da un batch di 5 elementi\n",
    "meter.add(-1,2) #inseriamo il valore -1, calcolato da un batch di 2 elementi\n",
    "\n",
    "#media pesata calcolata manualmente:\n",
    "print('Media pesata calcolata manualmente:',(10*3+3*5-1*2)/(3+5+2))\n",
    "print('Media pesata calcolata mediante meter:',meter.value())"
   ]
  },
  {
   "cell_type": "markdown",
   "metadata": {},
   "source": [
    "E' possibile ripristinare un meter ai valori iniziali mediante il metodo `reset`:"
   ]
  },
  {
   "cell_type": "code",
   "execution_count": 45,
   "metadata": {},
   "outputs": [
    {
     "name": "stdout",
     "output_type": "stream",
     "text": [
      "None\n"
     ]
    }
   ],
   "source": [
    "meter.reset()\n",
    "print(meter.value())"
   ]
  },
  {
   "cell_type": "markdown",
   "metadata": {},
   "source": [
    "Il meter creato ci permette di ottenere una stima corrente di loss e accuracy. Dato che una epoca di training può richiedere anche diverse ore a seconda del dataset e del momento, loggeremo queste stime ad ogni iterazione. In questo caso, utilizzeremo come `global_step` il numero totale di campioni attualmente \"visti\" durante il training."
   ]
  },
  {
   "cell_type": "markdown",
   "metadata": {},
   "source": [
    "## 2.5 Allenamento mediante SGD\n",
    "Alleniamo adesso mediante Stochastic Gradient Descent un regressore Softmax per classificare gli elementi del dataset `MNIST`. Utilizzeremo due cicli for, uno esterno per iterare lungo le epoche e uno interno per iterare lungo i batch. Il resto della procedura di training resta uguale. Per monitorare il training, all'interno di ogni epoca effettueremo un ciclo di training e un ciclo di test. Con dataset grandi, la procedura di training può essere lunga. Pertanto salveremo una copia del modello ad ogni iterazione."
   ]
  },
  {
   "cell_type": "markdown",
   "metadata": {},
   "source": [
    "Definiamo adesso una funzione di training che possiamo riutilizzare in seguito:"
   ]
  },
  {
   "cell_type": "code",
   "execution_count": 46,
   "metadata": {},
   "outputs": [],
   "source": [
    "from os.path import join\n",
    "def train_classifier(model, train_loader, test_loader, exp_name='experiment', lr=0.001, epochs=10, momentum=0.9, logdir='logs'):\n",
    "    criterion = nn.CrossEntropyLoss() \n",
    "    optimizer = SGD(model.parameters(), lr, momentum=momentum) \n",
    "    #meters\n",
    "    loss_meter = AverageValueMeter()\n",
    "    acc_meter = AverageValueMeter()\n",
    "    #writer\n",
    "    writer = SummaryWriter(join(logdir, exp_name))\n",
    "    #device\n",
    "    device = \"cuda\" if torch.cuda.is_available() else \"cpu\"\n",
    "    model.to(device)\n",
    "    #definiamo un dizionario contenente i loader di training e test\n",
    "    loader = {\n",
    "        'train' : train_loader,\n",
    "        'test' : test_loader\n",
    "    }\n",
    "    #inizializziamo il global step\n",
    "    global_step = 0\n",
    "    for e in range(epochs):\n",
    "        #iteriamo tra due modalità: train e test\n",
    "        for mode in ['train','test']:\n",
    "            loss_meter.reset(); acc_meter.reset()\n",
    "            model.train() if mode == 'train' else model.eval()\n",
    "            with torch.set_grad_enabled(mode=='train'): #abilitiamo i gradienti solo in training\n",
    "                for i, batch in enumerate(loader[mode]):\n",
    "                    x=batch[0].to(device) #\"portiamoli sul device corretto\"\n",
    "                    y=batch[1].to(device)\n",
    "                    output = model(x)\n",
    "                    \n",
    "                    #aggiorniamo il global_step\n",
    "                    #conterrà il numero di campioni visti durante il training\n",
    "                    n = x.shape[0] #numero di elementi nel batch\n",
    "                    global_step += n\n",
    "                    l = criterion(output,y)\n",
    "\n",
    "                    if mode=='train':\n",
    "                        l.backward()\n",
    "                        optimizer.step()\n",
    "                        optimizer.zero_grad()\n",
    "\n",
    "                    acc = accuracy_score(y.to('cpu'),output.to('cpu').max(1)[1])\n",
    "                    loss_meter.add(l.item(),n)\n",
    "                    acc_meter.add(acc,n)\n",
    "\n",
    "                    #loggiamo i risultati iterazione per iterazione solo durante il training\n",
    "                    if mode=='train':\n",
    "                        writer.add_scalar('loss/train', loss_meter.value(), global_step=global_step)\n",
    "                        writer.add_scalar('accuracy/train', acc_meter.value(), global_step=global_step)\n",
    "            #una volta finita l'epoca (sia nel caso di training che test, loggiamo le stime finali)\n",
    "            writer.add_scalar('loss/' + mode, loss_meter.value(), global_step=global_step)\n",
    "            writer.add_scalar('accuracy/' + mode, acc_meter.value(), global_step=global_step)\n",
    "            \n",
    "        #conserviamo i pesi del modello alla fine di un ciclo di training e test\n",
    "        torch.save(model.state_dict(),'%s-%d.pth'%(exp_name,e+1))\n",
    "    return model"
   ]
  },
  {
   "cell_type": "markdown",
   "metadata": {},
   "source": [
    "Alleniamo adesso il modello come segue:"
   ]
  },
  {
   "cell_type": "code",
   "execution_count": 47,
   "metadata": {},
   "outputs": [],
   "source": [
    "lr = 0.01\n",
    "epochs = 10\n",
    "momentum = 0.9\n",
    "\n",
    "transform = transforms.Compose([transforms.ToTensor(), \n",
    "                                transforms.Normalize((m,),(s,)),\n",
    "                               transforms.Lambda(lambda x: x.view(-1))])\n",
    "\n",
    "mnist_train = MNIST(root='data',train=True, download=True, transform=transform)\n",
    "mnist_test = MNIST(root='data',train=False, download=True, transform=transform)\n",
    "\n",
    "mnist_train_loader = DataLoader(mnist_train, batch_size=256, num_workers=2, shuffle=True)\n",
    "mnist_test_loader = DataLoader(mnist_test, batch_size=256, num_workers=2)\n",
    "\n",
    "model = SoftMaxRegressor(784, 10)\n",
    "\n",
    "model = train_classifier(model, mnist_train_loader, mnist_test_loader, 'SGD-softmax-regressor', lr=lr, epochs=epochs, momentum=momentum)"
   ]
  },
  {
   "cell_type": "markdown",
   "metadata": {},
   "source": [
    "Alla fine del training, su tensorboard dovremmo osservare un grafico del genere:\n",
    "\n",
    "<center>\n",
    "    <img width=70% src='img/mnist_sgd_tb.jpg'>\n",
    "</center>"
   ]
  },
  {
   "cell_type": "markdown",
   "metadata": {},
   "source": [
    "**Domanda 6**\n",
    "<img src=\"img/qmark.jpg\" style=\"width:150px; float:left;\"/>\n",
    "\n",
    "Guardando i grafici ottenuti, sembra possibile migliorare l'accuracy di test allenando il modello per un numero maggiore di epoche? Perché?"
   ]
  },
  {
   "cell_type": "markdown",
   "metadata": {},
   "source": [
    "**Risposta 6**\n",
    "<img style=\"float: left;width:150px;\" src=\"img/note.png\">\n",
    "\n",
    "<div style=\"background-color:#efefef; margin-left:150px; border:solid 1px; border-color:#dddddd; border-radius: 3px;\">\n",
    "<br><br><br><br><br><br>\n",
    "</div>"
   ]
  },
  {
   "cell_type": "markdown",
   "metadata": {},
   "source": [
    "Per valutare le performance del modello, dobbiamo prima ottenere le predizioni per ciascuno degli elementi di test. Per farlo, definiamo la seguente funzione:"
   ]
  },
  {
   "cell_type": "code",
   "execution_count": 48,
   "metadata": {},
   "outputs": [],
   "source": [
    "def test_classifier(model, loader):\n",
    "    device = \"cuda\" if torch.cuda.is_available() else \"cpu\"\n",
    "    model.to(device)\n",
    "    predictions, labels = [], []\n",
    "    for batch in loader:\n",
    "        x = batch[0].to(device)\n",
    "        y = batch[1].to(device)\n",
    "        output = model(x)\n",
    "        preds = output.to('cpu').max(1)[1].numpy()\n",
    "        labs = y.to('cpu').numpy()\n",
    "        predictions.extend(list(preds))\n",
    "        labels.extend(list(labs))\n",
    "    return np.array(predictions), np.array(labels)"
   ]
  },
  {
   "cell_type": "markdown",
   "metadata": {},
   "source": [
    "Possiamo dunque ottenere le predizioni di training e test e valutare il modello con le misure di valutazioni che preferiamo. Ad esempio, mediante accuracy:"
   ]
  },
  {
   "cell_type": "code",
   "execution_count": 49,
   "metadata": {},
   "outputs": [
    {
     "name": "stdout",
     "output_type": "stream",
     "text": [
      "Accuarcy di training: 0.9285\n",
      "Accuarcy di test: 0.9228\n"
     ]
    }
   ],
   "source": [
    "predictions_train, labels_train = test_classifier(model, mnist_train_loader)\n",
    "predictions_test, labels_test = test_classifier(model, mnist_test_loader)\n",
    "print(\"Accuarcy di training: %0.4f\"% accuracy_score(labels_train, predictions_train))\n",
    "print(\"Accuarcy di test: %0.4f\"% accuracy_score(labels_test, predictions_test))"
   ]
  },
  {
   "cell_type": "markdown",
   "metadata": {},
   "source": [
    "# 3 Multilayer Perceptron (MLP)\n",
    "\n",
    "Finora abbiamo visto dei semplici modelli lineari per classificazione e regressione. Tali modelli possono essere estesi in maniera molto semplice a modelli più \"profondi\", quali il MultiLayer Perceptron (MLP) mediante PyTorch.\n",
    "\n",
    "Una rete di tipo MLP è composta da tre livelli:\n",
    " * Un livello di \"input\" nel quale verranno presentati i dati in ingresso;\n",
    " * Un livello \"nascosto\" che conterrà delle rappresentazioni \"latenti\" dei dati;\n",
    " * Un livello di \"uscita\" che conterrà i dati di output (le etichette regresse).\n",
    " \n",
    "<center>\n",
    "<img src=\"img/mlp.png\" width=600px>\n",
    "</center>\n",
    "\n",
    "Il livello \"nascosto\" è detto tale in quanto durante il training non viene esercitato un controllo diretto sui valori che esso assume (la loss è applicata al layer di output). Si dice pertanto che il livello apprende una \"rappresentazione latente\".\n",
    "\n",
    "Dei tre livelli, gli unici due che contengono parametri che possono essere appresi sono il secondo e il terzo. Pertanto si dice spesso che un MLP di questo tipo contiene solo \"due layer\".\n",
    "\n",
    "Nel caso in cui volessimo implementare un regressore, l'ultimo livello del MLP conterrebbe i valori da regredire. Nel caso in cui volessimo implementare un regressore softmax (ovvero un classificatore), l'ultimo livello deve contenere un numero di nodi pari al numero di classi e i valori assunti da questi nodi sono da considerare come dei logit."
   ]
  },
  {
   "cell_type": "markdown",
   "metadata": {},
   "source": [
    "## 3.1 Fashion-MNIST\n",
    "Vedremo degli esempi di classificatori MLP su un'altro dataset simile a MNIST in dimensioni ma più complesso in termini di contenuto visuale: Fashion-MNIST.\n",
    "\n",
    "Fashion-MNIST è un dataset introdotto da Zalando nel 2017. Il dataset è progettato per essere compatto in maniera simile a MNIST-DIGITS, in modo da poter essere utilizzato in maniera agevole per effettuare esperimenti veloci (utili quando si vuole appurare la bontà di un'idea). Allo stesso tempo, il problema di classificazione proposto con il dataset è molto più complesso di quello relativo a MNIST-DIGITS. In maniera del tutto simile a MNIST-DIGITS, il dataset contiene $60,000$ immagini di training e $10,000$ immagini di testing grandi $28 \\times 28$ pixels. Le immagini sono suddivise in $10$ classi relative al mondo della moda, come riassunto di seguito.\n",
    "\n",
    "<center>\n",
    "<img width=800px src=\"img/fashion.png\">\n",
    "</center>"
   ]
  },
  {
   "cell_type": "markdown",
   "metadata": {},
   "source": [
    "Similmente a quanto avviene per MNIST-DIGITS, PyTorch mette a disposizioni un oggetto per permettere di caricare agevolmente i dati. Carichiamo il dataset e visualizziamo qualche esempio:"
   ]
  },
  {
   "cell_type": "code",
   "execution_count": 50,
   "metadata": {},
   "outputs": [
    {
     "name": "stdout",
     "output_type": "stream",
     "text": [
      "Downloading http://fashion-mnist.s3-website.eu-central-1.amazonaws.com/train-images-idx3-ubyte.gz to fashion/FashionMNIST/raw/train-images-idx3-ubyte.gz\n"
     ]
    },
    {
     "data": {
      "application/vnd.jupyter.widget-view+json": {
       "model_id": "eb12b5e4c8ea49ff8b22ef552602cec6",
       "version_major": 2,
       "version_minor": 0
      },
      "text/plain": [
       "HBox(children=(FloatProgress(value=1.0, bar_style='info', max=1.0), HTML(value='')))"
      ]
     },
     "metadata": {},
     "output_type": "display_data"
    },
    {
     "name": "stdout",
     "output_type": "stream",
     "text": [
      "Extracting fashion/FashionMNIST/raw/train-images-idx3-ubyte.gz to fashion/FashionMNIST/raw\n",
      "Downloading http://fashion-mnist.s3-website.eu-central-1.amazonaws.com/train-labels-idx1-ubyte.gz to fashion/FashionMNIST/raw/train-labels-idx1-ubyte.gz\n"
     ]
    },
    {
     "data": {
      "application/vnd.jupyter.widget-view+json": {
       "model_id": "c528a393f3cc4b0897a024d09e9f5da2",
       "version_major": 2,
       "version_minor": 0
      },
      "text/plain": [
       "HBox(children=(FloatProgress(value=1.0, bar_style='info', max=1.0), HTML(value='')))"
      ]
     },
     "metadata": {},
     "output_type": "display_data"
    },
    {
     "name": "stdout",
     "output_type": "stream",
     "text": [
      "Extracting fashion/FashionMNIST/raw/train-labels-idx1-ubyte.gz to fashion/FashionMNIST/raw\n",
      "Downloading http://fashion-mnist.s3-website.eu-central-1.amazonaws.com/t10k-images-idx3-ubyte.gz to fashion/FashionMNIST/raw/t10k-images-idx3-ubyte.gz\n"
     ]
    },
    {
     "data": {
      "application/vnd.jupyter.widget-view+json": {
       "model_id": "3c8d69185b4d44b5aff75d378683a3f5",
       "version_major": 2,
       "version_minor": 0
      },
      "text/plain": [
       "HBox(children=(FloatProgress(value=1.0, bar_style='info', max=1.0), HTML(value='')))"
      ]
     },
     "metadata": {},
     "output_type": "display_data"
    },
    {
     "name": "stdout",
     "output_type": "stream",
     "text": [
      "Extracting fashion/FashionMNIST/raw/t10k-images-idx3-ubyte.gz to fashion/FashionMNIST/raw\n",
      "Downloading http://fashion-mnist.s3-website.eu-central-1.amazonaws.com/t10k-labels-idx1-ubyte.gz to fashion/FashionMNIST/raw/t10k-labels-idx1-ubyte.gz\n"
     ]
    },
    {
     "data": {
      "application/vnd.jupyter.widget-view+json": {
       "model_id": "e37b535a7f0a46c794321999029f34cc",
       "version_major": 2,
       "version_minor": 0
      },
      "text/plain": [
       "HBox(children=(FloatProgress(value=1.0, bar_style='info', max=1.0), HTML(value='')))"
      ]
     },
     "metadata": {},
     "output_type": "display_data"
    },
    {
     "name": "stdout",
     "output_type": "stream",
     "text": [
      "Extracting fashion/FashionMNIST/raw/t10k-labels-idx1-ubyte.gz to fashion/FashionMNIST/raw\n",
      "Processing...\n",
      "Done!\n",
      "\n",
      "\n",
      "\n"
     ]
    },
    {
     "data": {
      "image/png": "[encoded data removed]",
      "text/plain": [
       "<Figure size 1008x360 with 14 Axes>"
      ]
     },
     "metadata": {
      "needs_background": "light"
     },
     "output_type": "display_data"
    }
   ],
   "source": [
    "from torchvision.datasets import FashionMNIST\n",
    "from matplotlib import pyplot as plt\n",
    "from torchvision import transforms\n",
    "\n",
    "fashion_train = FashionMNIST(root='fashion',train=True, download=True, transform=transforms.ToTensor())\n",
    "fashion_test = FashionMNIST(root='fashion',train=False, download=True, transform=transforms.ToTensor())\n",
    "\n",
    "plt.figure(figsize=(14,5))\n",
    "for i in range(14):\n",
    "    plt.subplot(2,7,i+1)\n",
    "    plt.title(\"Classe %d\" % fashion_train[i][1])\n",
    "    plt.imshow(fashion_train[i][0].squeeze().numpy(),cmap='gray') \n",
    "    #`squeeze` serve a trasformare il tensore 1 x 28 x 28 in un tensore 28 x 28\n",
    "plt.show()"
   ]
  },
  {
   "cell_type": "markdown",
   "metadata": {},
   "source": [
    "**Domanda 7**\n",
    "<img src=\"img/qmark.jpg\" style=\"width:150px; float:left;\"/>\n",
    "\n",
    "Cosa rende MNIST-Fashion più \"complesso\" di MNIST-DIGITS? Fare un esempio considerando qualcuno dei campioni visualizzati."
   ]
  },
  {
   "cell_type": "markdown",
   "metadata": {},
   "source": [
    "**Risposta 7**\n",
    "<img style=\"float: left;width:150px;\" src=\"img/note.png\">\n",
    "\n",
    "<div style=\"background-color:#efefef; margin-left:150px; border:solid 1px; border-color:#dddddd; border-radius: 3px;\">\n",
    "<br><br><br><br><br><br>\n",
    "</div>"
   ]
  },
  {
   "cell_type": "markdown",
   "metadata": {},
   "source": [
    "Definiamo i dataloaders con le opportune trasformazioni. Utilizzeremo la media e deviazione standard relative al dataset, ovvero $0.2860$ e $0.3530$ rispettivamente (sono state pre-computate):"
   ]
  },
  {
   "cell_type": "code",
   "execution_count": 51,
   "metadata": {},
   "outputs": [
    {
     "name": "stdout",
     "output_type": "stream",
     "text": [
      "Downloading http://fashion-mnist.s3-website.eu-central-1.amazonaws.com/train-images-idx3-ubyte.gz to data/FashionMNIST/raw/train-images-idx3-ubyte.gz\n"
     ]
    },
    {
     "data": {
      "application/vnd.jupyter.widget-view+json": {
       "model_id": "df8d23110a2849b8bcc39f1244867346",
       "version_major": 2,
       "version_minor": 0
      },
      "text/plain": [
       "HBox(children=(FloatProgress(value=1.0, bar_style='info', max=1.0), HTML(value='')))"
      ]
     },
     "metadata": {},
     "output_type": "display_data"
    },
    {
     "name": "stdout",
     "output_type": "stream",
     "text": [
      "Extracting data/FashionMNIST/raw/train-images-idx3-ubyte.gz to data/FashionMNIST/raw\n",
      "Downloading http://fashion-mnist.s3-website.eu-central-1.amazonaws.com/train-labels-idx1-ubyte.gz to data/FashionMNIST/raw/train-labels-idx1-ubyte.gz\n"
     ]
    },
    {
     "data": {
      "application/vnd.jupyter.widget-view+json": {
       "model_id": "69af57e8294c4a92a02c7b80b9c3968a",
       "version_major": 2,
       "version_minor": 0
      },
      "text/plain": [
       "HBox(children=(FloatProgress(value=1.0, bar_style='info', max=1.0), HTML(value='')))"
      ]
     },
     "metadata": {},
     "output_type": "display_data"
    },
    {
     "name": "stdout",
     "output_type": "stream",
     "text": [
      "Extracting data/FashionMNIST/raw/train-labels-idx1-ubyte.gz to data/FashionMNIST/raw\n",
      "Downloading http://fashion-mnist.s3-website.eu-central-1.amazonaws.com/t10k-images-idx3-ubyte.gz to data/FashionMNIST/raw/t10k-images-idx3-ubyte.gz\n"
     ]
    },
    {
     "data": {
      "application/vnd.jupyter.widget-view+json": {
       "model_id": "70a5251b13e14e7daa0c95ca6df1dd12",
       "version_major": 2,
       "version_minor": 0
      },
      "text/plain": [
       "HBox(children=(FloatProgress(value=1.0, bar_style='info', max=1.0), HTML(value='')))"
      ]
     },
     "metadata": {},
     "output_type": "display_data"
    },
    {
     "name": "stdout",
     "output_type": "stream",
     "text": [
      "Extracting data/FashionMNIST/raw/t10k-images-idx3-ubyte.gz to data/FashionMNIST/raw\n",
      "Downloading http://fashion-mnist.s3-website.eu-central-1.amazonaws.com/t10k-labels-idx1-ubyte.gz to data/FashionMNIST/raw/t10k-labels-idx1-ubyte.gz\n"
     ]
    },
    {
     "data": {
      "application/vnd.jupyter.widget-view+json": {
       "model_id": "1db4bc103fa143739c980e46c58fd177",
       "version_major": 2,
       "version_minor": 0
      },
      "text/plain": [
       "HBox(children=(FloatProgress(value=1.0, bar_style='info', max=1.0), HTML(value='')))"
      ]
     },
     "metadata": {},
     "output_type": "display_data"
    },
    {
     "name": "stdout",
     "output_type": "stream",
     "text": [
      "Extracting data/FashionMNIST/raw/t10k-labels-idx1-ubyte.gz to data/FashionMNIST/raw\n",
      "Processing...\n",
      "Done!\n"
     ]
    }
   ],
   "source": [
    "transform = transforms.Compose([transforms.ToTensor(), #conversione in tensore\n",
    "                                #normalizzazione per media e deviazione standard \n",
    "                                #(0.2860 e 0.3530 sono media e dev standard del dataset)\n",
    "                                transforms.Normalize((0.2860,),(0.3530,)),\n",
    "                                #trasformiamo l'immagine 28x28 in un vettore di 784 componenti\n",
    "                               transforms.Lambda(lambda x: x.view(-1))])\n",
    "\n",
    "#ridefiniamo i dataset specificando le trasformazioni\n",
    "fashion_train = FashionMNIST(root='data',train=True, download=True, transform=transform)\n",
    "fashion_test = FashionMNIST(root='data',train=False, download=True, transform=transform)\n",
    "\n",
    "#definiamo i dataloaders\n",
    "fashion_train_loader = DataLoader(fashion_train, batch_size=256, num_workers=2, shuffle=True)\n",
    "#shuffle permette di accedere ai dati in maniera casuale\n",
    "fashion_test_loader = DataLoader(fashion_test, batch_size=256, num_workers=2)"
   ]
  },
  {
   "cell_type": "markdown",
   "metadata": {},
   "source": [
    "Iniziamo ad esplorare il dataset allenando un regressore softmax con il codice di training scritto in precedenza:"
   ]
  },
  {
   "cell_type": "code",
   "execution_count": 52,
   "metadata": {},
   "outputs": [
    {
     "name": "stdout",
     "output_type": "stream",
     "text": [
      "\n",
      "\n"
     ]
    }
   ],
   "source": [
    "fashion_softmax_regressor = SoftMaxRegressor(784, 10)\n",
    "fashion_softmax_regressor = train_classifier(fashion_softmax_regressor,fashion_train_loader, \\\n",
    "                                             fashion_test_loader, 'fashion_softmax_regressor',\\\n",
    "                                             lr=0.01,epochs=10)"
   ]
  },
  {
   "cell_type": "markdown",
   "metadata": {},
   "source": [
    "Otteniamo accuracy di training e test:"
   ]
  },
  {
   "cell_type": "code",
   "execution_count": 53,
   "metadata": {},
   "outputs": [
    {
     "name": "stdout",
     "output_type": "stream",
     "text": [
      "Fashion Softmax Regressor - Accuarcy di training: 0.8613\n",
      "Fashion Softmax Regressor - Accuarcy di test: 0.8377\n"
     ]
    }
   ],
   "source": [
    "predictions_train_fashion_softmax_regressor, labels_train_fashion = test_classifier(fashion_softmax_regressor, fashion_train_loader)\n",
    "predictions_test_fashion_softmax_regressor, labels_test_fashion = test_classifier(fashion_softmax_regressor, fashion_test_loader)\n",
    "print(\"Fashion Softmax Regressor - Accuarcy di training: %0.4f\"% accuracy_score(labels_train_fashion, predictions_train_fashion_softmax_regressor))\n",
    "print(\"Fashion Softmax Regressor - Accuarcy di test: %0.4f\"% accuracy_score(labels_test_fashion, predictions_test_fashion_softmax_regressor))"
   ]
  },
  {
   "cell_type": "markdown",
   "metadata": {},
   "source": [
    "**Domanda 8**\n",
    "<img src=\"img/qmark.jpg\" style=\"width:150px; float:left;\"/>\n",
    "\n",
    "Si osservino i grafici ottenuti su tensorboard. Il modello è arrivato a convergenza? E' possibile ottenere risultati migliori allenandolo per più epoche?"
   ]
  },
  {
   "cell_type": "markdown",
   "metadata": {},
   "source": [
    "**Risposta 8**\n",
    "<img style=\"float: left;width:150px;\" src=\"img/note.png\">\n",
    "\n",
    "<div style=\"background-color:#efefef; margin-left:150px; border:solid 1px; border-color:#dddddd; border-radius: 3px;\">\n",
    "<br><br><br><br><br><br>\n",
    "</div>"
   ]
  },
  {
   "cell_type": "markdown",
   "metadata": {},
   "source": [
    "## 3.1 Classificatore MLP\n",
    "Vediamo come implementare un semplice classificatore MLP. Utilizzeremo la tangente iperbolica come funzione di attivazione:"
   ]
  },
  {
   "cell_type": "code",
   "execution_count": 54,
   "metadata": {},
   "outputs": [],
   "source": [
    "class MLPClassifier(nn.Module):\n",
    "    def __init__(self, in_features, hidden_units, out_classes):\n",
    "        \"\"\"Costruisce un classificatore MLP.\n",
    "            Input:\n",
    "                in_features: numero di feature in input (es. 784)\n",
    "                hidden_units: numero di unità nel livello nascosto (es. 512)\n",
    "                out_classes: numero di classi in uscita (es. 10)\"\"\"\n",
    "        super(MLPClassifier, self).__init__() \n",
    "        self.hidden_layer = nn.Linear(in_features, hidden_units)\n",
    "        self.activation = nn.Tanh()\n",
    "        self.output_layer = nn.Linear(hidden_units, out_classes)\n",
    "        \n",
    "    def forward(self,x):\n",
    "        hidden_representation = self.hidden_layer(x)\n",
    "        hidden_representation = self.activation(hidden_representation)\n",
    "        scores = self.output_layer(hidden_representation)\n",
    "        return scores"
   ]
  },
  {
   "cell_type": "markdown",
   "metadata": {},
   "source": [
    "**Domanda 9**\n",
    "<img src=\"img/qmark.jpg\" style=\"width:150px; float:left;\"/>\n",
    "\n",
    "Si confronti il codice scritto sopra con quello del SoftMax regressor. Quali sono le principali differenze?"
   ]
  },
  {
   "cell_type": "markdown",
   "metadata": {},
   "source": [
    "**Risposta 9**\n",
    "<img style=\"float: left;width:150px;\" src=\"img/note.png\">\n",
    "\n",
    "<div style=\"background-color:#efefef; margin-left:150px; border:solid 1px; border-color:#dddddd; border-radius: 3px;\">\n",
    "<br><br><br><br><br><br>\n",
    "</div>"
   ]
  },
  {
   "cell_type": "markdown",
   "metadata": {},
   "source": [
    "Alleniamo adesso il classificatore MLP su Fashion-MNIST"
   ]
  },
  {
   "cell_type": "code",
   "execution_count": 55,
   "metadata": {},
   "outputs": [],
   "source": [
    "fashion_mlp_classifier = MLPClassifier(784, 512, 10)\n",
    "fashion_mlp_classifier = train_classifier(fashion_mlp_classifier,fashion_train_loader, \\\n",
    "                                             fashion_test_loader, 'fashion_mlp_classifier',\\\n",
    "                                             lr=0.01,epochs=10)"
   ]
  },
  {
   "cell_type": "markdown",
   "metadata": {},
   "source": [
    "Calcoliamo accuracy di training e test:"
   ]
  },
  {
   "cell_type": "code",
   "execution_count": 56,
   "metadata": {},
   "outputs": [
    {
     "name": "stdout",
     "output_type": "stream",
     "text": [
      "Fashion MLP Classifier - Accuarcy di training: 0.8979\n",
      "Fashion MLP Classifier - Accuarcy di test: 0.8748\n"
     ]
    }
   ],
   "source": [
    "predictions_train_fashion_mlp_classifier, labels_train = test_classifier(fashion_mlp_classifier, fashion_train_loader)\n",
    "predictions_test_fashion_mlp_classifier, labels_test = test_classifier(fashion_mlp_classifier, fashion_test_loader)\n",
    "print(\"Fashion MLP Classifier - Accuarcy di training: %0.4f\"% accuracy_score(labels_train, predictions_train_fashion_mlp_classifier))\n",
    "print(\"Fashion MLP Classifier - Accuarcy di test: %0.4f\"% accuracy_score(labels_test, predictions_test_fashion_mlp_classifier))"
   ]
  },
  {
   "cell_type": "markdown",
   "metadata": {},
   "source": [
    "**Domanda 10**\n",
    "<img src=\"img/qmark.jpg\" style=\"width:150px; float:left;\"/>\n",
    "\n",
    "Si confrontino le performance ottenute dal MLP con quelle ottenute dal Softmax regeressor. Quale dei due modelli raggiunge risultati migliori?"
   ]
  },
  {
   "cell_type": "markdown",
   "metadata": {},
   "source": [
    "**Risposta 10**\n",
    "<img style=\"float: left;width:150px;\" src=\"img/note.png\">\n",
    "\n",
    "<div style=\"background-color:#efefef; margin-left:150px; border:solid 1px; border-color:#dddddd; border-radius: 3px;\">\n",
    "<br><br><br><br><br><br>\n",
    "</div>"
   ]
  },
  {
   "cell_type": "markdown",
   "metadata": {},
   "source": [
    "## 3.2 Classificatore MLP \"Profondo\" (Deep MLP)\n",
    "E' possibile costruire un classificatore MLP con un numero arbitrario di livelli. In generere, quando il MLP ha più di 3 livelli, esso viene detto \"prondo\" (deep). Ad esempio un MLP con due livelli nascosti (4 livelli in tutto) può essere rappresentato come segue:\n",
    "\n",
    "<center>\n",
    "<img src=\"img/deep_mlp.png\" width=600px>\n",
    "</center>"
   ]
  },
  {
   "cell_type": "markdown",
   "metadata": {},
   "source": [
    "Si noti che ad ogni livello nascosto segue la funzione di attivazione."
   ]
  },
  {
   "cell_type": "markdown",
   "metadata": {},
   "source": [
    "**Domanda 11**\n",
    "<img src=\"img/qmark.jpg\" style=\"width:150px; float:left;\"/>\n",
    "\n",
    "Perché è necessario inserire le funzioni di attivazione dopo ciascun livello nascosto? Potremmo farne a meno?"
   ]
  },
  {
   "cell_type": "markdown",
   "metadata": {},
   "source": [
    "**Risposta 11**\n",
    "<img style=\"float: left;width:150px;\" src=\"img/note.png\">\n",
    "\n",
    "<div style=\"background-color:#efefef; margin-left:150px; border:solid 1px; border-color:#dddddd; border-radius: 3px;\">\n",
    "<br><br><br><br><br><br>\n",
    "</div>"
   ]
  },
  {
   "cell_type": "markdown",
   "metadata": {},
   "source": [
    "Implementiamo il classificatore MLP profondo. Dato che in un MLP l'output di un livello è sempre l'input del livello successivo, possiamo implementare in maniera compatta il modello utilizzando il modulo `nn.Sequential` che permette di connettere moduli in cascata. Ad esempio, il seguente codice:\n",
    "\n",
    "```python\n",
    "y = modulo1(x)\n",
    "z = modulo2(y)\n",
    "h = modulo3(h)\n",
    "```\n",
    "\n",
    "è implementato come segue con `nn.Sequential`:\n",
    "\n",
    "```python\n",
    "seq = nn.Sequential(modulo1, modulo2, modulo3)\n",
    "h = seq(x)\n",
    "```\n",
    "\n",
    "Definiamo la classe `DeepMLPClassifier`:"
   ]
  },
  {
   "cell_type": "code",
   "execution_count": 57,
   "metadata": {},
   "outputs": [],
   "source": [
    "class DeepMLPClassifier(nn.Module):\n",
    "    def __init__(self, in_features, hidden_units, out_classes):\n",
    "        \"\"\"Costruisce un classificatore MLP \"profondo\".\n",
    "            Input:\n",
    "                in_features: numero di feature in input (es. 784)\n",
    "                hidden_units: numero di unità nei livelli nascosti (es. 512)\n",
    "                out_classes: numero di classi in uscita (es. 10)\"\"\"\n",
    "        super(DeepMLPClassifier, self).__init__() \n",
    "        \n",
    "        self.model = nn.Sequential(nn.Linear(in_features, hidden_units),\n",
    "                                               nn.Tanh(),\n",
    "                                               nn.Linear(hidden_units, hidden_units),\n",
    "                                               nn.Tanh(),\n",
    "                                               nn.Linear(hidden_units, out_classes))\n",
    "        \n",
    "    def forward(self,x):\n",
    "        return self.model(x)"
   ]
  },
  {
   "cell_type": "markdown",
   "metadata": {},
   "source": [
    "Adesso alleniamo il modello su Fashion-MNIST:"
   ]
  },
  {
   "cell_type": "code",
   "execution_count": 58,
   "metadata": {},
   "outputs": [],
   "source": [
    "fashion_deep_mlp_classifier = DeepMLPClassifier(784, 512, 10)\n",
    "fashion_deep_mlp_classifier = train_classifier(fashion_deep_mlp_classifier,fashion_train_loader, \\\n",
    "                                             fashion_test_loader, 'fashion_deep_mlp_classifier',\\\n",
    "                                             lr=0.01,epochs=10)"
   ]
  },
  {
   "cell_type": "markdown",
   "metadata": {},
   "source": [
    "Calcoliamo adesso accuracy di training e test:"
   ]
  },
  {
   "cell_type": "code",
   "execution_count": 59,
   "metadata": {},
   "outputs": [
    {
     "name": "stdout",
     "output_type": "stream",
     "text": [
      "Fashion Deep MLP Classifier - Accuarcy di training: 0.8992\n",
      "Fashion Deep MLP Classifier - Accuarcy di test: 0.8716\n"
     ]
    }
   ],
   "source": [
    "predictions_train_fashion_deep_mlp_classifier, labels_train = test_classifier(fashion_deep_mlp_classifier, fashion_train_loader)\n",
    "predictions_test_fashion_deep_mlp_classifier, labels_test = test_classifier(fashion_deep_mlp_classifier, fashion_test_loader)\n",
    "print(\"Fashion Deep MLP Classifier - Accuarcy di training: %0.4f\"% accuracy_score(labels_train, predictions_train_fashion_deep_mlp_classifier))\n",
    "print(\"Fashion Deep MLP Classifier - Accuarcy di test: %0.4f\"% accuracy_score(labels_test, predictions_test_fashion_deep_mlp_classifier))"
   ]
  },
  {
   "cell_type": "markdown",
   "metadata": {},
   "source": [
    "**Domanda 12**\n",
    "<img src=\"img/qmark.jpg\" style=\"width:150px; float:left;\"/>\n",
    "\n",
    "Si confrontino i risultati con quelli ottenuti mediante MLP. Quale dei due modelli raggiunge risultati migliori?"
   ]
  },
  {
   "cell_type": "markdown",
   "metadata": {},
   "source": [
    "**Risposta 12**\n",
    "<img style=\"float: left;width:150px;\" src=\"img/note.png\">\n",
    "\n",
    "<div style=\"background-color:#efefef; margin-left:150px; border:solid 1px; border-color:#dddddd; border-radius: 3px;\">\n",
    "<br><br><br><br><br><br>\n",
    "</div>"
   ]
  },
  {
   "cell_type": "markdown",
   "metadata": {},
   "source": [
    "# 4 Costruzione di un Oggetto Dataset Personalizzato\n",
    "\n",
    "Abbiamo visto che PyTorch mette a disposizione alcuni oggetti dataset (ad esempio MNIST) che permettono di caricare determinati set di dati. Se vogliamo allenare un algoritmo su un set di dati non incluso in PyTorch, dobbiamo costruire un oggetto Dataset che ci permetta di caricare i dati. Inizieremo considerando il dataset disponibile al seguente URL:\n",
    "\n",
    "<center>http://people.csail.mit.edu/torralba/code/spatialenvelope/</center>\n",
    "\n",
    "\n",
    "Si tratta di un dataset contenente $2688$ immagini a colori di dimensioni $256 \\times 256$, suddivise in $8$ classi a seconda del tipo di scena ritratto:\n",
    " 1. coast\n",
    " * forest\n",
    " * highway\n",
    " * insidecity\n",
    " * mountain\n",
    " * opencountry\n",
    " * street\n",
    " * tallbuilding\n",
    " \n",
    "Il dataset si può scaricare da:\n",
    "<center><a href=\"http://people.csail.mit.edu/torralba/code/spatialenvelope/spatial_envelope_256x256_static_8outdoorcategories.zip\">http://people.csail.mit.edu/torralba/code/spatialenvelope/spatial_envelope_256x256_static_8outdoorcategories.zip</a>\n",
    "</center>\n",
    "\n",
    "<br>\n",
    "\n",
    "Scarichiamo il dataset e estraiamo i file nella cartella `8scenes` nella directory di lavoro. La cartella conterrà le $2688$ immagini a colore. La classe di appartenenza di ogni immagine è inclusa nel nome del file (ad es. `coast_bea9.jpg`). Il dataset non è suddiviso in training e test set. Per lavorare sullo stesso training/testing split, scarichiamo l'archivio zip disponibile all'URL:\n",
    "\n",
    "<center><a href=\"http://iplab.dmi.unict.it/furnari/downloads/8scenes_train_test_split.zip\">http://iplab.dmi.unict.it/furnari/downloads/8scenes_train_test_split.zip</a>\n",
    "</center>\n",
    "<br>\n",
    "\n",
    "Estraiamo il contenuto dell'archivio all'interno della cartella `8scenes`. L'archivio contiene tre file:\n",
    "\n",
    " * `train.txt`: contiene i nomi di $2188$ immagini di training con le relative etichette in formato numerico ($0-7$);\n",
    " * `test.txt`: contiene i nomi delle rimanenti $500$ immagini di testing con le relative etichette in formato numerico;\n",
    " * `classes.txt`: contiene i nomi delle classi. In particolare, la riga i-esima conterrà il nome della classe i-esima (dunque il nome della classe indicata come $0$ in `train.txt` e `test.txt` sarà contenuto nella prima riga del file."
   ]
  },
  {
   "cell_type": "markdown",
   "metadata": {},
   "source": [
    "Costruiremo adesso un oggetto Dataset che ci permetta di caricare le immagini di training e test. Ciò si può fare in maniera molto naturale in PyTorch ereditando dalla classe `Dataset`. Ogni oggetto `Dataset` deve contenere almeno i seguenti metodi:\n",
    " * Un costruttore;\n",
    " * Il metodo `__len__`, che restituisce il numero di elementi contenuti nel dataset;\n",
    " * Il metodo `__getitem__`, che prende in input un indice $i$ e restituisce l'$i$-esimo elemento del dataset."
   ]
  },
  {
   "cell_type": "code",
   "execution_count": 60,
   "metadata": {},
   "outputs": [],
   "source": [
    "from torch.utils.data.dataset import Dataset\n",
    "from PIL import Image\n",
    "from os import path\n",
    "\n",
    "class ScenesDataset(Dataset):\n",
    "    \"\"\"Implementa l'oggetto ScenesDataset che ci permette di caricare\n",
    "    le immagini del dataset 8 Scenes\"\"\"\n",
    "    def __init__(self,base_path,txt_list,transform=None):\n",
    "        \"\"\"Input:\n",
    "            base_path: il path alla cartella contenente le immagini\n",
    "            txt_list: il path al file di testo contenente la lista delle immagini\n",
    "                        con le relative etichette. Ad esempio train.txt o test.txt.\n",
    "            transform: implementeremo il dataset in modo che esso supporti le trasformazioni\"\"\"\n",
    "        #conserviamo il path alla cartella contenente le immagini\n",
    "        self.base_path=base_path \n",
    "        #carichiamo la lista dei file\n",
    "        #sarà una matrice con n righe (numero di immagini) e 2 colonne (path, etichetta)\n",
    "        self.images = np.loadtxt(txt_list,dtype=str,delimiter=',')\n",
    "        #conserviamo il riferimento alla trasformazione da applicare\n",
    "        self.transform = transform\n",
    "\n",
    "    def __getitem__(self, index):\n",
    "        #recuperiamo il path dell'immagine di indice index e la relativa etichetta\n",
    "        f,c = self.images[index]\n",
    "        \n",
    "        #carichiamo l'immagine utilizzando PIL\n",
    "        im = Image.open(path.join(self.base_path, f))\n",
    "        \n",
    "        #se la trasfromazione è definita, applichiamola all'immagine\n",
    "        if self.transform is not None:\n",
    "            im = self.transform(im)\n",
    "        \n",
    "        #convertiamo l'etichetta in un intero\n",
    "        label = int(c)\n",
    "\n",
    "        #restituiamo un dizionario contenente immagine etichetta\n",
    "        return {'image' : im, 'label':label}\n",
    "\n",
    "    #restituisce il numero di campioni: la lunghezza della lista \"images\"\n",
    "    def __len__(self):\n",
    "        return len(self.images)"
   ]
  },
  {
   "cell_type": "markdown",
   "metadata": {},
   "source": [
    "Proviamo adesso a istanziare il dataset per caricare dei dati:"
   ]
  },
  {
   "cell_type": "code",
   "execution_count": 61,
   "metadata": {},
   "outputs": [
    {
     "name": "stdout",
     "output_type": "stream",
     "text": [
      "torch.Size([3, 256, 256])\n",
      "1\n"
     ]
    }
   ],
   "source": [
    "dataset = ScenesDataset('8scenes','8scenes/train.txt',transform=transforms.ToTensor())\n",
    "sample = dataset[0]\n",
    "#l'immagine è 3 x 256 x 256 perché è una immagine a colori\n",
    "print(sample['image'].shape)\n",
    "print(sample['label'])"
   ]
  },
  {
   "cell_type": "markdown",
   "metadata": {},
   "source": [
    "Le immagini sono di dimensione $256 \\times 256$. Per ridurre i tempi computazionali, potremmo voler lavorare con immagini più piccole. Possiamo utilizzare la trasformazione `Resize` per ridimensionarle a una dimensione predefinita, ad esempio $32 \\times 32$:"
   ]
  },
  {
   "cell_type": "code",
   "execution_count": 62,
   "metadata": {},
   "outputs": [
    {
     "name": "stdout",
     "output_type": "stream",
     "text": [
      "torch.Size([3, 32, 32])\n",
      "1\n"
     ]
    }
   ],
   "source": [
    "transform = transforms.Compose([transforms.Resize(32),transforms.ToTensor()])\n",
    "dataset = ScenesDataset('8scenes','8scenes/train.txt',transform=transform)\n",
    "sample = dataset[0]\n",
    "print(sample['image'].shape)\n",
    "print(sample['label'])"
   ]
  },
  {
   "cell_type": "markdown",
   "metadata": {},
   "source": [
    "Per poter normalizzare i dati, calcoliamo medie e varianze di tutti i pixel contenuti nelle immagini del dataset. Nel caso di immagini a colori, tali valori sono spesso calcolati canale per canale:"
   ]
  },
  {
   "cell_type": "code",
   "execution_count": 63,
   "metadata": {},
   "outputs": [],
   "source": [
    "dataset = ScenesDataset('8scenes','8scenes/train.txt',transform=transforms.ToTensor())\n",
    "m = np.zeros(3)\n",
    "for sample in dataset:\n",
    "    m+=sample['image'].sum(1).sum(1).numpy() #accumuliamo la somma dei pixel canale per canale\n",
    "\n",
    "#dividiamo per il numero di immagini moltiplicato per il numero di pixel\n",
    "m=m/(len(dataset)*256*256)\n",
    "    \n",
    "#procedura simile per calcolare la deviazione standard\n",
    "s = np.zeros(3)\n",
    "for sample in dataset:\n",
    "    s+=((sample['image']-torch.Tensor(m).view(3,1,1))**2).sum(1).sum(1).numpy()\n",
    "    \n",
    "s=np.sqrt(s/(len(dataset)*256*256))"
   ]
  },
  {
   "cell_type": "markdown",
   "metadata": {},
   "source": [
    "Medie e deviazioni standard per i tre canali sono:"
   ]
  },
  {
   "cell_type": "code",
   "execution_count": 64,
   "metadata": {},
   "outputs": [
    {
     "name": "stdout",
     "output_type": "stream",
     "text": [
      "Medie [0.42478882 0.45170449 0.4486707 ]\n",
      "Dev.Std. [0.25579564 0.2465238  0.27658251]\n"
     ]
    }
   ],
   "source": [
    "print(\"Medie\",m)\n",
    "print(\"Dev.Std.\",s)"
   ]
  },
  {
   "cell_type": "markdown",
   "metadata": {},
   "source": [
    "Possiamo inserire la corretta normalizzazione tra le trasformazioni. Ad esempio:"
   ]
  },
  {
   "cell_type": "code",
   "execution_count": 65,
   "metadata": {},
   "outputs": [
    {
     "name": "stdout",
     "output_type": "stream",
     "text": [
      "torch.Size([3072])\n",
      "1\n"
     ]
    }
   ],
   "source": [
    "transform = transforms.Compose([transforms.Resize(32),\n",
    "                                transforms.ToTensor(),\n",
    "                                transforms.Normalize(m,s),\n",
    "                               transforms.Lambda(lambda x: x.view(-1))])\n",
    "dataset = ScenesDataset('8scenes','8scenes/train.txt',transform=transform)\n",
    "\n",
    "print(dataset[0]['image'].shape)\n",
    "print(dataset[0]['label'])"
   ]
  },
  {
   "cell_type": "markdown",
   "metadata": {},
   "source": [
    "# Esercizi"
   ]
  },
  {
   "cell_type": "markdown",
   "metadata": {},
   "source": [
    "<img src=\"img/code.png\" style=\"width:150px; margin-right:30px; float:left\">\n",
    "\n",
    "**Esercizio 1**\n",
    "\n",
    "Si modifichi il codice che implementa il regressore softmax sul dataset degli Iris di Fisher per utilizzare la loss:\n",
    "$\\mathcal{L}_\\theta(\\mathbf{x},j) = - \\log f(\\mathbf{x})_j$. Si provi a ripetere l'addestramento per diversi learning rate e si confrontino i risultati ottenuti con la loss vista nel laboratorio. Ci sono delle differenze?"
   ]
  },
  {
   "cell_type": "markdown",
   "metadata": {},
   "source": [
    "<img src=\"img/code.png\" style=\"width:150px; margin-right:30px; float:left\">\n",
    "\n",
    "**Esercizio 2**\n",
    "\n",
    "Si confrontino le performance di un classificatore softmax con quelle di un classificatore one-vs-all che si basa su un regressore logistico nel caso delle iris di Fisher."
   ]
  },
  {
   "cell_type": "markdown",
   "metadata": {},
   "source": [
    "<img src=\"img/code.png\" style=\"width:150px; margin-right:30px; float:left\">\n",
    "\n",
    "**Esercizio 3**\n",
    "\n",
    "I modelli visti in questo laboratorio sono stati allenati per poche epoche. Ripetere l'analisi effettuata in questo laboratorio allenando i modelli per un numero di epoche sufficiente a farli convergere (si analizzino i grafici per dedurre quando i modelli sono arrivati a convergenza). Si confrontino i numeri di epoche necessarie per far convergere i diversi modelli. Quali ne richiedono di più? Quali ne richiedono di meno? Si valutino e confrontino le performance di tutti i modelli con gli score $F_1$ per classe e con la media di questi valor ($mF_1$), con le matrici di confusione e mediante l'accuracy."
   ]
  },
  {
   "cell_type": "markdown",
   "metadata": {},
   "source": [
    "<img src=\"img/code.png\" style=\"width:150px; margin-right:30px; float:left\">\n",
    "\n",
    "**Esercizio 4**\n",
    "\n",
    "Si allenino un regressore lineare, un regressore MLP e un regressore MLP con due livelli nascosti sul dataset di regressore Boston. Si confrontino le performance dei modelli. Quale ottiene risultati più accurati?"
   ]
  },
  {
   "cell_type": "markdown",
   "metadata": {},
   "source": [
    "<img src=\"img/code.png\" style=\"width:150px; margin-right:30px; float:left\">\n",
    "\n",
    "**Esercizio 5**\n",
    "\n",
    "Si ripeta l'analisi fatta su Fashion-MNIST con Classificatore MLP e Deep-MLP sul dataset MNIST. Ri raggiungono conclusioni simili?"
   ]
  },
  {
   "cell_type": "markdown",
   "metadata": {},
   "source": [
    "<img src=\"img/code.png\" style=\"width:150px; margin-right:30px; float:left\">\n",
    "\n",
    "**Esercizio 6**\n",
    "\n",
    "Si costruisca un oggetto Dataset per caricare i dati utili al proprio progetto di Machine Learning. Si calcolino medie e deviazioni standard utili a normalizzare i dati."
   ]
  },
  {
   "cell_type": "markdown",
   "metadata": {},
   "source": [
    "# References\n",
    "\n",
    " * Documentazione di PyTorch. http://pytorch.org/docs/stable/index.html"
   ]
  }
 ],
 "metadata": {
  "anaconda-cloud": {},
  "kernelspec": {
   "display_name": "Python 3",
   "language": "python",
   "name": "python3"
  },
  "language_info": {
   "codemirror_mode": {
    "name": "ipython",
    "version": 3
   },
   "file_extension": ".py",
   "mimetype": "text/x-python",
   "name": "python",
   "nbconvert_exporter": "python",
   "pygments_lexer": "ipython3",
   "version": "3.7.3"
  }
 },
 "nbformat": 4,
 "nbformat_minor": 2
}
