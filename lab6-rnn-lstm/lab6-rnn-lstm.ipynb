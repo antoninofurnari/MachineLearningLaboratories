{
 "cells": [
  {
   "cell_type": "markdown",
   "metadata": {},
   "source": [
    "<style>\n",
    ".rendered_html * + p, .rendered_html p {\n",
    "    text-align:justify;\n",
    "}\n",
    ".print {\n",
    "    display:none;\n",
    "}\n",
    ".highlight {\n",
    "    background:white;\n",
    "}\n",
    "@media print {\n",
    " a[href]:after {\n",
    "     content: \"\"\n",
    " }\n",
    " .noprint {\n",
    "  display:none\n",
    "  }\n",
    "  .print {\n",
    "        display:block;\n",
    "    }\n",
    "}\n",
    "</style>\n",
    "<head>\n",
    "    <base target=\"_blank\">\n",
    "</head>\n",
    "<div style=\"text-align:left\"><a href=\"http://web.dmi.unict.it/\"><img src=\"img/dmi.png\" style=\"width:300px; margin:0;\"></a></div>"
   ]
  },
  {
   "cell_type": "markdown",
   "metadata": {},
   "source": [
    "<a href=\"http://iplab.dmi.unict.it/\"><img src=\"img/iplab.png\" style=\"width:900px\"></a>\n",
    "<center><h2>Machine Learning - A.A. 2020-2021</h2></center>\n",
    "<center><h3>Recurrent Neural Networks (RNN) e Long-Short Term Memory Networks (LSTM)</h3></center>\n",
    "<br>\n",
    "<center>Antonino Furnari <a href=\"http://www.antoninofurnari.it/\" target=\"_blank\">http://www.antoninofurnari.it/</a> - <a href=\"mailto:furnari@dmi.unict.it\">furnari@dmi.unict.it</a> </center>\n",
    "<center>Alessandro Ortis <a href=\"http://www.dmi.unict.it/~ortis/ \" target=\"_blank\">http://www.dmi.unict.it/~ortis/ </a> - <a href=\"mailto:ortis@dmi.unict.it\">ortis@dmi.unict.it</a> </center>\n",
    "<center>Giovanni Maria Farinella <a href=\"http://www.dmi.unict.it/farinella/\" target=\"_blank\">http://www.dmi.unict.it/farinella/</a> - <a href=\"mailto:gfarinella@dmi.unict.it\">gfarinella@dmi.unict.it</a> </center>"
   ]
  },
  {
   "cell_type": "markdown",
   "metadata": {},
   "source": [
    "In questo laboratorio vedremo come costruire ed allenare un modello di tipo LSTM. I modelli visti finora analizzano ciascun dato in input in maniera totalmente indipendente e pertanto essi sono limitati quando è necessario processare delle sequenze di dati. Si pensi ad esempio a un video: una CNN può essere utilizzata per analizzare ciascun frame del video, tuttavia l'analisi di ciascun frame sarà totalmente indipendente rispetto agli altri frame e pertanto il modello non potrà modellare le interdipendenze temporali tra frame adiacenti (ad esempio due frame adiacenti verosimilmente contengon scene e oggetti simili). Per risolvere questo problema, sono state proposte le reti ricorrenti (Recurrent Neural Networks - RNN). Una rete ricorrente può essere utilizzata per analizzare una sequenza di dati di lunghezza non fissa. Con riferimento al fatto che i diversi elementi della sequenza sono disponibili in istanti temporali diversi, ciascun passo della computazione è generalmente detto \"time-step\". Per permettere questo tipo di analisi, il modello mantiene un vettore di \"memoria\" che viene passato da un time-step al successivo."
   ]
  },
  {
   "cell_type": "markdown",
   "metadata": {},
   "source": [
    "# 1 Vanilla Recurrent Neural Networks\n",
    "Il modello più semplice di rete ricorrente (spesso detto \"vanilla RNN\") viene definito in maniera ricorsiva utilizzando le seguenti equazioni:\n",
    "\n",
    "\\begin{equation}\n",
    "h_0 = \\mathbf{0}\\\\\n",
    "h_t = rnn(x_t, h_{t-1}) = tanh(W_{ih} \\cdot x_t + b_{ih} + W_{hh} \\cdot h_{t-1} + b_{hh})\n",
    "\\end{equation}\n",
    "\n",
    "dove $h_t$ ha dimensione $d_h$, $\\mathbf{0}$ indica un vettore di dimensione $d_h$ formato da zero, $x_t$ ha dimensione $d_x$ e i parametri del modello sono i pesi $W_{ih}$ (\"i\" sta per input e \"h\" per hidden), $b_{ih}$, $W_{hh}$, $b_{hh}$. "
   ]
  },
  {
   "cell_type": "markdown",
   "metadata": {},
   "source": [
    "<img src=\"img/qmark.jpg\" style=\"width:150px; margin-right:30px; float:left\">\n",
    "<b>Domanda 1</b>\n",
    "\n",
    "Che dimensioni hanno le matrici $W_{ih}$, $W_{hh}$ e i vettori $b_{ih}$, $b_{hh}$?"
   ]
  },
  {
   "cell_type": "markdown",
   "metadata": {},
   "source": [
    "<img src=\"img/note.png\" style=\"width:150px; margin-right:30px; float:left\">\n",
    "<b>Risposta 1</b>\n",
    "\n"
   ]
  },
  {
   "cell_type": "markdown",
   "metadata": {},
   "source": [
    "La computazione espressa dalla formula sopra può essere riassunta dalla seguente figura:\n",
    "\n",
    "<img src=\"img/rnn_detail.png\" width=\"60%\">\n",
    "\n",
    "Come possiamo notare l'input della cella RNN è una coppia di valori $h_{t-1}$ (hidden cell) e $x_t$ (input). Possiamo usare una RNN per analizzare una sequenza di input $\\{x_t\\}_t$ applicando la cella in maniera ricorsiva come segue:\n",
    "\n",
    "<img src=\"img/rnn_sequence.png\" width=\"60%\">\n",
    "\n",
    "Da notare che $h_0$ viene inizializzata con degli zeri (caso base della ricorsione). In questo caso l'input è una sequenza di vettori $\\{x_t\\}_t$, mentre l'output è una sequenza di vettori $\\{h_t\\}_t$."
   ]
  },
  {
   "cell_type": "markdown",
   "metadata": {},
   "source": [
    "## 1.1 RNN per la classificazione di cognome\n",
    "\n",
    "Vedremo un semplice esempio di utilizzo di un RNN per classificare sequenze. In particolare, riprenderemo l'esempio proposto dai tutorial di PyTorch (https://pytorch.org/tutorials/intermediate/char_rnn_classification_tutorial.html) sulla classificazione di cognomi.\n",
    "\n",
    "Il problema considerato consiste nell'analizzare un cognome (inteso come una sequenza di caratteri) e classificarne la lingua di appartenenza. Ad esempio \"Rossi\" dovrebbe essere riconosciuto come un cognome italiano, mentre \"Smith\" come un cognome inglese. Va notato che per risolvere questo problema, è necessario avere un modello che modelli la sequenza dei caratteri in input e non solo i singoli caratteri in maniera indipendente come visto nei modelli finora analizzati.\n",
    "\n",
    "Iniziamo scaricando i dati disponibili a questo link: https://download.pytorch.org/tutorial/data.zip. Estraiamo quindi il contenuto dell'archivio nella directory di lavoro. Nella cartella `data/names` sono contenuti dei file di testo nel formato `[lingua].txt`. \n",
    "\n",
    "Carichiamo tutti i file, trasformiamo i nomi da unicode a ascii e mettiamo nomi e relative etichette in due liste:"
   ]
  },
  {
   "cell_type": "code",
   "execution_count": 1,
   "metadata": {},
   "outputs": [],
   "source": [
    "import glob\n",
    "import unicodedata\n",
    "import string\n",
    "\n",
    "# Turn a Unicode string to plain ASCII, thanks to https://stackoverflow.com/a/518232/2809427\n",
    "def unicodeToAscii(s):\n",
    "    return ''.join(\n",
    "        c for c in unicodedata.normalize('NFD', s)\n",
    "        if unicodedata.category(c) != 'Mn'\n",
    "        and c in string.ascii_letters\n",
    "    )\n",
    "\n",
    "\n",
    "names = []\n",
    "labels = []\n",
    "classes = []\n",
    "\n",
    "language_files = sorted(glob.glob('data/names/*.txt'))\n",
    "for f in language_files:\n",
    "    #otteniamo la lingua dal nome del file\n",
    "    language = f.split('/')[-1].split('.')[0]\n",
    "    classes.append(language)\n",
    "    with open(f, 'r') as ff:\n",
    "        nn = list(map(unicodeToAscii, ff.readlines()))\n",
    "    names.extend(nn)\n",
    "    labels.extend([language]*len(nn))"
   ]
  },
  {
   "cell_type": "markdown",
   "metadata": {},
   "source": [
    "Controlliamo quanti elementi abbiamo:"
   ]
  },
  {
   "cell_type": "code",
   "execution_count": 2,
   "metadata": {},
   "outputs": [
    {
     "data": {
      "text/plain": [
       "(20074, 20074)"
      ]
     },
     "execution_count": 2,
     "metadata": {},
     "output_type": "execute_result"
    }
   ],
   "source": [
    "len(names), len(labels)"
   ]
  },
  {
   "cell_type": "markdown",
   "metadata": {},
   "source": [
    "Visualizziamo i primi elementi e le loro etichette:"
   ]
  },
  {
   "cell_type": "code",
   "execution_count": 3,
   "metadata": {},
   "outputs": [
    {
     "data": {
      "text/plain": [
       "(['Khoury', 'Nahas', 'Daher'], ['Arabic', 'Arabic', 'Arabic'])"
      ]
     },
     "execution_count": 3,
     "metadata": {},
     "output_type": "execute_result"
    }
   ],
   "source": [
    "names[:3], labels[:3]"
   ]
  },
  {
   "cell_type": "markdown",
   "metadata": {},
   "source": [
    "Controlliamo infiene il numero di classi:"
   ]
  },
  {
   "cell_type": "code",
   "execution_count": 4,
   "metadata": {},
   "outputs": [
    {
     "data": {
      "text/plain": [
       "18"
      ]
     },
     "execution_count": 4,
     "metadata": {},
     "output_type": "execute_result"
    }
   ],
   "source": [
    "len(classes)"
   ]
  },
  {
   "cell_type": "markdown",
   "metadata": {},
   "source": [
    "Il nostro modello dovrà analizzare le sequenze di caratteri, pertanto abbiamo bisogno di trasfromare ciascun carattere in un tensore. Dato che abbiamo un numero finito di caratteri, un approccio possibile consiste nel rappresentare ciascun carattere come un one-hot-vector. Ad esempio, il carattere \"a\" può essere rappresentato mediante il vettore `[1, 0, 0, ...., 0]` se a è il primo primo carattere dell'alfabeto.\n",
    "\n",
    "Definiamo il nostro alfabeto considerando tutte le lettere ascii e alcuni segni di punteggiatura:"
   ]
  },
  {
   "cell_type": "code",
   "execution_count": 5,
   "metadata": {},
   "outputs": [
    {
     "name": "stdout",
     "output_type": "stream",
     "text": [
      "57 abcdefghijklmnopqrstuvwxyzABCDEFGHIJKLMNOPQRSTUVWXYZ .,;'\n"
     ]
    }
   ],
   "source": [
    "alphabet = string.ascii_letters + \" .,;'\"\n",
    "print(len(alphabet), alphabet)"
   ]
  },
  {
   "cell_type": "markdown",
   "metadata": {},
   "source": [
    "Il nostro alfabeto contiene `57` elementi. Possiamo trovare l'indice di un dato carattere mediante il metodo `find` delle stringhe:"
   ]
  },
  {
   "cell_type": "code",
   "execution_count": 6,
   "metadata": {},
   "outputs": [
    {
     "data": {
      "text/plain": [
       "0"
      ]
     },
     "execution_count": 6,
     "metadata": {},
     "output_type": "execute_result"
    }
   ],
   "source": [
    "alphabet.find('a')"
   ]
  },
  {
   "cell_type": "markdown",
   "metadata": {},
   "source": [
    "Scriviamo dunque un codice che trasformi ciascun nome in una sequenza di one hot vector:"
   ]
  },
  {
   "cell_type": "code",
   "execution_count": 7,
   "metadata": {},
   "outputs": [],
   "source": [
    "import torch\n",
    "def name_to_tensor(name):\n",
    "    tensor = torch.zeros(len(name), len(alphabet))\n",
    "    sequence_idx = range(len(name)) #0, 1, 2, 3, ...\n",
    "    char_id = [alphabet.find(c) for c in name]\n",
    "    tensor[sequence_idx, char_id] =1   \n",
    "    return tensor"
   ]
  },
  {
   "cell_type": "markdown",
   "metadata": {},
   "source": [
    "Proviamo il codice scritto sopra:"
   ]
  },
  {
   "cell_type": "code",
   "execution_count": 8,
   "metadata": {},
   "outputs": [],
   "source": [
    "ciao_tensor = name_to_tensor('ciao')"
   ]
  },
  {
   "cell_type": "markdown",
   "metadata": {},
   "source": [
    "Visualizziamo il one hot vector del carattere 'a' (il terzo):"
   ]
  },
  {
   "cell_type": "code",
   "execution_count": 9,
   "metadata": {},
   "outputs": [
    {
     "data": {
      "text/plain": [
       "tensor([1., 0., 0., 0., 0., 0., 0., 0., 0., 0., 0., 0., 0., 0., 0., 0., 0., 0.,\n",
       "        0., 0., 0., 0., 0., 0., 0., 0., 0., 0., 0., 0., 0., 0., 0., 0., 0., 0.,\n",
       "        0., 0., 0., 0., 0., 0., 0., 0., 0., 0., 0., 0., 0., 0., 0., 0., 0., 0.,\n",
       "        0., 0., 0.])"
      ]
     },
     "execution_count": 9,
     "metadata": {},
     "output_type": "execute_result"
    }
   ],
   "source": [
    "ciao_tensor[2]"
   ]
  },
  {
   "cell_type": "markdown",
   "metadata": {},
   "source": [
    "Assegniamo inoltre ad ogni classe un id numerico:"
   ]
  },
  {
   "cell_type": "code",
   "execution_count": 10,
   "metadata": {},
   "outputs": [
    {
     "data": {
      "text/plain": [
       "(9, 'Italian')"
      ]
     },
     "execution_count": 10,
     "metadata": {},
     "output_type": "execute_result"
    }
   ],
   "source": [
    "class_to_id = {c:i for i,c in enumerate(classes)}\n",
    "id_to_class = {x:y for y,x in class_to_id.items()}\n",
    "class_to_id['Italian'], id_to_class[9]"
   ]
  },
  {
   "cell_type": "markdown",
   "metadata": {},
   "source": [
    "A questo punto trasfromiamo la lista di nomi in una lista di tensori e la lista di classi in una lista di id:"
   ]
  },
  {
   "cell_type": "code",
   "execution_count": 11,
   "metadata": {},
   "outputs": [],
   "source": [
    "names_tensors = [name_to_tensor(x) for x in names]\n",
    "labels_id = [class_to_id[x] for x in labels]"
   ]
  },
  {
   "cell_type": "markdown",
   "metadata": {},
   "source": [
    "Mettiamo insieme quanto visto finora per costruire un oggetto di tipo dataset. Suddivideremo inoltre in training e test set in maniera casuale usando un seed:"
   ]
  },
  {
   "cell_type": "code",
   "execution_count": 12,
   "metadata": {},
   "outputs": [],
   "source": [
    "from torch.utils.data import Dataset\n",
    "import numpy as np\n",
    "\n",
    "class NamesDataset(Dataset):\n",
    "    def __init__(self, path_to_dir='data', training = True, seed=42, test_size=0.7):\n",
    "        self.alphabet = string.ascii_letters + \" .,;'\"\n",
    "        # Turn a Unicode string to plain ASCII, thanks to https://stackoverflow.com/a/518232/2809427\n",
    "        def unicodeToAscii(s):\n",
    "            return ''.join(\n",
    "                c for c in unicodedata.normalize('NFD', s)\n",
    "                if unicodedata.category(c) != 'Mn'\n",
    "                and c in self.alphabet\n",
    "            )\n",
    "\n",
    "        names = []\n",
    "        labels = []\n",
    "        classes = []\n",
    "\n",
    "        language_files = sorted(glob.glob(path_to_dir+'/names/*.txt'))\n",
    "        for f in language_files:\n",
    "            #otteniamo la lingua dal nome del file\n",
    "            language = f.split('/')[-1].split('.')[0]\n",
    "            classes.append(language)\n",
    "            with open(f, 'r') as ff:\n",
    "                nn = list(map(unicodeToAscii, ff.readlines()))\n",
    "            names.extend(nn)\n",
    "            labels.extend([language]*len(nn))\n",
    "            \n",
    "        #effettuiamo lo split random\n",
    "        np.random.seed(seed)\n",
    "        idx = np.random.permutation(len(names))\n",
    "        idx_train = idx[:int(len(idx)*test_size)]\n",
    "        idx_test = idx[int(len(idx)*test_size):]\n",
    "        \n",
    "        if training:\n",
    "            names = np.array(names)[idx_train]\n",
    "            labels = np.array(labels)[idx_train]\n",
    "        else:\n",
    "            names = np.array(names)[idx_test]\n",
    "            labels = np.array(labels)[idx_test]\n",
    "            \n",
    "        \n",
    "        self.class_to_id = {c:i for i,c in enumerate(classes)}\n",
    "        self.id_to_class = {x:y for y,x in self.class_to_id.items()}\n",
    "        \n",
    "        self.names_tensors = [self.name_to_tensor(x) for x in names]\n",
    "        self.labels_id = [self.class_to_id[x] for x in labels]\n",
    "        \n",
    "        \n",
    "    def name_to_tensor(self, name):\n",
    "        tensor = torch.zeros(len(name), len(self.alphabet))\n",
    "        sequence_idx = range(len(name)) #0, 1, 2, 3, ...\n",
    "        char_id = [self.alphabet.find(c) for c in name]\n",
    "        tensor[sequence_idx, char_id] =1   \n",
    "        return tensor\n",
    "\n",
    "    def __len__(self):\n",
    "        return len(self.names_tensors)\n",
    "\n",
    "    def __getitem__(self, idx):\n",
    "        return self.names_tensors[idx], self.labels_id[idx]"
   ]
  },
  {
   "cell_type": "markdown",
   "metadata": {},
   "source": [
    "Verifichiamo che tutto funzioni correttamente:"
   ]
  },
  {
   "cell_type": "code",
   "execution_count": 13,
   "metadata": {},
   "outputs": [
    {
     "name": "stdout",
     "output_type": "stream",
     "text": [
      "14051\n",
      "torch.Size([5, 57]) 10\n",
      "torch.Size([8, 57]) 12\n"
     ]
    }
   ],
   "source": [
    "training_set = NamesDataset(training=True)\n",
    "print(len(training_set))\n",
    "print(training_set[0][0].shape, training_set[0][1])\n",
    "print(training_set[925][0].shape, training_set[926][1])"
   ]
  },
  {
   "cell_type": "markdown",
   "metadata": {},
   "source": [
    "L'oggetto dataset ci permette di caricare i nomi come sequenze di un numero variabile di vettori di dimensione $57$. Ogni vettore è associato a una etichetta. Controlliamo che lo stesso valga per il dataset di test:"
   ]
  },
  {
   "cell_type": "code",
   "execution_count": 14,
   "metadata": {},
   "outputs": [
    {
     "name": "stdout",
     "output_type": "stream",
     "text": [
      "14051\n",
      "torch.Size([3, 57]) 11\n",
      "torch.Size([4, 57]) 14\n"
     ]
    }
   ],
   "source": [
    "test_set = NamesDataset(training=False)\n",
    "print(len(training_set))\n",
    "print(test_set[0][0].shape, test_set[0][1])\n",
    "print(test_set[925][0].shape, test_set[926][1])"
   ]
  },
  {
   "cell_type": "markdown",
   "metadata": {},
   "source": [
    "Costruiamo adesso dei DataLoader. Dato che ogni sequenza del dataset ha una lunghezza diversa, ultizzeremo intanto un batch size uguale a $1$."
   ]
  },
  {
   "cell_type": "code",
   "execution_count": 15,
   "metadata": {},
   "outputs": [],
   "source": [
    "from torch.utils.data import DataLoader\n",
    "train_loader = DataLoader(training_set, shuffle=True, batch_size=1)\n",
    "test_loader = DataLoader(test_set, shuffle=False, batch_size=1)"
   ]
  },
  {
   "cell_type": "markdown",
   "metadata": {},
   "source": [
    "<img src=\"img/qmark.jpg\" style=\"width:150px; margin-right:30px; float:left\">\n",
    "<b>Domanda 2</b>\n",
    "\n",
    "Perché non è possibile utilizzare un batch size diverso da 1?"
   ]
  },
  {
   "cell_type": "markdown",
   "metadata": {},
   "source": [
    "<img src=\"img/note.png\" style=\"width:150px; margin-right:30px; float:left\">\n",
    "<b>Risposta 2</b>\n",
    "\n"
   ]
  },
  {
   "cell_type": "markdown",
   "metadata": {},
   "source": [
    "Costruiamo adesso una architettura basata su RNN che ci permetta di classificare ciascuna sequenza. L'input di questo modello sarà un sequenza, mentre l'output è una etichetta. Dato che ci interessa ottenere un solo valore in output, considereremo solamente l'ultimo valore generato dalla RNN $h_t$. Dato che abbiamo $18$ classi, il nostro output dovrebbe contenere $18$ elementi. Per evitare di imporre che la dimensione del layer nascosto sia pari al numero di classi, introduciamo un layer di tipo `Linear` per trasformare l'ultimo hidden layer nell'output desiderato. Ciò permetterà inoltre di mappare il range dell'hidden layer ($[-1,1]$) su un range arbitrario. Il modello seguirà la seguente architettura:\n",
    "\n",
    "<img src=\"img/rnn_sum.png\" width=\"60%\">"
   ]
  },
  {
   "cell_type": "markdown",
   "metadata": {},
   "source": [
    "<img src=\"img/qmark.jpg\" style=\"width:150px; margin-right:30px; float:left\">\n",
    "<b>Domanda 2</b>\n",
    "\n",
    "Perché il range dell'hidden layer è $[-1,1]$? In quali casi serve avere un range diverso?"
   ]
  },
  {
   "cell_type": "markdown",
   "metadata": {},
   "source": [
    "<img src=\"img/note.png\" style=\"width:150px; margin-right:30px; float:left\">\n",
    "<b>Risposta 2</b>\n",
    "\n"
   ]
  },
  {
   "cell_type": "markdown",
   "metadata": {},
   "source": [
    "Definiamo l'architettura facendo uso della implementazione delle RNN fornita da PyTorch:"
   ]
  },
  {
   "cell_type": "code",
   "execution_count": 16,
   "metadata": {},
   "outputs": [],
   "source": [
    "from torch import nn\n",
    "class NameClassifier(nn.Module):\n",
    "    def __init__(self, input_size =57, hidden_size=128, output_size=18):\n",
    "        super(NameClassifier, self).__init__()\n",
    "        #In PyTorch le RNN supportando due formati di input:\n",
    "        # batch_size x seq_len x dim\n",
    "        # seq_len x batch_size x dim\n",
    "        #noi specifichiamo batch_first=True per utilizzare il primo formato\n",
    "        self.rnn = nn.RNN(input_size = input_size, hidden_size = hidden_size, batch_first=True)\n",
    "        self.linear = nn.Linear(hidden_size, output_size)\n",
    "        \n",
    "\n",
    "    def forward(self, x):\n",
    "        # il secondo output contiene il valore dell'ultimo hiddel layer\n",
    "        # il primo output contiene tutti gli altri valori\n",
    "        # scartiamo il primo output perché non ci interessano tutti gli output\n",
    "        _, ht = self.rnn(x)\n",
    "        \n",
    "        # ht è nel formato 1 x batch_size, dove \"1\" indica che la rete ha un solo layer\n",
    "        # chiamiamo squeeze(0) per rimuovere questo \"1\"\n",
    "        \n",
    "        ht = ht.squeeze(0)\n",
    "        \n",
    "        #applichiamo il layer Linear:\n",
    "        y = self.linear(ht)\n",
    "        return y"
   ]
  },
  {
   "cell_type": "markdown",
   "metadata": {},
   "source": [
    "Definiamo adesso la procedura di training del modello in maniera analoga a quanto visto nei laboratori precedenti:"
   ]
  },
  {
   "cell_type": "code",
   "execution_count": 17,
   "metadata": {},
   "outputs": [],
   "source": [
    "from torch.optim import SGD\n",
    "from torch.utils.tensorboard import SummaryWriter\n",
    "from sklearn.metrics import accuracy_score\n",
    "from os.path import join\n",
    "\n",
    "class AverageValueMeter():\n",
    "    def __init__(self):\n",
    "        self.reset()\n",
    "        \n",
    "    def reset(self):\n",
    "        self.sum = 0\n",
    "        self.num = 0\n",
    "    \n",
    "    def add(self, value, num):\n",
    "        self.sum += value*num\n",
    "        self.num += num\n",
    "        \n",
    "    def value(self):\n",
    "        try:\n",
    "            return self.sum/self.num\n",
    "        except:\n",
    "            return None\n",
    "\n",
    "\n",
    "def trainval_classifier(model, train_loader, test_loader, exp_name='experiment', lr=0.01, epochs=20, momentum=0.99, logdir='logs'):\n",
    "    criterion = nn.CrossEntropyLoss() \n",
    "    optimizer = SGD(model.parameters(), lr, momentum=momentum) \n",
    "    #meters\n",
    "    loss_meter = AverageValueMeter()\n",
    "    acc_meter = AverageValueMeter()\n",
    "    #writer\n",
    "    writer = SummaryWriter(join(logdir, exp_name))\n",
    "    #device\n",
    "    device = \"cuda\" if torch.cuda.is_available() else \"cpu\"\n",
    "    model.to(device)\n",
    "    #definiamo un dizionario contenente i loader di training e test\n",
    "    loader = {\n",
    "        'train' : train_loader,\n",
    "        'test' : test_loader\n",
    "    }\n",
    "    #inizializziamo il global step\n",
    "    global_step = 0\n",
    "    for e in range(epochs):\n",
    "        #iteriamo tra due modalità: train e test\n",
    "        for mode in ['train','test']:\n",
    "            loss_meter.reset(); acc_meter.reset()\n",
    "            model.train() if mode == 'train' else model.eval()\n",
    "            with torch.set_grad_enabled(mode=='train'): #abilitiamo i gradienti solo in training\n",
    "                for i, batch in enumerate(loader[mode]):\n",
    "                    x=batch[0].to(device) #\"portiamoli sul device corretto\"\n",
    "                    y=batch[1].to(device)\n",
    "                    output = model(x)\n",
    "                    \n",
    "                    #aggiorniamo il global_step\n",
    "                    #conterrà il numero di campioni visti durante il training\n",
    "                    n = x.shape[0] #numero di elementi nel batch\n",
    "                    global_step += n\n",
    "                    l = criterion(output,y)\n",
    "\n",
    "                    if mode=='train':\n",
    "                        l.backward()\n",
    "                        optimizer.step()\n",
    "                        optimizer.zero_grad()\n",
    "\n",
    "                    acc = accuracy_score(y.to('cpu'),output.to('cpu').max(1)[1])\n",
    "                    loss_meter.add(l.item(),n)\n",
    "                    acc_meter.add(acc,n)\n",
    "\n",
    "                    #loggiamo i risultati iterazione per iterazione solo durante il training\n",
    "                    if mode=='train':\n",
    "                        writer.add_scalar('loss/train', loss_meter.value(), global_step=global_step)\n",
    "                        writer.add_scalar('accuracy/train', acc_meter.value(), global_step=global_step)\n",
    "            #una volta finita l'epoca (sia nel caso di training che test, loggiamo le stime finali)\n",
    "            writer.add_scalar('loss/' + mode, loss_meter.value(), global_step=global_step)\n",
    "            writer.add_scalar('accuracy/' + mode, acc_meter.value(), global_step=global_step)\n",
    "            \n",
    "        #conserviamo i pesi del modello alla fine di un ciclo di training e test\n",
    "        torch.save(model.state_dict(),'%s-%d.pth'%(exp_name,e+1))\n",
    "    return model"
   ]
  },
  {
   "cell_type": "markdown",
   "metadata": {},
   "source": [
    "Instanziamo ed alleniamo il modello:"
   ]
  },
  {
   "cell_type": "code",
   "execution_count": 18,
   "metadata": {},
   "outputs": [
    {
     "data": {
      "text/plain": [
       "NameClassifier(\n",
       "  (rnn): RNN(57, 128, batch_first=True)\n",
       "  (linear): Linear(in_features=128, out_features=18, bias=True)\n",
       ")"
      ]
     },
     "execution_count": 18,
     "metadata": {},
     "output_type": "execute_result"
    }
   ],
   "source": [
    "model = NameClassifier()\n",
    "trainval_classifier(model, train_loader, test_loader, 'name_classifier_rnn', lr=1e-4, epochs=1)"
   ]
  },
  {
   "cell_type": "markdown",
   "metadata": {},
   "source": [
    "Notiamo che il training anche di una sola epoca è molto lento. Ciò è dovuto al fatto che stiamo utilizzando batch size pari a 1. Se proviamo a cambiare il batch size, otteniamo un errore. Ciò è dovuto al fatto che ciascuna sequenza ha una lunghezza diversa e quindi non è possibile concatenare i tensori relative alle singole sequenze in un unico tensore. Ad esempio, due sequenze di shape `[8, 57]` e `[3, 57]` non possono essere concatenate in un unico tensore di shape `[?, 57]`. Per ovviare a questo problema, è possibile formare un batch aggiungendo degli zeri al tensore più piccolo in modo che le due dimensioni coincidano. I due tensori possono essere quindi concatenati in un unico tensore di shape `[2, 8, 57]`. Questa operazione è detta \"padding\" e può essere implementata come segue in PyTorch:"
   ]
  },
  {
   "cell_type": "code",
   "execution_count": 24,
   "metadata": {},
   "outputs": [],
   "source": [
    "from torch.nn.utils.rnn import pad_sequence\n",
    "\n",
    "def collate(elements):\n",
    "    labels = torch.Tensor([e[1] for e in elements]).long()\n",
    "    sequences = [e[0] for e in elements]\n",
    "    batch = pad_sequence(sequences, batch_first = True)\n",
    "    \n",
    "    return batch, labels\n",
    "\n",
    "train_loader = DataLoader(training_set, shuffle=True, batch_size=16, collate_fn=collate)\n",
    "test_loader = DataLoader(test_set, batch_size=16, collate_fn=collate)"
   ]
  },
  {
   "cell_type": "markdown",
   "metadata": {},
   "source": [
    "In particolare abbiamo ridefinito la funzione `collate_fn` che viene richiamata dal DataLoader quando è necessario raggruppare una serie di elementi in un batch. Proviamo a visualizzare le shape di qualche batch:"
   ]
  },
  {
   "cell_type": "code",
   "execution_count": 25,
   "metadata": {},
   "outputs": [
    {
     "name": "stdout",
     "output_type": "stream",
     "text": [
      "torch.Size([16, 10, 57])\n",
      "torch.Size([16, 12, 57])\n"
     ]
    }
   ],
   "source": [
    "for batch in train_loader:\n",
    "    print(batch[0].shape)\n",
    "    break\n",
    "for batch in train_loader:\n",
    "    print(batch[0].shape)\n",
    "    break"
   ]
  },
  {
   "cell_type": "markdown",
   "metadata": {},
   "source": [
    "<img src=\"img/qmark.jpg\" style=\"width:150px; margin-right:30px; float:left\">\n",
    "<b>Domanda 3</b>\n",
    "\n",
    "I batch generati dal dataloader hanno in genere dimensioni diverse. Questo è un problema durante il training? Perché?"
   ]
  },
  {
   "cell_type": "markdown",
   "metadata": {},
   "source": [
    "<img src=\"img/note.png\" style=\"width:150px; margin-right:30px; float:left\">\n",
    "<b>Risposta 3</b>\n",
    "\n"
   ]
  },
  {
   "cell_type": "markdown",
   "metadata": {},
   "source": [
    "<img src=\"img/qmark.jpg\" style=\"width:150px; margin-right:30px; float:left\">\n",
    "<b>Domanda 4</b>\n",
    "\n",
    "Il padding delle sequenze cambia il modo in cui viene effettuato il training? In fase di test è necessario effettuare il padding?"
   ]
  },
  {
   "cell_type": "markdown",
   "metadata": {},
   "source": [
    "<img src=\"img/note.png\" style=\"width:150px; margin-right:30px; float:left\">\n",
    "<b>Risposta 4</b>\n",
    "\n"
   ]
  },
  {
   "cell_type": "markdown",
   "metadata": {},
   "source": [
    "A questo punto siamo pronti per allenare il modello per più epoche:"
   ]
  },
  {
   "cell_type": "code",
   "execution_count": 26,
   "metadata": {},
   "outputs": [
    {
     "data": {
      "text/plain": [
       "NameClassifier(\n",
       "  (rnn): RNN(57, 128, batch_first=True)\n",
       "  (linear): Linear(in_features=128, out_features=18, bias=True)\n",
       ")"
      ]
     },
     "execution_count": 26,
     "metadata": {},
     "output_type": "execute_result"
    }
   ],
   "source": [
    "model = NameClassifier()\n",
    "trainval_classifier(model, train_loader, test_loader, 'name_classifier_rnn_16', lr=1e-4, epochs=100)"
   ]
  },
  {
   "cell_type": "markdown",
   "metadata": {},
   "source": [
    "Alla fine del training, dovremmo ottenere un grafico del genere:\n",
    "\n",
    "<img src='img/names_rnn_plot2.jpg' width=80%>"
   ]
  },
  {
   "cell_type": "markdown",
   "metadata": {},
   "source": [
    "La rete ha imparato a classificare le sequenze con una discreta accuracy."
   ]
  },
  {
   "cell_type": "markdown",
   "metadata": {},
   "source": [
    "# 2 Long-Short Term Memory (LSTM)\n",
    "\n",
    "Le RNN definite come abbiamo visto nell'esempio precedente tendono a soffrire di problemi di propagazione dei gradienti in fase di training nel caso di lunghe sequenze. Questi problemi sono generalmente risolti dalle architetture di tipo LSTM. Pur non entrando nei dettagli dell'architettura, vedremo in questo laboratori alcuni esempi con questo modello. Iniziamo convertendo il modello appena allenato mediante una LSTM invece che una semplice RNN \"vanilla\". Prima di iniziare, importiamo le librerie necessarie:"
   ]
  },
  {
   "cell_type": "code",
   "execution_count": 27,
   "metadata": {},
   "outputs": [],
   "source": [
    "import numpy as np\n",
    "import pandas as pd\n",
    "import sys\n",
    "import matplotlib.pyplot as plt\n",
    "from torch import nn\n",
    "from torch.autograd import Variable\n",
    "import torch\n",
    "from sklearn.utils import shuffle\n",
    "%matplotlib inline"
   ]
  },
  {
   "cell_type": "markdown",
   "metadata": {},
   "source": [
    "Per la normalizzazione dei dati utilizzeremo il MinMaxScaler di scikit-learn:"
   ]
  },
  {
   "cell_type": "code",
   "execution_count": 28,
   "metadata": {},
   "outputs": [],
   "source": [
    "from sklearn.preprocessing import MinMaxScaler"
   ]
  },
  {
   "cell_type": "markdown",
   "metadata": {},
   "source": [
    "## 2.1 Task 1 - Definizione del problema\n",
    "\n",
    "In questa prima parte dell'esercitazione definiremo una funzione periodica e verificheremo se una LSTM è in grado di imparare la legge matematica che genera i valori della serie.\n",
    "Il dataset è costituito da una sequenza di valori della funzione sin(x), per un certo range della variabile indipendente x. \n",
    "In una prima fase divideremo la sequenza nota in due sotto sequenze, una di train per allenare la rete ed una di test.\n",
    "Nella seconda fase invece verificheremo la capacità della rete di generare i valori secondo la legge matematica che dovrebbe aver imparato.\n",
    "In altre parole, nella seconda fase, durante il test gli input saranno costituiti dai valori predetti dal modello ai passi precedente. Gli errori su queste predizioni quindi influenzeranno le predizioni successive."
   ]
  },
  {
   "cell_type": "code",
   "execution_count": 29,
   "metadata": {},
   "outputs": [
    {
     "data": {
      "image/png": "[encoded data removed]",
      "text/plain": [
       "<Figure size 1296x576 with 1 Axes>"
      ]
     },
     "metadata": {
      "needs_background": "light"
     },
     "output_type": "display_data"
    }
   ],
   "source": [
    "plt.figure(figsize=(18,8))\n",
    "\n",
    "data = np.sin(np.arange(0.,20.,0.1))\n",
    "data = data.reshape(len(data),1)\n",
    "data = data.astype('float32')\n",
    "plt.plot(data, label = 'train sequence')\n",
    "plt.legend(loc='best')\n",
    "plt.show()"
   ]
  },
  {
   "cell_type": "markdown",
   "metadata": {},
   "source": [
    "L'architettura basata su LSTM che andremo a definire prenderà in input una finestra temporale di valori della serie e dovrà predire il valore successivo.\n",
    "La dimensione di tale finestra è variabile, in questo modo possiamo verificare come cambiano le prestazioni del modello al variare della dimensione della finestra. \n",
    "In questa esercitazione alleneremo il modello utilizzando il 70% delle osservazioni, lasciando il rimanente 30% di dati come test. \n",
    "\n",
    "Definiamo inoltre due flag, cioè due valori binari che indicano se scalare i dati e/o mischiare casualmente le sequenze del training set prima del training. Normalmente queste due operazioni vanno sempre fatte, ma mediante l'attivazione o dissattivazione di questi flag possiamo verificare l'effetto sulle prestazioni della mancanza o della presenza di queste operazioni. I dati di train e quelli di test assumono tutti i valori dentro un range prestabilito (come si può notare dalla figura precedente), quindi potrebbe non essere necessario scalare i dati."
   ]
  },
  {
   "cell_type": "code",
   "execution_count": 30,
   "metadata": {},
   "outputs": [],
   "source": [
    "window_size = 5     \n",
    "hidden_size = 10     \n",
    "NUM_TRIALS = 8000\n",
    "SCALE = True\n",
    "SHUFFLE = False      \n",
    "\n",
    "train_size = int(len(data) * 0.7)\n",
    "test_size = len(data) - train_size\n",
    "\n",
    "train = data[0:train_size]\n",
    "test = data[train_size:len(data)]"
   ]
  },
  {
   "cell_type": "markdown",
   "metadata": {},
   "source": [
    "Adesso definiremo una funzione per creare un set di dati con cui allenare/testare il modello in maniera opportuna.\n",
    "Come anticipato, il modello prende in input una finestra temporale di valori della serie e tenta di predire il valore successivo. In questo momento le liste 'train' e 'test' contengono solo due sottosequenze della serie originale.\n",
    "Occorre quindi definire le coppie di input/output per il nostro modello."
   ]
  },
  {
   "cell_type": "markdown",
   "metadata": {},
   "source": [
    "La funzione 'create_dataset' prende due argomenti: il numpy array che contiene la sequenza che vogliamo convertire, ed il numero di osserazioni passate che vogliamo usare come input per il modello per predire il valore temporale successivo. Di default questo paramentro (look_back) è pari a 2, ma possiamo variarlo per ottenere coppie di input/output differenti, ed osservare come variano le prestazioni."
   ]
  },
  {
   "cell_type": "code",
   "execution_count": 31,
   "metadata": {},
   "outputs": [],
   "source": [
    "def create_dataset(dataset, look_back=2):\n",
    "    dataX, dataY = [], []\n",
    "    for i in range(len(dataset) - look_back):\n",
    "        a = dataset[i:(i + look_back)]\n",
    "        dataX.append(a)\n",
    "        dataY.append(dataset[i + look_back])\n",
    "    return np.array(dataX), np.array(dataY)"
   ]
  },
  {
   "cell_type": "markdown",
   "metadata": {},
   "source": [
    "Definiamo adesso il modello, costituito da una LSTM ed un regressore lineare."
   ]
  },
  {
   "cell_type": "code",
   "execution_count": 32,
   "metadata": {},
   "outputs": [],
   "source": [
    "class lstm_regressor(nn.Module):\n",
    "    def __init__(self, input_size, hidden_size, output_size=1, num_layers=2):\n",
    "        super(lstm_regressor, self).__init__()\n",
    "        \n",
    "        #mettiamo batch_first=True per passare i dati nel formato (batch, seq, feature)\n",
    "        self.rnn = nn.LSTM(input_size, hidden_size, num_layers, batch_first=True) \n",
    "        self.regressor = nn.Linear(hidden_size, output_size)\n",
    "\n",
    "    def forward(self, x):\n",
    "        h, _ = self.rnn(x) #h contiene i valori di tutti gli output\n",
    "        h=h[:,-1,:] #seleziona l'ultimo output\n",
    "        h=h.squeeze(1) #trasforma la shape da bs x 1 x hidden_size a bs x hidden_size\n",
    "        out = self.regressor(h)\n",
    "        return out"
   ]
  },
  {
   "cell_type": "markdown",
   "metadata": {},
   "source": [
    "Per normalizzare i dati usiamo il MinMaxScaler con range [0,1]. \n",
    "Il dataset quindi viene creato con la funzione 'create_dataset' che crea le coppie (X,y) dove X è una sequenza temporale di dimensione 'window_size', mentre y è il valore della sequenza subito dopo l'ultimo valore in X.\n"
   ]
  },
  {
   "cell_type": "code",
   "execution_count": 33,
   "metadata": {},
   "outputs": [],
   "source": [
    "if SCALE:\n",
    "    train = train.reshape(-1,1)\n",
    "    scaler = MinMaxScaler(feature_range=(0,1))\n",
    "    train = scaler.fit_transform(train)\n",
    "    test = scaler.transform(test)\n",
    "    train_X, train_Y = create_dataset(train, window_size)\n",
    "    test_X, test_Y = create_dataset(test, window_size)\n",
    "else:\n",
    "    train_X, train_Y = create_dataset(train, window_size)\n",
    "    test_X, test_Y = create_dataset(test, window_size)\n",
    "\n",
    "\n",
    "if SHUFFLE:\n",
    "    train_X, train_Y = shuffle(train_X,train_Y)\n",
    "\n",
    "train_x = torch.from_numpy(train_X)  \n",
    "train_y = torch.from_numpy(train_Y)  "
   ]
  },
  {
   "cell_type": "markdown",
   "metadata": {},
   "source": [
    "il modello prende in input un tensore di shape: (batch size, sequence len, input_size). Verifichiamo le dimensioni dei nostri dati."
   ]
  },
  {
   "cell_type": "code",
   "execution_count": 37,
   "metadata": {},
   "outputs": [
    {
     "name": "stdout",
     "output_type": "stream",
     "text": [
      "torch.Size([135, 5, 1])\n",
      "torch.Size([135, 1])\n",
      "(55, 5, 1)\n"
     ]
    }
   ],
   "source": [
    "print(train_x.shape)\n",
    "print(train_y.shape)\n",
    "print(test_X.shape)"
   ]
  },
  {
   "cell_type": "markdown",
   "metadata": {},
   "source": [
    "Dopo aver preparato i dati, possiamo definire il modello ed iniziare il training."
   ]
  },
  {
   "cell_type": "code",
   "execution_count": 40,
   "metadata": {
    "scrolled": false
   },
   "outputs": [
    {
     "name": "stdout",
     "output_type": "stream",
     "text": [
      "Start training\n",
      "Epoch: 100/8000, Loss: 0.0000328636\n",
      "Epoch: 200/8000, Loss: 0.0000248828\n",
      "Epoch: 300/8000, Loss: 0.0000011739\n",
      "Epoch: 400/8000, Loss: 0.0003954728\n",
      "Epoch: 500/8000, Loss: 0.0000010713\n",
      "Epoch: 600/8000, Loss: 0.0000007347\n",
      "Epoch: 700/8000, Loss: 0.0000005314\n",
      "Epoch: 800/8000, Loss: 0.0000015196\n",
      "Epoch: 900/8000, Loss: 0.0000004118\n",
      "Epoch: 1000/8000, Loss: 0.0000002763\n",
      "Epoch: 1100/8000, Loss: 0.0002586246\n",
      "Epoch: 1200/8000, Loss: 0.0000002611\n",
      "Epoch: 1300/8000, Loss: 0.0000001769\n",
      "Epoch: 1400/8000, Loss: 0.0025846406\n",
      "Epoch: 1500/8000, Loss: 0.0000002786\n",
      "Epoch: 1600/8000, Loss: 0.0000001456\n",
      "Epoch: 1700/8000, Loss: 0.0021998526\n",
      "Epoch: 1800/8000, Loss: 0.0000001860\n",
      "Epoch: 1900/8000, Loss: 0.0000001340\n",
      "Epoch: 2000/8000, Loss: 0.0000876773\n",
      "Epoch: 2100/8000, Loss: 0.0000001963\n",
      "Epoch: 2200/8000, Loss: 0.0000001378\n",
      "Epoch: 2300/8000, Loss: 0.0000343423\n",
      "Epoch: 2400/8000, Loss: 0.0000001876\n",
      "Epoch: 2500/8000, Loss: 0.0000122212\n",
      "Epoch: 2600/8000, Loss: 0.0000003629\n",
      "Epoch: 2700/8000, Loss: 0.0000001196\n",
      "Epoch: 2800/8000, Loss: 0.0000011228\n",
      "Epoch: 2900/8000, Loss: 0.0000000913\n",
      "Epoch: 3000/8000, Loss: 0.0000010753\n",
      "Epoch: 3100/8000, Loss: 0.0000000587\n",
      "Epoch: 3200/8000, Loss: 0.0000007829\n",
      "Epoch: 3300/8000, Loss: 0.0000087182\n",
      "Epoch: 3400/8000, Loss: 0.0000000987\n",
      "Epoch: 3500/8000, Loss: 0.0000100441\n",
      "Epoch: 3600/8000, Loss: 0.0000000442\n",
      "Epoch: 3700/8000, Loss: 0.0000420468\n",
      "Epoch: 3800/8000, Loss: 0.0000000893\n",
      "Epoch: 3900/8000, Loss: 0.0000013619\n",
      "Epoch: 4000/8000, Loss: 0.0000060957\n",
      "Epoch: 4100/8000, Loss: 0.0000605794\n",
      "Epoch: 4200/8000, Loss: 0.0003176406\n",
      "Epoch: 4300/8000, Loss: 0.0002226395\n",
      "Epoch: 4400/8000, Loss: 0.0000364037\n",
      "Epoch: 4500/8000, Loss: 0.0002263832\n",
      "Epoch: 4600/8000, Loss: 0.0000687102\n",
      "Epoch: 4700/8000, Loss: 0.0000072418\n",
      "Epoch: 4800/8000, Loss: 0.0000144812\n",
      "Epoch: 4900/8000, Loss: 0.0000003250\n",
      "Epoch: 5000/8000, Loss: 0.0000001932\n",
      "Epoch: 5100/8000, Loss: 0.0000259202\n",
      "Epoch: 5200/8000, Loss: 0.0000014219\n",
      "Epoch: 5300/8000, Loss: 0.0000172323\n",
      "Epoch: 5400/8000, Loss: 0.0000218617\n",
      "Epoch: 5500/8000, Loss: 0.0000506161\n",
      "Epoch: 5600/8000, Loss: 0.0000081280\n",
      "Epoch: 5700/8000, Loss: 0.0000156736\n",
      "Epoch: 5800/8000, Loss: 0.0000009276\n",
      "Epoch: 5900/8000, Loss: 0.0000010316\n",
      "Epoch: 6000/8000, Loss: 0.0000004086\n",
      "Epoch: 6100/8000, Loss: 0.0002689611\n",
      "Epoch: 6200/8000, Loss: 0.0000002123\n",
      "Epoch: 6300/8000, Loss: 0.0000007248\n",
      "Epoch: 6400/8000, Loss: 0.0000049292\n",
      "Epoch: 6500/8000, Loss: 0.0000113015\n",
      "Epoch: 6600/8000, Loss: 0.0000013457\n",
      "Epoch: 6700/8000, Loss: 0.0000009261\n",
      "Epoch: 6800/8000, Loss: 0.0003947197\n",
      "Epoch: 6900/8000, Loss: 0.0000002044\n",
      "Epoch: 7000/8000, Loss: 0.0000297814\n",
      "Epoch: 7100/8000, Loss: 0.0000537608\n",
      "Epoch: 7200/8000, Loss: 0.0000001538\n",
      "Epoch: 7300/8000, Loss: 0.0000008640\n",
      "Epoch: 7400/8000, Loss: 0.0000002431\n",
      "Epoch: 7500/8000, Loss: 0.0000013801\n",
      "Epoch: 7600/8000, Loss: 0.0000002042\n",
      "Epoch: 7700/8000, Loss: 0.0017726953\n",
      "Epoch: 7800/8000, Loss: 0.0000020080\n",
      "Epoch: 7900/8000, Loss: 0.0000004345\n",
      "Epoch: 8000/8000, Loss: 0.0000275593\n"
     ]
    },
    {
     "data": {
      "image/png": "[encoded data removed]",
      "text/plain": [
       "<Figure size 432x288 with 1 Axes>"
      ]
     },
     "metadata": {
      "needs_background": "light"
     },
     "output_type": "display_data"
    }
   ],
   "source": [
    "net = lstm_regressor(1, hidden_size) #1 è il numero di feature\n",
    "\n",
    " \n",
    "if torch.cuda.is_available():\n",
    "    net=net.cuda()\n",
    "    \n",
    "loss_fn = nn.MSELoss()\n",
    "optimizer = torch.optim.Adam(net.parameters(), lr=1e-1)\n",
    "print(\"Start training\")\n",
    "train_loss = []\n",
    "for e in range(NUM_TRIALS):\n",
    "\n",
    "    var_x = Variable(train_x)\n",
    "    var_y = Variable(train_y)\n",
    "    \n",
    "    out = net(var_x)\n",
    "    loss = loss_fn(out, var_y)\n",
    "    train_loss.append(loss.item())\n",
    "    optimizer.zero_grad()\n",
    "    loss.backward()\n",
    "    optimizer.step()\n",
    "    \n",
    "    if (e + 1) % 100 == 0:\n",
    "        print('Epoch: {}/{}, Loss: {:.10f}'.format(e + 1,NUM_TRIALS, loss.item()))\n",
    "\n",
    "plt.figure()\n",
    "plt.plot(train_loss)\n",
    "plt.title(\"train loss\")\n",
    "plt.show()\n"
   ]
  },
  {
   "cell_type": "markdown",
   "metadata": {},
   "source": [
    "Adesso effettuiamo il test dando in input delle finestre di ampiezza 'window_size' di valori di sen(x)."
   ]
  },
  {
   "cell_type": "code",
   "execution_count": 41,
   "metadata": {},
   "outputs": [
    {
     "data": {
      "image/png": "[encoded data removed]",
      "text/plain": [
       "<Figure size 1296x576 with 1 Axes>"
      ]
     },
     "metadata": {
      "needs_background": "light"
     },
     "output_type": "display_data"
    }
   ],
   "source": [
    "net = net.eval()\n",
    "\n",
    "data_X = torch.from_numpy(test_X).float()\n",
    "var_data = Variable(data_X)\n",
    "pred_test = net(var_data)\n",
    "\n",
    "pred_test = pred_test.view(-1).data.numpy()\n",
    "pred_test = scaler.inverse_transform(pred_test.reshape(-1,1))\n",
    "\n",
    "test_plot = np.empty_like(data)\n",
    "test_plot[:,:] = np.nan\n",
    "test_plot[train_size+window_size:len(data), :] = pred_test\n",
    "\n",
    "plt.figure(figsize=(18,8))\n",
    "plt.plot(data, 'b', label='real')\n",
    "plt.plot(test_plot, '-.r', label='prediction')\n",
    "plt.legend(loc='best')\n",
    "plt.show()"
   ]
  },
  {
   "cell_type": "markdown",
   "metadata": {},
   "source": [
    "Come abbiamo appena visto, il modello riesce ad imparare una funzione periodica come la funzione seno.\n",
    "\n",
    "Adesso proviamo ad effettuare un test più difficile, finalizzato a verificare se il modello riesce a generare dei valori secondo la funzione matematica che ha generato la sequenza di training. Come anticipato, in questo esperimento daremo in input al modello l'ultima finestra del training set, contenente 'window_size' valori "
   ]
  },
  {
   "cell_type": "code",
   "execution_count": 42,
   "metadata": {
    "scrolled": false
   },
   "outputs": [
    {
     "data": {
      "image/png": "[encoded data removed]",
      "text/plain": [
       "<Figure size 432x288 with 1 Axes>"
      ]
     },
     "metadata": {
      "needs_background": "light"
     },
     "output_type": "display_data"
    },
    {
     "data": {
      "image/png": "[encoded data removed]",
      "text/plain": [
       "<Figure size 432x288 with 1 Axes>"
      ]
     },
     "metadata": {
      "needs_background": "light"
     },
     "output_type": "display_data"
    },
    {
     "data": {
      "image/png": "[encoded data removed]",
      "text/plain": [
       "<Figure size 432x288 with 1 Axes>"
      ]
     },
     "metadata": {
      "needs_background": "light"
     },
     "output_type": "display_data"
    }
   ],
   "source": [
    "# numero di valori da predire\n",
    "future_len = 100     \n",
    "# Test mode\n",
    "net = net.eval()\n",
    "# contiene la sequenza generata\n",
    "prediction = []\n",
    "# invece di usare valori calcolati con la funzione np.sin(),\n",
    "# usiamo i valori predetti per definire le finestre di input nel test\n",
    "test_X = train_X[-1:].copy()\n",
    "    \n",
    "while len(prediction)<future_len:\n",
    "    data_X = torch.from_numpy(test_X).float()\n",
    "    var_data = Variable(data_X)\n",
    "    pred_test = net(var_data)\n",
    "    \n",
    "    pred_test = pred_test.view(-1).data.numpy().reshape(-1,1)\n",
    "    prediction = np.append(prediction,pred_test)\n",
    "\n",
    "    test_X = np.roll(test_X,-1)\n",
    "    test_X[:,-1,:] = pred_test\n",
    "\n",
    "plt.figure()\n",
    "plt.title(\"Dati predetti (normalizzati)\")\n",
    "plt.plot(prediction)\n",
    "plt.show()\n",
    "\n",
    "if SCALE:\n",
    "    prediction = scaler.inverse_transform(prediction.reshape(-1,1))\n",
    "\n",
    "plt.figure()\n",
    "plt.title(\"Dati predetti (scala reale)\")\n",
    "plt.plot(prediction)\n",
    "plt.show()\n",
    "\n",
    "# shift valori di test per visualizzazione\n",
    "test_plot = np.empty(len(train)+len(prediction))\n",
    "test_plot[:] = np.nan\n",
    "test_plot[len(train):len(train)+len(prediction)] = prediction.reshape(-1,len(prediction))\n",
    "\n",
    "plt.figure()\n",
    "plt.plot(data[0:train_size], 'b', label='train sequence')\n",
    "plt.plot(test_plot, '-.r', label='predicted')\n",
    "plt.legend(loc='best')\n",
    "plt.show()"
   ]
  },
  {
   "cell_type": "markdown",
   "metadata": {},
   "source": [
    "## 2.2 Task 2 - Definizione del problema\n",
    "\n",
    "In questa seconda parte alleneremo una LSTM su una sequenza temporale di dati reali, relativa ai dati mensili del numero di passeggeri internazionali registrati in una particolare area. Tale serie temporale ha una certa periodicità, ed un andamento mediamente crescente nel tempo."
   ]
  },
  {
   "cell_type": "markdown",
   "metadata": {},
   "source": [
    "I dati relativi ai passeggeri sono memorizzati in un file 'airport_passengers.csv', scaricabile al seguente link: https://datamarket.com/data/set/22u3/international-airline-passengers-monthly-totals-in-thousands-jan-49-dec-60#!ds=22u3&display=line (o alternativamente http://www.dmi.unict.it/~ortis/downloads/airport_passengers.csv).\n",
    "\n",
    "Carichiamo i dati sfruttando la libreria Pandas e visualizziamo la sequenza."
   ]
  },
  {
   "cell_type": "code",
   "execution_count": 43,
   "metadata": {},
   "outputs": [
    {
     "data": {
      "image/png": "[encoded data removed]",
      "text/plain": [
       "<Figure size 1296x576 with 1 Axes>"
      ]
     },
     "metadata": {
      "needs_background": "light"
     },
     "output_type": "display_data"
    }
   ],
   "source": [
    "data_csv = pd.read_csv('http://www.dmi.unict.it/ortis/downloads/airport_passengers.csv', usecols=[1])\n",
    "plt.figure(figsize=(18,8))\n",
    "plt.plot(data_csv)\n",
    "plt.show()\n",
    "\n",
    "data_csv = data_csv.dropna()\n",
    "dataset = data_csv.values\n",
    "dataset = dataset.astype('float32')"
   ]
  },
  {
   "cell_type": "markdown",
   "metadata": {},
   "source": [
    "I dati sono espressi in migliaia, e riportano il numero di passeggeri per ogni mese da Gennaio 1949 a Dicembre 1960, per un totale di 144 osservazioni.\n",
    "Possiamo osservare una certa periodicità, probabilmente corrispondente al periodo di vacanze nella regione dove sono stati registrati i dati.\n",
    "\n",
    "Anche in questo caso utilizziamo il primo 70% dei valori della sequenza per il training ed il restante 30% per il test."
   ]
  },
  {
   "cell_type": "code",
   "execution_count": 46,
   "metadata": {},
   "outputs": [
    {
     "name": "stdout",
     "output_type": "stream",
     "text": [
      "(144, 1)\n",
      "100 44\n",
      "(100, 1)\n",
      "(44, 1)\n"
     ]
    }
   ],
   "source": [
    "# 70% train - 30% test\n",
    "train_size = int(len(dataset) * 0.7)\n",
    "test_size = len(dataset) - train_size\n",
    "\n",
    "train = dataset[0:train_size]\n",
    "test = dataset[train_size:len(dataset)]\n",
    "print(dataset.shape)\n",
    "print(len(train), len(test))\n",
    "print(train.shape)\n",
    "print(test.shape)"
   ]
  },
  {
   "cell_type": "markdown",
   "metadata": {},
   "source": [
    "Definiamo uno scaler che scala i dati nel range [0,1], la funzione che mappa i dati viene definita utilizzando solo i dati di train. Questa funzione viene quindi applicata sia ai dati di train sia a quelli di test."
   ]
  },
  {
   "cell_type": "code",
   "execution_count": 47,
   "metadata": {},
   "outputs": [],
   "source": [
    "scaler = MinMaxScaler(feature_range=(0,1))\n",
    "train = scaler.fit_transform(train)\n",
    "test = scaler.transform(test)"
   ]
  },
  {
   "cell_type": "markdown",
   "metadata": {},
   "source": [
    "Definiamo la lunghezza della finestra temporale di input,la dimensione dell'hidden layer (cioè il numero di blocchi LSTM) tramite una variabile ed il numero di epoche."
   ]
  },
  {
   "cell_type": "code",
   "execution_count": 48,
   "metadata": {
    "scrolled": true
   },
   "outputs": [],
   "source": [
    "window_size = 10\n",
    "hidden_size = 12\n",
    "NUM_TRIALS = 7000"
   ]
  },
  {
   "cell_type": "markdown",
   "metadata": {},
   "source": [
    "Utilizziamo la funzione 'create_dataset' per ottenere le coppie di input/output sia per il train che per il test set."
   ]
  },
  {
   "cell_type": "code",
   "execution_count": 49,
   "metadata": {
    "scrolled": false
   },
   "outputs": [],
   "source": [
    "train_X, train_Y = create_dataset(train, window_size)\n",
    "test_X, test_Y = create_dataset(test, window_size)"
   ]
  },
  {
   "cell_type": "markdown",
   "metadata": {},
   "source": [
    "Verifichiamo le dimensioni dei dati, ricordandoci che il modello prende in input un tensore di shape: (batch size, sequence len, input_size)."
   ]
  },
  {
   "cell_type": "code",
   "execution_count": 51,
   "metadata": {},
   "outputs": [
    {
     "name": "stdout",
     "output_type": "stream",
     "text": [
      "torch.Size([90, 10, 1])\n",
      "torch.Size([90, 1])\n"
     ]
    }
   ],
   "source": [
    "train_x = torch.from_numpy(train_X)\n",
    "train_y = torch.from_numpy(train_Y)\n",
    "\n",
    "\n",
    "print(train_x.shape)\n",
    "print(train_y.shape)"
   ]
  },
  {
   "cell_type": "markdown",
   "metadata": {},
   "source": [
    "Istanziamo il modello, definiamo la loss e l'ottimizzatore. "
   ]
  },
  {
   "cell_type": "code",
   "execution_count": 52,
   "metadata": {},
   "outputs": [],
   "source": [
    "net = lstm_regressor(1, hidden_size) #1 è il numero di feature\n",
    "\n",
    "loss_fn = nn.MSELoss()\n",
    "optimizer = torch.optim.Adam(net.parameters(), lr=1e-3)\n"
   ]
  },
  {
   "cell_type": "markdown",
   "metadata": {},
   "source": [
    "Adesso abbiamo tutto quello che ci serve per fare partire il training."
   ]
  },
  {
   "cell_type": "code",
   "execution_count": 54,
   "metadata": {},
   "outputs": [
    {
     "name": "stdout",
     "output_type": "stream",
     "text": [
      "Epoch: 100/7000, Loss: 0.0149433017\n",
      "Epoch: 200/7000, Loss: 0.0140779866\n",
      "Epoch: 300/7000, Loss: 0.0135959797\n",
      "Epoch: 400/7000, Loss: 0.0129886009\n",
      "Epoch: 500/7000, Loss: 0.0121450303\n",
      "Epoch: 600/7000, Loss: 0.0107330959\n",
      "Epoch: 700/7000, Loss: 0.0077744764\n",
      "Epoch: 800/7000, Loss: 0.0057144682\n",
      "Epoch: 900/7000, Loss: 0.0047629485\n",
      "Epoch: 1000/7000, Loss: 0.0041850796\n",
      "Epoch: 1100/7000, Loss: 0.0039307037\n",
      "Epoch: 1200/7000, Loss: 0.0038001921\n",
      "Epoch: 1300/7000, Loss: 0.0036460485\n",
      "Epoch: 1400/7000, Loss: 0.0034370923\n",
      "Epoch: 1500/7000, Loss: 0.0030851287\n",
      "Epoch: 1600/7000, Loss: 0.0026182360\n",
      "Epoch: 1700/7000, Loss: 0.0021465144\n",
      "Epoch: 1800/7000, Loss: 0.0018903754\n",
      "Epoch: 1900/7000, Loss: 0.0017202762\n",
      "Epoch: 2000/7000, Loss: 0.0015747672\n",
      "Epoch: 2100/7000, Loss: 0.0014599113\n",
      "Epoch: 2200/7000, Loss: 0.0013683984\n",
      "Epoch: 2300/7000, Loss: 0.0012664155\n",
      "Epoch: 2400/7000, Loss: 0.0013033490\n",
      "Epoch: 2500/7000, Loss: 0.0010667196\n",
      "Epoch: 2600/7000, Loss: 0.0010152460\n",
      "Epoch: 2700/7000, Loss: 0.0008869322\n",
      "Epoch: 2800/7000, Loss: 0.0008437104\n",
      "Epoch: 2900/7000, Loss: 0.0008018725\n",
      "Epoch: 3000/7000, Loss: 0.0007582902\n",
      "Epoch: 3100/7000, Loss: 0.0007176386\n",
      "Epoch: 3200/7000, Loss: 0.0007069291\n",
      "Epoch: 3300/7000, Loss: 0.0006606547\n",
      "Epoch: 3400/7000, Loss: 0.0006352951\n",
      "Epoch: 3500/7000, Loss: 0.0005901676\n",
      "Epoch: 3600/7000, Loss: 0.0006178836\n",
      "Epoch: 3700/7000, Loss: 0.0006479783\n",
      "Epoch: 3800/7000, Loss: 0.0005422568\n",
      "Epoch: 3900/7000, Loss: 0.0005186445\n",
      "Epoch: 4000/7000, Loss: 0.0004877660\n",
      "Epoch: 4100/7000, Loss: 0.0004889342\n",
      "Epoch: 4200/7000, Loss: 0.0004577319\n",
      "Epoch: 4300/7000, Loss: 0.0004806833\n",
      "Epoch: 4400/7000, Loss: 0.0004783381\n",
      "Epoch: 4500/7000, Loss: 0.0004209593\n",
      "Epoch: 4600/7000, Loss: 0.0004512506\n",
      "Epoch: 4700/7000, Loss: 0.0003898998\n",
      "Epoch: 4800/7000, Loss: 0.0004108400\n",
      "Epoch: 4900/7000, Loss: 0.0003776005\n",
      "Epoch: 5000/7000, Loss: 0.0003583220\n",
      "Epoch: 5100/7000, Loss: 0.0003561593\n",
      "Epoch: 5200/7000, Loss: 0.0003468129\n",
      "Epoch: 5300/7000, Loss: 0.0003382947\n",
      "Epoch: 5400/7000, Loss: 0.0003237637\n",
      "Epoch: 5500/7000, Loss: 0.0003236913\n",
      "Epoch: 5600/7000, Loss: 0.0003266845\n",
      "Epoch: 5700/7000, Loss: 0.0003515407\n",
      "Epoch: 5800/7000, Loss: 0.0003332410\n",
      "Epoch: 5900/7000, Loss: 0.0003011658\n",
      "Epoch: 6000/7000, Loss: 0.0003154908\n",
      "Epoch: 6100/7000, Loss: 0.0003041255\n",
      "Epoch: 6200/7000, Loss: 0.0002714501\n",
      "Epoch: 6300/7000, Loss: 0.0002593553\n",
      "Epoch: 6400/7000, Loss: 0.0002759782\n",
      "Epoch: 6500/7000, Loss: 0.0003024895\n",
      "Epoch: 6600/7000, Loss: 0.0002401903\n",
      "Epoch: 6700/7000, Loss: 0.0002620797\n",
      "Epoch: 6800/7000, Loss: 0.0002629327\n",
      "Epoch: 6900/7000, Loss: 0.0002380997\n",
      "Epoch: 7000/7000, Loss: 0.0002266211\n"
     ]
    }
   ],
   "source": [
    "if torch.cuda.is_available():\n",
    "    net=net.cuda()\n",
    "    \n",
    "for e in range(NUM_TRIALS):\n",
    "\n",
    "    var_x = Variable(train_x)\n",
    "    var_y = Variable(train_y)\n",
    "\n",
    "    out = net(var_x)\n",
    "    loss = loss_fn(out, var_y)\n",
    "    optimizer.zero_grad()\n",
    "    loss.backward()\n",
    "    optimizer.step()\n",
    "    if (e + 1) % 100 == 0:\n",
    "        print('Epoch: {}/{}, Loss: {:.10f}'.format(e + 1,NUM_TRIALS, loss.item()))\n"
   ]
  },
  {
   "cell_type": "markdown",
   "metadata": {},
   "source": [
    "Dopo aver allenato il modello valutiamo le prestazioni sul test set."
   ]
  },
  {
   "cell_type": "code",
   "execution_count": 55,
   "metadata": {},
   "outputs": [],
   "source": [
    "# Test mode\n",
    "net = net.eval()\n",
    "\n",
    "data_X = torch.from_numpy(test_X).float()\n",
    "var_data = Variable(data_X)\n",
    "pred_test = net(var_data)\n",
    "\n",
    "\n",
    "pred_test = pred_test.view(-1).data.numpy()\n",
    "pred_test = scaler.inverse_transform(pred_test.reshape(-1,1))"
   ]
  },
  {
   "cell_type": "markdown",
   "metadata": {},
   "source": [
    "Per visualizzare i risultati, plottiamo la sequenza completa e quella predetta. Per fare questo dobbiamo shiftare i valori predetti di un numero di passi pari alla dimensione del training set."
   ]
  },
  {
   "cell_type": "code",
   "execution_count": 56,
   "metadata": {},
   "outputs": [
    {
     "data": {
      "image/png": "[encoded data removed]",
      "text/plain": [
       "<Figure size 1296x576 with 1 Axes>"
      ]
     },
     "metadata": {
      "needs_background": "light"
     },
     "output_type": "display_data"
    }
   ],
   "source": [
    "# shift valori di test per visualizzazione\n",
    "test_plot = np.empty_like(dataset)\n",
    "test_plot[:,:] = np.nan\n",
    "test_plot[train_size+window_size:len(dataset), :] = pred_test\n",
    "\n",
    "plt.figure(figsize=(18,8))\n",
    "plt.plot(dataset, 'b', label='real')\n",
    "plt.plot(test_plot, '-.r', label='prediction')\n",
    "plt.legend(loc='best')\n",
    "plt.show()"
   ]
  },
  {
   "cell_type": "markdown",
   "metadata": {},
   "source": [
    "<img src=\"img/code.png\" style=\"width:150px; margin-right:30px; float:left\">\n",
    "<b>Esercizio 1</b>\n",
    "\n",
    "Implementare e allenare la rete vista per classificare nomi usando una LSTM."
   ]
  },
  {
   "cell_type": "markdown",
   "metadata": {},
   "source": [
    "<img src=\"img/code.png\" style=\"width:150px; margin-right:30px; float:left\">\n",
    "<b>Esercizio 2</b>\n",
    "\n",
    "Con riferimento al task 1: definire un range di valori per il parametro window_size, effettuare il training per ciascuno di questi valori e confrontare i risultati ottenuti variando tale parametro."
   ]
  },
  {
   "cell_type": "markdown",
   "metadata": {},
   "source": [
    "<img src=\"img/code.png\" style=\"width:150px; margin-right:30px; float:left\">\n",
    "<b>Esercizio 3</b>\n",
    "\n",
    "Con riferimento al task 2: definire una funzione che quantifica la bontà della predizione. Ad esempio si può definire una funzione che prende in input la sequenza di test e quella predetta e calcola il valore di Root Mean Squared Error (RMSE)."
   ]
  }
 ],
 "metadata": {
  "anaconda-cloud": {},
  "kernelspec": {
   "display_name": "Python 3",
   "language": "python",
   "name": "python3"
  },
  "language_info": {
   "codemirror_mode": {
    "name": "ipython",
    "version": 3
   },
   "file_extension": ".py",
   "mimetype": "text/x-python",
   "name": "python",
   "nbconvert_exporter": "python",
   "pygments_lexer": "ipython3",
   "version": "3.7.3"
  }
 },
 "nbformat": 4,
 "nbformat_minor": 1
}
