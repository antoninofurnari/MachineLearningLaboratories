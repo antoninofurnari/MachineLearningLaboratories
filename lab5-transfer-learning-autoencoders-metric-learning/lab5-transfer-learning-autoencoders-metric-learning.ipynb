{
 "cells": [
  {
   "cell_type": "markdown",
   "metadata": {},
   "source": [
    "<style>\n",
    ".rendered_html * + p, .rendered_html p {\n",
    "    text-align:justify;\n",
    "}\n",
    ".print {\n",
    "    display:none;\n",
    "}\n",
    ".highlight {\n",
    "    background:white;\n",
    "}\n",
    "@media print {\n",
    " a[href]:after {\n",
    "     content: \"\"\n",
    " }\n",
    " .noprint {\n",
    "  display:none\n",
    "  }\n",
    "  .print {\n",
    "        display:block;\n",
    "    }\n",
    "}\n",
    "</style>\n",
    "<head>\n",
    "    <base target=\"_blank\">\n",
    "</head>\n",
    "<div style=\"text-align:left\"><a href=\"http://web.dmi.unict.it/\"><img src=\"img/dmi.png\" style=\"width:300px; margin:0;\"></a></div>"
   ]
  },
  {
   "cell_type": "markdown",
   "metadata": {},
   "source": [
    "<a href=\"http://iplab.dmi.unict.it/\"><img src=\"img/iplab.png\" style=\"width:900px\"></a>\n",
    "<center><h2>Machine Learning - A.A. 2020-2021</h2></center>\n",
    "<center><h3>Transfer Learning, Autoencoders, Metric Learning</h3></center>\n",
    "<br>\n",
    "<center>Antonino Furnari - <a href=\"http://www.antoninofurnari.it/\" target=\"_blank\">http://www.antoninofurnari.it/</a> - <a href=\"mailto:furnari@dmi.unict.it\">furnari@dmi.unict.it</a> </center>\n",
    "<center>Giovanni Maria Farinella - <a href=\"http://www.dmi.unict.it/farinella/\" target=\"_blank\">http://www.dmi.unict.it/farinella/</a> - <a href=\"mailto:gfarinella@dmi.unict.it\">gfarinella@dmi.unict.it</a> </center>"
   ]
  },
  {
   "cell_type": "markdown",
   "metadata": {},
   "source": [
    "In questo laboratorio vedremo alcuni concetti più avanzati di transfer learning che ci permetteranno di riutilizzare modelli pre-allenati su grandi moli di dati. Ciò permette di migliorare l'accuracy dei modelli e di ridurre i tempi di training. Vedremo inoltre alcune tecniche di \"representation learning\", quali autoencoders e approcci per il metric learning come le reti Siamesi e Triplet."
   ]
  },
  {
   "cell_type": "markdown",
   "metadata": {},
   "source": [
    "# 1 Transfer Learning: Fine-tuning\n",
    "Il fine-tuning è la tecnica di più nota di transfer learning. Essa consiste nello specializzare un modello allenato per risolvere un determinato task per un task diverso. Ciò avviene caricando il modello pre-allenato con i rispettivi pesi, adattando la topologia della rete e \"continuando\" ad allenare il modello sul nuovo dataset. Abbiamo visto un esempio di questo processo nello scorso laboratorio, quando abbiamo adattato un modello allenato su CIFAR-100 per classificare le immagini di CIFAR-10.\n",
    "\n",
    "In pratica, nel caso di inferenza a partire da immagini, si considerano spesso modelli pre-allenati su uno specifico sub-set di ImageNet (http://www.image-net.org/), un grosso dataset contenente milioni di immagini suddivise in 1000 categorie. In questo laboratorio, vedremo i passaggi necessari per adattare alcuni modelli pre-allenati su imagenet per un nuovo task.\n",
    "\n",
    "Come task di destinazione, sceglieremo la classificazione delle immagini del dataset Caltech101, che contiene immagini suddivise in $101$ categorie. Si veda la seguente pagina per maggiori dettagli: http://www.vision.caltech.edu/Image_Datasets/Caltech101/."
   ]
  },
  {
   "cell_type": "markdown",
   "metadata": {},
   "source": [
    "## 1.1 Preparazione dei dati\n",
    "Iniziamo scaricando il dataset dal seguente link: \n",
    "\n",
    "<center><a href='http://www.vision.caltech.edu/Image_Datasets/Caltech101/101_ObjectCategories.tar.gz'>http://www.vision.caltech.edu/Image_Datasets/Caltech101/101_ObjectCategories.tar.gz</a>\n",
    "</center>\n",
    "\n",
    "Estraiamo il contenuto dell'archivio in una directory `Caltech101`. Rinominiamo dunque la cartella `101_ObjectCategories` estratta in `images`. Notiamo che `images` contiene in realtà $102$ cartelle. Ciò è dovuto al fatto che il dataset contiene anche una categoria `BACKGROUND_Google` contenente immagini di \"background\" non appartenenti a nessuna delle categorie in oggetto. In questo laboratorio escluderemo questa categoria. Elimiamo pertanto la cartella `BACKGROUND_Google` dall'archivio.\n",
    "\n",
    "Otteniamo la lista delle classi (ovvero l'elenco delle sottocartelle contenute in `Caltech101/images`):"
   ]
  },
  {
   "cell_type": "code",
   "execution_count": 1,
   "metadata": {},
   "outputs": [
    {
     "name": "stdout",
     "output_type": "stream",
     "text": [
      "['llama', 'ceiling_fan', 'helicopter', 'camera', 'airplanes', 'hawksbill', 'minaret', 'laptop', 'buddha', 'schooner', 'pagoda', 'cougar_body', 'metronome', 'okapi', 'kangaroo', 'BACKGROUND_Google', 'dragonfly', 'crab', 'crocodile', 'lobster', 'grand_piano', 'snoopy', 'emu', 'cellphone', 'chandelier', 'flamingo_head', 'beaver', 'mayfly', 'lamp', 'rhino', 'wheelchair', 'barrel', 'hedgehog', 'dollar_bill', 'bonsai', 'ant', 'windsor_chair', 'sunflower', 'electric_guitar', 'panda', 'brontosaurus', 'platypus', 'Faces', 'flamingo', 'ferry', 'tick', 'starfish', 'ketch', 'wild_cat', 'yin_yang', 'mandolin', 'euphonium', 'water_lilly', 'cougar_face', 'strawberry', 'gerenuk', 'dalmatian', 'watch', 'cup', 'crocodile_head', 'sea_horse', 'cannon', 'rooster', 'pizza', 'wrench', 'Motorbikes', 'ibis', 'stegosaurus', 'ewer', 'headphone', 'anchor', 'soccer_ball', 'butterfly', 'car_side', 'pyramid', 'scissors', 'octopus', 'scorpion', 'bass', 'dolphin', 'joshua_tree', 'saxophone', 'inline_skate', 'stapler', 'Leopards', 'chair', 'menorah', 'accordion', 'pigeon', 'elephant', 'brain', 'crayfish', 'nautilus', 'gramophone', 'trilobite', 'lotus', 'garfield', 'revolver', 'Faces_easy', 'binocular', 'stop_sign', 'umbrella']\n"
     ]
    }
   ],
   "source": [
    "from glob import glob\n",
    "from os.path import basename\n",
    "#elenchiamo le classi\n",
    "classes = glob('Caltech101/images/*')\n",
    "#estraiamo il nome della classe dal path completo\n",
    "classes = [basename(c) for c in classes]\n",
    "print(classes)"
   ]
  },
  {
   "cell_type": "markdown",
   "metadata": {},
   "source": [
    "Costruiamo adesso un dizionario che mappi le classi su id numerici. Ci servirà in seguito."
   ]
  },
  {
   "cell_type": "code",
   "execution_count": 2,
   "metadata": {},
   "outputs": [
    {
     "name": "stdout",
     "output_type": "stream",
     "text": [
      "{'llama': 0, 'ceiling_fan': 1, 'helicopter': 2, 'camera': 3, 'airplanes': 4, 'hawksbill': 5, 'minaret': 6, 'laptop': 7, 'buddha': 8, 'schooner': 9, 'pagoda': 10, 'cougar_body': 11, 'metronome': 12, 'okapi': 13, 'kangaroo': 14, 'BACKGROUND_Google': 15, 'dragonfly': 16, 'crab': 17, 'crocodile': 18, 'lobster': 19, 'grand_piano': 20, 'snoopy': 21, 'emu': 22, 'cellphone': 23, 'chandelier': 24, 'flamingo_head': 25, 'beaver': 26, 'mayfly': 27, 'lamp': 28, 'rhino': 29, 'wheelchair': 30, 'barrel': 31, 'hedgehog': 32, 'dollar_bill': 33, 'bonsai': 34, 'ant': 35, 'windsor_chair': 36, 'sunflower': 37, 'electric_guitar': 38, 'panda': 39, 'brontosaurus': 40, 'platypus': 41, 'Faces': 42, 'flamingo': 43, 'ferry': 44, 'tick': 45, 'starfish': 46, 'ketch': 47, 'wild_cat': 48, 'yin_yang': 49, 'mandolin': 50, 'euphonium': 51, 'water_lilly': 52, 'cougar_face': 53, 'strawberry': 54, 'gerenuk': 55, 'dalmatian': 56, 'watch': 57, 'cup': 58, 'crocodile_head': 59, 'sea_horse': 60, 'cannon': 61, 'rooster': 62, 'pizza': 63, 'wrench': 64, 'Motorbikes': 65, 'ibis': 66, 'stegosaurus': 67, 'ewer': 68, 'headphone': 69, 'anchor': 70, 'soccer_ball': 71, 'butterfly': 72, 'car_side': 73, 'pyramid': 74, 'scissors': 75, 'octopus': 76, 'scorpion': 77, 'bass': 78, 'dolphin': 79, 'joshua_tree': 80, 'saxophone': 81, 'inline_skate': 82, 'stapler': 83, 'Leopards': 84, 'chair': 85, 'menorah': 86, 'accordion': 87, 'pigeon': 88, 'elephant': 89, 'brain': 90, 'crayfish': 91, 'nautilus': 92, 'gramophone': 93, 'trilobite': 94, 'lotus': 95, 'garfield': 96, 'revolver': 97, 'Faces_easy': 98, 'binocular': 99, 'stop_sign': 100, 'umbrella': 101}\n"
     ]
    }
   ],
   "source": [
    "class_dict = {c : i for i , c in enumerate(classes)}\n",
    "print(class_dict)"
   ]
  },
  {
   "cell_type": "markdown",
   "metadata": {},
   "source": [
    "Otteniamo la lista di tutte le immagini:"
   ]
  },
  {
   "cell_type": "code",
   "execution_count": 3,
   "metadata": {},
   "outputs": [
    {
     "name": "stdout",
     "output_type": "stream",
     "text": [
      "['Caltech101/images/llama/image_0007.jpg', 'Caltech101/images/llama/image_0053.jpg', 'Caltech101/images/llama/image_0014.jpg', 'Caltech101/images/llama/image_0002.jpg', 'Caltech101/images/llama/image_0009.jpg', 'Caltech101/images/llama/image_0068.jpg', 'Caltech101/images/llama/image_0064.jpg', 'Caltech101/images/llama/image_0061.jpg', 'Caltech101/images/llama/image_0006.jpg', 'Caltech101/images/llama/image_0021.jpg']\n"
     ]
    }
   ],
   "source": [
    "image_paths = glob('Caltech101/*/*/*')\n",
    "print(image_paths[:10])"
   ]
  },
  {
   "cell_type": "markdown",
   "metadata": {},
   "source": [
    "Rimuoviamo il prefisso `Caltech1010` da ogni immagine in modo che i path facciano riferimo alla directory radice del dataset:"
   ]
  },
  {
   "cell_type": "code",
   "execution_count": 4,
   "metadata": {},
   "outputs": [
    {
     "name": "stdout",
     "output_type": "stream",
     "text": [
      "['images/llama/image_0007.jpg', 'images/llama/image_0053.jpg', 'images/llama/image_0014.jpg', 'images/llama/image_0002.jpg', 'images/llama/image_0009.jpg', 'images/llama/image_0068.jpg', 'images/llama/image_0064.jpg', 'images/llama/image_0061.jpg', 'images/llama/image_0006.jpg', 'images/llama/image_0021.jpg']\n"
     ]
    }
   ],
   "source": [
    "image_paths = [\"/\".join(p.split('/')[1:]) for p in image_paths]\n",
    "print(image_paths[:10])"
   ]
  },
  {
   "cell_type": "markdown",
   "metadata": {},
   "source": [
    "Scriviamo una funzione che associ la classe corretta sulla base del path:"
   ]
  },
  {
   "cell_type": "code",
   "execution_count": 5,
   "metadata": {},
   "outputs": [],
   "source": [
    "def class_from_path(path):\n",
    "    _, cl, _ = path.split('/')\n",
    "    return class_dict[cl]"
   ]
  },
  {
   "cell_type": "markdown",
   "metadata": {},
   "source": [
    "Otteniamo la lista delle etichette relative a `images`:"
   ]
  },
  {
   "cell_type": "code",
   "execution_count": 6,
   "metadata": {},
   "outputs": [
    {
     "name": "stdout",
     "output_type": "stream",
     "text": [
      "[0, 0, 0, 0, 0, 0, 0, 0, 0, 0]\n"
     ]
    }
   ],
   "source": [
    "labels = [class_from_path(im) for im in image_paths]\n",
    "print(labels[:10])"
   ]
  },
  {
   "cell_type": "markdown",
   "metadata": {},
   "source": [
    "Costruiamo adesso un dataframe di Pandas che contenga due colonne: una che riporta i path alle immagini, l'altra contenente le etichette."
   ]
  },
  {
   "cell_type": "code",
   "execution_count": 7,
   "metadata": {},
   "outputs": [
    {
     "data": {
      "text/html": [
       "<div>\n",
       "<style scoped>\n",
       "    .dataframe tbody tr th:only-of-type {\n",
       "        vertical-align: middle;\n",
       "    }\n",
       "\n",
       "    .dataframe tbody tr th {\n",
       "        vertical-align: top;\n",
       "    }\n",
       "\n",
       "    .dataframe thead th {\n",
       "        text-align: right;\n",
       "    }\n",
       "</style>\n",
       "<table border=\"1\" class=\"dataframe\">\n",
       "  <thead>\n",
       "    <tr style=\"text-align: right;\">\n",
       "      <th></th>\n",
       "      <th>path</th>\n",
       "      <th>label</th>\n",
       "    </tr>\n",
       "  </thead>\n",
       "  <tbody>\n",
       "    <tr>\n",
       "      <th>0</th>\n",
       "      <td>images/llama/image_0007.jpg</td>\n",
       "      <td>0</td>\n",
       "    </tr>\n",
       "    <tr>\n",
       "      <th>1</th>\n",
       "      <td>images/llama/image_0053.jpg</td>\n",
       "      <td>0</td>\n",
       "    </tr>\n",
       "    <tr>\n",
       "      <th>2</th>\n",
       "      <td>images/llama/image_0014.jpg</td>\n",
       "      <td>0</td>\n",
       "    </tr>\n",
       "    <tr>\n",
       "      <th>3</th>\n",
       "      <td>images/llama/image_0002.jpg</td>\n",
       "      <td>0</td>\n",
       "    </tr>\n",
       "    <tr>\n",
       "      <th>4</th>\n",
       "      <td>images/llama/image_0009.jpg</td>\n",
       "      <td>0</td>\n",
       "    </tr>\n",
       "  </tbody>\n",
       "</table>\n",
       "</div>"
      ],
      "text/plain": [
       "                          path  label\n",
       "0  images/llama/image_0007.jpg      0\n",
       "1  images/llama/image_0053.jpg      0\n",
       "2  images/llama/image_0014.jpg      0\n",
       "3  images/llama/image_0002.jpg      0\n",
       "4  images/llama/image_0009.jpg      0"
      ]
     },
     "execution_count": 7,
     "metadata": {},
     "output_type": "execute_result"
    }
   ],
   "source": [
    "import pandas as pd\n",
    "dataset = pd.DataFrame({'path':image_paths, 'label':labels})\n",
    "dataset.head()"
   ]
  },
  {
   "cell_type": "markdown",
   "metadata": {},
   "source": [
    "Il dataframe contiene adesso le informazioni che ci servono per caricare i dati da file e fare training/test degli algoritmi. Dobbiamo però suddividere il dataset in training/validation/test set. Utilizzeremo la funzione `train_test_split` di `scikit-learn` che permette di suddividere un dataframe in training e test set. Dato che a noi serve anche un validation set, applicheremo la funzione due volte. Definiamo una funzione che effettui lo split per noi:"
   ]
  },
  {
   "cell_type": "code",
   "execution_count": 8,
   "metadata": {},
   "outputs": [],
   "source": [
    "from sklearn.model_selection import train_test_split\n",
    "def split_train_val_test(dataset, perc=[0.6, 0.1, 0.3]):\n",
    "    train, testval = train_test_split(dataset, test_size = perc[1]+perc[2])\n",
    "    val, test = train_test_split(testval, test_size = perc[2]/(perc[1]+perc[2]))\n",
    "    return train, val, test"
   ]
  },
  {
   "cell_type": "markdown",
   "metadata": {},
   "source": [
    "Abbiamo definito la funzione in modo da utilizzare di default in 60% per training, il 10% per validation e il 30% per test. Utilizzeremo questi valori di default per il nostro split. Impostiamo un seed e effettuiamo lo split:"
   ]
  },
  {
   "cell_type": "code",
   "execution_count": 9,
   "metadata": {},
   "outputs": [
    {
     "name": "stdout",
     "output_type": "stream",
     "text": [
      "5487\n",
      "914\n",
      "2744\n"
     ]
    }
   ],
   "source": [
    "import numpy as np\n",
    "import random\n",
    "random.seed(1395)\n",
    "np.random.seed(1359)\n",
    "train, val, test = split_train_val_test(dataset)\n",
    "print(len(train))\n",
    "print(len(val))\n",
    "print(len(test))"
   ]
  },
  {
   "cell_type": "markdown",
   "metadata": {},
   "source": [
    "A questo punto salviamo i tre dataframe su csv:"
   ]
  },
  {
   "cell_type": "code",
   "execution_count": 10,
   "metadata": {},
   "outputs": [],
   "source": [
    "train.to_csv('Caltech101/train.csv', index=None)\n",
    "val.to_csv('Caltech101/valid.csv', index=None)\n",
    "test.to_csv('Caltech101/test.csv', index=None)"
   ]
  },
  {
   "cell_type": "markdown",
   "metadata": {},
   "source": [
    "Conserviamo anche un csv con le corrispondenze tra classi e id:"
   ]
  },
  {
   "cell_type": "code",
   "execution_count": 11,
   "metadata": {},
   "outputs": [],
   "source": [
    "classes, ids = zip(*class_dict.items())\n",
    "classes = pd.DataFrame({'id':ids, 'class':classes}).set_index('id')\n",
    "classes.to_csv('Caltech101/classes.csv')"
   ]
  },
  {
   "cell_type": "markdown",
   "metadata": {},
   "source": [
    "Costruiamo adesso una classe dataset che ci permetta di caricare le immagini dal disco a partire dal csv."
   ]
  },
  {
   "cell_type": "code",
   "execution_count": 12,
   "metadata": {},
   "outputs": [],
   "source": [
    "import torch\n",
    "from torch.utils import data\n",
    "from os.path import join\n",
    "from PIL import Image\n",
    "\n",
    "class CSVImageDataset(data.Dataset):\n",
    "    def __init__(self, data_root, csv, transform = None):\n",
    "        self.data_root = data_root\n",
    "        self.data = pd.read_csv(csv)\n",
    "        self.transform = transform\n",
    "    \n",
    "    def __len__(self):\n",
    "        return len(self.data)\n",
    "    \n",
    "    def __getitem__(self, i):\n",
    "        im_path, im_label = self.data.iloc[i]['path'], self.data.iloc[i].label\n",
    "        #il dataset contiene alcune immagini in scala di grigi\n",
    "        #convertiamo tutto in RGB per avere delle immagini consistenti\n",
    "        im = Image.open(join(self.data_root,im_path)).convert('RGB')\n",
    "        \n",
    "        if self.transform is not None:\n",
    "            im = self.transform(im)\n",
    "        \n",
    "        return im, im_label"
   ]
  },
  {
   "cell_type": "markdown",
   "metadata": {},
   "source": [
    "<img src=\"img/qmark.jpg\" style=\"width:150px; float:left;\"/>\n",
    "\n",
    "**Domanda 1**\n",
    "\n",
    "Qual è il vantaggio della struttura che abbiamo dato al dataset? (immagini in una cartella + file csv)?"
   ]
  },
  {
   "cell_type": "markdown",
   "metadata": {},
   "source": [
    "<img style=\"float: left;width:150px;\" src=\"img/note.png\">\n",
    "\n",
    "**Risposta 1**\n",
    "\n",
    "<div style=\"background-color:#efefef; margin-left:150px; border:solid 1px; border-color:#dddddd; border-radius: 3px;\">\n",
    "<br><br><br><br><br><br>\n",
    "</div>"
   ]
  },
  {
   "cell_type": "markdown",
   "metadata": {},
   "source": [
    "Carichiamo le classi da file e trasformiamo il dataframe in un dizionario:"
   ]
  },
  {
   "cell_type": "code",
   "execution_count": 13,
   "metadata": {},
   "outputs": [],
   "source": [
    "classes = pd.read_csv('Caltech101/classes.csv').to_dict()['class']"
   ]
  },
  {
   "cell_type": "markdown",
   "metadata": {},
   "source": [
    "Costruiamo i dataset di training, validation e test:"
   ]
  },
  {
   "cell_type": "code",
   "execution_count": 14,
   "metadata": {},
   "outputs": [],
   "source": [
    "dataset_train = CSVImageDataset('Caltech101/','Caltech101/train.csv')\n",
    "dataset_valid = CSVImageDataset('Caltech101/','Caltech101/valid.csv')\n",
    "dataset_test = CSVImageDataset('Caltech101/','Caltech101/test.csv')"
   ]
  },
  {
   "cell_type": "markdown",
   "metadata": {},
   "source": [
    "Visualizziamo una immagine di training con la rispettiva classe:"
   ]
  },
  {
   "cell_type": "code",
   "execution_count": 15,
   "metadata": {},
   "outputs": [
    {
     "name": "stdout",
     "output_type": "stream",
     "text": [
      "Class id: 24 Class name: chandelier\n"
     ]
    },
    {
     "data": {
      "image/png": "[encoded data removed]",
      "text/plain": [
       "<PIL.Image.Image image mode=RGB size=213x300 at 0x7F96954C3EB8>"
      ]
     },
     "execution_count": 15,
     "metadata": {},
     "output_type": "execute_result"
    }
   ],
   "source": [
    "im, lab = dataset_train[0]\n",
    "print('Class id:',lab, 'Class name:',classes[lab])\n",
    "im"
   ]
  },
  {
   "cell_type": "markdown",
   "metadata": {},
   "source": [
    "## 1.2 Preparazione del modello\n",
    "Vediamo adesso come adattare un modello pre-allenato su Imagenet per il nostro task di classificazione. PyTorch mette a disposizione diversi modelli pre-allenati, come spiegato qui: https://pytorch.org/docs/master/torchvision/models.html. La pagina riporta anche una tabella con gli errori Top-1 e Top-5 dei vari modelli. Un modello con errori più bassi è generalmente migliore, ma i diversi modelli possono richiedere più memoria e dati di training a seconda delle loro dimensioni. Vediamo di seguito come adattare alcuni dei modelli più comuni per il nuovo task."
   ]
  },
  {
   "cell_type": "markdown",
   "metadata": {},
   "source": [
    "### AlexNet\n",
    "AlexNet è la prima CNN utilizzata con successo su ImageNet. Carichiamo il modello:"
   ]
  },
  {
   "cell_type": "code",
   "execution_count": 16,
   "metadata": {},
   "outputs": [
    {
     "data": {
      "text/plain": [
       "AlexNet(\n",
       "  (features): Sequential(\n",
       "    (0): Conv2d(3, 64, kernel_size=(11, 11), stride=(4, 4), padding=(2, 2))\n",
       "    (1): ReLU(inplace=True)\n",
       "    (2): MaxPool2d(kernel_size=3, stride=2, padding=0, dilation=1, ceil_mode=False)\n",
       "    (3): Conv2d(64, 192, kernel_size=(5, 5), stride=(1, 1), padding=(2, 2))\n",
       "    (4): ReLU(inplace=True)\n",
       "    (5): MaxPool2d(kernel_size=3, stride=2, padding=0, dilation=1, ceil_mode=False)\n",
       "    (6): Conv2d(192, 384, kernel_size=(3, 3), stride=(1, 1), padding=(1, 1))\n",
       "    (7): ReLU(inplace=True)\n",
       "    (8): Conv2d(384, 256, kernel_size=(3, 3), stride=(1, 1), padding=(1, 1))\n",
       "    (9): ReLU(inplace=True)\n",
       "    (10): Conv2d(256, 256, kernel_size=(3, 3), stride=(1, 1), padding=(1, 1))\n",
       "    (11): ReLU(inplace=True)\n",
       "    (12): MaxPool2d(kernel_size=3, stride=2, padding=0, dilation=1, ceil_mode=False)\n",
       "  )\n",
       "  (avgpool): AdaptiveAvgPool2d(output_size=(6, 6))\n",
       "  (classifier): Sequential(\n",
       "    (0): Dropout(p=0.5, inplace=False)\n",
       "    (1): Linear(in_features=9216, out_features=4096, bias=True)\n",
       "    (2): ReLU(inplace=True)\n",
       "    (3): Dropout(p=0.5, inplace=False)\n",
       "    (4): Linear(in_features=4096, out_features=4096, bias=True)\n",
       "    (5): ReLU(inplace=True)\n",
       "    (6): Linear(in_features=4096, out_features=1000, bias=True)\n",
       "  )\n",
       ")"
      ]
     },
     "execution_count": 16,
     "metadata": {},
     "output_type": "execute_result"
    }
   ],
   "source": [
    "from torchvision.models import alexnet\n",
    "model = alexnet()\n",
    "model"
   ]
  },
  {
   "cell_type": "markdown",
   "metadata": {},
   "source": [
    "Il modello appena caricato è inizializzato in maniera casuale come avviene in genere quando si costruisce un nuovo modello. Se vogliamo ottenre il modello pre-allenato su ImageNet, dobbiamo costruire l'oggetto come segue:"
   ]
  },
  {
   "cell_type": "code",
   "execution_count": 17,
   "metadata": {},
   "outputs": [],
   "source": [
    "model = alexnet(pretrained=True)"
   ]
  },
  {
   "cell_type": "markdown",
   "metadata": {},
   "source": [
    "Alla prima esecuzione di questa riga di codice, il modello verrà automaticamente scaricato e inserito in una cache. Alle successive esecuzioni, verrà utilizzata la versione in cache. Visualizziamo nuovamente il modello: "
   ]
  },
  {
   "cell_type": "code",
   "execution_count": 18,
   "metadata": {},
   "outputs": [
    {
     "data": {
      "text/plain": [
       "AlexNet(\n",
       "  (features): Sequential(\n",
       "    (0): Conv2d(3, 64, kernel_size=(11, 11), stride=(4, 4), padding=(2, 2))\n",
       "    (1): ReLU(inplace=True)\n",
       "    (2): MaxPool2d(kernel_size=3, stride=2, padding=0, dilation=1, ceil_mode=False)\n",
       "    (3): Conv2d(64, 192, kernel_size=(5, 5), stride=(1, 1), padding=(2, 2))\n",
       "    (4): ReLU(inplace=True)\n",
       "    (5): MaxPool2d(kernel_size=3, stride=2, padding=0, dilation=1, ceil_mode=False)\n",
       "    (6): Conv2d(192, 384, kernel_size=(3, 3), stride=(1, 1), padding=(1, 1))\n",
       "    (7): ReLU(inplace=True)\n",
       "    (8): Conv2d(384, 256, kernel_size=(3, 3), stride=(1, 1), padding=(1, 1))\n",
       "    (9): ReLU(inplace=True)\n",
       "    (10): Conv2d(256, 256, kernel_size=(3, 3), stride=(1, 1), padding=(1, 1))\n",
       "    (11): ReLU(inplace=True)\n",
       "    (12): MaxPool2d(kernel_size=3, stride=2, padding=0, dilation=1, ceil_mode=False)\n",
       "  )\n",
       "  (avgpool): AdaptiveAvgPool2d(output_size=(6, 6))\n",
       "  (classifier): Sequential(\n",
       "    (0): Dropout(p=0.5, inplace=False)\n",
       "    (1): Linear(in_features=9216, out_features=4096, bias=True)\n",
       "    (2): ReLU(inplace=True)\n",
       "    (3): Dropout(p=0.5, inplace=False)\n",
       "    (4): Linear(in_features=4096, out_features=4096, bias=True)\n",
       "    (5): ReLU(inplace=True)\n",
       "    (6): Linear(in_features=4096, out_features=1000, bias=True)\n",
       "  )\n",
       ")"
      ]
     },
     "execution_count": 18,
     "metadata": {},
     "output_type": "execute_result"
    }
   ],
   "source": [
    "model"
   ]
  },
  {
   "cell_type": "markdown",
   "metadata": {},
   "source": [
    "Per come è costruito, il modello da in output $1000$ class scores. Il nostro problema di classificazione è però basato su $101$ classi. La prima cosa da fare per adattare il modello consiste nel ridefinire l'ultimo layer di tipo `Linear` per restituire $101$ valori. Ciò si può fare semplicemente come segue:"
   ]
  },
  {
   "cell_type": "code",
   "execution_count": 19,
   "metadata": {},
   "outputs": [],
   "source": [
    "from torch import nn\n",
    "model.classifier[6] = nn.Linear(4096, 101)"
   ]
  },
  {
   "cell_type": "code",
   "execution_count": 20,
   "metadata": {},
   "outputs": [
    {
     "data": {
      "text/plain": [
       "AlexNet(\n",
       "  (features): Sequential(\n",
       "    (0): Conv2d(3, 64, kernel_size=(11, 11), stride=(4, 4), padding=(2, 2))\n",
       "    (1): ReLU(inplace=True)\n",
       "    (2): MaxPool2d(kernel_size=3, stride=2, padding=0, dilation=1, ceil_mode=False)\n",
       "    (3): Conv2d(64, 192, kernel_size=(5, 5), stride=(1, 1), padding=(2, 2))\n",
       "    (4): ReLU(inplace=True)\n",
       "    (5): MaxPool2d(kernel_size=3, stride=2, padding=0, dilation=1, ceil_mode=False)\n",
       "    (6): Conv2d(192, 384, kernel_size=(3, 3), stride=(1, 1), padding=(1, 1))\n",
       "    (7): ReLU(inplace=True)\n",
       "    (8): Conv2d(384, 256, kernel_size=(3, 3), stride=(1, 1), padding=(1, 1))\n",
       "    (9): ReLU(inplace=True)\n",
       "    (10): Conv2d(256, 256, kernel_size=(3, 3), stride=(1, 1), padding=(1, 1))\n",
       "    (11): ReLU(inplace=True)\n",
       "    (12): MaxPool2d(kernel_size=3, stride=2, padding=0, dilation=1, ceil_mode=False)\n",
       "  )\n",
       "  (avgpool): AdaptiveAvgPool2d(output_size=(6, 6))\n",
       "  (classifier): Sequential(\n",
       "    (0): Dropout(p=0.5, inplace=False)\n",
       "    (1): Linear(in_features=9216, out_features=4096, bias=True)\n",
       "    (2): ReLU(inplace=True)\n",
       "    (3): Dropout(p=0.5, inplace=False)\n",
       "    (4): Linear(in_features=4096, out_features=4096, bias=True)\n",
       "    (5): ReLU(inplace=True)\n",
       "    (6): Linear(in_features=4096, out_features=101, bias=True)\n",
       "  )\n",
       ")"
      ]
     },
     "execution_count": 20,
     "metadata": {},
     "output_type": "execute_result"
    }
   ],
   "source": [
    "model"
   ]
  },
  {
   "cell_type": "markdown",
   "metadata": {},
   "source": [
    "### VGG16\n",
    "\n",
    "VGG16 può essere vista come una estensione di AlexNet: la struttura è simile, ma la rete contiene molti più livelli ed è dunque sia più pesante (in termini di tempi di training e memoria richiesta) che più performante. L'adattamento di VGG16 avviene in maniera simile a quanto visto per AlexNet:"
   ]
  },
  {
   "cell_type": "code",
   "execution_count": 21,
   "metadata": {},
   "outputs": [],
   "source": [
    "from torchvision.models import vgg16\n",
    "model = vgg16(pretrained=True)\n",
    "### adattamento\n",
    "num_class = 101\n",
    "model.classifier[6] = nn.Linear(4096, num_class)"
   ]
  },
  {
   "cell_type": "markdown",
   "metadata": {},
   "source": [
    "### GoogleNet\n",
    "GoogleNet è una rete dalle performance simili a quelle di VGG16 ma molto più compatta e veloce. La struttura della rete è diversa in quanto GoogleNet rimpiazza la maggior parte dei layer fully connected di modelli di tipo LeNet/AlexNet/VGG con convoluzioni. Carichiamo e visualizziamo il modello. Per farlo avremo bisogno di una versione di `torchvision` uguale o superiore alla `0.3`. Aggiorniamolo se necessario con: `conda upgrade torchvision`. L'adattamento avviene così:"
   ]
  },
  {
   "cell_type": "code",
   "execution_count": 22,
   "metadata": {},
   "outputs": [],
   "source": [
    "from torchvision.models.googlenet import googlenet\n",
    "model = googlenet(pretrained=True)\n",
    "### adattamento\n",
    "num_class = 101\n",
    "model.fc = nn.Linear(1024, num_class)"
   ]
  },
  {
   "cell_type": "markdown",
   "metadata": {},
   "source": [
    "### Resnet\n",
    "Esistono diverse varianti di Resnet con diversi numeri di livelli: Resnet18, Resnet34, Resnet50, Resnet101, e Resnet152. Tutti questi modelli sono disponibili in torchvision e possono essere adattati in maniera simile. I modelli con un numero minore di livelli raggiungono accuracy minori ma sono più veloci e occupano meno spazio in memoria. Vediamo come adattare resnet18:"
   ]
  },
  {
   "cell_type": "markdown",
   "metadata": {},
   "source": [
    "##### Resnet18"
   ]
  },
  {
   "cell_type": "code",
   "execution_count": 23,
   "metadata": {},
   "outputs": [],
   "source": [
    "from torchvision.models import resnet18\n",
    "model = resnet18(pretrained=True)\n",
    "### adattamento\n",
    "num_class = 101\n",
    "model.fc = nn.Linear(512, num_class)\n",
    "model.num_classes = num_class"
   ]
  },
  {
   "cell_type": "markdown",
   "metadata": {},
   "source": [
    "### Squeezenet\n",
    "\n",
    "Squeezenet è un modello molto compatto e veloce: occupa pochi megabyte in memoria e può essere utilizzato su CPU in fase di inferenza. Le performance di Squeezenet sono comparabili a quelle di AlexNet, che è però molto più lenta/pesante. La struttura di Squeezenet è leggermente diversa da quella degli altri modelli. Esistono più versioni di Squeezenet. Noi utilizzeremo la 1.0. L'adattamento avviene così:"
   ]
  },
  {
   "cell_type": "code",
   "execution_count": 24,
   "metadata": {},
   "outputs": [],
   "source": [
    "from torchvision.models import squeezenet1_0\n",
    "model = squeezenet1_0(pretrained=True)\n",
    "### adattamento\n",
    "num_class = 101\n",
    "model.classifier[1] = nn.Conv2d(512, num_class, kernel_size=(1, 1), stride=(1, 1))\n",
    "model.num_classes = num_class"
   ]
  },
  {
   "cell_type": "markdown",
   "metadata": {},
   "source": [
    "Vista la compattezza di Squeezenet, in questo laboratorio utilizzeremo questo modello. A tale scopo, costruiamo una funzione che ci permetta di caricare e modificare il modello in maniera semplice:"
   ]
  },
  {
   "cell_type": "code",
   "execution_count": 25,
   "metadata": {},
   "outputs": [],
   "source": [
    "from torch import nn\n",
    "from torchvision.models import squeezenet1_0\n",
    "\n",
    "def get_model(num_class=101):\n",
    "    model = squeezenet1_0(pretrained=True)\n",
    "    num_class = 101\n",
    "    model.classifier[1] = nn.Conv2d(512, num_class, kernel_size=(1, 1), stride=(1, 1))\n",
    "    model.num_classes = num_class\n",
    "    return model"
   ]
  },
  {
   "cell_type": "markdown",
   "metadata": {},
   "source": [
    "## 1.3 Preprocessing dei dati\n",
    "Tutte le reti viste sono state allenate su Imagenet e richiedono in input immagini a colori $224 \\times 224$ normalizzate sottraendo determinati valori medi RGB e dividendo per determinate deviazioni standard. Questa normalizzazione si ottiene in pratica applicando la seguente normalizzazione `transforms.Normalize([0.485, 0.456, 0.406], [0.229, 0.224, 0.225])`.\n",
    "\n",
    "In pratica, in fase di training, conviene inserire data augmentation come visto negli scorsi laboratori. Definiamo la transform di training:"
   ]
  },
  {
   "cell_type": "code",
   "execution_count": 26,
   "metadata": {},
   "outputs": [],
   "source": [
    "from torchvision import transforms\n",
    "train_transform = transforms.Compose([\n",
    "        transforms.Resize(256),\n",
    "        transforms.RandomCrop(224),\n",
    "        transforms.RandomHorizontalFlip(),\n",
    "        transforms.ToTensor(),\n",
    "        transforms.Normalize([0.485, 0.456, 0.406], [0.229, 0.224, 0.225])\n",
    "    ])"
   ]
  },
  {
   "cell_type": "markdown",
   "metadata": {},
   "source": [
    "In pratica:\n",
    " * `transforms.Resize(256)` ridimensiona l'immagine in input in modo che il lato più piccolo sia pari a $256$. Questa operazione serve a ridurre l'influenza della presenza di immagini a risoluzioni diverse nel dataset;\n",
    " * `transforms.RandomCrop(224)` effettua un crop quadrato casuale di dimensione $224 \\times 224$;\n",
    " * `transforms.RandomHorizontalFlip()` effettua un flip orizzontale con probabilità $0.5$;\n",
    " * `transforms.ToTensor()` converte le immagini PIL in tensori di PyTorch;\n",
    " * `transforms.Normalize([0.485, 0.456, 0.406], [0.229, 0.224, 0.225])` normalizza i dati in maniera appropriata.\n",
    " \n",
    "In fase di test, applichiamo una trasformazione simile ma sostituiamo `RandomCrop` con `CenterCrop`. Questo in pratica serve a far sì che la fase di test sia sempre deterministica."
   ]
  },
  {
   "cell_type": "code",
   "execution_count": 27,
   "metadata": {},
   "outputs": [],
   "source": [
    "test_transform = transforms.Compose([\n",
    "        transforms.Resize(256),\n",
    "        transforms.CenterCrop(224),\n",
    "        transforms.RandomHorizontalFlip(),\n",
    "        transforms.ToTensor(),\n",
    "        transforms.Normalize([0.485, 0.456, 0.406], [0.229, 0.224, 0.225])\n",
    "    ])"
   ]
  },
  {
   "cell_type": "markdown",
   "metadata": {},
   "source": [
    "<img src=\"img/qmark.jpg\" style=\"width:150px; float:left;\"/>\n",
    "\n",
    "**Domanda 2**\n",
    "\n",
    "Come mai non abbiamo specificato `CenterCrop` anche in fase di training? Quali sarebbero i rischi di fare una cosa del genere?"
   ]
  },
  {
   "cell_type": "markdown",
   "metadata": {},
   "source": [
    "<img style=\"float: left;width:150px;\" src=\"img/note.png\">\n",
    "\n",
    "**Risposta 2**\n",
    "\n",
    "<div style=\"background-color:#efefef; margin-left:150px; border:solid 1px; border-color:#dddddd; border-radius: 3px;\">\n",
    "<br><br><br><br><br><br>\n",
    "</div>"
   ]
  },
  {
   "cell_type": "markdown",
   "metadata": {},
   "source": [
    "Ridefiniamo il dataset includendo le transform e definiamo i dataloader. Utilizzeremo un batch size di $32$ immagini:"
   ]
  },
  {
   "cell_type": "code",
   "execution_count": 28,
   "metadata": {},
   "outputs": [],
   "source": [
    "from torch.utils.data import DataLoader\n",
    "caltech101_train = CSVImageDataset('Caltech101/','Caltech101/train.csv', transform = train_transform)\n",
    "caltech101_valid = CSVImageDataset('Caltech101/','Caltech101/valid.csv', transform = test_transform)\n",
    "caltech101_test = CSVImageDataset('Caltech101/','Caltech101/test.csv', transform = test_transform)\n",
    "\n",
    "caltech101_train_loader = DataLoader(caltech101_train, batch_size=32, num_workers=2, shuffle=True)\n",
    "caltech101_valid_loader = DataLoader(caltech101_valid, batch_size=32, num_workers=2)\n",
    "caltech101_test_loader = DataLoader(caltech101_test, batch_size=32, num_workers=2)"
   ]
  },
  {
   "cell_type": "markdown",
   "metadata": {},
   "source": [
    "## 1.4 Allenamento del modello\n",
    "Alleniamo adesso il modello sul nuovo dataset. Definiamo una funzione per effettuare l'allenamento come visto negli scorsi laboratori. Dal momento che abbiamo suddiviso il dataset in training/validation/test set, durante il training utilizzeremo training e validation set, mentre utilizzeremo il test set verrà utilizzato solo dopo la fase di training per misurare le performance finali dell'algoritmo."
   ]
  },
  {
   "cell_type": "code",
   "execution_count": 29,
   "metadata": {},
   "outputs": [],
   "source": [
    "from torch.optim import SGD\n",
    "from torch.utils.tensorboard import SummaryWriter\n",
    "from sklearn.metrics import accuracy_score\n",
    "from os.path import join\n",
    "\n",
    "class AverageValueMeter():\n",
    "    def __init__(self):\n",
    "        self.reset()\n",
    "        \n",
    "    def reset(self):\n",
    "        self.sum = 0\n",
    "        self.num = 0\n",
    "    \n",
    "    def add(self, value, num):\n",
    "        self.sum += value*num\n",
    "        self.num += num\n",
    "        \n",
    "    def value(self):\n",
    "        try:\n",
    "            return self.sum/self.num\n",
    "        except:\n",
    "            return None\n",
    "\n",
    "\n",
    "\n",
    "def trainval_classifier(model, train_loader, test_loader, exp_name='experiment', lr=0.01, epochs=10, momentum=0.99, logdir='logs'):\n",
    "    criterion = nn.CrossEntropyLoss() \n",
    "    optimizer = SGD(model.parameters(), lr, momentum=momentum) \n",
    "    #meters\n",
    "    loss_meter = AverageValueMeter()\n",
    "    acc_meter = AverageValueMeter()\n",
    "    #writer\n",
    "    writer = SummaryWriter(join(logdir, exp_name))\n",
    "    #device\n",
    "    device = \"cuda\" if torch.cuda.is_available() else \"cpu\"\n",
    "    model.to(device)\n",
    "    #definiamo un dizionario contenente i loader di training e test\n",
    "    loader = {\n",
    "        'train' : train_loader,\n",
    "        'test' : test_loader\n",
    "    }\n",
    "    #inizializziamo il global step\n",
    "    global_step = 0\n",
    "    for e in range(epochs):\n",
    "        #iteriamo tra due modalità: train e test\n",
    "        for mode in ['train','test']:\n",
    "            loss_meter.reset(); acc_meter.reset()\n",
    "            model.train() if mode == 'train' else model.eval()\n",
    "            with torch.set_grad_enabled(mode=='train'): #abilitiamo i gradienti solo in training\n",
    "                for i, batch in enumerate(loader[mode]):\n",
    "                    x=batch[0].to(device) #\"portiamoli sul device corretto\"\n",
    "                    y=batch[1].to(device)\n",
    "                    output = model(x)\n",
    "                    \n",
    "                    #aggiorniamo il global_step\n",
    "                    #conterrà il numero di campioni visti durante il training\n",
    "                    n = x.shape[0] #numero di elementi nel batch\n",
    "                    global_step += n\n",
    "                    l = criterion(output,y)\n",
    "\n",
    "                    if mode=='train':\n",
    "                        l.backward()\n",
    "                        optimizer.step()\n",
    "                        optimizer.zero_grad()\n",
    "\n",
    "                    acc = accuracy_score(y.to('cpu'),output.to('cpu').max(1)[1])\n",
    "                    loss_meter.add(l.item(),n)\n",
    "                    acc_meter.add(acc,n)\n",
    "\n",
    "                    #loggiamo i risultati iterazione per iterazione solo durante il training\n",
    "                    if mode=='train':\n",
    "                        writer.add_scalar('loss/train', loss_meter.value(), global_step=global_step)\n",
    "                        writer.add_scalar('accuracy/train', acc_meter.value(), global_step=global_step)\n",
    "            #una volta finita l'epoca (sia nel caso di training che test, loggiamo le stime finali)\n",
    "            writer.add_scalar('loss/' + mode, loss_meter.value(), global_step=global_step)\n",
    "            writer.add_scalar('accuracy/' + mode, acc_meter.value(), global_step=global_step)\n",
    "            \n",
    "        #conserviamo i pesi del modello alla fine di un ciclo di training e test\n",
    "        torch.save(model.state_dict(),'%s-%d.pth'%(exp_name,e+1))\n",
    "    return model"
   ]
  },
  {
   "cell_type": "markdown",
   "metadata": {},
   "source": [
    "<img src=\"img/qmark.jpg\" style=\"width:150px; float:left;\"/>\n",
    "\n",
    "**Domanda 3**\n",
    "\n",
    "Si confronti il codice di training con quello visto nei laboratori precedenti. Quali sono le differenze principali?"
   ]
  },
  {
   "cell_type": "markdown",
   "metadata": {},
   "source": [
    "<img style=\"float: left;width:150px;\" src=\"img/note.png\">\n",
    "\n",
    "**Risposta 3**\n",
    "\n",
    "<div style=\"background-color:#efefef; margin-left:150px; border:solid 1px; border-color:#dddddd; border-radius: 3px;\">\n",
    "<br><br><br><br><br><br>\n",
    "</div>"
   ]
  },
  {
   "cell_type": "markdown",
   "metadata": {},
   "source": [
    "Lanciamo il training:"
   ]
  },
  {
   "cell_type": "code",
   "execution_count": 30,
   "metadata": {},
   "outputs": [],
   "source": [
    "squeezenet_caltech101 = get_model()\n",
    "squeezenet_caltech101_finetuned = trainval_classifier(squeezenet_caltech101, caltech101_train_loader, caltech101_valid_loader, \\\n",
    "                                                      exp_name='squeezenet_caltech101_finetuning', lr = 0.001, epochs = 150)"
   ]
  },
  {
   "cell_type": "markdown",
   "metadata": {},
   "source": [
    "I grafici su tensorboard alla fine della procedura di training dovrebbero avere questo aspetto:\n",
    "\n",
    "<center> <img src='img/caltech_finetune_graph.jpg' width=70%> </center>"
   ]
  },
  {
   "cell_type": "markdown",
   "metadata": {},
   "source": [
    "<img src=\"img/qmark.jpg\" style=\"width:150px; float:left;\"/>\n",
    "\n",
    "**Domanda 4**\n",
    "\n",
    "Possiamo dire che il modello converge? Perché?"
   ]
  },
  {
   "cell_type": "markdown",
   "metadata": {},
   "source": [
    "<img style=\"float: left;width:150px;\" src=\"img/note.png\">\n",
    "\n",
    "**Risposta 4**\n",
    "\n",
    "<div style=\"background-color:#efefef; margin-left:150px; border:solid 1px; border-color:#dddddd; border-radius: 3px;\">\n",
    "<br><br><br><br><br><br>\n",
    "</div>"
   ]
  },
  {
   "cell_type": "markdown",
   "metadata": {},
   "source": [
    "Scriviamo adesso il codice per il test:"
   ]
  },
  {
   "cell_type": "code",
   "execution_count": 31,
   "metadata": {},
   "outputs": [],
   "source": [
    "def test_classifier(model, loader):\n",
    "    device = \"cuda\" if torch.cuda.is_available() else \"cpu\"\n",
    "    model.to(device)\n",
    "    predictions, labels = [], []\n",
    "    for batch in loader:\n",
    "        x = batch[0].to(device)\n",
    "        y = batch[1].to(device)\n",
    "        output = model(x)\n",
    "        preds = output.to('cpu').max(1)[1].numpy()\n",
    "        labs = y.to('cpu').numpy()\n",
    "        predictions.extend(list(preds))\n",
    "        labels.extend(list(labs))\n",
    "    return np.array(predictions), np.array(labels)"
   ]
  },
  {
   "cell_type": "markdown",
   "metadata": {},
   "source": [
    "Adesso otteniamo l'accuracy di test:"
   ]
  },
  {
   "cell_type": "code",
   "execution_count": 32,
   "metadata": {},
   "outputs": [
    {
     "name": "stdout",
     "output_type": "stream",
     "text": [
      "Accuracy di Squeezenet su Caltech 101 - ultimo modello: 77.30%\n"
     ]
    }
   ],
   "source": [
    "#predizioni di test del modello all'ultima epoch\n",
    "squeezenet_caltech101_finetuned_predictions_test, caltech101_labels_test = \\\n",
    "        test_classifier(squeezenet_caltech101_finetuned, caltech101_test_loader)\n",
    "\n",
    "print (\"Accuracy di Squeezenet su Caltech 101 - ultimo modello: %0.2f%%\" % \\\n",
    "    (accuracy_score(caltech101_labels_test, squeezenet_caltech101_finetuned_predictions_test)*100,))"
   ]
  },
  {
   "cell_type": "markdown",
   "metadata": {},
   "source": [
    "# 2 Autoencoder\n",
    "\n",
    "Gli autoencoder costituiscono una categoria di algoritmi di learning di tipo \"self-supervised\" (auto-supervisionati). Gli autoencoder vengono utilizzati per compressione dei dati, riduzione della dimensionalità ai fini della visualizzazione e per apprendere rappresentazioni più in generale. \n",
    "\n",
    "Un autoencoder è una rete composta di due componenti:\n",
    " * Un encoder, che mappa i dati in uno spazio di dimensionalità inferiore. La rappresentazione ottenuta in questo livello viene generalmente detta \"codice\" relativo al dato in input;\n",
    " * Un decoder, che ricostruisce i dati in input a partire dal loro codice di dimensionalità inferiore.\n",
    " \n",
    "Un esempio di autoencoder composto di layer fully connected è il seguente:\n",
    "\n",
    "<center> <img src='img/autoencoder.jpg' width=70%> </center>"
   ]
  },
  {
   "cell_type": "markdown",
   "metadata": {},
   "source": [
    "<img src=\"img/qmark.jpg\" style=\"width:150px; float:left;\"/>\n",
    "\n",
    "**Domanda 5**\n",
    "\n",
    "Il codice dell'autoencoder ha una dimensionalità ridotta rispetto all'input. Questa è una pratica comune. Quali sarebbero i rischi di avere un codice di dimensione pari a quella di input?"
   ]
  },
  {
   "cell_type": "markdown",
   "metadata": {},
   "source": [
    "<img style=\"float: left;width:150px;\" src=\"img/note.png\">\n",
    "\n",
    "**Risposta 5**\n",
    "\n",
    "<div style=\"background-color:#efefef; margin-left:150px; border:solid 1px; border-color:#dddddd; border-radius: 3px;\">\n",
    "<br><br><br><br><br><br>\n",
    "</div>"
   ]
  },
  {
   "cell_type": "markdown",
   "metadata": {},
   "source": [
    "Nell'esempio, l'input è di $4$ unità. L'encoder è un MLP che mappa questo input in un codice a dimensionalità inferiore pari a $2$ unità. Il decoder è un altro MLP che mappa il codice in un output della stessa dimensionalità dell'input ($4$ unità). Per ottenere un modello non lineare, alla fine di ogni livello eccetto l'ultimo viene inserita una funzione di attivazione.\n",
    "\n",
    "Il modello viene allenato per regredire i valori di input applicando una loss di regressione (MSE) tra l'input e l'output. La cosa interessante di questo schema di training è che non è necessario di nessuna etichetta in fase di training."
   ]
  },
  {
   "cell_type": "markdown",
   "metadata": {},
   "source": [
    "Ci si aspetta che un autoencoder ben allenato sia in grado di:\n",
    " * Effettuare data compression: l'encoder può essere utilizzato per comprimere i dati, mentre il decoder può essere utilizzato per decomprimerli;\n",
    " * Effettuare dimensionality reduction: ci si aspetta che, se il decoder è capace di ricostruire il dato in input a partire dal suo codice, il codice possa essere una buona rappresentazione del dato in input;\n",
    " * Ottenere una rappresentazione utile anche per altri task (es. classificazione): ci si aspetta che il codice includa informazioni utili per la loro classificazione."
   ]
  },
  {
   "cell_type": "markdown",
   "metadata": {},
   "source": [
    "Vedremo un esempio sul dataset MNIST. Iniziamo caricando il dataset e definendo i data loader:"
   ]
  },
  {
   "cell_type": "code",
   "execution_count": 33,
   "metadata": {},
   "outputs": [],
   "source": [
    "from torchvision.datasets import MNIST\n",
    "from torch.utils.data import DataLoader\n",
    "from torchvision import transforms\n",
    "\n",
    "transform = transforms.Compose([transforms.ToTensor(), \n",
    "                                transforms.Normalize((0.1307,), (0.3081,)),\n",
    "                                torch.flatten]) #flatten serve per convertire le immagini in vettori di 784 unità \n",
    "mnist_train = MNIST(root='mnist',train=True, download=True, transform=transform)\n",
    "mnist_test = MNIST(root='mnist',train=False, download=True, transform=transform)\n",
    "#drop_last=True scarta l'ultimo batch se contiene meno di batch_size immagini\n",
    "#questo è utile per la parte di visualizzazione dei dati\n",
    "mnist_train_loader = DataLoader(mnist_train, batch_size=1024, num_workers=2, shuffle=True, drop_last=True)\n",
    "mnist_test_loader = DataLoader(mnist_test, batch_size=1024, num_workers=2, drop_last=True)"
   ]
  },
  {
   "cell_type": "markdown",
   "metadata": {},
   "source": [
    "Definiamo a questo punto un autoencoder fully connected che prenda in input le immagini sotto forma di vettori di $784$ unità, le mappi in un codice di $128$ unità e ricostruisca l'input di $784$ unità:"
   ]
  },
  {
   "cell_type": "code",
   "execution_count": 34,
   "metadata": {},
   "outputs": [],
   "source": [
    "class Autoencoder(nn.Module):\n",
    "    def __init__(self):\n",
    "        super(Autoencoder, self).__init__() \n",
    "        \n",
    "        #l'encoder è un MLP che mappa l'input in un codice di 128 unità\n",
    "        #dato che l'ultimo livello dell'MLP non è l'ultimo della rete,\n",
    "        #inseriamo una attivazione alla fine dell'MLP\n",
    "        self.encoder = nn.Sequential(nn.Linear(784, 256),\n",
    "                                     nn.ReLU(),\n",
    "                                     nn.Linear(256, 128),\n",
    "                                     nn.ReLU())\n",
    "        \n",
    "        #il decoder è un MLP che mappa il codice in un output di dimensione uguale all'input\n",
    "        self.decoder = nn.Sequential(nn.Linear(128, 256),\n",
    "                                     nn.ReLU(),\n",
    "                                     nn.Linear(256, 784))\n",
    "        \n",
    "    def forward(self, x):\n",
    "        code = self.encoder(x)\n",
    "        reconstructed = self.decoder(code)\n",
    "        #restituiamo sia il codice che l'output ricostruito\n",
    "        return code, reconstructed"
   ]
  },
  {
   "cell_type": "markdown",
   "metadata": {},
   "source": [
    "Scriviamo la funzione per effettuare il training. Dato che il nostro task consiste nel ricostruire le immagini di input, stamperemo su tensorboard alcuni esempi di ricostruzione sul test set. Salveremo inoltre alcuni esempi di test ricostruiti per ogni epoca. Ciò ci permetterà di capire qualitativamente quando il modello inizia a dare buoni risultati."
   ]
  },
  {
   "cell_type": "code",
   "execution_count": 35,
   "metadata": {},
   "outputs": [],
   "source": [
    "from torchvision.utils import make_grid, save_image #per creare una griglia di immagini\n",
    "\n",
    "def train_autoencoder(model, train_loader, test_loader, exp_name='experiment', lr=0.01, epochs=10, momentum=0.99, logdir='logs'):\n",
    "    #la loss di training deve essere MSE: si tratta di una loss di regresisone\n",
    "    criterion = nn.MSELoss()\n",
    "    optimizer = SGD(model.parameters(), lr, momentum=momentum) \n",
    "    #meters\n",
    "    loss_meter = AverageValueMeter()\n",
    "    writer = SummaryWriter(join(logdir, exp_name))\n",
    "    #device\n",
    "    device = \"cuda\" if torch.cuda.is_available() else \"cpu\"\n",
    "    model.to(device)\n",
    "    #definiamo un dizionario contenente i loader di training e test\n",
    "    loader = {\n",
    "        'train' : train_loader,\n",
    "        'test' : test_loader\n",
    "    }\n",
    "    global_step = 0\n",
    "    for e in range(epochs):\n",
    "        #iteriamo tra due modalità: train e test\n",
    "        for mode in ['train','test'] :\n",
    "            loss_meter.reset()\n",
    "            model.train() if mode == 'train' else model.eval()\n",
    "            with torch.set_grad_enabled(mode=='train'): #abilitiamo i gradienti solo in training\n",
    "                for i, batch in enumerate(loader[mode]):\n",
    "                    x=batch[0].to(device) \n",
    "                    _, output = model(x) #output ricostruito, il codice non ci serve in fase di training\n",
    "                    l = criterion(x,output)\n",
    "                    \n",
    "                    #aggiorniamo il global_step\n",
    "                    #conterrà il numero di campioni visti durante il training\n",
    "                    n = x.shape[0] #numero di elementi nel batch\n",
    "                    global_step += n\n",
    "\n",
    "                    if mode=='train':\n",
    "                        l.backward()\n",
    "                        optimizer.step()\n",
    "                        optimizer.zero_grad()\n",
    "\n",
    "                    n = batch[0].shape[0] #numero di elementi nel batch\n",
    "                    loss_meter.add(l.item(),n)\n",
    "\n",
    "                    if mode=='train':\n",
    "                        writer.add_scalar('loss/train', loss_meter.value(), global_step=global_step)\n",
    "            writer.add_scalar('loss/'+mode, loss_meter.value(), global_step=global_step)\n",
    "            \n",
    "        #alla fine di ogni epoca, stampiamo una griglia di immagini dall'ultimo batch di test\n",
    "        images_in = batch[0].view(-1,1,28,28)[:50,...]\n",
    "        images_out = output.view(-1,1,28,28)[:50,...]\n",
    "        writer.add_image('input',make_grid(images_in, nrow=10, normalize=True), global_step=global_step)\n",
    "        writer.add_image('output',make_grid(images_out, nrow=10, normalize=True), global_step=global_step)\n",
    "        \n",
    "        #salviamo su file gli esempi ricostruiti di test\n",
    "        save_image(make_grid(images_out, nrow=5, normalize=True), 'autoencoder_reconstructed_%d.jpg'%e)\n",
    "            \n",
    "        #conserviamo solo l'ultimo modello sovrascrivendo i vecchi\n",
    "        torch.save(model.state_dict(),'%s.pth'%exp_name)\n",
    "    return model"
   ]
  },
  {
   "cell_type": "markdown",
   "metadata": {},
   "source": [
    "Costruiamo l'autoencoder e lanciamo l'addestramento:"
   ]
  },
  {
   "cell_type": "code",
   "execution_count": 36,
   "metadata": {},
   "outputs": [],
   "source": [
    "minst_autoencoder = Autoencoder()\n",
    "minst_autoencoder = train_autoencoder(minst_autoencoder, mnist_train_loader, mnist_test_loader, exp_name='mnist_autoencoder', lr=0.01, epochs=100)"
   ]
  },
  {
   "cell_type": "markdown",
   "metadata": {},
   "source": [
    "Alla fine del training, i grafici su tensorboard dovrebbero essere simili ai seguenti:\n",
    "\n",
    "<center><img src=\"img/autoencoder_losses.jpg\" width=70%></center>"
   ]
  },
  {
   "cell_type": "markdown",
   "metadata": {},
   "source": [
    "Cliccando su \"images\" dovremmo riuscire a vedere le immagini di input e le relative immagini ricostruite di cui abbiamo fatto log durante il training:\n",
    "<center><img src=\"img/autoencoder_input_output.jpg\" width=70%></center>"
   ]
  },
  {
   "cell_type": "markdown",
   "metadata": {},
   "source": [
    "<img src=\"img/qmark.jpg\" style=\"width:150px; float:left;\"/>\n",
    "\n",
    "**Domanda 6**\n",
    "\n",
    "Si confrontino i dati ricostruiti con i dati originali. La ricostruzione è perfetta? Ci sono degli artefatti? Si confrontino i risultati ottenuti nelle iterazioni intermedie. I numeri sono sempre intellegibili?"
   ]
  },
  {
   "cell_type": "markdown",
   "metadata": {},
   "source": [
    "<img style=\"float: left;width:150px;\" src=\"img/note.png\">\n",
    "\n",
    "**Risposta 6**\n",
    "\n",
    "<div style=\"background-color:#efefef; margin-left:150px; border:solid 1px; border-color:#dddddd; border-radius: 3px;\">\n",
    "<br><br><br><br><br><br>\n",
    "</div>"
   ]
  },
  {
   "cell_type": "markdown",
   "metadata": {},
   "source": [
    "Costruiamo adesso una funzione per estrarre i codici di tutte le immagini di test:"
   ]
  },
  {
   "cell_type": "code",
   "execution_count": 37,
   "metadata": {},
   "outputs": [],
   "source": [
    "def extract_codes(model, loader):\n",
    "    device = \"cuda\" if torch.cuda.is_available() else \"cpu\"\n",
    "    model.to(device)\n",
    "    codes, labels = [], []\n",
    "    for batch in loader:\n",
    "        x = batch[0].to(device)\n",
    "        code, _ = model(x)\n",
    "        code = code.detach().to('cpu').numpy()\n",
    "        labels.append(batch[1])\n",
    "        codes.append(code)\n",
    "    return np.concatenate(codes), np.concatenate(labels)"
   ]
  },
  {
   "cell_type": "markdown",
   "metadata": {},
   "source": [
    "Estriamo i codici insieme ai rispettivi labels che non abbiamo usato in fase di training:"
   ]
  },
  {
   "cell_type": "code",
   "execution_count": 38,
   "metadata": {},
   "outputs": [
    {
     "name": "stdout",
     "output_type": "stream",
     "text": [
      "(9216, 128) (9216,)\n"
     ]
    }
   ],
   "source": [
    "codes, labels = extract_codes(minst_autoencoder, mnist_test_loader)\n",
    "print(codes.shape, labels.shape)"
   ]
  },
  {
   "cell_type": "markdown",
   "metadata": {},
   "source": [
    "Utilizzeremo adesso una tecnica di visualizzazione dei dati chiamata TSNE (https://it.wikipedia.org/wiki/T-distributed_stochastic_neighbor_embedding) che permette di proiettare i dati in uno spazio a dimensione ridotta preservando le distanze relative tra gli elementi. In particolare, utilizzeremo questa tecnica per proiettare i codici di $128$ unità su due dimensioni che plotteremo sullo spazio 2D. Prima però selezioniamo un sottoinsieme dei codici da visualizzare:"
   ]
  },
  {
   "cell_type": "code",
   "execution_count": 39,
   "metadata": {},
   "outputs": [],
   "source": [
    "selected_codes = np.random.choice(len(codes),1000)\n",
    "codes = codes[selected_codes]\n",
    "labels = labels[selected_codes]"
   ]
  },
  {
   "cell_type": "code",
   "execution_count": 40,
   "metadata": {},
   "outputs": [],
   "source": [
    "from sklearn.manifold import TSNE\n",
    "tsne = TSNE(2)\n",
    "codes_tsne=tsne.fit_transform(codes)"
   ]
  },
  {
   "cell_type": "markdown",
   "metadata": {},
   "source": [
    "A questo punto plottiamo i codici proiettati nello spazio 2D distinguendoli per colore:"
   ]
  },
  {
   "cell_type": "code",
   "execution_count": 61,
   "metadata": {},
   "outputs": [
    {
     "data": {
      "image/png": "[encoded data removed]",
      "text/plain": [
       "<Figure size 576x432 with 1 Axes>"
      ]
     },
     "metadata": {
      "needs_background": "light"
     },
     "output_type": "display_data"
    }
   ],
   "source": [
    "from matplotlib import pyplot as plt\n",
    "plt.figure(figsize=(8,6))\n",
    "for c in np.unique(labels):\n",
    "    plt.plot(codes_tsne[labels==c, 0], codes_tsne[labels==c, 1], 'o', label = c)\n",
    "plt.legend()\n",
    "plt.show()"
   ]
  },
  {
   "cell_type": "markdown",
   "metadata": {},
   "source": [
    "<img src=\"img/qmark.jpg\" style=\"width:150px; float:left;\"/>\n",
    "\n",
    "**Domanda 7**\n",
    "\n",
    "Si osservi la rappresentazione TSNE dei codici estratti dall'autoencoder. I dati sono ben raggruppati per classe? Si potrebbe fare di meglio? Perché?"
   ]
  },
  {
   "cell_type": "markdown",
   "metadata": {},
   "source": [
    "<img style=\"float: left;width:150px;\" src=\"img/note.png\">\n",
    "\n",
    "**Risposta 7**\n",
    "\n",
    "<div style=\"background-color:#efefef; margin-left:150px; border:solid 1px; border-color:#dddddd; border-radius: 3px;\">\n",
    "<br><br><br><br><br><br>\n",
    "</div>"
   ]
  },
  {
   "cell_type": "markdown",
   "metadata": {},
   "source": [
    "## 2.1 Autoencoder basato su convoluzioni\n",
    "\n",
    "E' possibile costruire un autoencoder basato su convoluzioni. In questo caso il codice non sarà un vettore unidimensionale, ma una mappa di feature di dimensionalità minore rispetto a quella in input. \n",
    "\n",
    "L'encoder sarà una CNN, con i seguenti accorgimenti:\n",
    " * Inseriremo il padding nelle convoluzioni per evitare di ridurre le dimensioni delle mappe di feature. L'unica operazione che ridurrà le dimensioni delle mappe di feature è il poolin;\n",
    " * Dato che il nostro obiettivo non è fare classificazione, utilizzeremo l'average pooling al posto del max pooling;\n",
    " \n",
    "Il decoder sarà una CNN speculare all'encoder, con la seguente modifica:\n",
    " * Al posto dell'average pooling che riduce le dimensione dell'input di un fattore $s$, utilizzeremo un modulo di \"upsampling\" che, mediante interpolazione aumenterà le dimensioni dell'input di un fattore $s$;\n",
    " \n",
    "Utilizzeremo solo filtri $3 \\times 3$ in questo esempio. Definiamo il modello: "
   ]
  },
  {
   "cell_type": "code",
   "execution_count": 42,
   "metadata": {},
   "outputs": [],
   "source": [
    "from torch import nn\n",
    "class ConvAutoencoder(nn.Module):\n",
    "    def __init__(self):\n",
    "        super(ConvAutoencoder, self).__init__() \n",
    "        self.encoder = nn.Sequential(nn.Conv2d(1,16,3, padding=1),\n",
    "                                     nn.AvgPool2d(2),\n",
    "                                     nn.ReLU(),\n",
    "                                     nn.Conv2d(16,8,3, padding=1),\n",
    "                                     nn.AvgPool2d(2),\n",
    "                                     nn.ReLU(),\n",
    "                                     nn.Conv2d(8,4,3, padding=1),\n",
    "                                     nn.ReLU())\n",
    "        \n",
    "        self.decoder = nn.Sequential(nn.Conv2d(4,8,3, padding=1),\n",
    "                                     nn.Upsample(scale_factor=2),\n",
    "                                     nn.ReLU(),\n",
    "                                     nn.Conv2d(8,16,3, padding=1),\n",
    "                                     nn.Upsample(scale_factor=2),\n",
    "                                     nn.ReLU(),\n",
    "                                     nn.Conv2d(16,1,3, padding=1))\n",
    "        \n",
    "    def forward(self, x):\n",
    "        code = self.encoder(x)\n",
    "        reconstructed = self.decoder(code)\n",
    "        return code, reconstructed"
   ]
  },
  {
   "cell_type": "markdown",
   "metadata": {},
   "source": [
    "Prima di allenare il modello, dobbiamo ridefinire dataset e data loaders evitando di introdurre l'operazione `flatten`, in modo da caricare immagini $28 \\times 28$ invece di vettori di $784$ elementi:"
   ]
  },
  {
   "cell_type": "code",
   "execution_count": 43,
   "metadata": {},
   "outputs": [],
   "source": [
    "from torchvision.datasets import MNIST\n",
    "from torch.utils.data import DataLoader\n",
    "from torchvision import transforms\n",
    "\n",
    "transform = transforms.Compose([transforms.ToTensor(), \n",
    "                                transforms.Normalize((0.1307,), (0.3081,))]) \n",
    "mnist_train = MNIST(root='mnist',train=True, download=True, transform=transform)\n",
    "mnist_test = MNIST(root='mnist',train=False, download=True, transform=transform)\n",
    "#drop_last=True scarta l'ultimo batch se contiene meno di batch_size immagini\n",
    "#questo è utile per la parte di visualizzazione dei dati\n",
    "mnist_train_loader = DataLoader(mnist_train, batch_size=1024, num_workers=2, shuffle=True, drop_last=True)\n",
    "mnist_test_loader = DataLoader(mnist_test, batch_size=1024, num_workers=2, drop_last=True)"
   ]
  },
  {
   "cell_type": "markdown",
   "metadata": {},
   "source": [
    "Adesso alleniamo il modello:"
   ]
  },
  {
   "cell_type": "code",
   "execution_count": 44,
   "metadata": {},
   "outputs": [],
   "source": [
    "minst_conv_autoencoder = ConvAutoencoder()\n",
    "minst_conv_autoencoder = train_autoencoder(minst_conv_autoencoder, mnist_train_loader, mnist_test_loader, \\\n",
    "                                           exp_name='mnist_conv_autoencoder', lr=0.01, epochs=100)"
   ]
  },
  {
   "cell_type": "markdown",
   "metadata": {},
   "source": [
    "Alla fine del training, i grafici su tensorboard dovrebbero essere simili ai seguenti:\n",
    "\n",
    "<center><img src=\"img/conv_autoencoder_graph.jpg\" width=70%></center>\n",
    "<center><img src=\"img/autoencoder_conv_input_output.jpg\" width=70%></center>\n"
   ]
  },
  {
   "cell_type": "markdown",
   "metadata": {},
   "source": [
    "<img src=\"img/qmark.jpg\" style=\"width:150px; float:left;\"/>\n",
    "\n",
    "**Domanda 8**\n",
    "\n",
    "Si confrontino i risultati ottenuti dal nuovo modello con quelli ottenuti dal vecchio. Quali risultati appaiono migliori? A cosa può essere dovuta la differenza?"
   ]
  },
  {
   "cell_type": "markdown",
   "metadata": {},
   "source": [
    "<img style=\"float: left;width:150px;\" src=\"img/note.png\">\n",
    "\n",
    "**Risposta 8**\n",
    "\n",
    "<div style=\"background-color:#efefef; margin-left:150px; border:solid 1px; border-color:#dddddd; border-radius: 3px;\">\n",
    "<br><br><br><br><br><br>\n",
    "</div>"
   ]
  },
  {
   "cell_type": "markdown",
   "metadata": {},
   "source": [
    "Estraiamo i codici con il nuovo autoencoder:"
   ]
  },
  {
   "cell_type": "code",
   "execution_count": 45,
   "metadata": {},
   "outputs": [
    {
     "name": "stdout",
     "output_type": "stream",
     "text": [
      "(9216, 4, 7, 7) (9216,)\n"
     ]
    }
   ],
   "source": [
    "codes, labels = extract_codes(minst_conv_autoencoder, mnist_test_loader)\n",
    "print(codes.shape, labels.shape)"
   ]
  },
  {
   "cell_type": "markdown",
   "metadata": {},
   "source": [
    "I codici sono delle mappe di feature $4 \\times 7 \\times 7$. Trasformiamoli in vettori monodimensionali e selezioniamo lo stesso sottoinsieme di dati considerati nel caso precedente:"
   ]
  },
  {
   "cell_type": "code",
   "execution_count": 46,
   "metadata": {},
   "outputs": [
    {
     "name": "stdout",
     "output_type": "stream",
     "text": [
      "(1000, 196)\n"
     ]
    }
   ],
   "source": [
    "codes = codes.reshape(codes.shape[0],-1)\n",
    "codes = codes[selected_codes]\n",
    "labels = labels[selected_codes]\n",
    "print(codes.shape)"
   ]
  },
  {
   "cell_type": "markdown",
   "metadata": {},
   "source": [
    "Traformiamo i dati mediante TSNE ed eseguiamo il plot:"
   ]
  },
  {
   "cell_type": "code",
   "execution_count": 47,
   "metadata": {},
   "outputs": [
    {
     "data": {
      "image/png": "[encoded data removed]",
      "text/plain": [
       "<Figure size 576x432 with 1 Axes>"
      ]
     },
     "metadata": {
      "needs_background": "light"
     },
     "output_type": "display_data"
    }
   ],
   "source": [
    "tsne = TSNE(2)\n",
    "codes_tsne_conv=tsne.fit_transform(codes)\n",
    "\n",
    "plt.figure(figsize=(8,6))\n",
    "for c in np.unique(labels):\n",
    "    plt.plot(codes_tsne_conv[labels==c, 0], codes_tsne_conv[labels==c, 1], 'o', label = c)\n",
    "plt.legend()\n",
    "plt.show()"
   ]
  },
  {
   "cell_type": "markdown",
   "metadata": {},
   "source": [
    "**Domanda 9**\n",
    "<img src=\"img/qmark.jpg\" style=\"width:150px; float:left;\"/>\n",
    "\n",
    "Si confronti il grafico ottenuto con quello dell'autoencoder senza convoluzioni. Quali dei due trasforma i dati in maniera più \"coerente\" con le classi? Perché?"
   ]
  },
  {
   "cell_type": "markdown",
   "metadata": {},
   "source": [
    "**Risposta 9**\n",
    "<img style=\"float: left;width:150px;\" src=\"img/note.png\">\n",
    "\n",
    "<div style=\"background-color:#efefef; margin-left:150px; border:solid 1px; border-color:#dddddd; border-radius: 3px;\">\n",
    "<br><br><br><br><br><br>\n",
    "</div>"
   ]
  },
  {
   "cell_type": "markdown",
   "metadata": {},
   "source": [
    "## 3 Metric Learning\n",
    "\n",
    "Il metric learning è una tipologia di learning supervisionato che ha come obiettivo quello di apprendere una funzione distanza tra oggetti. \n",
    "\n",
    "Vediamo un esempio. Supponiamo di avere un database contenente immagini di volti $I_i$ con le rispettive etichette $l_i$ che indicano le identità dei soggetti ritratti nelle immagini $l_i$. Il database può essere indicato con $D=\\{(I_i, l_i)\\}_i^N$. Data una nuova immagine contenente un volto $I_j$ di identità sconosciuta, vorremmo poter \"cercare\" il nuovo volto all'interno del database al fine di inferire l'identità nel soggetto ritratto nell'immagine. Per poter effettuare questa ricerca, abbiamo bisogno di stimare la distanza tra il nuovo volto $I_j$ e tutti i volti presenti nel database $D$. Alla fine assegneremo al nuovo volto l'etichetta del volto più vicino nel database:\n",
    "\n",
    "\\begin{equation}\n",
    "\\hat l_j = l_{\\arg \\max_{i} d(I_i, I_j)}\n",
    "\\end{equation}\n",
    "\n",
    "Dove $d$ è una funzione che misura la distanza tra le immagini di due volti. Questa procedura è una ricerca di tipo nearest neighbour. \n",
    "\n",
    "Va notato che la funzione $d$ di cui abbiamo bisogno deve avere determinate caratteristiche. In particolare, vorremmo che la distanza tra due immagini $d(I_i, I_j)$ sia grande nel caso in cui le immagini non ritraggano lo stesso soggetto ($l_i \\neq l_j$) e piccola nel caso in cui le identità siano uguali ($l_i = l_j$). Definire questa funzione a mano non è banale. Ad esempio, scegliendo $d$ uguale alla distanza Euclidea, non abbiamo nessuna garanzia che le proprietà richieste vengano rispettate. L'ideale sarebbe apprendere $d$ dai dati, ma non è chiaro come costruire una funzione parametrica $d$ che prende in input due immagini.\n",
    "\n",
    "Possiamo però vedere il problema in maniera leggermente diversa. Definiamo una funzione $\\Phi$ che mappa un'immagine $I$ in uno spazio di dimensionalità limitata ($\\Phi$ è simile all'encoder di un autoencoder) e ridefiniamo la funzione distanza come:\n",
    "\n",
    "\\begin{equation}\n",
    "d(I_i, I_j) = ||\\Phi(I_i) - \\Phi(I_j)||_2\n",
    "\\end{equation}\n",
    "\n",
    "Dove $||\\Phi(I_i) - \\Phi(I_j)||_2$ è la norma L2 del vettore differenza, che equivale a calcolare la distanza Euclidea tra $\\Phi(I_i)$ e $\\Phi(I_j)$. Se $\\Phi$ è una funzione parametrica (es. una CNN), possiamo ottimizzare i parametri di $\\Phi$ in maniera tale che $d$ rispetti le caratteristiche richieste. In pratica, stiamo fissando la metrica vera e propria (scegliendo quella Euclidea) e stiamo scegliendo di risolvere un problema leggermente diverso: trovare una funzione $\\Phi$ che mappi elementi $I_i$ e $I_j$ della stassa classe ($l_i=l_j$) vicini nello spazio di destinazione ed elementi di classi diverse ($l_i \\neq l_j$) lontani tra di loro nello spazio di destinazione.\n",
    "\n",
    "Esistono diverse tecniche per determinare la funzione $\\Phi$ in maniera opportuna. Noi vedremo due possibilità: la rete siamese e la rete triplet."
   ]
  },
  {
   "cell_type": "markdown",
   "metadata": {},
   "source": [
    "## 3.1 Rete Siamese\n",
    "\n",
    "Il modo più semplice per ottenere una funzione $\\Phi$ opportuna consiste nel prevedere una loss che renda la distanza $||\\Phi(I_i) - \\Phi(I_j)||_2$ piccola se $l_i=l_j$ e grande se $l_i \\neq l_j$. Dato che l'espressione $||\\Phi(I_i) - \\Phi(I_j)||_2$ prende in input due elementi $I_i$ e $I_j$, conviene ragionare su coppie di elementi $(I_i, I_j)$ piuttosto che su elementi singoli. Esistono due tipi di coppie: quelle in cui le etichette dei due elementi sono uguali, e quelle in cui i le due etichette sono diverse. Chiameremo queste coppie \"coppie simili\" e \"coppie dissimili\". Assegneremo dunque ad ogni coppia una etichetta $l_{ij}$. In pratica $l_{ij}=0$ se la coppia è \"simile\", mentre $l_{ij}=1$ se la coppia è \"dissimile\". Al fine di lavorare su coppie, è possibile utilizzare una rete \"siamese\", ovvero un'architettura composta da due rami identici che condividono i medesimi pesi che mappano i due elementi della coppia $I_i$ e $I_j$ in due codici $\\Phi(I_i)$ e $\\Phi(I_j)$. Una volta ottenute queste due rappresentazioni, possiamo applicare una loss opportuna. \n",
    "\n",
    "Una rete Siamese può essere rappresentata come mostrato di seguito:\n",
    "\n",
    "<center> <img src='img/siamese.jpg'> </center>"
   ]
  },
  {
   "cell_type": "markdown",
   "metadata": {},
   "source": [
    "Nel grafico sopra:\n",
    " * L'input della rete non è un singolo elemento $I_i$, ma una coppia di elementi con la rispettiva etichetta: $(I_i, I_j, l_{ij})$;\n",
    " * La funzione $\\Phi$ è rappresentata come un MLP. In pratica $\\Phi$ può avere diverse forme, ad esempio $\\Phi$ può essere una CNN;\n",
    " * I due rami (superiore e inferiore) hanno pesi condivisi. Ciò vuole dire che ogni volta il valore di uno dei pesi in una delle due reti viene aggiornato, esso viene aggiornato anche nell'altra rete;\n",
    " * I pallini azzurri rappresentano i due codici $\\Phi(I_i)$ e $\\Phi(I_j)$;\n",
    " * La loss utilizzata per allenare la rete $L[\\Phi(I_i), \\Phi(I_j),l_i,l_j]$ dipende sia dai due codici che dalle due etichette.\n",
    " \n",
    "Diverse funzioni di loss sono possibili. In pratica, la loss più utilizzata è la contrastive loss, che viene definita come segue per una data coppia in input:\n",
    "\n",
    "\\begin{eqnarray}\n",
    "d(I_i, I_j) = ||\\Phi(I_i)-\\Phi(I_j)||_2 \\\\\n",
    "L(I_i, I_j, l_{ij}) = \\frac{1}{2}(1-l_{ij})d(I_i, I_j)^2+\\frac{1}{2}l_{ij}\\{max[0,m-d(I_i, I_j)]\\}^2\n",
    "\\end{eqnarray}"
   ]
  },
  {
   "cell_type": "markdown",
   "metadata": {},
   "source": [
    "dove $m$ è un parametro della loss detto \"margine\". La loss assomiglia a una binary cross entropy. Analizziamola:\n",
    " * Se la coppia è di tipo \"simile\", allora $l_{ij}=0$. In tal caso, $L(I_i,I_j,1) = \\frac{1}{2}d(I_i,I_j)^2$, che risulta minimizzata quando $d(I_i, I_j)$ è piccola. Pertanto, in questo caso, $\\Phi$ viene incoraggiata a mappare i due elementi in posizioni vicine tra di loro nello spazio di destinazione;\n",
    " * Se la coppia è di ditpo \"dissimile\", allora $l_{ij}=1$. In tal caso, $L(I_i,I_j,0) = \\frac{1}{2}\\{max([0, m-d(I_i, I_j)]\\}^2$. Abbiamo adesso due casi:\n",
    "    * $d(I_i, I_j)>m$: in tal caso $m-d(I_i, I_j)<0$ e $L(I_i,I_j,0)=0$. Pertanto, se la distanza $d(I_i, I_j)$ è superiore al margine $m$, la rete non viene penalizzata in quanto si ritiene che i due mapping sono già abbastanza lontani;\n",
    "    * $d(I_i, I_j)<m$: in tal caso $m-d(I_i, I_j)>0$ e $L(I_i,I_j,0)=(m-d(I_i,I_j))^2$, e la rete riceve una penalità quadratica rispetto alla differenza tra la distanza e il margine. Se la distanza è molto piccola, la penalità sarà maggiore, se è abbastanza vicina a $m$, la penalità sarà minore.\n",
    "    \n",
    "In pratica, il margine $m$ stabilisce la distanza minima tra due elementi diversi nello spazio di destinazione. Esistono diversi tecniche per impostare il valore del margine. Per semplicità, in questo laboratorio imposteremo $m=2$, che è un valore comunemente usato."
   ]
  },
  {
   "cell_type": "markdown",
   "metadata": {},
   "source": [
    "### 3.1.1 Dataset\n",
    " \n",
    "Per costruire la nostra rete Siamese, abbiamo innanzitutto bisogno di costruire un oggetto dataset che restituisca coppie di immagini con le rispettive etichette. Vedremo un semplice esempio relativo al dataset MNIST. Le nostre coppie saranno dunque composte da due immagini rappresentanti cifre. L'etichetta relativa sarà pari a $0$ se le etichette delle due immagini sono uguali e $1$ altrimenti. Costruiremo un oggetto database che ha tanti elementi quanti sono gli elementi di MNIST. A ciascun elemento verrà associato un elemento simile o dissimile con probabilità $\\frac{1}{2}$. Ciò ci permetterà di avere un dataset di coppie bilanciato."
   ]
  },
  {
   "cell_type": "code",
   "execution_count": 48,
   "metadata": {},
   "outputs": [],
   "source": [
    "class PairMNIST(data.Dataset):\n",
    "    def __init__(self, root, train = True, transform = None, download = True):\n",
    "        self.mnist = MNIST(root = root, train = train, transform = transform, download = download)\n",
    "        \n",
    "        #lista di liste che contiene gli indici elementi appartenenti alle singole classi\n",
    "        #in pratica class_to_indices[5] contiene gli indici degli elementi di classe 5\n",
    "        self.class_to_indices = [np.where(self.mnist.targets == label)[0] for label in range(10)]\n",
    "\n",
    "        #genera le coppie\n",
    "        self.generate_pairs()\n",
    "        \n",
    "    def generate_pairs(self):\n",
    "        \"\"\"Genera le coppie, associando ad ogni elemento di\n",
    "        MNIST un nuovo elemento\"\"\"\n",
    "        #creiamo un vettore di etichette delle coppie\n",
    "        self.pair_labels = (np.random.rand(len(self.mnist))>0.5).astype(int)\n",
    "        \n",
    "        #paired_idx conterrà i secondi elementi delle coppie\n",
    "        #il primo elmento della coppia i-esima sarà sempre\n",
    "        #l'elemento i-esimo di MNIST\n",
    "        self.paired_idx = []\n",
    "        #scorriamo le etichette delle coppie\n",
    "        for i, l in enumerate(self.pair_labels):\n",
    "            #otteniamo la classe del primo elemento della coppia\n",
    "            c1 = self.mnist.targets[i].item()\n",
    "            if l==0: #se la coppia è di tipo simile\n",
    "                #scegli un elemento della stessa classe\n",
    "                j = np.random.choice(self.class_to_indices[c1])\n",
    "            else: #altrimenti\n",
    "                #scegli un elemento di classe diversa\n",
    "                #scegliamo una classe diversa a caso\n",
    "                diff_class = np.random.choice(list(set(range(10))-{c1}))\n",
    "                #campioniamo da quella classe\n",
    "                j = np.random.choice(self.class_to_indices[diff_class])\n",
    "            #conserviamo l'indice del secondo elemento della coppia\n",
    "            self.paired_idx.append(j)\n",
    "        \n",
    "    def __len__(self):\n",
    "        #tante coppie quanti sono gli elemnti di MNIST\n",
    "        return len(self.mnist)\n",
    "    \n",
    "    def __getitem__(self, i):\n",
    "        #la prima immagine della coppia\n",
    "        #è l'elemento i-esimo di MNIST\n",
    "        im1, l1 = self.mnist[i]\n",
    "        im2, l2 = self.mnist[self.paired_idx[i]] #secondo elemento associato\n",
    "        l = self.pair_labels[i] #etichetta della coppia\n",
    "        \n",
    "        #restituiamo le due immagini, l'etichetta della coppia\n",
    "        #e le etichette delle due immagini\n",
    "        return im1, im2, l, l1, l2"
   ]
  },
  {
   "cell_type": "markdown",
   "metadata": {},
   "source": [
    "Costruiamo il dataset e visualizziamo qualche coppia di esempio:"
   ]
  },
  {
   "cell_type": "code",
   "execution_count": 49,
   "metadata": {},
   "outputs": [
    {
     "data": {
      "image/png": "[encoded data removed]",
      "text/plain": [
       "<Figure size 1296x288 with 12 Axes>"
      ]
     },
     "metadata": {
      "needs_background": "light"
     },
     "output_type": "display_data"
    }
   ],
   "source": [
    "pair_mnist_train = PairMNIST('mnist', train=True)\n",
    "plt.figure(figsize=(18,4))\n",
    "for ii,i in enumerate(np.random.choice(range(len(pair_mnist_train)),6)):\n",
    "    plt.subplot(2,10,ii+1)\n",
    "    plt.title('Pair label:'+str(pair_mnist_train[i][2]))\n",
    "    plt.imshow(pair_mnist_train[i][0], cmap='gray')\n",
    "    plt.subplot(2,10,ii+11)\n",
    "    plt.imshow(pair_mnist_train[i][1], cmap='gray')\n",
    "plt.show()"
   ]
  },
  {
   "cell_type": "markdown",
   "metadata": {},
   "source": [
    "**Domanda 10**\n",
    "<img src=\"img/qmark.jpg\" style=\"width:150px; float:left;\"/>\n",
    "\n",
    "Si osservino le coppie rappresentate nelle colonne. Ha senso dire che elementi in coppie positive sono in genere più simili di elementi in coppie negative?"
   ]
  },
  {
   "cell_type": "markdown",
   "metadata": {},
   "source": [
    "**Risposta 10**\n",
    "<img style=\"float: left;width:150px;\" src=\"img/note.png\">\n",
    "\n",
    "<div style=\"background-color:#efefef; margin-left:150px; border:solid 1px; border-color:#dddddd; border-radius: 3px;\">\n",
    "<br><br><br><br><br><br>\n",
    "</div>"
   ]
  },
  {
   "cell_type": "markdown",
   "metadata": {},
   "source": [
    "### 3.1.2 Modello\n",
    "Implementiamo $\\Phi$ basandoci su LeNet. Dato che non useremo $\\Phi$ per classificare i dati in input, ometteremo l'ultimo livello con $10$ unità. Chiameremo questa rete `EmbeddingNet` in quanto il suo ruolo è quello di ottenere degli embedding (o codici) delle immagini in input:"
   ]
  },
  {
   "cell_type": "code",
   "execution_count": 50,
   "metadata": {},
   "outputs": [],
   "source": [
    "class EmbeddingNet(nn.Module):\n",
    "    def __init__(self):\n",
    "        super(EmbeddingNet, self).__init__()\n",
    "        self.convnet = nn.Sequential(nn.Conv2d(1, 32, 5), \n",
    "                                     nn.ReLU(),\n",
    "                                     nn.MaxPool2d(2, stride=2),\n",
    "                                     nn.BatchNorm2d(32),\n",
    "                                     nn.Conv2d(32, 64, 5), \n",
    "                                     nn.ReLU(),\n",
    "                                     nn.MaxPool2d(2, stride=2))\n",
    "\n",
    "        self.fc = nn.Sequential(nn.BatchNorm1d(64 *4 * 4),\n",
    "                                nn.Linear(64 * 4 * 4, 256),\n",
    "                                nn.ReLU(),\n",
    "                                nn.BatchNorm1d(256),\n",
    "                                nn.Linear(256, 128))\n",
    "\n",
    "    def forward(self, x):\n",
    "        output = self.convnet(x)\n",
    "        output = output.view(output.size()[0], -1)\n",
    "        output = self.fc(output)\n",
    "        return output"
   ]
  },
  {
   "cell_type": "markdown",
   "metadata": {},
   "source": [
    "Verifichiamo che l'output sia quello desiderato con un batch fittizio:"
   ]
  },
  {
   "cell_type": "code",
   "execution_count": 51,
   "metadata": {},
   "outputs": [
    {
     "data": {
      "text/plain": [
       "torch.Size([16, 128])"
      ]
     },
     "execution_count": 51,
     "metadata": {},
     "output_type": "execute_result"
    }
   ],
   "source": [
    "model = EmbeddingNet()\n",
    "model(torch.zeros(16,1,28,28)).shape"
   ]
  },
  {
   "cell_type": "markdown",
   "metadata": {},
   "source": [
    "### 3.1.3 Funzione di loss\n",
    "Prima di effettuare il training, dobbiamo implementare la funzione di loss. Ricordiamo che la loss per un dato campione è definita come segue:\n",
    "\n",
    "\\begin{eqnarray}\n",
    "d(I_i, I_j) = ||\\Phi(I_i)-\\Phi(I_j)||_2 \\\\\n",
    "L(I_i, I_j, l_{ij}) = \\frac{1}{2}(1-l_{ij})d(I_i, I_j)^2+\\frac{1}{2}l_{ij}\\{max[0,m-d(I_i, I_j)]\\}^2\n",
    "\\end{eqnarray}"
   ]
  },
  {
   "cell_type": "code",
   "execution_count": 52,
   "metadata": {},
   "outputs": [],
   "source": [
    "from torch.nn import functional as F\n",
    "\n",
    "class ContrastiveLoss(torch.nn.Module):\n",
    "    def __init__(self, m=2):\n",
    "        super(ContrastiveLoss, self).__init__()\n",
    "        self.m = m\n",
    "\n",
    "    def forward(self, phi_i, phi_j, l_ij):\n",
    "        d = F.pairwise_distance(phi_i, phi_j)\n",
    "        l = 0.5 * (1 - l_ij.float()) * torch.pow(d,2) + \\\n",
    "            0.5 * l_ij.float() * torch.pow( torch.clamp( self.m - d, min = 0) , 2)\n",
    "        return l.mean()"
   ]
  },
  {
   "cell_type": "markdown",
   "metadata": {},
   "source": [
    "dove `F.pairwise_distance(x,y)` calcola la distanza euclidea tra tutti gli elementi di $x$ e tutti gli elementi di $y$ quando $x$ e $y$ sono dei batch, `torch.pow(x,2)` implementa $x^2$ e `torch.clamp(x, min=0)` implementa `min(x,o)`."
   ]
  },
  {
   "cell_type": "markdown",
   "metadata": {},
   "source": [
    "### 3.1.4 Training del modello\n",
    "Adesso che abbiamo tutti gli elementi necessari, scriviamo una funzione che permetta di effettuare il training della rete Siamese. Per monitorare lo stato di training della rete in termini qualitativi, alla fine di ogni epoca stamperemo l'embedding dell'ultimo batch di test."
   ]
  },
  {
   "cell_type": "code",
   "execution_count": 53,
   "metadata": {},
   "outputs": [],
   "source": [
    "def train_siamese(embedding_net, train_loader, test_loader, exp_name='experiment', lr=0.01, epochs=10, momentum=0.99, margin=2, logdir='logs'):\n",
    "    #definiamo la contrastive loss\n",
    "    criterion = ContrastiveLoss(margin)\n",
    "    optimizer = SGD(embedding_net.parameters(), lr, momentum=momentum)\n",
    "    #meters\n",
    "    loss_meter = AverageValueMeter()\n",
    "    #writer\n",
    "    writer = SummaryWriter(join(logdir, exp_name))\n",
    "    #device\n",
    "    device = \"cuda\" if torch.cuda.is_available() else \"cpu\"\n",
    "    embedding_net.to(device)\n",
    "    criterion.to(device)# anche la loss va portata sul device in quanto contiene un parametro (m)\n",
    "    #definiamo un dizionario contenente i loader di training e test\n",
    "    loader = {\n",
    "        'train' : train_loader,\n",
    "        'test' : test_loader\n",
    "    }\n",
    "    global_step=0\n",
    "    for e in range(epochs):\n",
    "        #iteriamo tra due modalità: train e test\n",
    "        for mode in ['train','test'] :\n",
    "            loss_meter.reset()\n",
    "            embedding_net.train() if mode == 'train' else model.eval()\n",
    "            with torch.set_grad_enabled(mode=='train'): #abilitiamo i gradienti solo in training\n",
    "                for i, batch in enumerate(loader[mode]):\n",
    "                    I_i, I_j, l_ij, _, _ = [b.to(device) for b in batch]\n",
    "                    #l'implementazione della rete siamese è banale:\n",
    "                    #eseguiamo la embedding net sui due input\n",
    "                    phi_i = embedding_net(I_i)\n",
    "                    phi_j = embedding_net(I_j)\n",
    "                    \n",
    "                    #calcoliamo la loss\n",
    "                    l = criterion(phi_i, phi_j, l_ij)\n",
    "                    \n",
    "                    #aggiorniamo il global_step\n",
    "                    #conterrà il numero di campioni visti durante il training\n",
    "                    n = I_i.shape[0] #numero di elementi nel batch\n",
    "                    global_step += n\n",
    "\n",
    "                    if mode=='train':\n",
    "                        l.backward()\n",
    "                        optimizer.step()\n",
    "                        optimizer.zero_grad()\n",
    "\n",
    "                    n = batch[0].shape[0] #numero di elementi nel batch\n",
    "                    loss_meter.add(l.item(),n)\n",
    "                    \n",
    "                    if mode=='train':\n",
    "                        writer.add_scalar('loss/train', loss_meter.value(), global_step=global_step)\n",
    "                        \n",
    "            writer.add_scalar('loss/'+mode, loss_meter.value(), global_step=global_step)\n",
    "            \n",
    "        #aggiungiamo un embedding. Tensorboard farà il resto\n",
    "        writer.add_embedding(phi_i, batch[3], I_i, global_step=global_step, tag=exp_name+'_embedding')\n",
    "\n",
    "        #conserviamo solo l'ultimo modello sovrascrivendo i vecchi\n",
    "        torch.save(model.state_dict(),'%s.pth'%exp_name)\n",
    "    return model"
   ]
  },
  {
   "cell_type": "markdown",
   "metadata": {},
   "source": [
    "Costruiamo dataset e data loaders:"
   ]
  },
  {
   "cell_type": "code",
   "execution_count": 54,
   "metadata": {},
   "outputs": [],
   "source": [
    "transform = transforms.Compose([transforms.ToTensor(), \n",
    "                                transforms.Normalize((0.1307,), (0.3081,))]) \n",
    "pair_mnist_train = PairMNIST(root='mnist',train=True, download=True, transform=transform)\n",
    "pair_mnist_test = PairMNIST(root='mnist',train=False, download=True, transform=transform)\n",
    "pair_mnist_train_loader = DataLoader(pair_mnist_train, batch_size=1024, num_workers=2, shuffle=True)\n",
    "pair_mnist_test_loader = DataLoader(pair_mnist_test, batch_size=1024, num_workers=2)"
   ]
  },
  {
   "cell_type": "markdown",
   "metadata": {},
   "source": [
    "Costruiamo e alleniamo il modello:"
   ]
  },
  {
   "cell_type": "code",
   "execution_count": 55,
   "metadata": {},
   "outputs": [],
   "source": [
    "siamese_mnist = EmbeddingNet()\n",
    "siamese_mnist = train_siamese(siamese_mnist, pair_mnist_train_loader, pair_mnist_test_loader, exp_name = 'mnist_siamese', lr=0.01, epochs = 20)"
   ]
  },
  {
   "cell_type": "markdown",
   "metadata": {},
   "source": [
    "Alla fine della procedura di training, i grafici su tensorboard avranno un aspetto simile a questo:\n",
    "\n",
    "<center> <img src='img/siamese_loss.jpg' width=70%></center>"
   ]
  },
  {
   "cell_type": "markdown",
   "metadata": {},
   "source": [
    "Cliccando su \"projector\" possiamo visualizzare un embedding 3D creato in automatico dai dati di cui abbiamo fatto log.\n",
    "\n",
    "<center> <img src='img/siamese_embedding.jpg' width=70%></center>"
   ]
  },
  {
   "cell_type": "markdown",
   "metadata": {},
   "source": [
    "**Domanda 11**\n",
    "<img src=\"img/qmark.jpg\" style=\"width:150px; float:left;\"/>\n",
    "\n",
    "Si confrontino gli embedding ottenuti con quelli visti nel caso degli autoencoder. Quale modello restituisce risultati \"migliori\"? Perché?"
   ]
  },
  {
   "cell_type": "markdown",
   "metadata": {},
   "source": [
    "**Risposta 11**\n",
    "<img style=\"float: left;width:150px;\" src=\"img/note.png\">\n",
    "\n",
    "<div style=\"background-color:#efefef; margin-left:150px; border:solid 1px; border-color:#dddddd; border-radius: 3px;\">\n",
    "<br><br><br><br><br><br>\n",
    "</div>"
   ]
  },
  {
   "cell_type": "markdown",
   "metadata": {},
   "source": [
    "## 3.2 Rete Triplet\n",
    "\n",
    "La rete Siamese viene allenata includendo all'interno dello stesso batch sia esempi negativi che esempi positivi. Se includessimo solo esempi positivi, la rete imparerebbe a mappare qualsiasi input sullo stesso punto, in modo da ottenere sempre distanza nulla. Se includessimo solo esempi negativi, al contrario, la rete cercherebbe di mappare i nuovi campioni sempre lontani rispetto ai campioni già visti. Una rete di tipo Triplet estende l'idea di avere coppie positive e negative lavorando su triplette invece che su coppia. \n",
    "\n",
    "Ogni tripletta $(I_i, I_j, I_k)$ contiene tre elementi:\n",
    " * Un'ancora $I_i$, ovvero un elemento di classe qualsiasi;\n",
    " * Un esempio positivo $I_j$, ovvero un elemento della stessa classe di $I_i$;\n",
    " * Un esempio negativo $I_k$, ovvero un elemento di classe diversa rispetto a $I_i$ e $I_j$.\n",
    "\n",
    "Ogni elemento in input presenta dunque un esempio positivo (la coppia ($I_i, I_j$)) e un esempio negativo (la coppia ($I_i, I_k$)). A differenza per quanto avveniva nel caso delle reti siamesi, le triplette non hanno una etichetta associata. Il modello viene dunque allenato facendo sì che $I_i$ venga mappato vicino a $I_j$ ma allo stesso tempo lontano da $I_k$. Ciò costituisce un criterio di training più forte rispetto a quello delle reti siamesi. Infatti, mentre le caso delle reti siamesi le coppie positive e negative potevano non avere alcuna relazione tra di esse, le triplette offrono sempre un esempio positivo e un esempio negativo relativi al medesimo elemento ancora $I_i$. \n",
    "\n",
    "Una rete Triplet può essere rappresentata come segue:\n",
    "\n",
    "<center><img src='img/triplet.jpg' width=70%> </center>"
   ]
  },
  {
   "cell_type": "markdown",
   "metadata": {},
   "source": [
    "Anche in questo caso i pesi delle tre reti sono condivisi. Esistono diversi tipi di loss, ma la più comune è la Triplet margin loss, definita come segue:\n",
    "\n",
    "\\begin{eqnarray}\n",
    "d(I_i, I_j) = ||\\Phi(I_i) - \\Phi(I_j)||_2 \\\\\n",
    "L(I_i, I_j, I_k) = \\max\\{d(I_i, I_j)-d(I_i, I_k)+m, 0\\}\n",
    "\\end{eqnarray}\n",
    "\n",
    "In maniera simile a quanto visto nel caso della contrastive loss, $m$ è un margine. In questo laboratorio imposteremo $m=1$."
   ]
  },
  {
   "cell_type": "markdown",
   "metadata": {},
   "source": [
    "La loss scritta sopra incoraggia la rete $\\Phi$ a mappare l'elemento simile $I_j$ vicino all'elemento $I_i$ e al contempo, l'elemento $I_k$ lontano da $I_i$. Ciò avviene penalizzando la rete ogni volta che $d(I_i, I_j)$ non è maggiore di $d(I_i, I_k)$ di un valore almeno pari ad $m$. Abbiamo infatti due casi:\n",
    " * $d(I_i, I_j) + m <=d(I_i, I_k)$: in questo caso $d(I_i, I_j)-d(I_i, I_k)+m<0$ e $L(I_i, I_j, I_k)=0$. In pratica il modello non viene penalizzato in quanto la distanza tra l'ancora $I_i$ e l'elemento simile $I_j$ è già sufficientemente inferiore (ovver inferiore di almento $m$) alla distanza tra l'ancora $I_i$ e l'elemento dissimile $I_k$;\n",
    " * $d(I_i, I_k) +m >d(I_i, I_k)$: in questo caso $d(I_i, I_j)-d(I_i, I_k)+m>0$ e $L(I_i, I_j, I_k)=d(I_i, I_j)-d(I_i, I_k)+m$. Pertanto il modello riceve una penalità (una loss positiva) in quanto non vi è abbastanza margine tra le due distanze. La loss è tanto più alta quanto questo margine è grande.\n",
    " \n",
    "Questa funzione di loss è già implementata in PyTorch da modulo `nn.TripletMarginLoss`, che utilizzeremo per i nostri esperimenti."
   ]
  },
  {
   "cell_type": "markdown",
   "metadata": {},
   "source": [
    "### 3.2.1 Dataset\n",
    "\n",
    "Dobbiamo implementare un dataset che restituisca delle triplette di valori. L'implementazione è analoga a quanto visto nel caso delle reti siamesi:"
   ]
  },
  {
   "cell_type": "code",
   "execution_count": 56,
   "metadata": {},
   "outputs": [],
   "source": [
    "class TripletMNIST(data.Dataset):\n",
    "    def __init__(self, root, train = True, transform = None, download = True):\n",
    "        self.mnist = MNIST(root = root, train = train, transform = transform, download = download)\n",
    "        \n",
    "        #lista di liste che contiene gli indici elementi appartenenti alle singole classi\n",
    "        #in pratica class_to_indices[5] contiene gli indici degli elementi di classe 5\n",
    "        self.class_to_indices = [np.where(self.mnist.targets == label)[0] for label in range(10)]\n",
    "\n",
    "        #genera le triplette\n",
    "        self.generate_triplets()\n",
    "        \n",
    "    def generate_triplets(self):\n",
    "        \"\"\"Genera le triplette, associando ad ogni elemento di\n",
    "        MNIST due nuovi elementi: uno simile e uno dissimile\"\"\"\n",
    "        \n",
    "        #similar_idx conterrà i secondi elementi delle triplette\n",
    "        #dissimilar_idx conterrà i terzi elementi delle triplette\n",
    "        #il primo elmento della coppia i-esima sarà sempre\n",
    "        #l'elemento i-esimo di MNIST\n",
    "        self.similar_idx = []\n",
    "        self.dissimilar_idx = []\n",
    "        #scorriamo gli elementi di MNIST\n",
    "        for i in range(len(self.mnist)):\n",
    "            #classe del primo elemento della tripletta\n",
    "            c1 = self.mnist.targets[i].item()\n",
    "            #indice dell'elemento simile\n",
    "            j = np.random.choice(self.class_to_indices[c1])\n",
    "            \n",
    "            #scegliamo una classe diversa a caso\n",
    "            diff_class = np.random.choice(list(set(range(10))-{c1}))\n",
    "            #campioniamo da quella classe per ottenere l'indice dell'elemento dissimile\n",
    "            k = np.random.choice(self.class_to_indices[diff_class])\n",
    "            \n",
    "            self.similar_idx.append(j)\n",
    "            self.dissimilar_idx.append(k)\n",
    "        \n",
    "    def __len__(self):\n",
    "        #tante triplette quanti sono gli elemnti di MNIST\n",
    "        return len(self.mnist)\n",
    "    \n",
    "    def __getitem__(self, i):\n",
    "        #la prima immagine della coppia\n",
    "        #è l'elemento i-esimo di MNIST\n",
    "        im1, l1 = self.mnist[i]\n",
    "        im2, l2 = self.mnist[self.similar_idx[i]] #elemento simile\n",
    "        im3, l3 = self.mnist[self.dissimilar_idx[i]] #elemento dissimile\n",
    "        \n",
    "        #restituiamo le due immagini, l'etichetta della coppia\n",
    "        #e le etichette delle due immagini\n",
    "        return im1, im2, im3, l1, l2, l3"
   ]
  },
  {
   "cell_type": "markdown",
   "metadata": {},
   "source": [
    "Costruiamo il dataset e visualizziamo qualche tripletta di esempio:"
   ]
  },
  {
   "cell_type": "code",
   "execution_count": 57,
   "metadata": {},
   "outputs": [
    {
     "data": {
      "image/png": "[encoded data removed]",
      "text/plain": [
       "<Figure size 1296x288 with 18 Axes>"
      ]
     },
     "metadata": {
      "needs_background": "light"
     },
     "output_type": "display_data"
    }
   ],
   "source": [
    "triplet_mnist_train = TripletMNIST('mnist', train=True)\n",
    "plt.figure(figsize=(18,4))\n",
    "for ii,i in enumerate(np.random.choice(range(len(triplet_mnist_train)),6)):\n",
    "    plt.subplot(3,10,ii+1)\n",
    "    plt.imshow(triplet_mnist_train[i][0], cmap='gray')\n",
    "    plt.subplot(3,10,ii+11)\n",
    "    plt.imshow(triplet_mnist_train[i][1], cmap='gray')\n",
    "    plt.subplot(3,10,ii+21)\n",
    "    plt.imshow(triplet_mnist_train[i][2], cmap='gray')\n",
    "plt.show()"
   ]
  },
  {
   "cell_type": "markdown",
   "metadata": {},
   "source": [
    "**Domanda 12**\n",
    "<img src=\"img/qmark.jpg\" style=\"width:150px; float:left;\"/>\n",
    "\n",
    "Si confrontino le triplette visualizzate qui con le coppie mostrate nel caso della rete siamese. Le triplette aggiungono più difficili in fase di training?"
   ]
  },
  {
   "cell_type": "markdown",
   "metadata": {},
   "source": [
    "**Risposta 12**\n",
    "<img style=\"float: left;width:150px;\" src=\"img/note.png\">\n",
    "\n",
    "<div style=\"background-color:#efefef; margin-left:150px; border:solid 1px; border-color:#dddddd; border-radius: 3px;\">\n",
    "<br><br><br><br><br><br>\n",
    "</div>"
   ]
  },
  {
   "cell_type": "markdown",
   "metadata": {},
   "source": [
    "### 3.2.2 Training\n",
    "\n",
    "Definiamo una procedura di training analoga a quella vista nel caso delle reti siamesi. Anche in questo caso plotteremo gli embedding durante il training."
   ]
  },
  {
   "cell_type": "code",
   "execution_count": 58,
   "metadata": {},
   "outputs": [],
   "source": [
    "def train_triplet(embedding_net, train_loader, test_loader, exp_name='experiment', lr=0.01, epochs=10, momentum=0.99, margin=1, logdir='logs'):\n",
    "    #definiamo la contrastive loss\n",
    "    criterion = nn.TripletMarginLoss(margin = margin)\n",
    "    optimizer = SGD(embedding_net.parameters(), lr, momentum=momentum) \n",
    "    #meters\n",
    "    loss_meter = AverageValueMeter()\n",
    "    writer = SummaryWriter(join(logdir, exp_name))\n",
    "    #device\n",
    "    device = \"cuda\" if torch.cuda.is_available() else \"cpu\"\n",
    "    embedding_net.to(device)\n",
    "    criterion.to(device)# anche la loss va portata sul device in quanto contiene un parametro (m)\n",
    "    #definiamo un dizionario contenente i loader di training e test\n",
    "    loader = {\n",
    "        'train' : train_loader,\n",
    "        'test' : test_loader\n",
    "    }\n",
    "    global_step = 0\n",
    "    for e in range(epochs):\n",
    "        #iteriamo tra due modalità: train e test\n",
    "        for mode in ['train','test'] :\n",
    "            loss_meter.reset()\n",
    "            embedding_net.train() if mode == 'train' else model.eval()\n",
    "            with torch.set_grad_enabled(mode=='train'): #abilitiamo i gradienti solo in training\n",
    "                for i, batch in enumerate(loader[mode]):\n",
    "                    I_i, I_j, I_k, _, _, _ = [b.to(device) for b in batch]\n",
    "                    #l'implementazione della rete triplet è banale quanto quella della rete siamese:\n",
    "                    #eseguiamo la embedding net sui tre input\n",
    "                    phi_i = embedding_net(I_i)\n",
    "                    phi_j = embedding_net(I_j)\n",
    "                    phi_k = embedding_net(I_k)\n",
    "                    \n",
    "                    n = phi_i.shape[0] #numero di elementi nel batch\n",
    "                    global_step += n\n",
    "                    \n",
    "                    #calcoliamo la loss\n",
    "                    l = criterion(phi_i, phi_j, phi_k)\n",
    "\n",
    "                    if mode=='train':\n",
    "                        l.backward()\n",
    "                        optimizer.step()\n",
    "                        optimizer.zero_grad()\n",
    "\n",
    "                    n = batch[0].shape[0] #numero di elementi nel batch\n",
    "                    loss_meter.add(l.item(),n)\n",
    "                    \n",
    "                    if mode=='train':\n",
    "                        writer.add_scalar('loss/train', loss_meter.value(), global_step=global_step)\n",
    "\n",
    "            writer.add_scalar('loss/'+mode, loss_meter.value(), global_step=global_step)\n",
    "        \n",
    "        #aggiungiamo un embedding. Tensorboard farà il resto\n",
    "        writer.add_embedding(phi_i, batch[3], I_i, global_step=global_step, tag=exp_name+'_embedding')\n",
    "        \n",
    "        #conserviamo solo l'ultimo modello sovrascrivendo i vecchi\n",
    "        torch.save(model.state_dict(),'%s.pth'%exp_name)\n",
    "    return model"
   ]
  },
  {
   "cell_type": "markdown",
   "metadata": {},
   "source": [
    "Adesso definiamo i dataset e i data loader:"
   ]
  },
  {
   "cell_type": "code",
   "execution_count": 59,
   "metadata": {},
   "outputs": [],
   "source": [
    "transform = transforms.Compose([transforms.ToTensor(), \n",
    "                                transforms.Normalize((0.1307,), (0.3081,))]) \n",
    "triplet_mnist_train = TripletMNIST(root='mnist',train=True, download=True, transform=transform)\n",
    "triplet_mnist_test = TripletMNIST(root='mnist',train=False, download=True, transform=transform)\n",
    "triplet_mnist_train_loader = DataLoader(triplet_mnist_train, batch_size=1024, num_workers=2, shuffle=True)\n",
    "triplet_mnist_test_loader = DataLoader(triplet_mnist_test, batch_size=1024, num_workers=2)"
   ]
  },
  {
   "cell_type": "markdown",
   "metadata": {},
   "source": [
    "Alleniamo dunque il modello. Utilizzeremo la stessa rete di base `EmbeddingNet` come funzione $\\Phi$."
   ]
  },
  {
   "cell_type": "code",
   "execution_count": 60,
   "metadata": {},
   "outputs": [],
   "source": [
    "triplet_mnist = EmbeddingNet()\n",
    "triplet_mnist = train_triplet(triplet_mnist, triplet_mnist_train_loader, triplet_mnist_test_loader, exp_name = 'mnist_triplet', lr=0.01, epochs = 20)"
   ]
  },
  {
   "cell_type": "markdown",
   "metadata": {},
   "source": [
    "**Domanda 13**\n",
    "<img src=\"img/qmark.jpg\" style=\"width:150px; float:left;\"/>\n",
    "\n",
    "Si confrontino gli embedding ottenuti mediante la rete triplet con quelli ottenuti mediante la rete siamese? Ci sono differenze? Si osservi l'evolversi degli embedding nei due casi. In uno dei due casi la rete sembra convergere pirma?"
   ]
  },
  {
   "cell_type": "markdown",
   "metadata": {},
   "source": [
    "**Risposta 13**\n",
    "<img style=\"float: left;width:150px;\" src=\"img/note.png\">\n",
    "\n",
    "<div style=\"background-color:#efefef; margin-left:150px; border:solid 1px; border-color:#dddddd; border-radius: 3px;\">\n",
    "<br><br><br><br><br><br>\n",
    "</div>"
   ]
  },
  {
   "cell_type": "markdown",
   "metadata": {},
   "source": [
    "# Esercizi\n",
    "<img src=\"img/code.png\" style=\"width:150px; margin-right:30px; float:left\">\n",
    "\n",
    "**Esercizio 1**\n",
    "\n",
    "Si adatti la funzione `get_model` in modo che essa prenda in input un parametro `model_architecture` che indichi l'architettura di CNN da adattare (es., AlexNet, VGG16, ecc...). La funzione deve restituire un modello dell'architettura specificata opportunamente adattato per il nuovo task."
   ]
  },
  {
   "cell_type": "markdown",
   "metadata": {},
   "source": [
    "<img src=\"img/code.png\" style=\"width:150px; margin-right:30px; float:left\">\n",
    "\n",
    "**Esercizio 2**\n",
    "\n",
    "Si adatti l'autoencoder basato su convoluzioni per effettuare la classificazione dei dati di MNIST e si esegua il fine-tuning per questo task. Si confronti questo modello con un modello analogo allenato da zero. Quale dei due modelli converge prima? Il pre-training mediante autoencoder offre dei vantaggi?"
   ]
  },
  {
   "cell_type": "markdown",
   "metadata": {},
   "source": [
    "<img src=\"img/code.png\" style=\"width:150px; margin-right:30px; float:left\">\n",
    "\n",
    "**Esercizio 3**\n",
    "\n",
    "Si ripeta l'esecizio 2 adattando la EmbeddingNet allenata mediante rete Siamese per il task di classificazione. Il pre-training mediante rete Siamese offre dei vantaggi? E' più efficace del pre-training mediante autoencoder? Perché?"
   ]
  },
  {
   "cell_type": "markdown",
   "metadata": {},
   "source": [
    "<img src=\"img/code.png\" style=\"width:150px; margin-right:30px; float:left\">\n",
    "\n",
    "**Esercizio 4**\n",
    "\n",
    "Si ripeta l'esecizio 3 adattando la EmbeddingNet allenata mediante rete Triplet per il task di classificazione. Il pre-training mediante rete Triplet offre dei vantaggi? E' più efficace del pre-training mediante rete Siamese e autoencoder? Perché?"
   ]
  },
  {
   "cell_type": "markdown",
   "metadata": {},
   "source": [
    "# References\n",
    "\n",
    " * Documentazione di PyTorch. http://pytorch.org/docs/stable/index.html"
   ]
  }
 ],
 "metadata": {
  "anaconda-cloud": {},
  "kernelspec": {
   "display_name": "Python 3",
   "language": "python",
   "name": "python3"
  },
  "language_info": {
   "codemirror_mode": {
    "name": "ipython",
    "version": 3
   },
   "file_extension": ".py",
   "mimetype": "text/x-python",
   "name": "python",
   "nbconvert_exporter": "python",
   "pygments_lexer": "ipython3",
   "version": "3.7.3"
  }
 },
 "nbformat": 4,
 "nbformat_minor": 2
}
