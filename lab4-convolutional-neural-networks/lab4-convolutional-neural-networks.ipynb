{
 "cells": [
  {
   "cell_type": "markdown",
   "metadata": {},
   "source": [
    "<style>\n",
    ".rendered_html * + p, .rendered_html p {\n",
    "    text-align:justify;\n",
    "}\n",
    ".print {\n",
    "    display:none;\n",
    "}\n",
    ".highlight {\n",
    "    background:white;\n",
    "}\n",
    "@media print {\n",
    " a[href]:after {\n",
    "     content: \"\"\n",
    " }\n",
    " .noprint {\n",
    "  display:none\n",
    "  }\n",
    "  .print {\n",
    "        display:block;\n",
    "    }\n",
    "}\n",
    "</style>\n",
    "<head>\n",
    "    <base target=\"_blank\">\n",
    "</head>\n",
    "<div style=\"text-align:left\"><a href=\"http://web.dmi.unict.it/\"><img src=\"img/dmi.png\" style=\"width:300px; margin:0;\"></a></div>"
   ]
  },
  {
   "cell_type": "markdown",
   "metadata": {},
   "source": [
    "<a href=\"http://iplab.dmi.unict.it/\"><img src=\"img/iplab.png\" style=\"width:900px\"></a>\n",
    "<center><h2>Machine Learning - A.A. 2020-2021</h2></center>\n",
    "<center><h3>Convolutional Neural Networks</h3></center>\n",
    "<br>\n",
    "<center>Antonino Furnari - <a href=\"http://www.antoninofurnari.it/\" target=\"_blank\">http://www.antoninofurnari.it/</a> - <a href=\"mailto:furnari@dmi.unict.it\">furnari@dmi.unict.it</a> </center>\n",
    "<center>Giovanni Maria Farinella - <a href=\"http://www.dmi.unict.it/farinella/\" target=\"_blank\">http://www.dmi.unict.it/farinella/</a> - <a href=\"mailto:gfarinella@dmi.unict.it\">gfarinella@dmi.unict.it</a> </center>"
   ]
  },
  {
   "cell_type": "markdown",
   "metadata": {},
   "source": [
    "Le Convolutional Neural Networks (CNN) permettono di applicare le reti neural in maniera efficiente al processamento di immagini. Abbiamo già visto come sia possibile classificare immagini mediante un regressore softmax o un multilayer perceptron. Tuttavia, vista l'alta dimensionalità delle immagini, tali metodi tendono a non scalare a immagini di grandi dimensioni e a grossi dataset di immagini. Le Convolutional Neural Networks cercano di risolvere questi problemi sostituendo le transformazioni lineari con le convoluzioni, che richiedono meno parametri e presentano invarianza traslazionale. \n",
    "\n",
    "**NOTA**: In questo laboratorio, i modelli vengono allenati per 50/150 epoche. Questi parametri richiedono lunghi tempi di allenamento. Ai fini del completamento del laboratorio in aula, si consiglia di allenare i modelli solo per qualche epoca (a fini didattici) e di ripetere tutti gli addestramenti una volta a casa (il processo richiederà delle ore)."
   ]
  },
  {
   "cell_type": "markdown",
   "metadata": {},
   "source": [
    "## 1 LeNet\n",
    "Iniziamo implementando un modello molto simile a LeNet-5, il primo esempio di CNN presente in letteratura (LeCunn et al. 1998). Il modello è stato proposto nel 1998 per risolvere il problema della classificazione di cifre del dataset MNIST-DIGITS. Il modello qui presentato differisce da quello originale in diversi dettagli, ma la sua struttura resta fedele all'originale. Il modello prevede sette layers:\n",
    "\n",
    " * Un layer di convoluzione C1. Il layer prende in input una immagine di dimensione $28 \\times 28$ pixels e un unico canale. Mediante l'applicazione di $6$ kernel di convoluzione di dimensioni $5 \\times 5$, vengono calcolate $6$ mappe di features. Nessun tipo di padding viene applicato, dunque ogni mappa di features ha dimensioni $24 \\times 24$. In pratica, l'input del layer C1 è un tensore di dimensione $1 \\times 28 \\times 28$, mentre il suo output è un tensore di dimensione $6 \\times 24 \\times 24$. Ogni convoluzione viene effettuata applicando un kernel di dimensione $5 \\times 5$ e sommando al risultato un termine di bias. Il numero totale di parametri ottimizzabili del livello C1 è dunque pari a $6 \\cdot (5 \\cdot 5 +1) = 156$;\n",
    " * Un layer di sottocampionamento S2. Il layer prende in input le 6 mappe $24 \\times 24$ e le sottocampiona ottenendo in output mappe di dimensioni $12 \\times 12$. Il sottocampionamento è effettuato suddividendo la mappa in input in intorni $2 \\times 2$ e calcolando il valore medio di ognuno di questi intorni (average pooling); In pratica, l'input del layer è un tensore di dimensione $6 \\times 24 \\times 24$, mentre il suo output è un tensore di dimensione $6 \\times 12 \\times 12$. Il layer non contiene alcun parametro ottimizzabile;\n",
    " * Un layer di convoluzione C3. Il layer prende in input il tensore di dimensioni $6 \\times 12 \\times 12$ e calcola $16$ mappe di feature di dimensioni $8 \\times 8$ utilizzando kernel di dimensioni $5 \\times 5$. Il numero di parametri ottimizzabili è pari a $6 \\times 5 \\times 5 \\times 16 + 16= 2416$;\n",
    " * Un layer di sottocampionamento S4. In maniera del tutto simile al layer S2, prende in input $16$ mappe di dimensione $8 \\times 8$ e produce $16$ mappe di dimensione $4 \\times 4$. Anche questo livello non contiene parametri ottimizzabili;\n",
    " * Un layer di trasformazione lineare \"fully connected\" F5. Il layer prende in input il tensore di dimensioni $16 \\times 4 \\times 4$. Il tensore viene dunque considerato come un vettore monodimensionale di $256$ unità e trasformato (mediante trasformazione lineare) in un tensore di $120$ unità. Il numero totale di parametri è dato da $120 \\cdot 256 + 120 = 30840$ (l'ultimo \"+120\" rappresenta i parametri di bias);\n",
    " * Un layer di trasformazione lineare F6. Il layer prende in input il vettore di $120$ unità e lo trasforma in un vettore di $84$ unità. Il numero di parametri ottimizzabili è pari a $84 \\times 120 + 84 = 10164$;\n",
    " * Un layer di trasformazione lineare F7. Il layer prende in input il vettore di $84$ unità e lo trasforma in un vettore di $10$ unità (gli score relativi alle $10$ classi di MNIST-DIGITS). Il numero di parametri ottimizzabili del livello è pari a $84*10+10 = 850$.\n",
    " \n",
    "Il numero totale di parametri del modello è pari a $44426$. Tra ogni coppia di layer, tranne che subito dopo i layer di sottocampionamento, è presente una attivazione di tipo TanH. la figura mostra uno schema del modello LeNet considerato:\n",
    "\n",
    "<center><img src =\"img/lenet_mod.png\"></center>"
   ]
  },
  {
   "cell_type": "markdown",
   "metadata": {},
   "source": [
    "**Domanda 1**\n",
    "<img src=\"img/qmark.jpg\" style=\"width:150px; float:left;\"/>\n",
    "\n",
    "Perchè i layer di convoluzione (C1, C3) riducono le dimensioni delle mappe in input? Secondo quale formula le dimensioni vengono ridotte?"
   ]
  },
  {
   "cell_type": "markdown",
   "metadata": {},
   "source": [
    "**Risposta 1**\n",
    "<img style=\"float: left;width:150px;\" src=\"img/note.png\">\n",
    "\n",
    "<div style=\"background-color:#efefef; margin-left:150px; border:solid 1px; border-color:#dddddd; border-radius: 3px;\">\n",
    "<br><br><br><br><br><br>\n",
    "</div>"
   ]
  },
  {
   "cell_type": "markdown",
   "metadata": {},
   "source": [
    "**Domanda 2**\n",
    "<img src=\"img/qmark.jpg\" style=\"width:150px; float:left;\"/>\n",
    "\n",
    "Si confronti il numero di parametri di LeNet con quelli di un multilayer perceptron con $64$ unità nascoste. Quale dei due modelli contiene meno parametri? A cosa è dovuta la differenza?"
   ]
  },
  {
   "cell_type": "markdown",
   "metadata": {},
   "source": [
    "**Risposta 2**\n",
    "<img style=\"float: left;width:150px;\" src=\"img/note.png\">\n",
    "\n",
    "<div style=\"background-color:#efefef; margin-left:150px; border:solid 1px; border-color:#dddddd; border-radius: 3px;\">\n",
    "<br><br><br><br><br><br>\n",
    "</div>"
   ]
  },
  {
   "cell_type": "markdown",
   "metadata": {},
   "source": [
    "Prima di iniziare a scrivere del codice, impostiamo un seed:"
   ]
  },
  {
   "cell_type": "code",
   "execution_count": 1,
   "metadata": {},
   "outputs": [],
   "source": [
    "import torch\n",
    "import numpy as np\n",
    "np.random.seed(1328)\n",
    "torch.random.manual_seed(1328);"
   ]
  },
  {
   "cell_type": "markdown",
   "metadata": {},
   "source": [
    "Implementiamo adesso il modello LeNet:"
   ]
  },
  {
   "cell_type": "code",
   "execution_count": 2,
   "metadata": {},
   "outputs": [],
   "source": [
    "from torch import nn\n",
    "class LeNet(nn.Module):\n",
    "    def __init__(self):\n",
    "        super(LeNet, self).__init__() \n",
    "        #Definiamo il primo livello. Dobbiamo effettuare una convoluzione 2D (ovvero su immagini)\n",
    "        #Utilizziamo il modulo Conv2d che prende in input:\n",
    "        #  - il numero di canali in input: 1 (si tratta di immagini in scala di grigio)\n",
    "        #  - il numero di canali in output: 6 (le mappe di feature)\n",
    "        #  - la dimensione del kernel: 5 (sta per \"5 X 5\")\n",
    "        self.C1 = nn.Conv2d(1, 6, 5)\n",
    "        #Definiamo il livello di subsampling. Questo viene implementato usando il modulo \"AvgPool2d\"\n",
    "        #Il modulo richiede in input la dimensione dei neighborhood rispetto ai quali calcolare\n",
    "        # i valori medi: 2\n",
    "        self.S2 = nn.AvgPool2d(2)\n",
    "        #Definiamo il livello C3 in maniera analoga a quanto fatto per il livello C1:\n",
    "        self.C3 = nn.Conv2d(6, 16, 5)\n",
    "        #Definiamo il successivo max pooling 2d\n",
    "        self.S4 = nn.AvgPool2d(2)\n",
    "        #Definiamo il primo layer FC\n",
    "        self.F5 = nn.Linear(256, 120)\n",
    "        #Definiamo il secondo layer FC\n",
    "        self.F6 = nn.Linear(120, 84)\n",
    "        #Definiamo il terzo layer FC\n",
    "        self.F7 = nn.Linear(84, 10)\n",
    "        \n",
    "        #Definiamo inoltre un modulo per calcolare l'attivazione Tanh\n",
    "        self.activation = nn.Tanh()\n",
    "        \n",
    "    def forward(self,x):\n",
    "        #Applichiamo le diverse trasformazioni in cascata\n",
    "        x = self.C1(x)\n",
    "        x = self.S2(x)\n",
    "        x = self.activation(x) #inseriamo le attivazioni ove opportuno\n",
    "        x = self.C3(x)\n",
    "        x = self.S4(x)\n",
    "        x = self.activation(x) #inseriamo le attivazioni ove opportuno\n",
    "        x = self.F5(x.view(x.shape[0],-1)) #dobbiamo effettuare un \"reshape\" del tensore\n",
    "        x = self.activation(x)\n",
    "        x = self.F6(x)\n",
    "        x = self.activation(x)\n",
    "        x = self.F7(x)\n",
    "        return x"
   ]
  },
  {
   "cell_type": "markdown",
   "metadata": {},
   "source": [
    "Definiamo il modello e verifichiamone il numero di parametri:"
   ]
  },
  {
   "cell_type": "code",
   "execution_count": 3,
   "metadata": {},
   "outputs": [
    {
     "data": {
      "text/plain": [
       "44426"
      ]
     },
     "execution_count": 3,
     "metadata": {},
     "output_type": "execute_result"
    }
   ],
   "source": [
    "net = LeNet()\n",
    "sum([p.numel() for p in net.parameters()])"
   ]
  },
  {
   "cell_type": "markdown",
   "metadata": {},
   "source": [
    "Carichiamo il dataset MNIST-DIGITS e definiamo i loaders"
   ]
  },
  {
   "cell_type": "code",
   "execution_count": 4,
   "metadata": {},
   "outputs": [],
   "source": [
    "from torchvision.datasets import MNIST\n",
    "from torch.utils.data import DataLoader\n",
    "from torchvision import transforms\n",
    "\n",
    "transform = transforms.Compose([transforms.ToTensor(), \n",
    "                                transforms.Normalize((0.1307,), (0.3081,))])\n",
    "mnist_train = MNIST(root='mnist',train=True, download=True, transform=transform)\n",
    "mnist_test = MNIST(root='mnist',train=False, download=True, transform=transform)\n",
    "mnist_train_loader = DataLoader(mnist_train, batch_size=1024, num_workers=2, shuffle=True)\n",
    "mnist_test_loader = DataLoader(mnist_test, batch_size=1024, num_workers=2)"
   ]
  },
  {
   "cell_type": "markdown",
   "metadata": {},
   "source": [
    "Definiamo l'oggetto `AverageValueMeter` come visto nello scorso laboratorio:"
   ]
  },
  {
   "cell_type": "code",
   "execution_count": 5,
   "metadata": {},
   "outputs": [],
   "source": [
    "class AverageValueMeter():\n",
    "    def __init__(self):\n",
    "        self.reset()\n",
    "        \n",
    "    def reset(self):\n",
    "        self.sum = 0\n",
    "        self.num = 0\n",
    "    \n",
    "    def add(self, value, num):\n",
    "        self.sum += value*num\n",
    "        self.num += num\n",
    "        \n",
    "    def value(self):\n",
    "        try:\n",
    "            return self.sum/self.num\n",
    "        except:\n",
    "            return None"
   ]
  },
  {
   "cell_type": "markdown",
   "metadata": {},
   "source": [
    "Definiamo la procedura di training vista nel laboratorio precedente:"
   ]
  },
  {
   "cell_type": "code",
   "execution_count": 6,
   "metadata": {},
   "outputs": [],
   "source": [
    "from torch.optim import SGD\n",
    "from torch.utils.tensorboard import SummaryWriter\n",
    "from sklearn.metrics import accuracy_score\n",
    "from os.path import join\n",
    "\n",
    "def train_classifier(model, train_loader, test_loader, exp_name='experiment', lr=0.01, epochs=10, momentum=0.99, logdir='logs'):\n",
    "    criterion = nn.CrossEntropyLoss() \n",
    "    optimizer = SGD(model.parameters(), lr, momentum=momentum) \n",
    "    #meters\n",
    "    loss_meter = AverageValueMeter()\n",
    "    acc_meter = AverageValueMeter()\n",
    "    #writer\n",
    "    writer = SummaryWriter(join(logdir, exp_name))\n",
    "    #device\n",
    "    device = \"cuda\" if torch.cuda.is_available() else \"cpu\"\n",
    "    model.to(device)\n",
    "    #definiamo un dizionario contenente i loader di training e test\n",
    "    loader = {\n",
    "        'train' : train_loader,\n",
    "        'test' : test_loader\n",
    "    }\n",
    "    #inizializziamo il global step\n",
    "    global_step = 0\n",
    "    for e in range(epochs):\n",
    "        #iteriamo tra due modalità: train e test\n",
    "        for mode in ['train','test']:\n",
    "            loss_meter.reset(); acc_meter.reset()\n",
    "            model.train() if mode == 'train' else model.eval()\n",
    "            with torch.set_grad_enabled(mode=='train'): #abilitiamo i gradienti solo in training\n",
    "                for i, batch in enumerate(loader[mode]):\n",
    "                    x=batch[0].to(device) #\"portiamoli sul device corretto\"\n",
    "                    y=batch[1].to(device)\n",
    "                    output = model(x)\n",
    "                    \n",
    "                    #aggiorniamo il global_step\n",
    "                    #conterrà il numero di campioni visti durante il training\n",
    "                    n = x.shape[0] #numero di elementi nel batch\n",
    "                    global_step += n\n",
    "                    l = criterion(output,y)\n",
    "\n",
    "                    if mode=='train':\n",
    "                        l.backward()\n",
    "                        optimizer.step()\n",
    "                        optimizer.zero_grad()\n",
    "\n",
    "                    acc = accuracy_score(y.to('cpu'),output.to('cpu').max(1)[1])\n",
    "                    loss_meter.add(l.item(),n)\n",
    "                    acc_meter.add(acc,n)\n",
    "\n",
    "                    #loggiamo i risultati iterazione per iterazione solo durante il training\n",
    "                    if mode=='train':\n",
    "                        writer.add_scalar('loss/train', loss_meter.value(), global_step=global_step)\n",
    "                        writer.add_scalar('accuracy/train', acc_meter.value(), global_step=global_step)\n",
    "            #una volta finita l'epoca (sia nel caso di training che test, loggiamo le stime finali)\n",
    "            writer.add_scalar('loss/' + mode, loss_meter.value(), global_step=global_step)\n",
    "            writer.add_scalar('accuracy/' + mode, acc_meter.value(), global_step=global_step)\n",
    "            \n",
    "        #conserviamo i pesi del modello alla fine di un ciclo di training e test\n",
    "        torch.save(model.state_dict(),'%s-%d.pth'%(exp_name,e+1))\n",
    "    return model"
   ]
  },
  {
   "cell_type": "markdown",
   "metadata": {},
   "source": [
    "Costruiamo e alleniamo la rete LeNet:"
   ]
  },
  {
   "cell_type": "code",
   "execution_count": 7,
   "metadata": {
    "scrolled": false
   },
   "outputs": [],
   "source": [
    "lenet_mnist = LeNet()\n",
    "lenet_mnist = train_classifier(lenet_mnist, mnist_train_loader, mnist_test_loader, 'lenet_mnist', epochs = 50)"
   ]
  },
  {
   "cell_type": "markdown",
   "metadata": {},
   "source": [
    "Le curve di training/test dovrebbero essere simili alle seguenti:\n",
    "\n",
    "<center><img src='img/lenet_mnist_tb.jpg' width=80%></center>"
   ]
  },
  {
   "cell_type": "markdown",
   "metadata": {},
   "source": [
    "**Domanda 3**\n",
    "<img src=\"img/qmark.jpg\" style=\"width:150px; float:left;\"/>\n",
    "\n",
    "Si osservi il log della procedura di training. Possiamo dire che la rete converge?"
   ]
  },
  {
   "cell_type": "markdown",
   "metadata": {},
   "source": [
    "**Risposta 3**\n",
    "<img style=\"float: left;width:150px;\" src=\"img/note.png\">\n",
    "\n",
    "<div style=\"background-color:#efefef; margin-left:150px; border:solid 1px; border-color:#dddddd; border-radius: 3px;\">\n",
    "<br><br><br><br><br><br>\n",
    "</div>"
   ]
  },
  {
   "cell_type": "markdown",
   "metadata": {},
   "source": [
    "Definiamo la consueta funzione per ottenere probabilità di test predette dal modello:"
   ]
  },
  {
   "cell_type": "code",
   "execution_count": 8,
   "metadata": {},
   "outputs": [],
   "source": [
    "def test_classifier(model, loader):\n",
    "    device = \"cuda\" if torch.cuda.is_available() else \"cpu\"\n",
    "    model.to(device)\n",
    "    predictions, labels = [], []\n",
    "    for batch in loader:\n",
    "        x = batch[0].to(device)\n",
    "        y = batch[1].to(device)\n",
    "        output = model(x)\n",
    "        preds = output.to('cpu').max(1)[1].numpy()\n",
    "        labs = y.to('cpu').numpy()\n",
    "        predictions.extend(list(preds))\n",
    "        labels.extend(list(labs))\n",
    "    return np.array(predictions), np.array(labels)"
   ]
  },
  {
   "cell_type": "markdown",
   "metadata": {},
   "source": [
    "Calcoliamo le accuracy di training e test:"
   ]
  },
  {
   "cell_type": "code",
   "execution_count": 9,
   "metadata": {},
   "outputs": [
    {
     "name": "stdout",
     "output_type": "stream",
     "text": [
      "Accuarcy di training: 1.0000\n",
      "Accuarcy di test: 0.9789\n"
     ]
    }
   ],
   "source": [
    "lenet_mnist_predictions_train, mnist_labels_train = test_classifier(lenet_mnist, mnist_train_loader)\n",
    "lenet_mnist_predictions_test, mnist_labels_test = test_classifier(lenet_mnist, mnist_test_loader)\n",
    "print(\"Accuarcy di training: %0.4f\"% accuracy_score(mnist_labels_train, lenet_mnist_predictions_train))\n",
    "print(\"Accuarcy di test: %0.4f\"% accuracy_score(mnist_labels_test, lenet_mnist_predictions_test))"
   ]
  },
  {
   "cell_type": "markdown",
   "metadata": {},
   "source": [
    "Generalmente, quando le accuracy sono così alte, le performance degli algoritmi di classificazione vengono espresse sotto forma di errore percentuale di classificazione, che può essere calcolato come segue:"
   ]
  },
  {
   "cell_type": "code",
   "execution_count": 10,
   "metadata": {},
   "outputs": [],
   "source": [
    "def perc_error(gt, pred):\n",
    "    return (1-accuracy_score(gt,pred))*100"
   ]
  },
  {
   "cell_type": "markdown",
   "metadata": {},
   "source": [
    "Calcoliamo l'errore percentuale di LeNet:"
   ]
  },
  {
   "cell_type": "code",
   "execution_count": 11,
   "metadata": {},
   "outputs": [
    {
     "name": "stdout",
     "output_type": "stream",
     "text": [
      "Errore LeNet su DIGITS: 2.11%\n"
     ]
    }
   ],
   "source": [
    "print (\"Errore LeNet su DIGITS: %0.2f%%\" % \\\n",
    "    perc_error(mnist_labels_test, lenet_mnist_predictions_test))"
   ]
  },
  {
   "cell_type": "markdown",
   "metadata": {},
   "source": [
    "**Domanda 4**\n",
    "<img src=\"img/qmark.jpg\" style=\"width:150px; float:left;\"/>\n",
    "\n",
    "Si confrontino le accuracy di training e test. Possiamo dire che il modello generalizza?"
   ]
  },
  {
   "cell_type": "markdown",
   "metadata": {},
   "source": [
    "**Risposta 4**\n",
    "<img style=\"float: left;width:150px;\" src=\"img/note.png\">\n",
    "\n",
    "<div style=\"background-color:#efefef; margin-left:150px; border:solid 1px; border-color:#dddddd; border-radius: 3px;\">\n",
    "<br><br><br><br><br><br>\n",
    "</div>"
   ]
  },
  {
   "cell_type": "markdown",
   "metadata": {},
   "source": [
    "Il modello di LeNet che abbiamo definito è una versione \"classica\" di una CNN. I progressi nel campo della ricerca hanno sottolineato che:\n",
    " * Il max pooling funziona meglio dell'average pooling;\n",
    " * Le ReLU sono più robuste delle attivazioni di tipo Tanh.\n",
    " \n",
    "Costruiamo una versione \"più moderna\" di LeNet modificando questi due elementi:"
   ]
  },
  {
   "cell_type": "code",
   "execution_count": 12,
   "metadata": {},
   "outputs": [],
   "source": [
    "class LeNetV2(nn.Module):\n",
    "    def __init__(self):\n",
    "        super(LeNetV2, self).__init__() \n",
    "        #Definiamo il primo livello. Dobbiamo effettuare una convoluzione 2D (ovvero su immagini)\n",
    "        #Utilizziamo il modulo Conv2d che prende in input:\n",
    "        #  - il numero di canali in input: 1 (si tratta di immagini in scala di grigio)\n",
    "        #  - il numero di canali in output: 6 (le mappe di feature)\n",
    "        #  - la dimensione del kernel: 5 (sta per \"5 X 5\")\n",
    "        self.C1 = nn.Conv2d(1, 6, 5)\n",
    "        #Definiamo il livello di subsampling. Questo viene implementato usando il modulo \"MaxPool2d\"\n",
    "        #Il modulo richiede in input la dimensione dei neighbourhood rispetto ai quali calcolare\n",
    "        # i valori massimi: 2\n",
    "        self.S2 = nn.MaxPool2d(2)\n",
    "        #Definiamo il livello C3 in maniera analoga a quanto fatto per il livello C1:\n",
    "        self.C3 = nn.Conv2d(6, 16, 5)\n",
    "        #Definiamo il successivo max pooling 2d\n",
    "        self.S4 = nn.MaxPool2d(2)\n",
    "        #Definiamo il primo layer FC\n",
    "        self.F5 = nn.Linear(256, 120)\n",
    "        #Definiamo il secondo layer FC\n",
    "        self.F6 = nn.Linear(120, 84)\n",
    "        #Definiamo il terzo layer FC\n",
    "        self.F7 = nn.Linear(84, 10)\n",
    "        \n",
    "        #Definiamo inoltre un modulo per calcolare l'attivazione ReLU\n",
    "        self.activation = nn.ReLU()\n",
    "        \n",
    "    def forward(self,x):\n",
    "        #Applichiamo le diverse trasformazioni in cascata\n",
    "        x = self.C1(x)\n",
    "        x = self.S2(x)\n",
    "        x = self.activation(x) #inseriamo le attivazioni ove opportuno\n",
    "        x = self.C3(x)\n",
    "        x = self.S4(x)\n",
    "        x = self.activation(x) #inseriamo le attivazioni ove opportuno\n",
    "        x = self.F5(x.view(x.shape[0],-1)) #dobbiamo effettuare un \"reshape\" del tensore\n",
    "        x = self.activation(x)\n",
    "        x = self.F6(x)\n",
    "        x = self.activation(x)\n",
    "        x = self.F7(x)\n",
    "        return x"
   ]
  },
  {
   "cell_type": "markdown",
   "metadata": {},
   "source": [
    "**Domanda 5**\n",
    "<img src=\"img/qmark.jpg\" style=\"width:150px; float:left;\"/>\n",
    "\n",
    "Si confronti il codice di LeNet con quello di LeNetV2. Quali righe di codice sono cambiate?"
   ]
  },
  {
   "cell_type": "markdown",
   "metadata": {},
   "source": [
    "**Risposta 5**\n",
    "<img style=\"float: left;width:150px;\" src=\"img/note.png\">\n",
    "\n",
    "<div style=\"background-color:#efefef; margin-left:150px; border:solid 1px; border-color:#dddddd; border-radius: 3px;\">\n",
    "<br><br><br><br><br><br>\n",
    "</div>"
   ]
  },
  {
   "cell_type": "markdown",
   "metadata": {},
   "source": [
    "Alleniamo il nuovo modello:"
   ]
  },
  {
   "cell_type": "code",
   "execution_count": 13,
   "metadata": {},
   "outputs": [],
   "source": [
    "lenet_v2_mnist = LeNetV2()\n",
    "lenet_v2_mnist = train_classifier(lenet_v2_mnist, mnist_train_loader, mnist_test_loader, 'lenet_v2_mnist', epochs=50)"
   ]
  },
  {
   "cell_type": "markdown",
   "metadata": {},
   "source": [
    "Le curve di training/test dovrebbero essere simili alle seguenti:\n",
    "\n",
    "<center><img src='img/lenet_mnist_v2_tb.jpg' width=80%></center>"
   ]
  },
  {
   "cell_type": "markdown",
   "metadata": {},
   "source": [
    "**Domanda 6**\n",
    "<img src=\"img/qmark.jpg\" style=\"width:150px; float:left;\"/>\n",
    "\n",
    "Si confrontino le curve di training e test di LeNetV2 con quelle di LeNetV1. Quale dei due modelli converge prima?"
   ]
  },
  {
   "cell_type": "markdown",
   "metadata": {},
   "source": [
    "**Risposta 6**\n",
    "<img style=\"float: left;width:150px;\" src=\"img/note.png\">\n",
    "\n",
    "<div style=\"background-color:#efefef; margin-left:150px; border:solid 1px; border-color:#dddddd; border-radius: 3px;\">\n",
    "<br><br><br><br><br><br>\n",
    "</div>"
   ]
  },
  {
   "cell_type": "markdown",
   "metadata": {},
   "source": [
    "Calcoliamo l'errore di test e confrontiamolo con quello ottenuto in precedenza:"
   ]
  },
  {
   "cell_type": "code",
   "execution_count": 14,
   "metadata": {},
   "outputs": [
    {
     "name": "stdout",
     "output_type": "stream",
     "text": [
      "Errore LeNet su DIGITS: 2.11%\n",
      "Errore LeNet v2 su DIGITS: 1.19%\n"
     ]
    }
   ],
   "source": [
    "lenet_v2_mnist_predictions_test, mnist_labels_test = test_classifier(lenet_v2_mnist, mnist_test_loader)\n",
    "print (\"Errore LeNet su DIGITS: %0.2f%%\" % \\\n",
    "    perc_error(mnist_labels_test, lenet_mnist_predictions_test))\n",
    "print (\"Errore LeNet v2 su DIGITS: %0.2f%%\" % \\\n",
    "    perc_error(mnist_labels_test, lenet_v2_mnist_predictions_test))"
   ]
  },
  {
   "cell_type": "markdown",
   "metadata": {},
   "source": [
    "## 2 Immagini Naturali e \"MiniAlexNet\"\n",
    "\n",
    "Consideriamo adesso due dataset più complessi: CIFAR-100 e CIFAR-10. Ciascuno dei due dataset consiste in $60000$ immagini a colori di dimensioni $32 \\times 32$. $50000$ immagini sono utilizzate per training, mentre le restanti $10000$ immagini sono utilizzate per test. Le immagini di CIFAR-100 sono suddivise in $100$ classi, mentre le immagini di CIFAR-10 sono suddivise in 10 classi. L'immagine che segue mostra alcuni esempi delle $10$ classi di CIFAR-10:\n",
    "\n",
    "<img src = \"img/cifar.png\" width=600px>"
   ]
  },
  {
   "cell_type": "markdown",
   "metadata": {},
   "source": [
    "Carichiamo il dataset CIFAR-100. Normalizzeremo le immagini utilizzando le medie e varianze per canale, che sono state pre-computate (si vedano gli scorsi laboratori per un esempio su come calcolare questi valori)."
   ]
  },
  {
   "cell_type": "code",
   "execution_count": 15,
   "metadata": {},
   "outputs": [
    {
     "name": "stdout",
     "output_type": "stream",
     "text": [
      "Files already downloaded and verified\n",
      "Files already downloaded and verified\n"
     ]
    }
   ],
   "source": [
    "from torchvision.datasets import CIFAR100\n",
    "from torch.utils.data import DataLoader\n",
    "from torchvision import transforms\n",
    "\n",
    "transform = transforms.Compose([transforms.ToTensor(), \n",
    "                                transforms.Normalize((0.4914, 0.4822, 0.4465), (0.2023, 0.1994, 0.2010))])\n",
    "cifar100_train = CIFAR100(root='cifar100',train=True, download=True, transform=transform)\n",
    "cifar100_test = CIFAR100(root='cifar100',train=False, download=True, transform=transform)\n",
    "cifar100_train_loader = DataLoader(cifar100_train, batch_size=1024, num_workers=2, shuffle=True)\n",
    "cifar100_test_loader = DataLoader(cifar100_test, batch_size=1024, num_workers=2)"
   ]
  },
  {
   "cell_type": "markdown",
   "metadata": {},
   "source": [
    "Adattiamo il modello LeNetV2 per prendere in input immagini a 3 canali (RGB) di dimensione $32 \\times 32$ (invece di $28 \\times 28$). Aumenteremo il numero di feature maps e unità nei layer fully connected per aumentare la capacità della rete. Sostituiremo inoltre l'average Pooling con il MaxPooling e le attivazioni Tanh con le ReLU."
   ]
  },
  {
   "cell_type": "code",
   "execution_count": 16,
   "metadata": {},
   "outputs": [],
   "source": [
    "from torch import nn\n",
    "class LeNetColor(nn.Module):\n",
    "    def __init__(self):\n",
    "        super(LeNetColor, self).__init__() \n",
    "        #ridefiniamo il modello utilizzando i moduli sequential.\n",
    "        #ne definiamo due: un \"feature extractor\", che estrae le feature maps\n",
    "        #e un \"classificatore\" che implementa i livelly FC\n",
    "        self.feature_extractor = nn.Sequential(\n",
    "            nn.Conv2d(3, 18, 5), #Input: 3 x 32 x 32. Ouput: 18 x 28 x 28\n",
    "            nn.MaxPool2d(2), #Input: 18 x 28 x 28. Output: 18 x 14 x 14\n",
    "            nn.ReLU(),\n",
    "            nn.Conv2d(18, 28, 5), #Input 18 x 14 x 14. Output: 28 x 10 x 10\n",
    "            nn.MaxPool2d(2), #Input 28 x 10 x 10. Output: 28 x 5 x 5\n",
    "            nn.ReLU()\n",
    "        )\n",
    "        \n",
    "        self.classifier = nn.Sequential(\n",
    "            nn.Linear(700, 360), #Input: 28 * 5 * 5\n",
    "            nn.ReLU(),\n",
    "            nn.Linear(360, 252),\n",
    "            nn.ReLU(),\n",
    "            nn.Linear(252, 100)\n",
    "        )\n",
    "        \n",
    "        \n",
    "    def forward(self,x):\n",
    "        #Applichiamo le diverse trasformazioni in cascata\n",
    "        x = self.feature_extractor(x)\n",
    "        x = self.classifier(x.view(x.shape[0],-1))\n",
    "        return x"
   ]
  },
  {
   "cell_type": "markdown",
   "metadata": {},
   "source": [
    "**Domanda 7**\n",
    "<img src=\"img/qmark.jpg\" style=\"width:150px; float:left;\"/>\n",
    "\n",
    "Confrontare il codice di LeNetColor con quello di LeNetV2. Le dimensioni delle mappe intermedie sono cambiate? Perchè?"
   ]
  },
  {
   "cell_type": "markdown",
   "metadata": {},
   "source": [
    "**Risposta 7**\n",
    "<img style=\"float: left;width:150px;\" src=\"img/note.png\">\n",
    "\n",
    "<div style=\"background-color:#efefef; margin-left:150px; border:solid 1px; border-color:#dddddd; border-radius: 3px;\">\n",
    "<br><br><br><br><br><br>\n",
    "</div>"
   ]
  },
  {
   "cell_type": "markdown",
   "metadata": {},
   "source": [
    "Alleniamo il modello:"
   ]
  },
  {
   "cell_type": "code",
   "execution_count": 17,
   "metadata": {},
   "outputs": [],
   "source": [
    "lenet_cifar100 = LeNetColor()\n",
    "lenet_cifar100 = train_classifier(lenet_cifar100, cifar100_train_loader, cifar100_test_loader, \\\n",
    "                                  'lenet_cifar100', epochs=150)"
   ]
  },
  {
   "cell_type": "markdown",
   "metadata": {},
   "source": [
    "Le curve di training/test dovrebbero essere simili alle seguenti:\n",
    "\n",
    "<center><img src='img/lenet_cifar100_tb.jpg' width=80%></center>"
   ]
  },
  {
   "cell_type": "markdown",
   "metadata": {},
   "source": [
    "**Domanda 8**\n",
    "<img src=\"img/qmark.jpg\" style=\"width:150px; float:left;\"/>\n",
    "\n",
    "Possiamo dire che la rete converge? Perchè? Come mai la differenza tra accuracy di training e accuracy di test aumenta all'aumentare del numero di epoche?"
   ]
  },
  {
   "cell_type": "markdown",
   "metadata": {},
   "source": [
    "**Risposta 8**\n",
    "<img style=\"float: left;width:150px;\" src=\"img/note.png\">\n",
    "\n",
    "<div style=\"background-color:#efefef; margin-left:150px; border:solid 1px; border-color:#dddddd; border-radius: 3px;\">\n",
    "<br><br><br><br><br><br>\n",
    "</div>"
   ]
  },
  {
   "cell_type": "markdown",
   "metadata": {},
   "source": [
    "Calcoliamo l'accuracy di test:"
   ]
  },
  {
   "cell_type": "code",
   "execution_count": 18,
   "metadata": {},
   "outputs": [
    {
     "name": "stdout",
     "output_type": "stream",
     "text": [
      "Accuracy LeNetColor su CIFAR-100: 0.24\n"
     ]
    }
   ],
   "source": [
    "lenet_cifar100_test_predictions, cifar100_labels_test = test_classifier(lenet_cifar100, cifar100_test_loader)\n",
    "print(\"Accuracy LeNetColor su CIFAR-100: %0.2f\" % \\\n",
    "    accuracy_score(cifar100_labels_test,lenet_cifar100_test_predictions))"
   ]
  },
  {
   "cell_type": "markdown",
   "metadata": {},
   "source": [
    "L'accuracy è piuttosto bassa. Proviamo a migliorarla aumentando la capacità del modello. Definiamo un modello più \"profondo\" con 5 livelli di convoluzione e tre layer fully connected. Inseriremo il max pooling solo tra il primo e secondo livello, il secondo e il terzo, e il quinto e il sesto. Per evitare l'eccessiva riduzione di dimensioni delle mappe di features, specifichiamo un padding pari al ceil della dimensione del kernel fratto 2. Questo farà sì che le convoluzioni non riducano le dimensioni delle mappe di features. Utilizziamo kernel di dimensioni più grandi nei primi layer e più piccoli nei layer successivi. Il modello è vagamente ispirato al modello \"AlexNet\" proposto da Krizhevsky et al. nel 2013."
   ]
  },
  {
   "cell_type": "code",
   "execution_count": 19,
   "metadata": {},
   "outputs": [],
   "source": [
    "from torch import nn\n",
    "class MiniAlexNet(nn.Module):\n",
    "    def __init__(self, input_channels=3, out_classes=100):\n",
    "        super(MiniAlexNet, self).__init__() \n",
    "        #ridefiniamo il modello utilizzando i moduli sequential.\n",
    "        #ne definiamo due: un \"feature extractor\", che estrae le feature maps\n",
    "        #e un \"classificatore\" che implementa i livelly FC\n",
    "        self.feature_extractor = nn.Sequential(\n",
    "            #Conv1\n",
    "            nn.Conv2d(input_channels, 16, 5, padding=2), #Input: 3 x 32 x 32. Ouput: 16 x 32 x 32\n",
    "            nn.MaxPool2d(2), #Input: 16 x 32 x 32. Output: 16 x 16 x 16\n",
    "            nn.ReLU(),\n",
    "            \n",
    "            #Conv2\n",
    "            nn.Conv2d(16, 32, 5, padding=2), #Input 16 x 16 x 16. Output: 32 x 16 x 16\n",
    "            nn.MaxPool2d(2), #Input: 32 x 16 x 16. Output: 32 x 8 x 8\n",
    "            nn.ReLU(),\n",
    "            \n",
    "            #Conv3\n",
    "            nn.Conv2d(32, 64, 3, padding=1), #Input 32 x 8 x 8. Output: 64 x 8 x 8\n",
    "            nn.ReLU(),\n",
    "            \n",
    "            #Conv4\n",
    "            nn.Conv2d(64, 128, 3, padding=1), #Input 64 x 8 x 8. Output: 128 x 8 x 8\n",
    "            nn.ReLU(),\n",
    "            \n",
    "            #Conv5\n",
    "            nn.Conv2d(128, 256, 3, padding=1), #Input 128 x 8 x 8. Output: 256 x 8 x 8\n",
    "            nn.MaxPool2d(2), #Input: 256 x 8 x 8. Output: 256 x 4 x 4\n",
    "            nn.ReLU()\n",
    "        )\n",
    "        \n",
    "        self.classifier = nn.Sequential(\n",
    "            #FC6\n",
    "            nn.Linear(4096, 2048), #Input: 256 * 4 * 4\n",
    "            nn.ReLU(),\n",
    "            \n",
    "            #FC7\n",
    "            nn.Linear(2048, 1024),\n",
    "            nn.ReLU(),\n",
    "            \n",
    "            #FC8\n",
    "            nn.Linear(1024, out_classes)\n",
    "        )\n",
    "        \n",
    "        \n",
    "    def forward(self,x):\n",
    "        #Applichiamo le diverse trasformazioni in cascata\n",
    "        x = self.feature_extractor(x)\n",
    "        x = self.classifier(x.view(x.shape[0],-1))\n",
    "        return x"
   ]
  },
  {
   "cell_type": "markdown",
   "metadata": {},
   "source": [
    "Alleniamo il modello:"
   ]
  },
  {
   "cell_type": "code",
   "execution_count": 20,
   "metadata": {},
   "outputs": [],
   "source": [
    "mini_alexnet_cifar100 = MiniAlexNet()\n",
    "mini_alexnet_cifar100 = train_classifier(mini_alexnet_cifar100, cifar100_train_loader, cifar100_test_loader, \\\n",
    "                                  'minialexnet_cifar100', epochs=150)"
   ]
  },
  {
   "cell_type": "markdown",
   "metadata": {},
   "source": [
    "Le curve di training/test dovrebbero essere simili alle seguenti:\n",
    "\n",
    "<center><img src='img/mini_alexnet_cifar100_tb.jpg' width=80%></center>"
   ]
  },
  {
   "cell_type": "markdown",
   "metadata": {},
   "source": [
    "Calcoliamo l'accuracy di test e confrontiamola con quella del precedente modello:"
   ]
  },
  {
   "cell_type": "code",
   "execution_count": 21,
   "metadata": {},
   "outputs": [
    {
     "name": "stdout",
     "output_type": "stream",
     "text": [
      "Accuracy LeNetColor su CIFAR-100: 0.24\n",
      "Accuracy MiniAlexNet su CIFAR-100: 0.21\n"
     ]
    }
   ],
   "source": [
    "minialexnet_cifar100_test_predictions, cifar100_labels_test = test_classifier(mini_alexnet_cifar100, cifar100_test_loader)\n",
    "print(\"Accuracy LeNetColor su CIFAR-100: %0.2f\" % \\\n",
    "    accuracy_score(cifar100_labels_test,lenet_cifar100_test_predictions))\n",
    "print(\"Accuracy MiniAlexNet su CIFAR-100: %0.2f\" % \\\n",
    "    accuracy_score(cifar100_labels_test,minialexnet_cifar100_test_predictions))"
   ]
  },
  {
   "cell_type": "markdown",
   "metadata": {},
   "source": [
    "**Domanda 9**\n",
    "<img src=\"img/qmark.jpg\" style=\"width:150px; float:left;\"/>\n",
    "\n",
    "Confrontare le curve di loss e accuracy di MiniAlexNet con quelle di LeNetColor. Quale dei due modelli soffre di più di overfitting. Perché?"
   ]
  },
  {
   "cell_type": "markdown",
   "metadata": {},
   "source": [
    "**Risposta 9**\n",
    "<img style=\"float: left;width:150px;\" src=\"img/note.png\">\n",
    "\n",
    "<div style=\"background-color:#efefef; margin-left:150px; border:solid 1px; border-color:#dddddd; border-radius: 3px;\">\n",
    "<br><br><br><br><br><br>\n",
    "</div>"
   ]
  },
  {
   "cell_type": "markdown",
   "metadata": {},
   "source": [
    "# 3 Regolarizzazione\n",
    "\n",
    "Negli esempi precedenti, abbiamo osservato una grossa differenza tra accuracy di training e accuracy di test. Questa differenza è dovuta al fenomeno dell'overfitting e si acuisce quando i modelli contengono molti parametri e i dataset sono piccoli. Oltre alla tecnica di regolarizzazione mediante weight decay, esistono altre tecniche per ridurre l'overfitting. Vedremo in particolare le seguenti tecniche:\n",
    " * Dropout;\n",
    " * Data augmentation;\n",
    " * Batch normalization."
   ]
  },
  {
   "cell_type": "markdown",
   "metadata": {},
   "source": [
    "## 3.1 Dropout\n",
    "\n",
    "Il dropout permette di ridurre l'overfitting rimuovendo in maniera casuale dei nodi dalla rete a training time. Per implementare il dropout, basta utilizzare il modulo apposito `Dropout`. Modifichiamo MiniAlexNet per introdurre il dropout nei layer fully connected. Posizioneremo i moduli dropout esattamente dove sono posizionali nell'architettura AlexNet. Come probabilità di dropout utilizzeremo $0.5$, che è la probabilità di default."
   ]
  },
  {
   "cell_type": "code",
   "execution_count": 22,
   "metadata": {},
   "outputs": [],
   "source": [
    "from torch import nn\n",
    "class MiniAlexNetV2(nn.Module):\n",
    "    def __init__(self, input_channels=3, out_classes=100):\n",
    "        super(MiniAlexNetV2, self).__init__() \n",
    "        #ridefiniamo il modello utilizzando i moduli sequential.\n",
    "        #ne definiamo due: un \"feature extractor\", che estrae le feature maps\n",
    "        #e un \"classificatore\" che implementa i livelly FC\n",
    "        self.feature_extractor = nn.Sequential(\n",
    "            #Conv1\n",
    "            nn.Conv2d(input_channels, 16, 5, padding=2), #Input: 3 x 32 x 32. Ouput: 16 x 32 x 32\n",
    "            nn.MaxPool2d(2), #Input: 16 x 32 x 32. Output: 16 x 16 x 16\n",
    "            nn.ReLU(),\n",
    "            \n",
    "            #Conv2\n",
    "            nn.Conv2d(16, 32, 5, padding=2), #Input 16 x 16 x 16. Output: 32 x 16 x 16\n",
    "            nn.MaxPool2d(2), #Input: 32 x 16 x 16. Output: 32 x 8 x 8\n",
    "            nn.ReLU(),\n",
    "            \n",
    "            #Conv3\n",
    "            nn.Conv2d(32, 64, 3, padding=1), #Input 32 x 8 x 8. Output: 64 x 8 x 8\n",
    "            nn.ReLU(),\n",
    "            \n",
    "            #Conv4\n",
    "            nn.Conv2d(64, 128, 3, padding=1), #Input 64 x 8 x 8. Output: 128 x 8 x 8\n",
    "            nn.ReLU(),\n",
    "            \n",
    "            #Conv5\n",
    "            nn.Conv2d(128, 256, 3, padding=1), #Input 128 x 8 x 8. Output: 256 x 8 x 8\n",
    "            nn.MaxPool2d(2), #Input: 256 x 8 x 8. Output: 256 x 4 x 4\n",
    "            nn.ReLU()\n",
    "        )\n",
    "        \n",
    "        self.classifier = nn.Sequential(\n",
    "            nn.Dropout(), #i layer di dropout vanno posizionati prima di FC6 e FC7\n",
    "            #FC6\n",
    "            nn.Linear(4096, 2048), #Input: 256 * 4 * 4\n",
    "            nn.ReLU(),\n",
    "            \n",
    "            nn.Dropout(),\n",
    "            #FC7\n",
    "            nn.Linear(2048, 1024),\n",
    "            nn.ReLU(),\n",
    "            \n",
    "            #FC8\n",
    "            nn.Linear(1024, out_classes)\n",
    "        )\n",
    "        \n",
    "        \n",
    "    def forward(self,x):\n",
    "        #Applichiamo le diverse trasformazioni in cascata\n",
    "        x = self.feature_extractor(x)\n",
    "        x = self.classifier(x.view(x.shape[0],-1))\n",
    "        return x"
   ]
  },
  {
   "cell_type": "markdown",
   "metadata": {},
   "source": [
    "Alleniamo il modello su CIFAR-100:"
   ]
  },
  {
   "cell_type": "code",
   "execution_count": 23,
   "metadata": {},
   "outputs": [],
   "source": [
    "mini_alexnet_v2_cifar100 = MiniAlexNetV2()\n",
    "mini_alexnet_v2_cifar100 = train_classifier(mini_alexnet_v2_cifar100, cifar100_train_loader, cifar100_test_loader, \\\n",
    "                                  'minialexnet_v2_cifar100', epochs=150)"
   ]
  },
  {
   "cell_type": "markdown",
   "metadata": {},
   "source": [
    "Le curve di training/test dovrebbero essere simili alle seguenti:\n",
    "\n",
    "<center><img src='img/mini_alexnet_v2_cifar100_tb.jpg' width=80%></center>"
   ]
  },
  {
   "cell_type": "markdown",
   "metadata": {},
   "source": [
    "Calcoliamo l'accuracy di test e confrontiamo con i modelli precedenti:"
   ]
  },
  {
   "cell_type": "code",
   "execution_count": 24,
   "metadata": {},
   "outputs": [
    {
     "name": "stdout",
     "output_type": "stream",
     "text": [
      "Accuracy LeNetColor su CIFAR-100: 0.24\n",
      "Accuracy MiniAlexNet su CIFAR-100: 0.21\n",
      "Accuracy MiniAlexNetV2 su CIFAR-100: 0.40\n"
     ]
    }
   ],
   "source": [
    "minialexnet_v2_cifar100_test_predictions, cifar100_labels_test = test_classifier(mini_alexnet_v2_cifar100, cifar100_test_loader)\n",
    "print(\"Accuracy LeNetColor su CIFAR-100: %0.2f\" % \\\n",
    "    accuracy_score(cifar100_labels_test,lenet_cifar100_test_predictions))\n",
    "print(\"Accuracy MiniAlexNet su CIFAR-100: %0.2f\" % \\\n",
    "    accuracy_score(cifar100_labels_test,minialexnet_cifar100_test_predictions))\n",
    "print(\"Accuracy MiniAlexNetV2 su CIFAR-100: %0.2f\" % \\\n",
    "    accuracy_score(cifar100_labels_test,minialexnet_v2_cifar100_test_predictions))"
   ]
  },
  {
   "cell_type": "markdown",
   "metadata": {},
   "source": [
    "**Domanda 10**\n",
    "<img src=\"img/qmark.jpg\" style=\"width:150px; float:left;\"/>\n",
    "\n",
    "Il dropout ha migliorato notevolmente l'accuracy di test. Si può anche notare una differenza qualitativa nel training dei due modelli (con e senza dropout). Si confrontino le curve di accuracy e loss del modello appena allenato e della rispettiva versione senza dropout. Quali sono le differenze?"
   ]
  },
  {
   "cell_type": "markdown",
   "metadata": {},
   "source": [
    "**Risposta 10**\n",
    "<img style=\"float: left;width:150px;\" src=\"img/note.png\">\n",
    "\n",
    "<div style=\"background-color:#efefef; margin-left:150px; border:solid 1px; border-color:#dddddd; border-radius: 3px;\">\n",
    "<br><br><br><br><br><br>\n",
    "</div>"
   ]
  },
  {
   "cell_type": "markdown",
   "metadata": {},
   "source": [
    "## 3.2 Data Augmentation\n",
    "\n",
    "Un altro modo per prevenire l'overfitting, consiste nell'\"aumentare\" i dati in maniera sintetica. Ciò permette di forzare il modello a generalizzare rispetto ad alcune condizioni. La tecnica della data augmentation viene applicata trasformando \"al volo\" i dati in input in maniera casuale e facendo in modo che, dopo la trasformazione, l'etichetta sia ancora valida. Alcune trasformazioni comuni sono le seguenti:\n",
    "\n",
    " * Flip orizzontale, con probabilità 0.5;\n",
    " * Color jittering: il valore di ogni pixel viene perturbato leggermente in maniera casuale;\n",
    " * Random crop: un crop di dimensione inferiore a quella di input viene estratto casualmente dall'immagine.\n",
    "\n",
    "Applicando la data augmentation, ad ogni epoca, il training set sarà \"leggermente diverso\". Ciò permette di ridurre l'overfitting. La data augmentation si applica specificando apposite trasformazioni. Le trasformazioni vengono applicate solo in fase di training.\n",
    "\n",
    "Vediamo di applicare le tre trasformazioni viste sopra. Estrarremo crop $28 \\times 28$ dalle immagini $32 \\times 32$ di CIFAR-10. Ciò ci costringerà ad adattare la struttura di MiniAlexNet per accettare in input immagini più piccole. Per compatibilità, in fase di test estrarremo crop $28 \\times 28$ dalla parte centrale dell'immagine."
   ]
  },
  {
   "cell_type": "code",
   "execution_count": 25,
   "metadata": {},
   "outputs": [
    {
     "name": "stdout",
     "output_type": "stream",
     "text": [
      "Files already downloaded and verified\n",
      "Files already downloaded and verified\n"
     ]
    }
   ],
   "source": [
    "from torch.utils.data import DataLoader\n",
    "from torchvision import transforms\n",
    "\n",
    "transform_train = transforms.Compose([transforms.RandomHorizontalFlip(),\n",
    "                                      transforms.ColorJitter(),\n",
    "                                      transforms.RandomCrop(28),\n",
    "                                      transforms.ToTensor(), \n",
    "                                      transforms.Normalize((0.4914, 0.4822, 0.4465), (0.2023, 0.1994, 0.2010))])\n",
    "\n",
    "#in fase di test specifichiamo solo il crop centrale (non potremmo classificare immagini 32 x 32)\n",
    "transform_test = transforms.Compose([ transforms.CenterCrop(28),\n",
    "                                      transforms.ToTensor(), \n",
    "                                      transforms.Normalize((0.4914, 0.4822, 0.4465), (0.2023, 0.1994, 0.2010))])\n",
    "\n",
    "\n",
    "cifar100_train = CIFAR100(root='cifar100',train=True, download=True, transform=transform_train)\n",
    "cifar100_test = CIFAR100(root='cifar100',train=False, download=True, transform=transform_test)\n",
    "cifar100_train_loader = DataLoader(cifar100_train, batch_size=1024, num_workers=2, shuffle=True)\n",
    "cifar100_test_loader = DataLoader(cifar100_test, batch_size=1024, num_workers=2)"
   ]
  },
  {
   "cell_type": "markdown",
   "metadata": {},
   "source": [
    "Per capire l'effetto della data augmentation, proviamo a caricare e mostrare a schermo la stessa immagine del training set più volte:"
   ]
  },
  {
   "cell_type": "code",
   "execution_count": 26,
   "metadata": {},
   "outputs": [
    {
     "data": {
      "image/png": "[encoded data removed]",
      "text/plain": [
       "<Figure size 864x288 with 10 Axes>"
      ]
     },
     "metadata": {
      "needs_background": "light"
     },
     "output_type": "display_data"
    }
   ],
   "source": [
    "from matplotlib import pyplot as plt\n",
    "#riscaliamo i valori tra 0 e 1 per la visualizzazione\n",
    "def norm(im):\n",
    "    im = im-im.min()\n",
    "    return im/im.max()\n",
    "\n",
    "plt.figure(figsize=(12,4))\n",
    "for i in range(10):\n",
    "    plt.subplot(2,5,i+1)\n",
    "    plt.imshow(norm(cifar100_train[0][0].numpy().transpose(1,2,0)))\n",
    "plt.show()"
   ]
  },
  {
   "cell_type": "markdown",
   "metadata": {},
   "source": [
    "Come possiamo notare, ogni volta che lo stesso campione viene caricato, vengono applicate ad esso trasformazioni diverse."
   ]
  },
  {
   "cell_type": "markdown",
   "metadata": {},
   "source": [
    "**Domanda 11**\n",
    "<img src=\"img/qmark.jpg\" style=\"width:150px; float:left;\"/>\n",
    "\n",
    "Quali sono i vantaggi del processo di data augmentation appena descritto rispetto ad applicare le trasformazioni considerate a tutte le immagini di training per ottenere una versione aumentata del dataset da conservare in memoria?"
   ]
  },
  {
   "cell_type": "markdown",
   "metadata": {},
   "source": [
    "**Risposta 11**\n",
    "<img style=\"float: left;width:150px;\" src=\"img/note.png\">\n",
    "\n",
    "<div style=\"background-color:#efefef; margin-left:150px; border:solid 1px; border-color:#dddddd; border-radius: 3px;\">\n",
    "<br><br><br><br><br><br>\n",
    "</div>"
   ]
  },
  {
   "cell_type": "markdown",
   "metadata": {},
   "source": [
    "Adattiamo adesso MiniAlexNet per lavorare su immagini $28 \\times 28$:"
   ]
  },
  {
   "cell_type": "code",
   "execution_count": 27,
   "metadata": {},
   "outputs": [],
   "source": [
    "from torch import nn\n",
    "class MiniAlexNetV3(nn.Module):\n",
    "    def __init__(self, input_channels=3, out_classes=100):\n",
    "        super(MiniAlexNetV3, self).__init__() \n",
    "        #ridefiniamo il modello utilizzando i moduli sequential.\n",
    "        #ne definiamo due: un \"feature extractor\", che estrae le feature maps\n",
    "        #e un \"classificatore\" che implementa i livelly FC\n",
    "        self.feature_extractor = nn.Sequential(\n",
    "            #Conv1\n",
    "            nn.Conv2d(input_channels, 16, 5, padding=2), #Input: 3 x 28 x 28. Ouput: 16 x 28 x 28\n",
    "            nn.MaxPool2d(2), #Input: 16 x 28 x 28. Output: 16 x 14 x 14\n",
    "            nn.ReLU(),\n",
    "            \n",
    "            #Conv2\n",
    "            nn.Conv2d(16, 32, 5, padding=2), #Input 16 x 14 x 14. Output: 32 x 14 x 14\n",
    "            nn.MaxPool2d(2), #Input: 32 x 14 x 14. Output: 32 x 7 x 7\n",
    "            nn.ReLU(),\n",
    "            \n",
    "            #Conv3\n",
    "            nn.Conv2d(32, 64, 3, padding=1), #Input 32 x 7 x 7. Output: 64 x 7 x 7\n",
    "            nn.ReLU(),\n",
    "            \n",
    "            #Conv4\n",
    "            nn.Conv2d(64, 128, 3, padding=1), #Input 64 x 7 x 7. Output: 128 x 7 x 7\n",
    "            nn.ReLU(),\n",
    "            \n",
    "            #Conv5\n",
    "            nn.Conv2d(128, 256, 3, padding=1), #Input 128 x 7 x 7. Output: 256 x 7 x 7\n",
    "            nn.MaxPool2d(2), #Input: 256 x 7 x 7. Output: 256 x 3 x 3\n",
    "            nn.ReLU()\n",
    "        )\n",
    "        \n",
    "        self.classifier = nn.Sequential(\n",
    "            nn.Dropout(), #i layer di dropout vanno posizionati prima di FC6 e FC7\n",
    "            #FC6\n",
    "            nn.Linear(2304, 2048), #Input: 256 * 3 * 3\n",
    "            nn.ReLU(),\n",
    "            \n",
    "            nn.Dropout(),\n",
    "            #FC7\n",
    "            nn.Linear(2048, 1024),\n",
    "            nn.ReLU(),\n",
    "            \n",
    "            #FC8\n",
    "            nn.Linear(1024, out_classes)\n",
    "        )\n",
    "        \n",
    "        \n",
    "    def forward(self,x):\n",
    "        #Applichiamo le diverse trasformazioni in cascata\n",
    "        x = self.feature_extractor(x)\n",
    "        x = self.classifier(x.view(x.shape[0],-1))\n",
    "        return x"
   ]
  },
  {
   "cell_type": "markdown",
   "metadata": {},
   "source": [
    "**Domanda 12**\n",
    "<img src=\"img/qmark.jpg\" style=\"width:150px; float:left;\"/>\n",
    "\n",
    "Cosa è stato modificato nel modello? Perché?"
   ]
  },
  {
   "cell_type": "markdown",
   "metadata": {},
   "source": [
    "**Risposta 12**\n",
    "<img style=\"float: left;width:150px;\" src=\"img/note.png\">\n",
    "\n",
    "<div style=\"background-color:#efefef; margin-left:150px; border:solid 1px; border-color:#dddddd; border-radius: 3px;\">\n",
    "<br><br><br><br><br><br>\n",
    "</div>"
   ]
  },
  {
   "cell_type": "markdown",
   "metadata": {},
   "source": [
    "Alleniamo il modello:"
   ]
  },
  {
   "cell_type": "code",
   "execution_count": 28,
   "metadata": {},
   "outputs": [],
   "source": [
    "mini_alexnet_v3_cifar100 = MiniAlexNetV3()\n",
    "mini_alexnet_v3_cifar100 = train_classifier(mini_alexnet_v3_cifar100, cifar100_train_loader, cifar100_test_loader, \\\n",
    "                                  'minialexnet_v3_cifar100', epochs=150)"
   ]
  },
  {
   "cell_type": "markdown",
   "metadata": {},
   "source": [
    "Le curve di training/test dovrebbero essere simili alle seguenti:\n",
    "\n",
    "<center><img src='img/mini_alexnet_v3_cifar100_tb2.jpg' width=80%></center>"
   ]
  },
  {
   "cell_type": "markdown",
   "metadata": {},
   "source": [
    "Calcoliamo l'accuracy di test e confrontiamo con gli altri modelli:"
   ]
  },
  {
   "cell_type": "code",
   "execution_count": 29,
   "metadata": {},
   "outputs": [
    {
     "name": "stdout",
     "output_type": "stream",
     "text": [
      "Accuracy LeNetColor su CIFAR-100: 0.24\n",
      "Accuracy MiniAlexNet su CIFAR-100: 0.21\n",
      "Accuracy MiniAlexNetV2 su CIFAR-100: 0.40\n",
      "Accuracy MiniAlexNetV3 su CIFAR-100: 0.49\n"
     ]
    }
   ],
   "source": [
    "minialexnet_v3_cifar100_test_predictions, cifar100_labels_test = test_classifier(mini_alexnet_v3_cifar100, cifar100_test_loader)\n",
    "print(\"Accuracy LeNetColor su CIFAR-100: %0.2f\" % \\\n",
    "    accuracy_score(cifar100_labels_test,lenet_cifar100_test_predictions))\n",
    "print(\"Accuracy MiniAlexNet su CIFAR-100: %0.2f\" % \\\n",
    "    accuracy_score(cifar100_labels_test,minialexnet_cifar100_test_predictions))\n",
    "print(\"Accuracy MiniAlexNetV2 su CIFAR-100: %0.2f\" % \\\n",
    "    accuracy_score(cifar100_labels_test,minialexnet_v2_cifar100_test_predictions))\n",
    "print(\"Accuracy MiniAlexNetV3 su CIFAR-100: %0.2f\" % \\\n",
    "    accuracy_score(cifar100_labels_test,minialexnet_v3_cifar100_test_predictions))"
   ]
  },
  {
   "cell_type": "markdown",
   "metadata": {},
   "source": [
    "## 3.4 Batch Normalization\n",
    "Un'altra tecnica che permette di regolarizzare il modello è quella della batch normalization. La batch normalization permette di ridurre la varianza delle attivazioni dei layer intermedi della rete e può essere applicata inserendo nell'architettura il layer `nn.BatchNorm2d` nel caso di layer di convoluzioni e `nn.BatchNorm1d` nel caso di layer fully connected. I liveli di batch normalization vanno inseriti prima di ogni layer eccetto il primo. Modifichiamo AlexNetV4 introducendo la batch normalization:"
   ]
  },
  {
   "cell_type": "code",
   "execution_count": 30,
   "metadata": {},
   "outputs": [],
   "source": [
    "from torch import nn\n",
    "class MiniAlexNetV4(nn.Module):\n",
    "    def __init__(self, input_channels=3, out_classes=100):\n",
    "        super(MiniAlexNetV4, self).__init__() \n",
    "        #ridefiniamo il modello utilizzando i moduli sequential.\n",
    "        #ne definiamo due: un \"feature extractor\", che estrae le feature maps\n",
    "        #e un \"classificatore\" che implementa i livelly FC\n",
    "        self.feature_extractor = nn.Sequential(\n",
    "            #Conv1\n",
    "            nn.Conv2d(input_channels, 16, 5, padding=2), #Input: 3 x 28 x 28. Ouput: 16 x 28 x 28\n",
    "            nn.MaxPool2d(2), #Input: 16 x 28 x 28. Output: 16 x 14 x 14\n",
    "            nn.ReLU(),\n",
    "            \n",
    "            #Conv2\n",
    "            nn.BatchNorm2d(16), #dobbiamo passare come parametro il numero di mappe di feature in input\n",
    "            nn.Conv2d(16, 32, 5, padding=2), #Input 16 x 14 x 14. Output: 32 x 14 x 14\n",
    "            nn.MaxPool2d(2), #Input: 32 x 14 x 14. Output: 32 x 7 x 7\n",
    "            nn.ReLU(),\n",
    "            \n",
    "            #Conv3\n",
    "            nn.BatchNorm2d(32), #dobbiamo passare come parametro il numero di mappe di feature in input\n",
    "            nn.Conv2d(32, 64, 3, padding=1), #Input 32 x 7 x 7. Output: 64 x 7 x 7\n",
    "            nn.ReLU(),\n",
    "            \n",
    "            #Conv4\n",
    "            nn.BatchNorm2d(64), #dobbiamo passare come parametro il numero di mappe di feature in input\n",
    "            nn.Conv2d(64, 128, 3, padding=1), #Input 64 x 7 x 7. Output: 128 x 7 x 7\n",
    "            nn.ReLU(),\n",
    "            \n",
    "            #Conv5\n",
    "            nn.BatchNorm2d(128), #dobbiamo passare come parametro il numero di mappe di feature in input\n",
    "            nn.Conv2d(128, 256, 3, padding=1), #Input 128 x 7 x 7. Output: 256 x 7 x 7\n",
    "            nn.MaxPool2d(2), #Input: 256 x 7 x 7. Output: 256 x 3 x 3\n",
    "            nn.ReLU()\n",
    "        )\n",
    "        \n",
    "        self.classifier = nn.Sequential(\n",
    "            nn.Dropout(), #i layer di dropout vanno posizionati prima di FC6 e FC7\n",
    "            #FC6\n",
    "            nn.BatchNorm1d(2304), #dobbiamo passare come parametro il numero di feature in input\n",
    "            nn.Linear(2304, 2048), #Input: 256 * 3 * 3\n",
    "            nn.ReLU(),\n",
    "            \n",
    "            nn.Dropout(),\n",
    "            #FC7\n",
    "            nn.BatchNorm1d(2048), #dobbiamo passare come parametro il numero di mappe di feature in input\n",
    "            nn.Linear(2048, 1024),\n",
    "            nn.ReLU(),\n",
    "            \n",
    "            #FC8\n",
    "            nn.BatchNorm1d(1024), #dobbiamo passare come parametro il numero di mappe di feature in input\n",
    "            nn.Linear(1024, out_classes)\n",
    "        )\n",
    "        \n",
    "        \n",
    "    def forward(self,x):\n",
    "        #Applichiamo le diverse trasformazioni in cascata\n",
    "        x = self.feature_extractor(x)\n",
    "        x = self.classifier(x.view(x.shape[0],-1))\n",
    "        return x"
   ]
  },
  {
   "cell_type": "markdown",
   "metadata": {},
   "source": [
    "**Domanda 13**\n",
    "<img src=\"img/qmark.jpg\" style=\"width:150px; float:left;\"/>\n",
    "\n",
    "Si confronti il codice scritto sopra con quello di AlexNetv3, cosa cambia? Perché non viene applicata la batch normalizzation al primo layer?"
   ]
  },
  {
   "cell_type": "markdown",
   "metadata": {},
   "source": [
    "**Risposta 13**\n",
    "<img style=\"float: left;width:150px;\" src=\"img/note.png\">\n",
    "\n",
    "<div style=\"background-color:#efefef; margin-left:150px; border:solid 1px; border-color:#dddddd; border-radius: 3px;\">\n",
    "<br><br><br><br><br><br>\n",
    "</div>"
   ]
  },
  {
   "cell_type": "markdown",
   "metadata": {},
   "source": [
    "Alleniamo il modello:"
   ]
  },
  {
   "cell_type": "code",
   "execution_count": 31,
   "metadata": {},
   "outputs": [],
   "source": [
    "mini_alexnet_v4_cifar100 = MiniAlexNetV4()\n",
    "mini_alexnet_v4_cifar100 = train_classifier(mini_alexnet_v4_cifar100, cifar100_train_loader, cifar100_test_loader, \\\n",
    "                                  'minialexnet_v4_cifar100', epochs=150)"
   ]
  },
  {
   "cell_type": "markdown",
   "metadata": {},
   "source": [
    "Le curve di training/test dovrebbero essere simili alle seguenti:\n",
    "\n",
    "<center><img src='img/mini_alexnet_v4_cifar100_tb.jpg' width=80%></center>"
   ]
  },
  {
   "cell_type": "markdown",
   "metadata": {},
   "source": [
    "Confrontiamo l'accuracy di test con quella degli altri modelli:"
   ]
  },
  {
   "cell_type": "code",
   "execution_count": 32,
   "metadata": {},
   "outputs": [
    {
     "name": "stdout",
     "output_type": "stream",
     "text": [
      "Accuracy LeNetColor su CIFAR-100: 0.24\n",
      "Accuracy MiniAlexNet su CIFAR-100: 0.21\n",
      "Accuracy MiniAlexNetV2 su CIFAR-100: 0.40\n",
      "Accuracy MiniAlexNetV3 su CIFAR-100: 0.49\n",
      "Accuracy MiniAlexNetV4 su CIFAR-100: 0.59\n"
     ]
    }
   ],
   "source": [
    "minialexnet_v4_cifar100_test_predictions, cifar100_labels_test = test_classifier(mini_alexnet_v4_cifar100, cifar100_test_loader)\n",
    "print(\"Accuracy LeNetColor su CIFAR-100: %0.2f\" % \\\n",
    "    accuracy_score(cifar100_labels_test,lenet_cifar100_test_predictions))\n",
    "print(\"Accuracy MiniAlexNet su CIFAR-100: %0.2f\" % \\\n",
    "    accuracy_score(cifar100_labels_test,minialexnet_cifar100_test_predictions))\n",
    "print(\"Accuracy MiniAlexNetV2 su CIFAR-100: %0.2f\" % \\\n",
    "    accuracy_score(cifar100_labels_test,minialexnet_v2_cifar100_test_predictions))\n",
    "print(\"Accuracy MiniAlexNetV3 su CIFAR-100: %0.2f\" % \\\n",
    "    accuracy_score(cifar100_labels_test,minialexnet_v3_cifar100_test_predictions))\n",
    "print(\"Accuracy MiniAlexNetV4 su CIFAR-100: %0.2f\" % \\\n",
    "    accuracy_score(cifar100_labels_test,minialexnet_v4_cifar100_test_predictions))"
   ]
  },
  {
   "cell_type": "markdown",
   "metadata": {},
   "source": [
    "**Domanda 14**\n",
    "<img src=\"img/qmark.jpg\" style=\"width:150px; float:left;\"/>\n",
    "\n",
    "Si confrontino le curve di test di MiniAlexNetV3 con quelle di MiniAlexNetV4. Ci sono delle differenze significative? Quali?"
   ]
  },
  {
   "cell_type": "markdown",
   "metadata": {},
   "source": [
    "**Risposta 14**\n",
    "<img style=\"float: left;width:150px;\" src=\"img/note.png\">\n",
    "\n",
    "<div style=\"background-color:#efefef; margin-left:150px; border:solid 1px; border-color:#dddddd; border-radius: 3px;\">\n",
    "<br><br><br><br><br><br>\n",
    "</div>"
   ]
  },
  {
   "cell_type": "markdown",
   "metadata": {},
   "source": [
    "# 4 Transfer Learning\n",
    "\n",
    "Uno dei vantaggi delle reti neurali è che, una volta allenate per risolvere un dato problema, esse possono essere riutilizzate per risolvere nuovi task mediante la tecnica del \"fine-tuning\". Ciò consiste semplicemente nell'inizializzare i parametri del modello con quelli provenienti da un modello allenato per un task diverso. Consideriamo ad esempio il dataset CIFAR-10. Esso è un sottoinsieme di CIFAR-100, che contiene etichette per 10 classi invece di 100. Compareremo le performance di un modello MiniAlexNet allenato da zero con il modello MiniAlexNet pre-allenato su CIFAR-100. Carichiamo il dataset:"
   ]
  },
  {
   "cell_type": "code",
   "execution_count": 33,
   "metadata": {},
   "outputs": [
    {
     "name": "stdout",
     "output_type": "stream",
     "text": [
      "Files already downloaded and verified\n",
      "Files already downloaded and verified\n"
     ]
    }
   ],
   "source": [
    "from torchvision.datasets import CIFAR10\n",
    "from torch.utils.data import DataLoader\n",
    "from torchvision import transforms\n",
    "\n",
    "transform_train = transforms.Compose([transforms.RandomVerticalFlip(),\n",
    "                                      transforms.ColorJitter(),\n",
    "                                      transforms.RandomCrop(28),\n",
    "                                      transforms.ToTensor(), \n",
    "                                      transforms.Normalize((0.4914, 0.4822, 0.4465), (0.2023, 0.1994, 0.2010))])\n",
    "\n",
    "#in fase di test specifichiamo solo il crop centrale (non potremmo classificare immagini 32 x 32)\n",
    "transform_test = transforms.Compose([ transforms.CenterCrop(28),\n",
    "                                      transforms.ToTensor(), \n",
    "                                      transforms.Normalize((0.4914, 0.4822, 0.4465), (0.2023, 0.1994, 0.2010))])\n",
    "\n",
    "cifar10_train = CIFAR10(root='cifar10',train=True, download=True, transform=transform_train)\n",
    "cifar10_test = CIFAR10(root='cifar10',train=False, download=True, transform=transform_test)\n",
    "cifar10_train_loader = DataLoader(cifar10_train, batch_size=1024, num_workers=2, shuffle=True)\n",
    "cifar10_test_loader = DataLoader(cifar10_test, batch_size=1024, num_workers=2)"
   ]
  },
  {
   "cell_type": "markdown",
   "metadata": {},
   "source": [
    "Alleniamo il modello da zero:"
   ]
  },
  {
   "cell_type": "code",
   "execution_count": 34,
   "metadata": {},
   "outputs": [],
   "source": [
    "mini_alexnet_v4_cifar10 = MiniAlexNetV4()\n",
    "mini_alexnet_v4_cifar10 = train_classifier(mini_alexnet_v4_cifar10, cifar10_train_loader, cifar10_test_loader, \\\n",
    "                                  'minialexnet_v4_cifar10', epochs=150)"
   ]
  },
  {
   "cell_type": "markdown",
   "metadata": {},
   "source": [
    "Le curve di training/test dovrebbero essere simili alle seguenti:\n",
    "\n",
    "<center><img src='img/mini_alexnet_v4_cifar10_tb.jpg' width=80%></center>"
   ]
  },
  {
   "cell_type": "markdown",
   "metadata": {},
   "source": [
    "Calcoliamo l'accuracy di test:"
   ]
  },
  {
   "cell_type": "code",
   "execution_count": 35,
   "metadata": {},
   "outputs": [
    {
     "name": "stdout",
     "output_type": "stream",
     "text": [
      "Accuracy MiniAlexNetV4 su CIFAR-10: 0.81\n"
     ]
    }
   ],
   "source": [
    "minialexnet_v4_cifar10_test_predictions, cifar10_labels_test = test_classifier(mini_alexnet_v4_cifar10, cifar10_test_loader)\n",
    "print(\"Accuracy MiniAlexNetV4 su CIFAR-10: %0.2f\" % \\\n",
    "    accuracy_score(cifar10_labels_test,minialexnet_v4_cifar10_test_predictions))"
   ]
  },
  {
   "cell_type": "markdown",
   "metadata": {},
   "source": [
    "Vediamo adesso come adattare il modello già allenato su CIFAR-100 per CIFAR-10. Visualizziamo il modello:"
   ]
  },
  {
   "cell_type": "code",
   "execution_count": 36,
   "metadata": {},
   "outputs": [
    {
     "data": {
      "text/plain": [
       "MiniAlexNetV4(\n",
       "  (feature_extractor): Sequential(\n",
       "    (0): Conv2d(3, 16, kernel_size=(5, 5), stride=(1, 1), padding=(2, 2))\n",
       "    (1): MaxPool2d(kernel_size=2, stride=2, padding=0, dilation=1, ceil_mode=False)\n",
       "    (2): ReLU()\n",
       "    (3): BatchNorm2d(16, eps=1e-05, momentum=0.1, affine=True, track_running_stats=True)\n",
       "    (4): Conv2d(16, 32, kernel_size=(5, 5), stride=(1, 1), padding=(2, 2))\n",
       "    (5): MaxPool2d(kernel_size=2, stride=2, padding=0, dilation=1, ceil_mode=False)\n",
       "    (6): ReLU()\n",
       "    (7): BatchNorm2d(32, eps=1e-05, momentum=0.1, affine=True, track_running_stats=True)\n",
       "    (8): Conv2d(32, 64, kernel_size=(3, 3), stride=(1, 1), padding=(1, 1))\n",
       "    (9): ReLU()\n",
       "    (10): BatchNorm2d(64, eps=1e-05, momentum=0.1, affine=True, track_running_stats=True)\n",
       "    (11): Conv2d(64, 128, kernel_size=(3, 3), stride=(1, 1), padding=(1, 1))\n",
       "    (12): ReLU()\n",
       "    (13): BatchNorm2d(128, eps=1e-05, momentum=0.1, affine=True, track_running_stats=True)\n",
       "    (14): Conv2d(128, 256, kernel_size=(3, 3), stride=(1, 1), padding=(1, 1))\n",
       "    (15): MaxPool2d(kernel_size=2, stride=2, padding=0, dilation=1, ceil_mode=False)\n",
       "    (16): ReLU()\n",
       "  )\n",
       "  (classifier): Sequential(\n",
       "    (0): Dropout(p=0.5, inplace=False)\n",
       "    (1): BatchNorm1d(2304, eps=1e-05, momentum=0.1, affine=True, track_running_stats=True)\n",
       "    (2): Linear(in_features=2304, out_features=2048, bias=True)\n",
       "    (3): ReLU()\n",
       "    (4): Dropout(p=0.5, inplace=False)\n",
       "    (5): BatchNorm1d(2048, eps=1e-05, momentum=0.1, affine=True, track_running_stats=True)\n",
       "    (6): Linear(in_features=2048, out_features=1024, bias=True)\n",
       "    (7): ReLU()\n",
       "    (8): BatchNorm1d(1024, eps=1e-05, momentum=0.1, affine=True, track_running_stats=True)\n",
       "    (9): Linear(in_features=1024, out_features=100, bias=True)\n",
       "  )\n",
       ")"
      ]
     },
     "execution_count": 36,
     "metadata": {},
     "output_type": "execute_result"
    }
   ],
   "source": [
    "mini_alexnet_v4_cifar10"
   ]
  },
  {
   "cell_type": "markdown",
   "metadata": {},
   "source": [
    "L'input del modello è sempre costituito da immagini $32 \\times 32$. L'output però è pari a $100$ classi per il modello di partenza, mentre CIFAR-10 contiene $10$ classi. Dobbiamo adattare il modello per il nuovo task. Per farlo, conserveremo tutti i layer tranne l'ultimo, che verrà distrutto e ricreato. Facciamo una copia del modello:"
   ]
  },
  {
   "cell_type": "code",
   "execution_count": 37,
   "metadata": {},
   "outputs": [],
   "source": [
    "from copy import deepcopy\n",
    "mini_alexnet_v4_cifar100_cifar10 = deepcopy(mini_alexnet_v4_cifar100)"
   ]
  },
  {
   "cell_type": "markdown",
   "metadata": {},
   "source": [
    "Accediamo al modulo sequential \"classifier\":"
   ]
  },
  {
   "cell_type": "code",
   "execution_count": 38,
   "metadata": {},
   "outputs": [
    {
     "data": {
      "text/plain": [
       "Sequential(\n",
       "  (0): Dropout(p=0.5, inplace=False)\n",
       "  (1): BatchNorm1d(2304, eps=1e-05, momentum=0.1, affine=True, track_running_stats=True)\n",
       "  (2): Linear(in_features=2304, out_features=2048, bias=True)\n",
       "  (3): ReLU()\n",
       "  (4): Dropout(p=0.5, inplace=False)\n",
       "  (5): BatchNorm1d(2048, eps=1e-05, momentum=0.1, affine=True, track_running_stats=True)\n",
       "  (6): Linear(in_features=2048, out_features=1024, bias=True)\n",
       "  (7): ReLU()\n",
       "  (8): BatchNorm1d(1024, eps=1e-05, momentum=0.1, affine=True, track_running_stats=True)\n",
       "  (9): Linear(in_features=1024, out_features=100, bias=True)\n",
       ")"
      ]
     },
     "execution_count": 38,
     "metadata": {},
     "output_type": "execute_result"
    }
   ],
   "source": [
    "classifier = mini_alexnet_v4_cifar100_cifar10.classifier\n",
    "classifier"
   ]
  },
  {
   "cell_type": "markdown",
   "metadata": {},
   "source": [
    "Estraiamo i moduli contenuti in \"classifier\" in una lista:"
   ]
  },
  {
   "cell_type": "code",
   "execution_count": 39,
   "metadata": {},
   "outputs": [
    {
     "data": {
      "text/plain": [
       "[Dropout(p=0.5, inplace=False),\n",
       " BatchNorm1d(2304, eps=1e-05, momentum=0.1, affine=True, track_running_stats=True),\n",
       " Linear(in_features=2304, out_features=2048, bias=True),\n",
       " ReLU(),\n",
       " Dropout(p=0.5, inplace=False),\n",
       " BatchNorm1d(2048, eps=1e-05, momentum=0.1, affine=True, track_running_stats=True),\n",
       " Linear(in_features=2048, out_features=1024, bias=True),\n",
       " ReLU(),\n",
       " BatchNorm1d(1024, eps=1e-05, momentum=0.1, affine=True, track_running_stats=True),\n",
       " Linear(in_features=1024, out_features=100, bias=True)]"
      ]
     },
     "execution_count": 39,
     "metadata": {},
     "output_type": "execute_result"
    }
   ],
   "source": [
    "classifier_mods = list(classifier)\n",
    "classifier_mods"
   ]
  },
  {
   "cell_type": "markdown",
   "metadata": {},
   "source": [
    "Rimuoviamo l'ultimo elemento della lista:"
   ]
  },
  {
   "cell_type": "code",
   "execution_count": 40,
   "metadata": {},
   "outputs": [
    {
     "data": {
      "text/plain": [
       "[Dropout(p=0.5, inplace=False),\n",
       " BatchNorm1d(2304, eps=1e-05, momentum=0.1, affine=True, track_running_stats=True),\n",
       " Linear(in_features=2304, out_features=2048, bias=True),\n",
       " ReLU(),\n",
       " Dropout(p=0.5, inplace=False),\n",
       " BatchNorm1d(2048, eps=1e-05, momentum=0.1, affine=True, track_running_stats=True),\n",
       " Linear(in_features=2048, out_features=1024, bias=True),\n",
       " ReLU(),\n",
       " BatchNorm1d(1024, eps=1e-05, momentum=0.1, affine=True, track_running_stats=True)]"
      ]
     },
     "execution_count": 40,
     "metadata": {},
     "output_type": "execute_result"
    }
   ],
   "source": [
    "classifier_mods.pop()\n",
    "classifier_mods"
   ]
  },
  {
   "cell_type": "markdown",
   "metadata": {},
   "source": [
    "Inseriamo un nuovo layer lineare per ottenere in output $10$ score:"
   ]
  },
  {
   "cell_type": "code",
   "execution_count": 41,
   "metadata": {},
   "outputs": [
    {
     "data": {
      "text/plain": [
       "[Dropout(p=0.5, inplace=False),\n",
       " BatchNorm1d(2304, eps=1e-05, momentum=0.1, affine=True, track_running_stats=True),\n",
       " Linear(in_features=2304, out_features=2048, bias=True),\n",
       " ReLU(),\n",
       " Dropout(p=0.5, inplace=False),\n",
       " BatchNorm1d(2048, eps=1e-05, momentum=0.1, affine=True, track_running_stats=True),\n",
       " Linear(in_features=2048, out_features=1024, bias=True),\n",
       " ReLU(),\n",
       " BatchNorm1d(1024, eps=1e-05, momentum=0.1, affine=True, track_running_stats=True),\n",
       " Linear(in_features=1024, out_features=10, bias=True)]"
      ]
     },
     "execution_count": 41,
     "metadata": {},
     "output_type": "execute_result"
    }
   ],
   "source": [
    "classifier_mods.append(nn.Linear(1024, 10))\n",
    "classifier_mods"
   ]
  },
  {
   "cell_type": "markdown",
   "metadata": {},
   "source": [
    "Adesso possiamo trasformare classifier_mods in un oggetto di tipo Sequential e inserirlo dentro il modello:"
   ]
  },
  {
   "cell_type": "code",
   "execution_count": 42,
   "metadata": {},
   "outputs": [
    {
     "data": {
      "text/plain": [
       "MiniAlexNetV4(\n",
       "  (feature_extractor): Sequential(\n",
       "    (0): Conv2d(3, 16, kernel_size=(5, 5), stride=(1, 1), padding=(2, 2))\n",
       "    (1): MaxPool2d(kernel_size=2, stride=2, padding=0, dilation=1, ceil_mode=False)\n",
       "    (2): ReLU()\n",
       "    (3): BatchNorm2d(16, eps=1e-05, momentum=0.1, affine=True, track_running_stats=True)\n",
       "    (4): Conv2d(16, 32, kernel_size=(5, 5), stride=(1, 1), padding=(2, 2))\n",
       "    (5): MaxPool2d(kernel_size=2, stride=2, padding=0, dilation=1, ceil_mode=False)\n",
       "    (6): ReLU()\n",
       "    (7): BatchNorm2d(32, eps=1e-05, momentum=0.1, affine=True, track_running_stats=True)\n",
       "    (8): Conv2d(32, 64, kernel_size=(3, 3), stride=(1, 1), padding=(1, 1))\n",
       "    (9): ReLU()\n",
       "    (10): BatchNorm2d(64, eps=1e-05, momentum=0.1, affine=True, track_running_stats=True)\n",
       "    (11): Conv2d(64, 128, kernel_size=(3, 3), stride=(1, 1), padding=(1, 1))\n",
       "    (12): ReLU()\n",
       "    (13): BatchNorm2d(128, eps=1e-05, momentum=0.1, affine=True, track_running_stats=True)\n",
       "    (14): Conv2d(128, 256, kernel_size=(3, 3), stride=(1, 1), padding=(1, 1))\n",
       "    (15): MaxPool2d(kernel_size=2, stride=2, padding=0, dilation=1, ceil_mode=False)\n",
       "    (16): ReLU()\n",
       "  )\n",
       "  (classifier): Sequential(\n",
       "    (0): Dropout(p=0.5, inplace=False)\n",
       "    (1): BatchNorm1d(2304, eps=1e-05, momentum=0.1, affine=True, track_running_stats=True)\n",
       "    (2): Linear(in_features=2304, out_features=2048, bias=True)\n",
       "    (3): ReLU()\n",
       "    (4): Dropout(p=0.5, inplace=False)\n",
       "    (5): BatchNorm1d(2048, eps=1e-05, momentum=0.1, affine=True, track_running_stats=True)\n",
       "    (6): Linear(in_features=2048, out_features=1024, bias=True)\n",
       "    (7): ReLU()\n",
       "    (8): BatchNorm1d(1024, eps=1e-05, momentum=0.1, affine=True, track_running_stats=True)\n",
       "    (9): Linear(in_features=1024, out_features=10, bias=True)\n",
       "  )\n",
       ")"
      ]
     },
     "execution_count": 42,
     "metadata": {},
     "output_type": "execute_result"
    }
   ],
   "source": [
    "mini_alexnet_v4_cifar100_cifar10.classifier=nn.Sequential(*classifier_mods)\n",
    "mini_alexnet_v4_cifar100_cifar10"
   ]
  },
  {
   "cell_type": "markdown",
   "metadata": {},
   "source": [
    "Va notato che questa operazione ha cambiato solamente l'ultimo livello, lasciando gli altri invariati. Tutti i livelli tranne il l'ultimo contengono dunque i pesi \"pre-allenati\" su CIFAR-100. Procediamo all'allenamento del modello:"
   ]
  },
  {
   "cell_type": "code",
   "execution_count": 43,
   "metadata": {},
   "outputs": [],
   "source": [
    "mini_alexnet_v4_cifar100_cifar10 = train_classifier(mini_alexnet_v4_cifar100_cifar10, cifar10_train_loader, \\\n",
    "                                                    cifar10_test_loader, 'minialexnet_v4_cifar100_cifar10', epochs=150)"
   ]
  },
  {
   "cell_type": "markdown",
   "metadata": {},
   "source": [
    "Le curve di training/test dovrebbero essere simili alle seguenti:\n",
    "\n",
    "<center><img src='img/mini_alexnet_v4_cifar100_cifar10_tb.jpg' width=80%></center>"
   ]
  },
  {
   "cell_type": "markdown",
   "metadata": {},
   "source": [
    "**Domanda 15**\n",
    "<img src=\"img/qmark.jpg\" style=\"width:150px; float:left;\"/>\n",
    "\n",
    "Si confronti la curva di training relativa al modello fine-tuned con quella relativa al modello allenato da zero. Quale dei due modelli converge prima? Perché?"
   ]
  },
  {
   "cell_type": "markdown",
   "metadata": {},
   "source": [
    "**Risposta 15**\n",
    "<img style=\"float: left;width:150px;\" src=\"img/note.png\">\n",
    "\n",
    "<div style=\"background-color:#efefef; margin-left:150px; border:solid 1px; border-color:#dddddd; border-radius: 3px;\">\n",
    "<br><br><br><br><br><br>\n",
    "</div>"
   ]
  },
  {
   "cell_type": "markdown",
   "metadata": {},
   "source": [
    "Calcoliamo l'accuracy di test e confrontiamola con quella del modello allenato da zero:"
   ]
  },
  {
   "cell_type": "code",
   "execution_count": 44,
   "metadata": {},
   "outputs": [
    {
     "name": "stdout",
     "output_type": "stream",
     "text": [
      "Accuracy MiniAlexNetV4 su CIFAR-10: 0.81\n",
      "Accuracy MiniAlexNetV4 pre-allenato su CIFAR-100 e fine-tuned su CIFAR-10: 0.83\n"
     ]
    }
   ],
   "source": [
    "minialexnet_v4_cifar100_cifar10_test_predictions, cifar10_labels_test = test_classifier(mini_alexnet_v4_cifar100_cifar10,\\\n",
    "                                                                                        cifar10_test_loader)\n",
    "print(\"Accuracy MiniAlexNetV4 su CIFAR-10: %0.2f\" % \\\n",
    "    accuracy_score(cifar10_labels_test,minialexnet_v4_cifar10_test_predictions))\n",
    "print(\"Accuracy MiniAlexNetV4 pre-allenato su CIFAR-100 e fine-tuned su CIFAR-10: %0.2f\" % \\\n",
    "    accuracy_score(cifar10_labels_test,minialexnet_v4_cifar100_cifar10_test_predictions))"
   ]
  },
  {
   "cell_type": "markdown",
   "metadata": {},
   "source": [
    "**Domanda 16**\n",
    "<img src=\"img/qmark.jpg\" style=\"width:150px; float:left;\"/>\n",
    "\n",
    "I due modelli in questo caso hanno raggiunto accuracy simili. Qual è stato il vantaggio del fine-tuning?"
   ]
  },
  {
   "cell_type": "markdown",
   "metadata": {},
   "source": [
    "**Risposta 16**\n",
    "<img style=\"float: left;width:150px;\" src=\"img/note.png\">\n",
    "\n",
    "<div style=\"background-color:#efefef; margin-left:150px; border:solid 1px; border-color:#dddddd; border-radius: 3px;\">\n",
    "<br><br><br><br><br><br>\n",
    "</div>"
   ]
  },
  {
   "cell_type": "markdown",
   "metadata": {},
   "source": [
    "Pytorch mette a disposizione diversi modelli pre-allenati che possono essere utilizzati come punto di partenza per risolvere nuovi task. Una lista dei modelli è disponibile qui: <a href=\"https://pytorch.org/docs/master/torchvision/models.html\">https://pytorch.org/docs/master/torchvision/models.html</a>. I modelli sono stati pre-allenati su ImageNet, un dataset contente milioni di immagini suddivise in 1000 categorie. Nei prossimi laboratori vedremo più in dettaglio come effettuare fine-tuning a partire da questi modelli."
   ]
  },
  {
   "cell_type": "markdown",
   "metadata": {},
   "source": [
    "# Esercizi\n",
    "<img src=\"img/code.png\" style=\"width:150px; margin-right:30px; float:left\">\n",
    "\n",
    "**Esercizio 1**\n",
    "\n",
    "I dataset visti in questo laboratorio sono piuttosto \"semplici\", per cui risulta difficile apprezzare le differenze che si hanno con l'introduzione delle diverse tecniche di regolarizzazione. Si alleni un modello simile a MiniAlexNet per classificare il dataset 8Scenes visto negli scorsi laboratori. Il modello deve prendere in input immagini di dimensioni $224 \\times 224$, estratte dalla parte centrale delle immagini del dataset (si utilizzi la trasformazione \"CenterCrop\"). Si considerino diverse versioni del modello con e senza dropout e con e senza batch normalization. Quale dei due modelli ottiene risultati migliori?"
   ]
  },
  {
   "cell_type": "markdown",
   "metadata": {},
   "source": [
    "<img src=\"img/code.png\" style=\"width:150px; margin-right:30px; float:left\">\n",
    "\n",
    "**Esercizio 2**\n",
    "\n",
    "Si estenda l'esercizio 1 introducendo le tecniche di data augmentation viste in questo laboratorio. I risultati migliorano?"
   ]
  },
  {
   "cell_type": "markdown",
   "metadata": {},
   "source": [
    "<img src=\"img/code.png\" style=\"width:150px; margin-right:30px; float:left\">\n",
    "\n",
    "**Esercizio 3**\n",
    "\n",
    "Si carichi il modello AlexNet specificando il flag \"pretrained=True\" (vedere documentazione - https://pytorch.org/docs/master/torchvision/models.html). Si modifichi il modello per risolvere il task di classificazione sul dataset 8Scenes. Si esegua il fine-tuning del modello. Il modello ottiene risultati migliori rispetto al modello allenato da zero?"
   ]
  },
  {
   "cell_type": "markdown",
   "metadata": {},
   "source": [
    "# References\n",
    "\n",
    " * Documentazione di PyTorch. http://pytorch.org/docs/stable/index.html"
   ]
  }
 ],
 "metadata": {
  "anaconda-cloud": {},
  "kernelspec": {
   "display_name": "Python 3",
   "language": "python",
   "name": "python3"
  },
  "language_info": {
   "codemirror_mode": {
    "name": "ipython",
    "version": 3
   },
   "file_extension": ".py",
   "mimetype": "text/x-python",
   "name": "python",
   "nbconvert_exporter": "python",
   "pygments_lexer": "ipython3",
   "version": "3.7.3"
  }
 },
 "nbformat": 4,
 "nbformat_minor": 2
}
