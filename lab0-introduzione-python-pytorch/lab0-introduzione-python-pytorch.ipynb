{
 "cells": [
  {
   "cell_type": "markdown",
   "metadata": {},
   "source": [
    "<style>\n",
    ".rendered_html * + p, .rendered_html p {\n",
    "    text-align:justify;\n",
    "}\n",
    ".print {\n",
    "    display:none;\n",
    "}\n",
    ".highlight {\n",
    "    background:white;\n",
    "}\n",
    "@media print {\n",
    " a[href]:after {\n",
    "     content: \"\"\n",
    " }\n",
    " .noprint {\n",
    "  display:none\n",
    "  }\n",
    "  .print {\n",
    "        display:block;\n",
    "    }\n",
    "}\n",
    "</style>\n",
    "<head>\n",
    "    <base target=\"_blank\">\n",
    "</head>\n",
    "<div style=\"text-align:left\"><a href=\"http://web.dmi.unict.it/\"><img src=\"img/dmi.png\" style=\"width:300px; margin:0;\"></a></div>"
   ]
  },
  {
   "cell_type": "markdown",
   "metadata": {},
   "source": [
    "<a href=\"http://iplab.dmi.unict.it/\"><img src=\"img/iplab.png\" style=\"width:900px\"></a>\n",
    "<center><h2>Machine Learning - A.A. 2019-2020</h2></center>\n",
    "<center><h3>Introduzione a Python per il Calcolo Scientifico e il Machine Learning</h3></center>\n",
    "<br>\n",
    "<center>Antonino Furnari - <a href=\"http://www.dmi.unict.it/~furnari/\" target=\"_blank\">http://www.dmi.unict.it/~furnari/</a> - <a href=\"mailto:furnari@dmi.unict.it\">furnari@dmi.unict.it</a> </center>\n",
    "<center>Giovanni Maria Farinella - <a href=\"http://www.dmi.unict.it/gfarinella/\" target=\"_blank\">http://www.dmi.unict.it/farinella/</a> - <a href=\"mailto:gfarinella@dmi.unict.it\">gfarinella@dmi.unict.it</a> </center>"
   ]
  },
  {
   "cell_type": "markdown",
   "metadata": {},
   "source": [
    "Python è un linguaggio di programmazione ad alto livello, interpretato e pensato per la programmazione \"general purpose\". Python supporta un sistema dei tipi dimanico e diversi paradigmi di programmazione tra cui la programmazione orientata agli oggetti, la programmazione imperativa, la programmazione funzionale e la programmazione procedurale. Il linguaggio è stato ideato nel 1991 da Guido van Rossum e il suo nome è ispirato alla serie TV satirica Monty Python's Flying Circus (https://en.wikipedia.org/wiki/Monty_Python%27s_Flying_Circus).\n",
    "\n",
    "Benché Python non sia nato come linguaggio di programmazione per il calcolo scientifico e il machine learning, la sua estrema versatilità ha contribuito al nascere di una serie di librerire che rendono la computazione numerica in Python comoda ed efficiente. Buona parte di queste librerie fanno parte di \"SciPy\" (https://www.scipy.org/), un ecosistema di software open-source per il calcolo scientifico. Altre librerie, quali ad esempio PyTorch (http://pytorch.org/) mettono a disposizione una serie di strumenti per il calcolo parallelo su GPU orientato al Machine Learning. In queste dispense introdurremo il linguaggio Python 3, vedremo i fondamenti di NumPy, libreria per il calcolo scientifico e Matplotlib, libreria per il plot 2D/3D, e introdurremo gli elementi fondamentali di PyTorch, libreria per il calcolo parallelo su GPU e l'ottimizzazione di algoritmi di machine learning basati sulla discesa del gradiente.\n",
    "\n",
    "Referenze importanti da consultare durante il corso, solo le seguenti documentazioni:\n",
    " * Python 3.7: https://docs.python.org/3.7/index.html;\n",
    " * Numpy: http://www.numpy.org/;\n",
    " * Matplotlib: https://matplotlib.org/;\n",
    " * PyTorch: http://pytorch.org/."
   ]
  },
  {
   "cell_type": "markdown",
   "metadata": {},
   "source": [
    "# 1 Introduzione a Python\n",
    "## 1.1 Numeri\n",
    "I tipi di dato numerici in Python sono int, float e complex. Noi ci concentreremo su int e float. Alcuni esempi di operazioni tra numeri:"
   ]
  },
  {
   "cell_type": "code",
   "execution_count": 1,
   "metadata": {},
   "outputs": [
    {
     "data": {
      "text/plain": [
       "8"
      ]
     },
     "execution_count": 1,
     "metadata": {},
     "output_type": "execute_result"
    }
   ],
   "source": [
    "3 + 5 #somma"
   ]
  },
  {
   "cell_type": "code",
   "execution_count": 2,
   "metadata": {},
   "outputs": [
    {
     "data": {
      "text/plain": [
       "-6"
      ]
     },
     "execution_count": 2,
     "metadata": {},
     "output_type": "execute_result"
    }
   ],
   "source": [
    "2 - 8 #differenza"
   ]
  },
  {
   "cell_type": "code",
   "execution_count": 3,
   "metadata": {},
   "outputs": [
    {
     "data": {
      "text/plain": [
       "15"
      ]
     },
     "execution_count": 3,
     "metadata": {},
     "output_type": "execute_result"
    }
   ],
   "source": [
    "3 * 5 #prodotto"
   ]
  },
  {
   "cell_type": "code",
   "execution_count": 4,
   "metadata": {},
   "outputs": [
    {
     "data": {
      "text/plain": [
       "1.5"
      ]
     },
     "execution_count": 4,
     "metadata": {},
     "output_type": "execute_result"
    }
   ],
   "source": [
    "3 / 2 #divisione, da notare che in Python 3, la divisione tra numeri interi restituisce un float"
   ]
  },
  {
   "cell_type": "code",
   "execution_count": 5,
   "metadata": {},
   "outputs": [
    {
     "data": {
      "text/plain": [
       "1"
      ]
     },
     "execution_count": 5,
     "metadata": {},
     "output_type": "execute_result"
    }
   ],
   "source": [
    "3 // 2 #divisione intera"
   ]
  },
  {
   "cell_type": "code",
   "execution_count": 6,
   "metadata": {},
   "outputs": [
    {
     "data": {
      "text/plain": [
       "81"
      ]
     },
     "execution_count": 6,
     "metadata": {},
     "output_type": "execute_result"
    }
   ],
   "source": [
    "9 ** 2 #elevamento a potenza"
   ]
  },
  {
   "cell_type": "code",
   "execution_count": 7,
   "metadata": {},
   "outputs": [
    {
     "data": {
      "text/plain": [
       "0"
      ]
     },
     "execution_count": 7,
     "metadata": {},
     "output_type": "execute_result"
    }
   ],
   "source": [
    "4 % 2 #modulo"
   ]
  },
  {
   "cell_type": "code",
   "execution_count": 8,
   "metadata": {},
   "outputs": [
    {
     "data": {
      "text/plain": [
       "5"
      ]
     },
     "execution_count": 8,
     "metadata": {},
     "output_type": "execute_result"
    }
   ],
   "source": [
    "(1 + 4) * (3 - 2) #uso delle parentesi"
   ]
  },
  {
   "cell_type": "markdown",
   "metadata": {},
   "source": [
    "## 1.2 Variabili e Tipi\n",
    "In generale, i numeri senza virgola vengono interpretati come int, mentre quelli con virgola come float. Dato che Python è tipizzato dinamicamente, non dobbiamo esplicitamente dichiarare il tipo di una variabile. Il tipo verrà associato alla variabile non appena vi assegniamo un valore. Possiamo controllare il tipo di una variabile mediante la funzione `type`:"
   ]
  },
  {
   "cell_type": "code",
   "execution_count": 9,
   "metadata": {},
   "outputs": [
    {
     "data": {
      "text/plain": [
       "(int, int, float, float, int)"
      ]
     },
     "execution_count": 9,
     "metadata": {},
     "output_type": "execute_result"
    }
   ],
   "source": [
    "x = 3\n",
    "y = 9\n",
    "z = 1.5\n",
    "h = x/y\n",
    "l = x//y\n",
    "type(x), type(y), type(z), type(h), type(l)"
   ]
  },
  {
   "cell_type": "markdown",
   "metadata": {},
   "source": [
    "E' possibile effettuare il casting da un tipo a un altro mediante le funzioni `int` e `float`:"
   ]
  },
  {
   "cell_type": "code",
   "execution_count": 10,
   "metadata": {},
   "outputs": [
    {
     "data": {
      "text/plain": [
       "2"
      ]
     },
     "execution_count": 10,
     "metadata": {},
     "output_type": "execute_result"
    }
   ],
   "source": [
    "int(2.5)"
   ]
  },
  {
   "cell_type": "code",
   "execution_count": 11,
   "metadata": {},
   "outputs": [
    {
     "data": {
      "text/plain": [
       "3.0"
      ]
     },
     "execution_count": 11,
     "metadata": {},
     "output_type": "execute_result"
    }
   ],
   "source": [
    "float(3)"
   ]
  },
  {
   "cell_type": "markdown",
   "metadata": {},
   "source": [
    "Come in C, sono definite le operazioni \"in place\" tra variabili:"
   ]
  },
  {
   "cell_type": "code",
   "execution_count": 12,
   "metadata": {},
   "outputs": [
    {
     "data": {
      "text/plain": [
       "20"
      ]
     },
     "execution_count": 12,
     "metadata": {},
     "output_type": "execute_result"
    }
   ],
   "source": [
    "x = 8\n",
    "y = 12\n",
    "x+=y #del tutto equivalente a x=x+y\n",
    "x"
   ]
  },
  {
   "cell_type": "markdown",
   "metadata": {},
   "source": [
    "Non sono definite le notazioni \"++\" e \"--\". Per effettuare un incremento di una unità, va utilizzata la notazione +=1:"
   ]
  },
  {
   "cell_type": "code",
   "execution_count": 13,
   "metadata": {},
   "outputs": [
    {
     "data": {
      "text/plain": [
       "2"
      ]
     },
     "execution_count": 13,
     "metadata": {},
     "output_type": "execute_result"
    }
   ],
   "source": [
    "a=1\n",
    "a+=1\n",
    "a"
   ]
  },
  {
   "cell_type": "markdown",
   "metadata": {},
   "source": [
    "**Domanda 1**\n",
    "<img src=\"img/qmark.jpg\" style=\"width:150px; float:left;\"/>\n",
    "\n",
    "Qual è il tipo della seguente variabile?\n",
    "```python\n",
    "x = (3//2*2)**2+(3*0.0)```"
   ]
  },
  {
   "cell_type": "markdown",
   "metadata": {},
   "source": [
    "**Risposta 1**\n",
    "<img style=\"float: left;width:150px;\" src=\"img/note.png\">\n",
    "\n",
    "<div style=\"background-color:#efefef; margin-left:150px; border:solid 1px; border-color:#dddddd; border-radius: 3px;\">\n",
    "<br><br><br><br><br><br>\n",
    "</div>"
   ]
  },
  {
   "cell_type": "markdown",
   "metadata": {},
   "source": [
    "## 1.3 Booleani\n",
    "I booleani vengono rappresentati mediante le parole chiave `True` e `False` (iniziano entrambe per maiuscola)."
   ]
  },
  {
   "cell_type": "code",
   "execution_count": 14,
   "metadata": {},
   "outputs": [
    {
     "name": "stdout",
     "output_type": "stream",
     "text": [
      "True\n",
      "False\n"
     ]
    }
   ],
   "source": [
    "print(True)\n",
    "print(False)"
   ]
  },
  {
   "cell_type": "code",
   "execution_count": 15,
   "metadata": {},
   "outputs": [
    {
     "data": {
      "text/plain": [
       "bool"
      ]
     },
     "execution_count": 15,
     "metadata": {},
     "output_type": "execute_result"
    }
   ],
   "source": [
    "type(True)"
   ]
  },
  {
   "cell_type": "markdown",
   "metadata": {},
   "source": [
    "E' possibile generare booleani mediante gli operatori di confronto:"
   ]
  },
  {
   "cell_type": "code",
   "execution_count": 16,
   "metadata": {},
   "outputs": [
    {
     "data": {
      "text/plain": [
       "True"
      ]
     },
     "execution_count": 16,
     "metadata": {},
     "output_type": "execute_result"
    }
   ],
   "source": [
    "5==5"
   ]
  },
  {
   "cell_type": "code",
   "execution_count": 17,
   "metadata": {},
   "outputs": [
    {
     "data": {
      "text/plain": [
       "False"
      ]
     },
     "execution_count": 17,
     "metadata": {},
     "output_type": "execute_result"
    }
   ],
   "source": [
    "7==5"
   ]
  },
  {
   "cell_type": "code",
   "execution_count": 18,
   "metadata": {},
   "outputs": [
    {
     "data": {
      "text/plain": [
       "True"
      ]
     },
     "execution_count": 18,
     "metadata": {},
     "output_type": "execute_result"
    }
   ],
   "source": [
    "5>4"
   ]
  },
  {
   "cell_type": "code",
   "execution_count": 19,
   "metadata": {},
   "outputs": [
    {
     "data": {
      "text/plain": [
       "False"
      ]
     },
     "execution_count": 19,
     "metadata": {},
     "output_type": "execute_result"
    }
   ],
   "source": [
    "9>10"
   ]
  },
  {
   "cell_type": "code",
   "execution_count": 20,
   "metadata": {},
   "outputs": [
    {
     "data": {
      "text/plain": [
       "True"
      ]
     },
     "execution_count": 20,
     "metadata": {},
     "output_type": "execute_result"
    }
   ],
   "source": [
    "9<=10"
   ]
  },
  {
   "cell_type": "code",
   "execution_count": 21,
   "metadata": {},
   "outputs": [
    {
     "data": {
      "text/plain": [
       "False"
      ]
     },
     "execution_count": 21,
     "metadata": {},
     "output_type": "execute_result"
    }
   ],
   "source": [
    "11<=10"
   ]
  },
  {
   "cell_type": "markdown",
   "metadata": {},
   "source": [
    "Gli operatori logici sono `and` e `or`:"
   ]
  },
  {
   "cell_type": "code",
   "execution_count": 22,
   "metadata": {},
   "outputs": [
    {
     "name": "stdout",
     "output_type": "stream",
     "text": [
      "True\n",
      "True\n",
      "False\n"
     ]
    }
   ],
   "source": [
    "print(5==5 and 3<5)\n",
    "print(3>5 or 3<5)\n",
    "print(3>9 or 3<2)"
   ]
  },
  {
   "cell_type": "markdown",
   "metadata": {},
   "source": [
    "E' possibile effettuare in controllo sui tipi mediante `type` e `==`:"
   ]
  },
  {
   "cell_type": "code",
   "execution_count": 23,
   "metadata": {},
   "outputs": [
    {
     "data": {
      "text/plain": [
       "True"
      ]
     },
     "execution_count": 23,
     "metadata": {},
     "output_type": "execute_result"
    }
   ],
   "source": [
    "type(2.5)==float"
   ]
  },
  {
   "cell_type": "code",
   "execution_count": 24,
   "metadata": {},
   "outputs": [
    {
     "data": {
      "text/plain": [
       "False"
      ]
     },
     "execution_count": 24,
     "metadata": {},
     "output_type": "execute_result"
    }
   ],
   "source": [
    "type(2)==float"
   ]
  },
  {
   "cell_type": "markdown",
   "metadata": {},
   "source": [
    "In alternativa, è possibile utilizzare la funzione `isinstance`:"
   ]
  },
  {
   "cell_type": "code",
   "execution_count": 25,
   "metadata": {},
   "outputs": [
    {
     "data": {
      "text/plain": [
       "True"
      ]
     },
     "execution_count": 25,
     "metadata": {},
     "output_type": "execute_result"
    }
   ],
   "source": [
    "isinstance(2.5,float)"
   ]
  },
  {
   "cell_type": "code",
   "execution_count": 26,
   "metadata": {},
   "outputs": [
    {
     "data": {
      "text/plain": [
       "False"
      ]
     },
     "execution_count": 26,
     "metadata": {},
     "output_type": "execute_result"
    }
   ],
   "source": [
    "isinstance(2.5,int)"
   ]
  },
  {
   "cell_type": "markdown",
   "metadata": {},
   "source": [
    "La funzione `isinstance` è particolarmente comoda quando si vuole controllare che una variabile appartenga a uno tra una serie di tipi. Ad esempio, se vogliamo controllare che una variabile contenga un numero:"
   ]
  },
  {
   "cell_type": "code",
   "execution_count": 27,
   "metadata": {},
   "outputs": [
    {
     "data": {
      "text/plain": [
       "True"
      ]
     },
     "execution_count": 27,
     "metadata": {},
     "output_type": "execute_result"
    }
   ],
   "source": [
    "isinstance(2.5,(float,int))"
   ]
  },
  {
   "cell_type": "code",
   "execution_count": 28,
   "metadata": {},
   "outputs": [
    {
     "data": {
      "text/plain": [
       "True"
      ]
     },
     "execution_count": 28,
     "metadata": {},
     "output_type": "execute_result"
    }
   ],
   "source": [
    "isinstance(5,(float,int))"
   ]
  },
  {
   "cell_type": "markdown",
   "metadata": {},
   "source": [
    "## 1.4 Stampa\n",
    "\n",
    "La stampa avviene mediante la funzione `print`:"
   ]
  },
  {
   "cell_type": "code",
   "execution_count": 29,
   "metadata": {},
   "outputs": [
    {
     "name": "stdout",
     "output_type": "stream",
     "text": [
      "2.2\n"
     ]
    }
   ],
   "source": [
    "var = 2.2\n",
    "print(var)"
   ]
  },
  {
   "cell_type": "markdown",
   "metadata": {},
   "source": [
    "Possiamo stampare una riga vuota omettendo il parametro di print:"
   ]
  },
  {
   "cell_type": "code",
   "execution_count": 30,
   "metadata": {},
   "outputs": [
    {
     "name": "stdout",
     "output_type": "stream",
     "text": [
      "2\n",
      "\n",
      "3\n"
     ]
    }
   ],
   "source": [
    "print(2)\n",
    "print()\n",
    "print(3)"
   ]
  },
  {
   "cell_type": "markdown",
   "metadata": {},
   "source": [
    "Alternativamente, possiamo specificare di inserire due \"a capo\" alla fine della stampa specificando il parametro `end=\"\\n\\n\"` (\"\\n\\n\" è una stringa - approfondiremo le stringhe in seguito):"
   ]
  },
  {
   "cell_type": "code",
   "execution_count": 31,
   "metadata": {},
   "outputs": [
    {
     "name": "stdout",
     "output_type": "stream",
     "text": [
      "2\n",
      "\n",
      "3\n"
     ]
    }
   ],
   "source": [
    "print(2, end=\"\\n\\n\")\n",
    "print(3)"
   ]
  },
  {
   "cell_type": "markdown",
   "metadata": {},
   "source": [
    "Lo stesso metodo può essere usato per omettere l'inserimento di spazi tra due stampe consecutive:"
   ]
  },
  {
   "cell_type": "code",
   "execution_count": 32,
   "metadata": {},
   "outputs": [
    {
     "name": "stdout",
     "output_type": "stream",
     "text": [
      "23\n"
     ]
    }
   ],
   "source": [
    "print(2, end=\"\") #\"\" rappresenta una stringa vuota\n",
    "print(3)"
   ]
  },
  {
   "cell_type": "markdown",
   "metadata": {},
   "source": [
    "Possiamo stampare più elementi di seguito separando gli argomenti di `print` con delle virgole. Inoltre, la funzione `print` permette di stampare anche numeri, oltre a stringhe:"
   ]
  },
  {
   "cell_type": "code",
   "execution_count": 33,
   "metadata": {},
   "outputs": [
    {
     "name": "stdout",
     "output_type": "stream",
     "text": [
      "1 4.0 7 2 True\n"
     ]
    }
   ],
   "source": [
    "print(1,8/2,7,14%6,True)"
   ]
  },
  {
   "cell_type": "markdown",
   "metadata": {},
   "source": [
    "## 1.5 Liste\n",
    "\n",
    "Le liste sono una struttura dati di tipo sequenziali che possono essere utilizzate per rappresentare sequenze di valori di qualsiasi tipo. Le liste possono anche contenere elementi di tipi misti. Una lista si definisce utilizzando le parentesi quadre:"
   ]
  },
  {
   "cell_type": "code",
   "execution_count": 34,
   "metadata": {},
   "outputs": [
    {
     "name": "stdout",
     "output_type": "stream",
     "text": [
      "[1, 2, 3, 4, 5]\n"
     ]
    }
   ],
   "source": [
    "l = [1,2,3,4,5] #questa è una lista (parentesi quadre)\n",
    "print(l)"
   ]
  },
  {
   "cell_type": "markdown",
   "metadata": {},
   "source": [
    "Le liste possono essere indicizzate utilizzando le parentesi quadre. L'indicizzazione inizia da 0 come in C:"
   ]
  },
  {
   "cell_type": "code",
   "execution_count": 35,
   "metadata": {},
   "outputs": [
    {
     "name": "stdout",
     "output_type": "stream",
     "text": [
      "1 3\n",
      "[8, 2, 3, 4, 5]\n"
     ]
    }
   ],
   "source": [
    "print(l[0],l[2])\n",
    "l[0]=8 #assegnamento di un nuovo valore alla prima locazione di memoria\n",
    "print(l)"
   ]
  },
  {
   "cell_type": "markdown",
   "metadata": {},
   "source": [
    "E' possibile aggiungere nuovi valori a una lista mediante la funzione `append`:"
   ]
  },
  {
   "cell_type": "code",
   "execution_count": 36,
   "metadata": {},
   "outputs": [
    {
     "name": "stdout",
     "output_type": "stream",
     "text": [
      "[]\n",
      "[1, 2.5, 8, -12]\n"
     ]
    }
   ],
   "source": [
    "l = []\n",
    "print(l)\n",
    "l.append(1)\n",
    "l.append(2.5)\n",
    "l.append(8)\n",
    "l.append(-12)\n",
    "print(l)"
   ]
  },
  {
   "cell_type": "markdown",
   "metadata": {},
   "source": [
    "Le liste possono essere concatenate mediante l'operatore somma:"
   ]
  },
  {
   "cell_type": "code",
   "execution_count": 37,
   "metadata": {},
   "outputs": [
    {
     "name": "stdout",
     "output_type": "stream",
     "text": [
      "[1, 5, 4, 6]\n"
     ]
    }
   ],
   "source": [
    "l1 = [1,5]\n",
    "l2 = [4,6]\n",
    "print(l1+l2)"
   ]
  },
  {
   "cell_type": "markdown",
   "metadata": {},
   "source": [
    "L'operatore di moltiplicazione può essere utilizzato per ripetere una lista. Ad esempio:"
   ]
  },
  {
   "cell_type": "code",
   "execution_count": 38,
   "metadata": {},
   "outputs": [
    {
     "name": "stdout",
     "output_type": "stream",
     "text": [
      "[1, 3, 1, 3]\n"
     ]
    }
   ],
   "source": [
    "l1 = [1,3]\n",
    "print(l1*2) #concatena l1 a se stessa per due volte"
   ]
  },
  {
   "cell_type": "markdown",
   "metadata": {},
   "source": [
    "Utilizzando l'operatore di moltiplicazione, è possibile creare velocemente liste con un numero arbitrario di valori uguali. Ad esempio:"
   ]
  },
  {
   "cell_type": "code",
   "execution_count": 39,
   "metadata": {},
   "outputs": [
    {
     "name": "stdout",
     "output_type": "stream",
     "text": [
      "[0, 0, 0, 0, 0]\n",
      "[0, 0, 0, 0, 1]\n"
     ]
    }
   ],
   "source": [
    "print([0]*5) #lista di 5 zeri\n",
    "print([0]*4+[1]*1) #4 zeri seguiti da 1 uno"
   ]
  },
  {
   "cell_type": "markdown",
   "metadata": {},
   "source": [
    "La lunghezza di una lista può essere ottenuta utilizzando la funzione `len`:"
   ]
  },
  {
   "cell_type": "code",
   "execution_count": 40,
   "metadata": {},
   "outputs": [
    {
     "name": "stdout",
     "output_type": "stream",
     "text": [
      "[4, 6]\n",
      "2\n"
     ]
    }
   ],
   "source": [
    "print(l2)\n",
    "print(len(l2))"
   ]
  },
  {
   "cell_type": "markdown",
   "metadata": {},
   "source": [
    "Sulle liste è definito un ordinamento che dipende dalla loro lunghezza: liste più corte sono \"minori di\" liste più lunghe:"
   ]
  },
  {
   "cell_type": "code",
   "execution_count": 41,
   "metadata": {},
   "outputs": [
    {
     "name": "stdout",
     "output_type": "stream",
     "text": [
      "True\n",
      "True\n"
     ]
    }
   ],
   "source": [
    "print([1,2,3]<[1,2,3,4])\n",
    "print([1,2,3,5]>=[1,2,3,4])"
   ]
  },
  {
   "cell_type": "markdown",
   "metadata": {},
   "source": [
    "L'operatore `==` non controlla se le lunghezze sono uguali, ma verifica che il contenuto delle due liste sia effettivamente uguale:"
   ]
  },
  {
   "cell_type": "code",
   "execution_count": 42,
   "metadata": {},
   "outputs": [
    {
     "name": "stdout",
     "output_type": "stream",
     "text": [
      "True\n",
      "False\n"
     ]
    }
   ],
   "source": [
    "print([1,2,3]==[1,2,3])\n",
    "print([1,2,3]==[1,3,2])"
   ]
  },
  {
   "cell_type": "markdown",
   "metadata": {},
   "source": [
    "E' possibile controllare che un elemento appartenga alla lista mediante la parola chiave `in`:"
   ]
  },
  {
   "cell_type": "code",
   "execution_count": 43,
   "metadata": {},
   "outputs": [
    {
     "name": "stdout",
     "output_type": "stream",
     "text": [
      "False\n",
      "True\n"
     ]
    }
   ],
   "source": [
    "print(7 in [1,3,4])\n",
    "print(3 in [1,3,4])"
   ]
  },
  {
   "cell_type": "markdown",
   "metadata": {},
   "source": [
    "Le funzioni `max` e `min` possono essere utilizzate per calcolare il massimo e il minimo di una lista:"
   ]
  },
  {
   "cell_type": "code",
   "execution_count": 44,
   "metadata": {},
   "outputs": [
    {
     "name": "stdout",
     "output_type": "stream",
     "text": [
      "10\n",
      "-5\n"
     ]
    }
   ],
   "source": [
    "l=[-5,2,10,6]\n",
    "print(max(l))\n",
    "print(min(l))"
   ]
  },
  {
   "cell_type": "markdown",
   "metadata": {},
   "source": [
    "E' possibile rimuovere un valore da una lista mediante il metodo `remove`:"
   ]
  },
  {
   "cell_type": "code",
   "execution_count": 45,
   "metadata": {},
   "outputs": [
    {
     "name": "stdout",
     "output_type": "stream",
     "text": [
      "[1, 2, 3, 4, 2]\n",
      "[1, 3, 4, 2]\n"
     ]
    }
   ],
   "source": [
    "l=[1,2,3,4,2]\n",
    "print(l)\n",
    "l.remove(2)\n",
    "print(l)"
   ]
  },
  {
   "cell_type": "markdown",
   "metadata": {},
   "source": [
    "Tale metodo tuttavia rimuove solo **la prima occorrenza** del valore passato. Se vogliamo rimuovere un valore identificato da uno specifico indice, possiamo usare il costrutto `del`:"
   ]
  },
  {
   "cell_type": "code",
   "execution_count": 46,
   "metadata": {},
   "outputs": [
    {
     "name": "stdout",
     "output_type": "stream",
     "text": [
      "[1, 2, 3, 4, 2]\n",
      "[1, 2, 3, 4]\n"
     ]
    }
   ],
   "source": [
    "l=[1,2,3,4,2]\n",
    "print(l)\n",
    "del l[4]\n",
    "print(l)"
   ]
  },
  {
   "cell_type": "markdown",
   "metadata": {},
   "source": [
    "Inoltre, per accedere all'ultimo elemento e rimuoverlo, possiamo usare il metodo `pop`:"
   ]
  },
  {
   "cell_type": "code",
   "execution_count": 47,
   "metadata": {},
   "outputs": [
    {
     "name": "stdout",
     "output_type": "stream",
     "text": [
      "[1, 2, 3, 4, 5]\n",
      "5\n",
      "[1, 2, 3, 4]\n"
     ]
    }
   ],
   "source": [
    "l=[1,2,3,4,5]\n",
    "print(l)\n",
    "print(l.pop())\n",
    "print(l)"
   ]
  },
  {
   "cell_type": "markdown",
   "metadata": {},
   "source": [
    "### 1.5.1 Indicizzazione e Slicing\n",
    "E' possibile estrarre una sottolista da una lista specificando il primo indice (incluso) e l'ultimo indice (escluso) separati dal simbolo `:`. Questa notazione è in qualche modo reminiscende del metodo `substr` delle stringhe di C++."
   ]
  },
  {
   "cell_type": "code",
   "execution_count": 48,
   "metadata": {},
   "outputs": [
    {
     "name": "stdout",
     "output_type": "stream",
     "text": [
      "Lista l     -> [1, 2, 3, 4, 5, 6, 7, 8]\n",
      "l[0:3]      -> [1, 2, 3]\n",
      "l[1:2]      -> [2]\n"
     ]
    }
   ],
   "source": [
    "l = [1,2,3,4,5,6,7,8]\n",
    "print(\"Lista l     ->\", l)\n",
    "print(\"l[0:3]      ->\", l[0:3]) #dall'indice 0 (incluso) all'indice 3 (escluso)\n",
    "print(\"l[1:2]      ->\", l[1:2]) #dall'indice 1 (incluso) all'indice 2 (escluso)"
   ]
  },
  {
   "cell_type": "markdown",
   "metadata": {},
   "source": [
    "Quando il primo indice è omesso, questo viene automaticamente sostituito con \"0\":"
   ]
  },
  {
   "cell_type": "code",
   "execution_count": 49,
   "metadata": {},
   "outputs": [
    {
     "name": "stdout",
     "output_type": "stream",
     "text": [
      "l[:2]       -> [1, 2]\n",
      "l[0:2]      -> [1, 2]\n"
     ]
    }
   ],
   "source": [
    "print(\"l[:2]       ->\", l[:2]) #dall'indice 0 (incluso) all'indice 2 (escluso)\n",
    "#equivalente al seguente:\n",
    "print(\"l[0:2]      ->\", l[0:2]) #dall'indice 0 (incluso) all'indice 2 (escluso)"
   ]
  },
  {
   "cell_type": "markdown",
   "metadata": {},
   "source": [
    "Analogamente, se omettiamo il secondo indice, esso viene sostituito con l'ultimo indice della lista:"
   ]
  },
  {
   "cell_type": "code",
   "execution_count": 50,
   "metadata": {},
   "outputs": [
    {
     "name": "stdout",
     "output_type": "stream",
     "text": [
      "Ultimo indice della lista: 8\n",
      "l[3:]       -> [4, 5, 6, 7, 8]\n",
      "l[3:5]      -> [4, 5, 6, 7, 8]\n"
     ]
    }
   ],
   "source": [
    "print(\"Ultimo indice della lista:\",len(l))\n",
    "print(\"l[3:]       ->\", l[3:]) #dall'indice 3 (incluso) all'indice 5 (escluso)\n",
    "#equivalente al seguente:\n",
    "print(\"l[3:5]      ->\", l[3:8]) #dall'indice 3 (incluso) all'indice 5 (escluso)"
   ]
  },
  {
   "cell_type": "markdown",
   "metadata": {},
   "source": [
    "Omettendo entrambi gli indici:"
   ]
  },
  {
   "cell_type": "code",
   "execution_count": 51,
   "metadata": {},
   "outputs": [
    {
     "name": "stdout",
     "output_type": "stream",
     "text": [
      "l[:]         -> [1, 2, 3, 4, 5, 6, 7, 8]\n",
      "l[0:8]       -> [1, 2, 3, 4, 5, 6, 7, 8]\n"
     ]
    }
   ],
   "source": [
    "print(\"l[:]         ->\", l[:]) #dall'indice 0 (incluso) all'indice 5 (escluso)\n",
    "#equivalente a:\n",
    "print(\"l[0:8]       ->\", l[0:8]) #dall'indice 0 (incluso) all'indice 5 (escluso)"
   ]
  },
  {
   "cell_type": "markdown",
   "metadata": {},
   "source": [
    "E' inoltre possibile specificare il \"passo\", come terzo numero separato da un altro simbolo `:`:"
   ]
  },
  {
   "cell_type": "code",
   "execution_count": 52,
   "metadata": {},
   "outputs": [
    {
     "name": "stdout",
     "output_type": "stream",
     "text": [
      "l[0:8:2]    -> [1, 3, 5, 7]\n",
      "l[::2]      -> [1, 3, 5, 7]\n"
     ]
    }
   ],
   "source": [
    "print(\"l[0:8:2]    ->\", l[0:8:2]) \n",
    "#da 0 (incluso) a 8 (escluso) a un passo di 2 (un elemento sì e uno no)\n",
    "#equivalente a:\n",
    "print(\"l[::2]      ->\", l[0:8:2]) \n",
    "#da 0 (incluso) a 8 (escluso) a un passo di 2 (un elemento sì e uno no)"
   ]
  },
  {
   "cell_type": "markdown",
   "metadata": {},
   "source": [
    "Per invertire l'ordine degli elementi, è inoltre possibile specificare un passo negativo. In questo caso, bisogna assicurarsi che il primo indice sia maggiore del secondo:"
   ]
  },
  {
   "cell_type": "code",
   "execution_count": 53,
   "metadata": {},
   "outputs": [
    {
     "name": "stdout",
     "output_type": "stream",
     "text": [
      "l[5:2:-1]    -> [6, 5, 4]\n",
      "l[2:5:-1]    -> []\n"
     ]
    }
   ],
   "source": [
    "print(\"l[5:2:-1]    ->\", l[5:2:-1]) \n",
    "#da 5 (incluso) a 2 (escluso) a un passo di -1\n",
    "print(\"l[2:5:-1]    ->\", l[2:5:-1]) \n",
    "#in questo caso, il primo indice è più piccolo del secondo, \n",
    "#quindi il risultato sarà una lista vuota"
   ]
  },
  {
   "cell_type": "markdown",
   "metadata": {},
   "source": [
    "Anche in questo caso, omettendo degli indici, questi verranno rimpiazzati con le scelte più ovvie. Nel caso dell'omissione però, cambiano le condizioni di inclusione ed esclusione degli indici. Vediamo qualche esempio:"
   ]
  },
  {
   "cell_type": "code",
   "execution_count": 54,
   "metadata": {},
   "outputs": [
    {
     "name": "stdout",
     "output_type": "stream",
     "text": [
      "l[:2:-1]     -> [8, 7, 6, 5, 4]\n",
      "l[8:2:-1]    -> [8, 7, 6, 5, 4]\n",
      "\n",
      "l[3::-1]     -> [4, 3, 2, 1]\n",
      "l[3:0:-1]    -> [4, 3, 2]\n",
      "\n",
      "l[::-1]      -> [8, 7, 6, 5, 4, 3, 2, 1]\n",
      "l[8:0:-1]    -> [8, 7, 6, 5, 4, 3, 2]\n"
     ]
    }
   ],
   "source": [
    "print(\"l[:2:-1]     ->\", l[:2:-1]) \n",
    "#dall'ultimo indice (incluso) a 2 (escluso) a un passo di -1\n",
    "#equivalente a:\n",
    "print(\"l[8:2:-1]    ->\", l[8:2:-1]) \n",
    "\n",
    "print()\n",
    "print(\"l[3::-1]     ->\", l[3::-1]) \n",
    "#dal terzo indice (incluso) a 0 (incluso, in quanto omesso) a un passo di -1\n",
    "#simile, ma non equivalente a:\n",
    "print(\"l[3:0:-1]    ->\", l[3:0:-1]) \n",
    "#dal terzo indice (incluso) a 0 (escluso) a un passo di -1\n",
    "\n",
    "print()\n",
    "print(\"l[::-1]      ->\", l[::-1])\n",
    "#dall'ultimo indice (incluso) al primo (incluso, in quanto omesso) a un passo di -1\n",
    "#simile, ma non equivalente a:\n",
    "print(\"l[8:0:-1]    ->\", l[8:0:-1]) \n",
    "#dall'ultimo indice (incluso) al primo (escluso) a un passo di -1"
   ]
  },
  {
   "cell_type": "markdown",
   "metadata": {},
   "source": [
    "La notazione `::-1`, in particolare, è utile per invertire le liste:"
   ]
  },
  {
   "cell_type": "code",
   "execution_count": 55,
   "metadata": {},
   "outputs": [
    {
     "name": "stdout",
     "output_type": "stream",
     "text": [
      "[1, 2, 3, 4, 5, 6, 7, 8]\n",
      "[8, 7, 6, 5, 4, 3, 2, 1]\n"
     ]
    }
   ],
   "source": [
    "print(l)\n",
    "print(l[::-1])"
   ]
  },
  {
   "cell_type": "markdown",
   "metadata": {},
   "source": [
    "Indicizzazione e slicing possono essere utilizzate anche per assegnare valori agli elementi delle liste. Ad esempio:"
   ]
  },
  {
   "cell_type": "code",
   "execution_count": 56,
   "metadata": {},
   "outputs": [
    {
     "name": "stdout",
     "output_type": "stream",
     "text": [
      "[5, 7, 9, -1, 2, 6, 5, 4, -6]\n",
      "[5, 7, 9, 80, 2, 6, 5, 4, -6]\n"
     ]
    }
   ],
   "source": [
    "l = [5,7,9,-1,2,6,5,4,-6]\n",
    "print(l)\n",
    "l[3]=80\n",
    "print(l)"
   ]
  },
  {
   "cell_type": "markdown",
   "metadata": {},
   "source": [
    "E' anche possibile assegnare più di un elemento alla volta:"
   ]
  },
  {
   "cell_type": "code",
   "execution_count": 57,
   "metadata": {},
   "outputs": [
    {
     "name": "stdout",
     "output_type": "stream",
     "text": [
      "[0, 7, 0, 80, 0, 6, 0, 4, 0]\n"
     ]
    }
   ],
   "source": [
    "l[::2]=[0,0,0,0,0] #assegno 0 ai numeri di posizione dispari\n",
    "print(l)"
   ]
  },
  {
   "cell_type": "markdown",
   "metadata": {},
   "source": [
    "Le liste possono anche essere annidate:"
   ]
  },
  {
   "cell_type": "code",
   "execution_count": 58,
   "metadata": {},
   "outputs": [
    {
     "name": "stdout",
     "output_type": "stream",
     "text": [
      "[1, 2, [4, 8, [7, 5]], [9], 2]\n"
     ]
    }
   ],
   "source": [
    "a1 = [1,2,[4,8,[7,5]],[9],2]\n",
    "print(a1)"
   ]
  },
  {
   "cell_type": "markdown",
   "metadata": {},
   "source": [
    "L'indicizzazione di queste strutture annidate avviene concatenando gli indici come segue:"
   ]
  },
  {
   "cell_type": "code",
   "execution_count": 59,
   "metadata": {},
   "outputs": [
    {
     "name": "stdout",
     "output_type": "stream",
     "text": [
      "7\n"
     ]
    }
   ],
   "source": [
    "print(a1[2][2][0]) #il primo indice seleziona la lista [4,8,...]\n",
    "#il secondo indice seleziona la lista [7,5]\n",
    "#il terzo indice seleziona l'elemento 7"
   ]
  },
  {
   "cell_type": "markdown",
   "metadata": {},
   "source": [
    "**Domanda 2**\n",
    "<img src=\"img/qmark.jpg\" style=\"width:150px; float:left;\"/>\n",
    "\n",
    "Estrarre la lista `[3, 1.2]` dalla seguente lista:\n",
    "```python\n",
    "l = [1, 4, 5, [7, 9, -1, [0, 3, 2, 1.2], 8, []]]\n",
    "```"
   ]
  },
  {
   "cell_type": "markdown",
   "metadata": {},
   "source": [
    "**Risposta 2**\n",
    "<img style=\"float: left;width:150px;\" src=\"img/note.png\">\n",
    "\n",
    "<div style=\"background-color:#efefef; margin-left:150px; border:solid 1px; border-color:#dddddd; border-radius: 3px;\">\n",
    "<br><br><br><br><br><br>\n",
    "</div>"
   ]
  },
  {
   "cell_type": "markdown",
   "metadata": {},
   "source": [
    "## 1.6 Tuple\n",
    "\n",
    "Le tuple sono simili alle liste, ma sono immutabili. Non possono cioè essere modificate dopo la loro inizializzazione. A differenza delle liste, le tuple vengono definite utilizzando le parentesi tonde:"
   ]
  },
  {
   "cell_type": "code",
   "execution_count": 60,
   "metadata": {},
   "outputs": [
    {
     "name": "stdout",
     "output_type": "stream",
     "text": [
      "[1, 2, 3, 4, 5]\n",
      "(1, 2, 3, 4, 5)\n"
     ]
    }
   ],
   "source": [
    "l = [1,2,3,4,5] #questa è una lista (parentesi quadre)\n",
    "t = (1,2,3,4,5) #questa è una tupla (parentesi tonde)\n",
    "print(l)\n",
    "print(t)"
   ]
  },
  {
   "cell_type": "markdown",
   "metadata": {},
   "source": [
    "Le regole di indicizzazione e slicing viste per le liste valgono anche per tuple. Tuttavia, come accennato prima, le tuple non possono essere modificate:"
   ]
  },
  {
   "cell_type": "code",
   "execution_count": 61,
   "metadata": {},
   "outputs": [
    {
     "name": "stdout",
     "output_type": "stream",
     "text": [
      "'tuple' object does not support item assignment\n"
     ]
    }
   ],
   "source": [
    "t = (1,3,5)\n",
    "try:\n",
    "    t[0]=8 #restituisce un errore in quanto le tuple sono immutabili\n",
    "except Exception as e:\n",
    "    print(e)"
   ]
  },
  {
   "cell_type": "markdown",
   "metadata": {},
   "source": [
    "Inizializzare una tupla con un solo elemento produrrà un numero. Ciò avviene in quanto le parentesi tonde vengono utilizzate anche per raggruppare i diversi termini di una operazione:"
   ]
  },
  {
   "cell_type": "code",
   "execution_count": 62,
   "metadata": {},
   "outputs": [
    {
     "name": "stdout",
     "output_type": "stream",
     "text": [
      "1\n"
     ]
    }
   ],
   "source": [
    "t=(1)\n",
    "print(t)"
   ]
  },
  {
   "cell_type": "markdown",
   "metadata": {},
   "source": [
    "Per definire una tupla monodimensionale, dobbiamo aggiungere esplicitamente una virgola, dopo il primo elemento:"
   ]
  },
  {
   "cell_type": "code",
   "execution_count": 63,
   "metadata": {},
   "outputs": [
    {
     "name": "stdout",
     "output_type": "stream",
     "text": [
      "(1,)\n"
     ]
    }
   ],
   "source": [
    "t=(1,)\n",
    "print(t)"
   ]
  },
  {
   "cell_type": "markdown",
   "metadata": {},
   "source": [
    "E' inoltre possibile omettere le parentesi nella definizione delle tuple:"
   ]
  },
  {
   "cell_type": "code",
   "execution_count": 64,
   "metadata": {},
   "outputs": [
    {
     "name": "stdout",
     "output_type": "stream",
     "text": [
      "(1, 3, 5) (1,)\n"
     ]
    }
   ],
   "source": [
    "t1=1,3,5\n",
    "t2=1,\n",
    "print(t1,t2)"
   ]
  },
  {
   "cell_type": "markdown",
   "metadata": {},
   "source": [
    "E' possibile convertire tuple in liste e viceversa:"
   ]
  },
  {
   "cell_type": "code",
   "execution_count": 65,
   "metadata": {},
   "outputs": [
    {
     "name": "stdout",
     "output_type": "stream",
     "text": [
      "[4, 5, 6, 7, 4, 8, 2, 4]\n",
      "(1, 2, 3, 4, 5, 6, 7, 8)\n"
     ]
    }
   ],
   "source": [
    "l=[1,2,3,4,5,6,7,8]\n",
    "t=(4,5,6,7,4,8,2,4)\n",
    "ttl = list(t)\n",
    "ltt = tuple(l)\n",
    "\n",
    "print(ttl)\n",
    "print(ltt)"
   ]
  },
  {
   "cell_type": "markdown",
   "metadata": {},
   "source": [
    "Le tuple possono inoltre essere create e \"spacchettate\" al volo:"
   ]
  },
  {
   "cell_type": "code",
   "execution_count": 66,
   "metadata": {},
   "outputs": [
    {
     "name": "stdout",
     "output_type": "stream",
     "text": [
      "(1, 2, 3)\n",
      "1 2 3\n"
     ]
    }
   ],
   "source": [
    "t1=1,2,3\n",
    "\n",
    "print(t1)\n",
    "\n",
    "a,b,c=t1 #spacchettamento della tupla\n",
    "print(a,b,c)"
   ]
  },
  {
   "cell_type": "markdown",
   "metadata": {},
   "source": [
    "Questo sistema permette di effettuare lo swap di due variabili in una sola riga di codice:"
   ]
  },
  {
   "cell_type": "code",
   "execution_count": 67,
   "metadata": {},
   "outputs": [
    {
     "name": "stdout",
     "output_type": "stream",
     "text": [
      "Var 1 Var 2\n",
      "Var 2 Var 1\n",
      "Var 2 Var 1\n"
     ]
    }
   ],
   "source": [
    "var1 = \"Var 1\"\n",
    "var2 = \"Var 2\"\n",
    "\n",
    "print(var1,var2)\n",
    "\n",
    "var1,var2=var2,var1\n",
    "print(var1,var2)\n",
    "\n",
    "#equivalente a:\n",
    "var1 = \"Var 1\"\n",
    "var2 = \"Var 2\"\n",
    "t = (var2,var1)\n",
    "var1=t[0]\n",
    "var2=t[1]\n",
    "print(var1,var2)"
   ]
  },
  {
   "cell_type": "markdown",
   "metadata": {},
   "source": [
    "Le tuple annidate possono essere spacchetate come segue:"
   ]
  },
  {
   "cell_type": "code",
   "execution_count": 68,
   "metadata": {},
   "outputs": [
    {
     "name": "stdout",
     "output_type": "stream",
     "text": [
      "(1, (2, 3), (4, 5, 6))\n",
      "1 2 3 4 5 6\n"
     ]
    }
   ],
   "source": [
    "t = (1,(2,3),(4,5,6))\n",
    "x,(t11,t12),(t21,t22,t23) = t\n",
    "print(t)\n",
    "print(x, t11, t12, t21, t22, t23)\n",
    "#La notazione a,b,c,d,e,f = t restituirebbe un errore"
   ]
  },
  {
   "cell_type": "markdown",
   "metadata": {},
   "source": [
    "**Domanda 3**\n",
    "<img src=\"img/qmark.jpg\" style=\"width:150px; float:left;\"/>\n",
    "\n",
    "Qual è la differenza principale tra tuple e liste? Si faccia l'esempio di un caso in cui una tupla è un tipo più appropriato rispetto a una lista."
   ]
  },
  {
   "cell_type": "markdown",
   "metadata": {},
   "source": [
    "**Risposta 3**\n",
    "<img style=\"float: left;width:150px;\" src=\"img/note.png\">\n",
    "\n",
    "<div style=\"background-color:#efefef; margin-left:150px; border:solid 1px; border-color:#dddddd; border-radius: 3px;\">\n",
    "<br><br><br><br><br><br>\n",
    "</div>"
   ]
  },
  {
   "cell_type": "markdown",
   "metadata": {},
   "source": [
    "## 1.7 Stringhe\n",
    "In Python possiamo definire le stringhe in tre modi:"
   ]
  },
  {
   "cell_type": "code",
   "execution_count": 69,
   "metadata": {},
   "outputs": [
    {
     "data": {
      "text/plain": [
       "(str, str, str)"
      ]
     },
     "execution_count": 69,
     "metadata": {},
     "output_type": "execute_result"
    }
   ],
   "source": [
    "s1 = 'Singoli apici'\n",
    "s2 = \"Doppi apici, possono contenere anche apici singoli '' \"\n",
    "s3 = \"\"\"Tripli\n",
    "doppi apici\n",
    "possono essere definite su più righe\"\"\"\n",
    "type(s1), type(s2), type(s3)"
   ]
  },
  {
   "cell_type": "markdown",
   "metadata": {},
   "source": [
    "La stampa avviene mediante la funzione \"print\":"
   ]
  },
  {
   "cell_type": "code",
   "execution_count": 70,
   "metadata": {},
   "outputs": [
    {
     "name": "stdout",
     "output_type": "stream",
     "text": [
      "Singoli apici\n",
      "Doppi apici, possono contenere anche apici singoli '' \n",
      "Tripli\n",
      "doppi apici\n",
      "possono essere definite su più righe\n"
     ]
    }
   ],
   "source": [
    "print(s1)\n",
    "print(s2)\n",
    "print(s3)"
   ]
  },
  {
   "cell_type": "markdown",
   "metadata": {},
   "source": [
    "Le stringhe hanno inoltre una serie di metodi predefiniti:"
   ]
  },
  {
   "cell_type": "code",
   "execution_count": 71,
   "metadata": {},
   "outputs": [
    {
     "name": "stdout",
     "output_type": "stream",
     "text": [
      "CIAO\n",
      "ciao\n",
      "Ciao come stai\n",
      "['ciao', 'come', 'stai']\n",
      "['ciao', ' come stai']\n",
      "uno-due-tre\n"
     ]
    }
   ],
   "source": [
    "print(\"ciao\".upper()) #rendi tutto maiuscolo\n",
    "print(\"CIAO\".lower()) #tutto minuscolo\n",
    "print(\"ciao come stai\".capitalize()) #prima lettera maiuscola\n",
    "print(\"ciao come stai\".split()) #spezza una stringa e restituisce una lista\n",
    "print(\"ciao, come stai\".split(','))# spezza quando trova la virgola\n",
    "print(\"-\".join([\"uno\",\"due\",\"tre\"])) #costruisce una stringa concatenando gli elementi \n",
    "#della lista e separandoli mediante il delimitatore"
   ]
  },
  {
   "cell_type": "markdown",
   "metadata": {},
   "source": [
    "Le stringhe possono essere indicizzate in maniera simile agli array per ottenere delle sottostringhe:"
   ]
  },
  {
   "cell_type": "code",
   "execution_count": 72,
   "metadata": {},
   "outputs": [
    {
     "name": "stdout",
     "output_type": "stream",
     "text": [
      "Hell\n",
      "o World\n",
      "o W\n",
      "dlroW olleH\n"
     ]
    }
   ],
   "source": [
    "s = \"Hello World\"\n",
    "print(s[:4]) #primi 4 caratteri\n",
    "print(s[4:]) #dal quarto carattere alla fine\n",
    "print(s[4:7]) #dal quarto al sesto carattere\n",
    "print(s[::-1]) #inversione della stringa"
   ]
  },
  {
   "cell_type": "markdown",
   "metadata": {},
   "source": [
    "Il metodo `split` in particolare può essere utilizzato per la tokenizzazione o per estrarre sottostringhe in maniera agevole. Ad esempio, supponiamo di voler estrarre il numero `2018` dalla stringa `A-2017-B2`:"
   ]
  },
  {
   "cell_type": "code",
   "execution_count": 73,
   "metadata": {},
   "outputs": [
    {
     "name": "stdout",
     "output_type": "stream",
     "text": [
      "2017\n"
     ]
    }
   ],
   "source": [
    "print(\"A-2017-B2\".split('-')[1])"
   ]
  },
  {
   "cell_type": "markdown",
   "metadata": {},
   "source": [
    "L'operatore `==` controlla che due stringhe siano uguali:"
   ]
  },
  {
   "cell_type": "code",
   "execution_count": 74,
   "metadata": {},
   "outputs": [
    {
     "name": "stdout",
     "output_type": "stream",
     "text": [
      "True\n",
      "False\n"
     ]
    }
   ],
   "source": [
    "print(\"ciao\"==\"ciao\")\n",
    "print(\"ciao\"==\"ciao2\")"
   ]
  },
  {
   "cell_type": "markdown",
   "metadata": {},
   "source": [
    "Gli altri operatori rispecchiano l'ordinamento lessicografico tra stringhe:"
   ]
  },
  {
   "cell_type": "code",
   "execution_count": 75,
   "metadata": {},
   "outputs": [
    {
     "name": "stdout",
     "output_type": "stream",
     "text": [
      "True\n",
      "False\n"
     ]
    }
   ],
   "source": [
    "print(\"abc\"<\"def\")\n",
    "print(\"Abc\">\"def\")"
   ]
  },
  {
   "cell_type": "markdown",
   "metadata": {},
   "source": [
    "**Domanda 4**\n",
    "<img src=\"img/qmark.jpg\" style=\"width:150px; float:left;\"/>\n",
    "\n",
    "Quale codice permette di manipolare la stringa `azyp-kk9-382` per ottenere la stringa `Kk9`?"
   ]
  },
  {
   "cell_type": "markdown",
   "metadata": {},
   "source": [
    "**Risposta 4**\n",
    "<img style=\"float: left;width:150px;\" src=\"img/note.png\">\n",
    "\n",
    "<div style=\"background-color:#efefef; margin-left:150px; border:solid 1px; border-color:#dddddd; border-radius: 3px;\">\n",
    "<br><br><br><br><br><br>\n",
    "</div>"
   ]
  },
  {
   "cell_type": "markdown",
   "metadata": {},
   "source": [
    "### 1.7.1 Formattazione di Stringhe\n",
    "Possiamo costruire stringhe formattate seguendo una sintassi simile a quella di printf:"
   ]
  },
  {
   "cell_type": "code",
   "execution_count": 76,
   "metadata": {},
   "outputs": [
    {
     "name": "stdout",
     "output_type": "stream",
     "text": [
      "Questa stringa è formattata. Posso inserire numeri, as esempio 3.00\n"
     ]
    }
   ],
   "source": [
    "#per costruire la stringa formattata, faccio seguire la stringa dal simbolo \"%\" e poi inserisco\n",
    "#una tupla contenente gli argomenti\n",
    "s1 = \"Questa %s è formattata. Posso inserire numeri, as esempio %0.2f\" % (\"stringa\",3.00002)\n",
    "print(s1)"
   ]
  },
  {
   "cell_type": "markdown",
   "metadata": {},
   "source": [
    "Un modo alternativo e più recente di formattare le strighe consiste nell'usare il metodo \"format\":"
   ]
  },
  {
   "cell_type": "code",
   "execution_count": 77,
   "metadata": {},
   "outputs": [
    {
     "name": "stdout",
     "output_type": "stream",
     "text": [
      "Questa stringa è formattata. Posso inserire numeri, ad esempio 3.000002\n"
     ]
    }
   ],
   "source": [
    "s2 = \"Questa {} è formattata. Posso inserire numeri, ad esempio {}\"\\\n",
    "    .format(\"stringa\",3.000002)# il carattere \"\\\" permette di spezzare la riga\n",
    "print(s2)"
   ]
  },
  {
   "cell_type": "markdown",
   "metadata": {},
   "source": [
    "E' possibile specificare il tipo di ogni argomento utilizzando i due punti:"
   ]
  },
  {
   "cell_type": "code",
   "execution_count": 78,
   "metadata": {},
   "outputs": [
    {
     "name": "stdout",
     "output_type": "stream",
     "text": [
      "Questa stringa è formattata. Posso inserire numeri, ad esempio 3.00\n"
     ]
    }
   ],
   "source": [
    "print(\"Questa {:s} è formattata. Posso inserire numeri, ad esempio {:0.2f}\"\\\n",
    "      .format(\"stringa\",3.00002)) #parametri posizionali, senza speci"
   ]
  },
  {
   "cell_type": "markdown",
   "metadata": {},
   "source": [
    "E' anche possibile assegnare nomi agli argomenti in modo da richimarli in maniera non ordinata:"
   ]
  },
  {
   "cell_type": "code",
   "execution_count": 79,
   "metadata": {},
   "outputs": [
    {
     "name": "stdout",
     "output_type": "stream",
     "text": [
      "Questa stringa è formattata. Posso inserire numeri, ad esempio 3.00\n"
     ]
    }
   ],
   "source": [
    "print(\"Questa {str:s} è formattata. Posso inserire numeri, ad esempio {num:0.2f}\"\\\n",
    "    .format(num=3.00002, str=\"stringa\"))"
   ]
  },
  {
   "cell_type": "markdown",
   "metadata": {},
   "source": [
    "**Domanda 5**\n",
    "<img src=\"img/qmark.jpg\" style=\"width:150px; float:left;\"/>\n",
    "\n",
    "Date le variabili:\n",
    "\n",
    "```python\n",
    "a = \"hello\"\n",
    "b = \"world\"\n",
    "c = 2.0```\n",
    "\n",
    "Usare la formattazione delle stringhe per stampare la stringa `hello 2 times world`."
   ]
  },
  {
   "cell_type": "markdown",
   "metadata": {},
   "source": [
    "**Risposta 5**\n",
    "<img style=\"float: left;width:150px;\" src=\"img/note.png\">\n",
    "\n",
    "<div style=\"background-color:#efefef; margin-left:150px; border:solid 1px; border-color:#dddddd; border-radius: 3px;\">\n",
    "<br><br><br><br><br><br>\n",
    "</div>"
   ]
  },
  {
   "cell_type": "markdown",
   "metadata": {},
   "source": [
    "## 1.8 Dizionari\n",
    "I dizionari sono simili a delle liste, ma vengono indicizzate da oggetti di tipo \"hashable\", ad esempio stringhe:"
   ]
  },
  {
   "cell_type": "code",
   "execution_count": 80,
   "metadata": {},
   "outputs": [
    {
     "name": "stdout",
     "output_type": "stream",
     "text": [
      "{'val1': 1, 'val2': 2}\n",
      "1\n"
     ]
    }
   ],
   "source": [
    "d = {\"val1\":1, \"val2\":2}\n",
    "print(d)\n",
    "\n",
    "print(d[\"val1\"])"
   ]
  },
  {
   "cell_type": "markdown",
   "metadata": {},
   "source": [
    "E' possibile ottenere la lista delle chiavi e dei valori come segue:"
   ]
  },
  {
   "cell_type": "code",
   "execution_count": 81,
   "metadata": {},
   "outputs": [
    {
     "name": "stdout",
     "output_type": "stream",
     "text": [
      "dict_keys(['val1', 'val2'])\n",
      "dict_values([1, 2])\n"
     ]
    }
   ],
   "source": [
    "print(d.keys()) #chiavi e valori sono in ordine casuale\n",
    "print(d.values())"
   ]
  },
  {
   "cell_type": "markdown",
   "metadata": {},
   "source": [
    "E' possibile indicizzare dizionari con tuple (che sono \"hashable\")"
   ]
  },
  {
   "cell_type": "code",
   "execution_count": 82,
   "metadata": {},
   "outputs": [
    {
     "name": "stdout",
     "output_type": "stream",
     "text": [
      "5\n"
     ]
    }
   ],
   "source": [
    "d = {(2,3):5, (4,6):11}\n",
    "\n",
    "print(d[(2,3)])"
   ]
  },
  {
   "cell_type": "markdown",
   "metadata": {},
   "source": [
    "I dizionari possono anche essere estesi dinamicamente:"
   ]
  },
  {
   "cell_type": "code",
   "execution_count": 83,
   "metadata": {},
   "outputs": [
    {
     "name": "stdout",
     "output_type": "stream",
     "text": [
      "{'chiave': 'valore'}\n"
     ]
    }
   ],
   "source": [
    "d = dict() #dizionario vuoto\n",
    "d[\"chiave\"]=\"valore\"\n",
    "print(d)"
   ]
  },
  {
   "cell_type": "markdown",
   "metadata": {},
   "source": [
    "Possiamo controllare che un elemento si trovi tra le chiavi di un dizionario come segue:"
   ]
  },
  {
   "cell_type": "code",
   "execution_count": 84,
   "metadata": {},
   "outputs": [
    {
     "name": "stdout",
     "output_type": "stream",
     "text": [
      "False\n",
      "True\n"
     ]
    }
   ],
   "source": [
    "d = {1:'ciao', '5': 5, 8: -1}\n",
    "print(5 in d)\n",
    "print('5' in d)"
   ]
  },
  {
   "cell_type": "markdown",
   "metadata": {},
   "source": [
    "E' possibile controllare che un elemento si trovi tra i valori di un dizionario come segue:"
   ]
  },
  {
   "cell_type": "code",
   "execution_count": 85,
   "metadata": {},
   "outputs": [
    {
     "name": "stdout",
     "output_type": "stream",
     "text": [
      "True\n"
     ]
    }
   ],
   "source": [
    "print(-1 in d.values())"
   ]
  },
  {
   "cell_type": "markdown",
   "metadata": {},
   "source": [
    "## 1.9 Set\n",
    "I set sono delle strutture dati che possono contenere solo una istanza di un dato elemento:"
   ]
  },
  {
   "cell_type": "code",
   "execution_count": 86,
   "metadata": {},
   "outputs": [
    {
     "name": "stdout",
     "output_type": "stream",
     "text": [
      "{1, 2, 3}\n"
     ]
    }
   ],
   "source": [
    "s = {1,2,3,3}\n",
    "print(s) #può essere contenuto solo un \"3\""
   ]
  },
  {
   "cell_type": "markdown",
   "metadata": {},
   "source": [
    "Possiamo aggiungere un elemento a un set mediante il metodo \"add\":"
   ]
  },
  {
   "cell_type": "code",
   "execution_count": 87,
   "metadata": {},
   "outputs": [
    {
     "name": "stdout",
     "output_type": "stream",
     "text": [
      "{1, 2, 3}\n",
      "{1, 2, 3, 5}\n",
      "{1, 2, 3, 5}\n"
     ]
    }
   ],
   "source": [
    "print(s)\n",
    "s.add(5)\n",
    "print(s)\n",
    "s.add(1) #non ha effetto. 1 è già presente\n",
    "print(s)"
   ]
  },
  {
   "cell_type": "markdown",
   "metadata": {},
   "source": [
    "Anche in questo caso, possiamo controllare l'appartenenza di un elemento ad un set mediante la parola chiave `in`:"
   ]
  },
  {
   "cell_type": "code",
   "execution_count": 88,
   "metadata": {},
   "outputs": [
    {
     "name": "stdout",
     "output_type": "stream",
     "text": [
      "True\n",
      "False\n"
     ]
    }
   ],
   "source": [
    "s={1,5,-1}\n",
    "print(-1 in s)\n",
    "print(8 in s)"
   ]
  },
  {
   "cell_type": "markdown",
   "metadata": {},
   "source": [
    "E' inoltre possibile creare set da liste:"
   ]
  },
  {
   "cell_type": "code",
   "execution_count": 89,
   "metadata": {},
   "outputs": [
    {
     "data": {
      "text/plain": [
       "{1, 2, 3, 5}"
      ]
     },
     "execution_count": 89,
     "metadata": {},
     "output_type": "execute_result"
    }
   ],
   "source": [
    "set([1,3,3,2,5,1])"
   ]
  },
  {
   "cell_type": "markdown",
   "metadata": {},
   "source": [
    "## 1.10 Costrutti if/elif/else\n",
    "\n",
    "I costrutti condizionali funzionano in maniera simile ai linguaggi basati su C. A differenza di tali linguaggi tuttavia, Python sostituisce le parentesi con l'indentazione obbligatoria. Il seguente codice C++:\n",
    "\n",
    "```c++\n",
    "int var1 = 5;\n",
    "int var2 = 10;\n",
    "if(var1<var2) {\n",
    "    int var3 = var1+var2;\n",
    "    cout << \"Hello World \"<<var3;\n",
    "}\n",
    "cout << \"End\";```\n",
    "viene invece scritto come segue:"
   ]
  },
  {
   "cell_type": "code",
   "execution_count": 90,
   "metadata": {},
   "outputs": [
    {
     "name": "stdout",
     "output_type": "stream",
     "text": [
      "Hello World 15\n",
      "End\n"
     ]
    }
   ],
   "source": [
    "var1 = 5\n",
    "var2 = 10\n",
    "if var1<var2:\n",
    "    var3 = var1+var2\n",
    "    print(\"Hello World\",var3)\n",
    "print(\"End\")"
   ]
  },
  {
   "cell_type": "markdown",
   "metadata": {},
   "source": [
    "In pratica:\n",
    " * la condizione da verificare non è racchiusa tra parentesi;\n",
    " * i due punti indicano l'inizio del corpo dell'if;\n",
    " * l'indentazione stabilisce cosa appartiene al corpo dell'if e cosa non appartiene al corpo dell'if.\n",
    " \n",
    "Dal momento che l'indentazione ha valore sintattico, essa diventa obbligatoria. Inoltre, non è possibile indentare parti di codice ove ciò non è significativo. Ad esempio, il seguente codice restituirebbe un errore:\n",
    "\n",
    "```python\n",
    "print(\"Hello\")\n",
    "    print(\"World\")\n",
    "```"
   ]
  },
  {
   "cell_type": "markdown",
   "metadata": {},
   "source": [
    "Le regole di indentazione appena viste, valgono anche per i cicli e altri costrutti in cui è necessario deliminare blocchi di codice. Il costrutto if, permette anche di specificare un ramo `else` e un ramo `elif` per i controlli in cascata. Vediamo alcuni esempi:"
   ]
  },
  {
   "cell_type": "code",
   "execution_count": 91,
   "metadata": {},
   "outputs": [
    {
     "name": "stdout",
     "output_type": "stream",
     "text": [
      "cool!\n",
      "cool again :)\n",
      "true\n",
      "5>4\n"
     ]
    }
   ],
   "source": [
    "true_condition = True\n",
    "false_condition = False\n",
    "\n",
    "if true_condition: #i due punti \":\" sono obbligatori\n",
    "    word=\"cool!\"\n",
    "    print(word) #l'indentazione è obbligatoria\n",
    "    \n",
    "if false_condition:\n",
    "    print(\"not cool :(\")\n",
    "    \n",
    "if not false_condition: #neghiamo la condizione con \"not\"\n",
    "    word=\"cool\"\n",
    "    print(word,\"again :)\")\n",
    "    \n",
    "if false_condition:\n",
    "    word=\"this\"\n",
    "    print(word+\" is \"+\"false\")\n",
    "else: #due punti + indentazione\n",
    "    print(\"true\")\n",
    "    \n",
    "if false_condition:\n",
    "    print(\"false\")\n",
    "elif 5>4: #implementa un \"else if\"\n",
    "    print(\"5>4\")\n",
    "else:\n",
    "    print(\"4<5??\")"
   ]
  },
  {
   "cell_type": "markdown",
   "metadata": {},
   "source": [
    "E' anche possibile verificare se un valore appartiene a una lista. Ciò è molto utile per verificare se un parametro è ammesso."
   ]
  },
  {
   "cell_type": "code",
   "execution_count": 92,
   "metadata": {},
   "outputs": [
    {
     "name": "stdout",
     "output_type": "stream",
     "text": [
      "double is ok\n",
      "8 not in ['single', 'double', 5, -2]\n"
     ]
    }
   ],
   "source": [
    "allowed_parameters = [\"single\", \"double\", 5, -2]\n",
    "\n",
    "parameter = \"double\"\n",
    "\n",
    "if parameter in allowed_parameters:\n",
    "    print(parameter,\"is ok\")\n",
    "else:\n",
    "    print(parameter,\"not in\",allowed_parameters)\n",
    "\n",
    "x=8\n",
    "if x in allowed_parameters:\n",
    "    print(x,\"is not ok\")\n",
    "else:\n",
    "    print(x,\"not in\",allowed_parameters)"
   ]
  },
  {
   "cell_type": "markdown",
   "metadata": {},
   "source": [
    "Una variante \"inline\" del costrutto if può essere utilizzata per gli assegnamenti condizionali:"
   ]
  },
  {
   "cell_type": "code",
   "execution_count": 93,
   "metadata": {},
   "outputs": [
    {
     "name": "stdout",
     "output_type": "stream",
     "text": [
      "5\n"
     ]
    }
   ],
   "source": [
    "var1 = 5\n",
    "var2 = 3\n",
    "m = var1 if var1>var2 else var2 #calcola il massimo\n",
    "print(m)"
   ]
  },
  {
   "cell_type": "markdown",
   "metadata": {},
   "source": [
    "In Python non esiste il costrutto switch, per implementare il quale si utilizza una lista di elif in cascata:"
   ]
  },
  {
   "cell_type": "code",
   "execution_count": 94,
   "metadata": {},
   "outputs": [
    {
     "name": "stdout",
     "output_type": "stream",
     "text": [
      "ciao mondo\n"
     ]
    }
   ],
   "source": [
    "s = \"ciao\"\n",
    "if s==\"help\":\n",
    "    print(\"help\")\n",
    "elif s==\"world\":\n",
    "    print(\"hello\",s)\n",
    "elif s==\"ciao\":\n",
    "    print(s,\"mondo\")\n",
    "else:\n",
    "    print(\"Default\")"
   ]
  },
  {
   "cell_type": "markdown",
   "metadata": {},
   "source": [
    "**Domanda 6**\n",
    "<img src=\"img/qmark.jpg\" style=\"width:150px; float:left;\"/>\n",
    "\n",
    "Si consideri il seguente codice:\n",
    "\n",
    "```python\n",
    "x=2\n",
    "if x>0:\n",
    "    y=12\n",
    "    x=x+y\n",
    "    print y\n",
    "else:\n",
    "        z=28\n",
    "        h=12\n",
    "        print z+h\n",
    "```\n",
    "\n",
    "Si evidenziino eventuali errori sintattici. Si riscriva il codice in C++ o Java e si confrontino le due versioni del codice."
   ]
  },
  {
   "cell_type": "markdown",
   "metadata": {},
   "source": [
    "**Risposta 6**\n",
    "<img style=\"float: left;width:150px;\" src=\"img/note.png\">\n",
    "\n",
    "<div style=\"background-color:#efefef; margin-left:150px; border:solid 1px; border-color:#dddddd; border-radius: 3px;\">\n",
    "<br><br><br><br><br><br>\n",
    "</div>"
   ]
  },
  {
   "cell_type": "markdown",
   "metadata": {},
   "source": [
    "## 1.11 Cicli while e for\n",
    "I cicli while, si definiscono come segue:"
   ]
  },
  {
   "cell_type": "code",
   "execution_count": 95,
   "metadata": {},
   "outputs": [
    {
     "name": "stdout",
     "output_type": "stream",
     "text": [
      "0\n",
      "1\n",
      "2\n",
      "3\n",
      "4\n"
     ]
    }
   ],
   "source": [
    "i=0\n",
    "while i<5: #due punti \":\"\n",
    "    print(i) #indentazione\n",
    "    i+=1"
   ]
  },
  {
   "cell_type": "markdown",
   "metadata": {},
   "source": [
    "La sintassi dei cicli for è un po' diversa dalla sintassi standard del C. I cicli for in Python sono più simili a dei **foreach** e richiedono un \"iterable\" (ad esempio una lista o una tupla) per essere eseguiti:"
   ]
  },
  {
   "cell_type": "code",
   "execution_count": 96,
   "metadata": {},
   "outputs": [
    {
     "name": "stdout",
     "output_type": "stream",
     "text": [
      "1\n",
      "7\n",
      "2\n",
      "5\n"
     ]
    }
   ],
   "source": [
    "l=[1,7,2,5]\n",
    "for v in l:\n",
    "    print(v)"
   ]
  },
  {
   "cell_type": "markdown",
   "metadata": {},
   "source": [
    "Per scrivere qualcosa di equivalente al seguente codice C:\n",
    "\n",
    "```c++\n",
    "for (int i=0; i<5; i++) {...}\n",
    "```\n",
    "\n",
    "possiamo utilizzare la funzione **range** che genera numeri sequenziali al volo:"
   ]
  },
  {
   "cell_type": "code",
   "execution_count": 97,
   "metadata": {},
   "outputs": [
    {
     "name": "stdout",
     "output_type": "stream",
     "text": [
      "0\n",
      "1\n",
      "2\n",
      "3\n",
      "4\n"
     ]
    }
   ],
   "source": [
    "for i in range(5):\n",
    "    print(i)"
   ]
  },
  {
   "cell_type": "markdown",
   "metadata": {},
   "source": [
    "Range non genera direttamente una lista, ma un \"generator\" di tipo range, ovvero un oggetto capace di generare numeri. Se vogliamo convertirlo in una lista, dobbiamo farlo esplicitamente:"
   ]
  },
  {
   "cell_type": "code",
   "execution_count": 98,
   "metadata": {},
   "outputs": [
    {
     "name": "stdout",
     "output_type": "stream",
     "text": [
      "range(0, 5)\n",
      "[0, 1, 2, 3, 4]\n"
     ]
    }
   ],
   "source": [
    "print(range(5)) #oggetto di tipo range, genera numeri da 0 a 5 (escluso)\n",
    "print(list(range(5))) #range non fa altro che generare numeri consecutivi\n",
    "#convertendo range in una lista, possiamo verificare quali numeri vengono generati"
   ]
  },
  {
   "cell_type": "markdown",
   "metadata": {},
   "source": [
    "Se volessimo scorrere contemporaneamente indici e valori di un array potremmo scrivere:"
   ]
  },
  {
   "cell_type": "code",
   "execution_count": 99,
   "metadata": {},
   "outputs": [
    {
     "name": "stdout",
     "output_type": "stream",
     "text": [
      "0 -> 1\n",
      "1 -> 7\n",
      "2 -> 2\n",
      "3 -> 4\n",
      "4 -> 5\n"
     ]
    }
   ],
   "source": [
    "array=[1,7,2,4,5] \n",
    "for i in range(len(array)):\n",
    "    print(i,\"->\",array[i])"
   ]
  },
  {
   "cell_type": "markdown",
   "metadata": {},
   "source": [
    "In Python però, è possibile utilizzare la funzione `enumerate` per ottenere lo stesso risultato in maniera più compatta:"
   ]
  },
  {
   "cell_type": "code",
   "execution_count": 100,
   "metadata": {},
   "outputs": [
    {
     "name": "stdout",
     "output_type": "stream",
     "text": [
      "0 -> 1\n",
      "1 -> 7\n",
      "2 -> 2\n",
      "3 -> 4\n",
      "4 -> 5\n"
     ]
    }
   ],
   "source": [
    "for index,value in enumerate(array): #get both index and value\n",
    "    print(index,\"->\",value)"
   ]
  },
  {
   "cell_type": "markdown",
   "metadata": {},
   "source": [
    "Supponiamo adesso di voler scorrere contemporaneamente tutti gli iesimi elementi di più liste. Ad esempio:"
   ]
  },
  {
   "cell_type": "code",
   "execution_count": 101,
   "metadata": {},
   "outputs": [
    {
     "name": "stdout",
     "output_type": "stream",
     "text": [
      "1 1 9\n",
      "6 8 2\n",
      "2 2 5\n",
      "5 7 2\n"
     ]
    }
   ],
   "source": [
    "a1=[1,6,2,5]\n",
    "a2=[1,8,2,7]\n",
    "a3=[9,2,5,2]\n",
    "\n",
    "for i in range(len(a1)):\n",
    "    print(a1[i],a2[i],a3[i])"
   ]
  },
  {
   "cell_type": "markdown",
   "metadata": {},
   "source": [
    "Una funzione molto utile quando si lavora con i cicli è `zip`, che permette di raggruppare gli elementi corrispondenti di diverse liste:"
   ]
  },
  {
   "cell_type": "code",
   "execution_count": 102,
   "metadata": {},
   "outputs": [
    {
     "name": "stdout",
     "output_type": "stream",
     "text": [
      "[(1, 3), (6, 8), (5, 9), (2, 2)]\n"
     ]
    }
   ],
   "source": [
    "l1 = [1,6,5,2]\n",
    "l2 = [3,8,9,2]\n",
    "zipped=list(zip(l1,l2))\n",
    "print(zipped)"
   ]
  },
  {
   "cell_type": "markdown",
   "metadata": {},
   "source": [
    "In pratica, `zip` raggruppa gli elementi i-esimi delle liste in tuple. La i-esima tupla di `zipped` contiene gli i-esimi elementi delle due liste. Combinando `zip` con un ciclo for, possiamo ottenere il seguente risultato:"
   ]
  },
  {
   "cell_type": "code",
   "execution_count": 103,
   "metadata": {},
   "outputs": [
    {
     "name": "stdout",
     "output_type": "stream",
     "text": [
      "1 1 9\n",
      "6 8 2\n",
      "2 2 5\n",
      "5 7 2\n"
     ]
    }
   ],
   "source": [
    "for v1,v2,v3 in zip(a1,a2,a3):\n",
    "    print(v1,v2,v3)"
   ]
  },
  {
   "cell_type": "markdown",
   "metadata": {},
   "source": [
    "che è equivalente al codice visto in precedenza. E' anche possibile combinare zip e enumerate come segue:"
   ]
  },
  {
   "cell_type": "code",
   "execution_count": 104,
   "metadata": {},
   "outputs": [
    {
     "name": "stdout",
     "output_type": "stream",
     "text": [
      "0 -> 1 1 9\n",
      "1 -> 6 8 2\n",
      "2 -> 2 2 5\n",
      "3 -> 5 7 2\n"
     ]
    }
   ],
   "source": [
    "for i,(v1,v2,v3) in enumerate(zip(a1,a2,a3)):\n",
    "    print(i,\"->\",v1,v2,v3)"
   ]
  },
  {
   "cell_type": "markdown",
   "metadata": {},
   "source": [
    "Attenzione, anche `zip`, come `range`, produce un generator. Pertanto è necessario convertirlo esplicitamente in una lista per stamparne i valori:"
   ]
  },
  {
   "cell_type": "code",
   "execution_count": 105,
   "metadata": {},
   "outputs": [
    {
     "name": "stdout",
     "output_type": "stream",
     "text": [
      "<zip object at 0x7fc2b4049908>\n",
      "[(1, 3), (6, 8), (5, 9), (2, 2)]\n"
     ]
    }
   ],
   "source": [
    "print(zip(l1,l2))\n",
    "print(list(zip(l1,l2)))"
   ]
  },
  {
   "cell_type": "markdown",
   "metadata": {},
   "source": [
    "## 1.12 Comprensione di liste e dizionari\n",
    "\n",
    "La comprensione di liste è uno strumento sintattico che permette di definire liste al volo a partire da altre liste, in maniera iterativa. Ad esempio, è possibile moltiplicare tutti gli elementi di una lista per un valore, come segue:"
   ]
  },
  {
   "cell_type": "code",
   "execution_count": 106,
   "metadata": {},
   "outputs": [
    {
     "name": "stdout",
     "output_type": "stream",
     "text": [
      "[0, 1, 2, 3, 4, 5, 6, 7]\n",
      "[0, 3, 6, 9, 12, 15, 18, 21]\n"
     ]
    }
   ],
   "source": [
    "a = list(range(8))\n",
    "\n",
    "b = [x*3 for x in a] #la lista \"a\" viene iterata. La variabile \"x\" conterrà di volta in volta i valori di a\n",
    "\n",
    "print(a)\n",
    "print(b)"
   ]
  },
  {
   "cell_type": "markdown",
   "metadata": {},
   "source": [
    "E' anche possibile includere solo alcuni elementi selettivamente:"
   ]
  },
  {
   "cell_type": "code",
   "execution_count": 107,
   "metadata": {},
   "outputs": [
    {
     "name": "stdout",
     "output_type": "stream",
     "text": [
      "[0, 2, 4, 6]\n"
     ]
    }
   ],
   "source": [
    "print([x for x in a if x%2==0]) #include solo i numeri pari"
   ]
  },
  {
   "cell_type": "code",
   "execution_count": 108,
   "metadata": {},
   "outputs": [
    {
     "name": "stdout",
     "output_type": "stream",
     "text": [
      "[1, 3, 8, 2, 9]\n",
      "[4, 9, 2, 1, 4]\n",
      "[5, 12, 10, 3, 13]\n"
     ]
    }
   ],
   "source": [
    "a = [1,3,8,2,9]\n",
    "b = [4,9,2,1,4]\n",
    "\n",
    "c = [x+y for x,y in zip(a,b)]\n",
    "\n",
    "print(a)\n",
    "print(b)\n",
    "print(c) #i suoi elementi sono le somme degli elementi di a e b"
   ]
  },
  {
   "cell_type": "markdown",
   "metadata": {},
   "source": [
    "I meccanismi di comprensione si possono utilizzare anche nel caso dei dizionari:"
   ]
  },
  {
   "cell_type": "code",
   "execution_count": 109,
   "metadata": {},
   "outputs": [
    {
     "name": "stdout",
     "output_type": "stream",
     "text": [
      "{'one': 1, 'two': 2, 'three': 3, 'four': 4, 'five': 5, 'six': 6, 'seven': 7}\n"
     ]
    }
   ],
   "source": [
    "a = [\"one\",\"two\",\"three\",\"four\",\"five\",\"six\",\"seven\"]\n",
    "b = range(1,8)\n",
    "d = {i:s for i,s in zip(a,b)}\n",
    "print(d)"
   ]
  },
  {
   "cell_type": "markdown",
   "metadata": {},
   "source": [
    "**Domanda 7**\n",
    "<img src=\"img/qmark.jpg\" style=\"width:150px; float:left;\"/>\n",
    "\n",
    "Tutte le operazioni che si possono fare mediante comprensione di liste e dizionari possono essere fatte mediante un ciclo for? Quali sono i vantaggi principali di queste tecniche rispetto a l'utilizzo dei cicli for?"
   ]
  },
  {
   "cell_type": "markdown",
   "metadata": {},
   "source": [
    "**Risposta 7**\n",
    "<img style=\"float: left;width:150px;\" src=\"img/note.png\">\n",
    "\n",
    "<div style=\"background-color:#efefef; margin-left:150px; border:solid 1px; border-color:#dddddd; border-radius: 3px;\">\n",
    "<br><br><br><br><br><br>\n",
    "</div>"
   ]
  },
  {
   "cell_type": "markdown",
   "metadata": {},
   "source": [
    "## 1.13 Definizione di Funzioni\n",
    "\n",
    "Considerato quanto già detto sulla indentazione, la definizione di una funzione è molto naturale:"
   ]
  },
  {
   "cell_type": "code",
   "execution_count": 110,
   "metadata": {},
   "outputs": [
    {
     "name": "stdout",
     "output_type": "stream",
     "text": [
      "9\n"
     ]
    }
   ],
   "source": [
    "def fun(x, y):\n",
    "    return x**y\n",
    "\n",
    "print(fun(3,2)) #il valore di default \"2\" viene utilizzato"
   ]
  },
  {
   "cell_type": "markdown",
   "metadata": {},
   "source": [
    " Inoltre, in maniera simile a quanto avviene con il linguaggio C, è possibile definire valori di default per i parametri:"
   ]
  },
  {
   "cell_type": "code",
   "execution_count": 111,
   "metadata": {},
   "outputs": [
    {
     "name": "stdout",
     "output_type": "stream",
     "text": [
      "9\n"
     ]
    }
   ],
   "source": [
    "def fun(x, y=2):\n",
    "    return x**y\n",
    "\n",
    "print(fun(3)) #il valore di default \"2\" viene utilizzato"
   ]
  },
  {
   "cell_type": "markdown",
   "metadata": {},
   "source": [
    "I parametri di una funzione possono essere specificati in un ordine diverso rispetto a quello in cui essi sono stati definiti richiamandone il nome:"
   ]
  },
  {
   "cell_type": "code",
   "execution_count": 112,
   "metadata": {},
   "outputs": [
    {
     "name": "stdout",
     "output_type": "stream",
     "text": [
      "8\n"
     ]
    }
   ],
   "source": [
    "print(fun(y=3,x=2))"
   ]
  },
  {
   "cell_type": "markdown",
   "metadata": {},
   "source": [
    "E' possibile definire una funzione che restituisce più di un elemento utilizzando le tuple:"
   ]
  },
  {
   "cell_type": "code",
   "execution_count": 113,
   "metadata": {},
   "outputs": [
    {
     "name": "stdout",
     "output_type": "stream",
     "text": [
      "(8, 9)\n",
      "8 9\n"
     ]
    }
   ],
   "source": [
    "def soMuchFun(x,y):\n",
    "    return x**y, y**x\n",
    "\n",
    "print(soMuchFun(2,3))\n",
    "\n",
    "a,b=soMuchFun(2,3) #posso \"spacchettare\" la tupla restituita\n",
    "print(a,b)"
   ]
  },
  {
   "cell_type": "markdown",
   "metadata": {},
   "source": [
    "E' inoltre possibile definire funzioni anonime come segue:"
   ]
  },
  {
   "cell_type": "code",
   "execution_count": 114,
   "metadata": {},
   "outputs": [
    {
     "name": "stdout",
     "output_type": "stream",
     "text": [
      "4\n",
      "5\n",
      "(4, 9)\n"
     ]
    }
   ],
   "source": [
    "myfun = lambda x: x**2 #un input e un output\n",
    "print(myfun(2))\n",
    "\n",
    "myfun1 = lambda x,y: x+y #due input e un output\n",
    "print(myfun1(2,3))\n",
    "\n",
    "myfun2 = lambda x,y: (x**2,y**2) #due input e due output\n",
    "print(myfun2(2,3))"
   ]
  },
  {
   "cell_type": "markdown",
   "metadata": {},
   "source": [
    "**Domanda 8**\n",
    "<img src=\"img/qmark.jpg\" style=\"width:150px; float:left;\"/>\n",
    "\n",
    "Qual è il vantaggio di definire una funzione mediante **lambda**? Quali sono i suoi limiti?"
   ]
  },
  {
   "cell_type": "markdown",
   "metadata": {},
   "source": [
    "**Risposta 8**\n",
    "<img style=\"float: left;width:150px;\" src=\"img/note.png\">\n",
    "\n",
    "<div style=\"background-color:#efefef; margin-left:150px; border:solid 1px; border-color:#dddddd; border-radius: 3px;\">\n",
    "<br><br><br><br><br><br>\n",
    "</div>"
   ]
  },
  {
   "cell_type": "markdown",
   "metadata": {},
   "source": [
    "## 1.14 Map e Filter\n",
    "\n",
    "Le funzioni **map** e **filter** permettono di eseguire operazioni sugli elementi di una lista. In particolare, **map** applica una funzione a tutti gli elementi di una lista:"
   ]
  },
  {
   "cell_type": "code",
   "execution_count": 115,
   "metadata": {},
   "outputs": [
    {
     "name": "stdout",
     "output_type": "stream",
     "text": [
      "[0, 1, 2, 3, 4, 5]\n",
      "[0, 1, 4, 9, 16, 25]\n"
     ]
    }
   ],
   "source": [
    "def pow2(x):\n",
    "    return(x**2)\n",
    "\n",
    "l1 = list(range(6))\n",
    "l2 = list(map(pow2,l1)) #applica pow2 a tutti gli elementi della lista\n",
    "print(l1)\n",
    "print(l2)"
   ]
  },
  {
   "cell_type": "markdown",
   "metadata": {},
   "source": [
    "Quando si utilizzano **map** e **filter**, tornano particolarmente utili le funzioni anonime, che ci permettono di scrivere in maniera più compatta. Ad esempio, possiamo riscrivere quanto visto sopra come segue:"
   ]
  },
  {
   "cell_type": "code",
   "execution_count": 116,
   "metadata": {},
   "outputs": [
    {
     "name": "stdout",
     "output_type": "stream",
     "text": [
      "[0, 1, 4, 9, 16, 25]\n"
     ]
    }
   ],
   "source": [
    "l2 = list(map(lambda x: x**2, l1))\n",
    "print(l2)"
   ]
  },
  {
   "cell_type": "markdown",
   "metadata": {},
   "source": [
    "**Filter** permette di selezionare un sottoinsieme degli elementi di una lista sulla base di una condizione. La condizione viene specificata passando una funzione che prende in input l'elemento della lista e restituisce un booleano:"
   ]
  },
  {
   "cell_type": "code",
   "execution_count": 117,
   "metadata": {},
   "outputs": [
    {
     "name": "stdout",
     "output_type": "stream",
     "text": [
      "[0, 2, 4]\n"
     ]
    }
   ],
   "source": [
    "print(list(filter(lambda x: x%2==0,l1))) #filtra solo i numeri pari"
   ]
  },
  {
   "cell_type": "markdown",
   "metadata": {},
   "source": [
    "## 1.15 Programmazione Orientata agli Oggetti - Definizione di Classi"
   ]
  },
  {
   "cell_type": "markdown",
   "metadata": {},
   "source": [
    "La programmazione orientata agli oggetti in Python è intuitiva. Le principali differenze rispetto ai più diffusi linguaggi di programmazione orientata agli oggetti sono le seguenti:\n",
    " * non esistono i modificatori di visibilità (**private**, **protected** e **public**). Per convenzione, tutti i simboli privati vanno preceduti da \"\\_\\_\";\n",
    " * ogni metodo è una funzione con un argomento di default (**self**) che rappresenta lo stato dell'oggetto;\n",
    " * il costruttore si chiama \"\\_\\_init\\_\\_\"."
   ]
  },
  {
   "cell_type": "code",
   "execution_count": 118,
   "metadata": {},
   "outputs": [
    {
     "name": "stdout",
     "output_type": "stream",
     "text": [
      "3\n",
      "27\n",
      "729\n"
     ]
    }
   ],
   "source": [
    "class Classe(object): #ereditiamo dalla classe standard \"object\"\n",
    "    def __init__(self, x): #costruttore\n",
    "        self.x=x #inserisco il valore x nello stato dell'oggetto\n",
    "    \n",
    "    def prt(self):\n",
    "        print(self.x)\n",
    "    \n",
    "    def power(self,y=2):\n",
    "        self.x =  self.x**y\n",
    "        \n",
    "c = Classe(3)\n",
    "c.prt()\n",
    "c.power(3)\n",
    "c.prt()\n",
    "c.power()\n",
    "c.prt()"
   ]
  },
  {
   "cell_type": "markdown",
   "metadata": {},
   "source": [
    "Per estendere una classe, si fa come segue:"
   ]
  },
  {
   "cell_type": "code",
   "execution_count": 119,
   "metadata": {},
   "outputs": [
    {
     "name": "stdout",
     "output_type": "stream",
     "text": [
      "yeah 4\n"
     ]
    }
   ],
   "source": [
    "class Classe2(Classe): #derivo la classe \"Classe\" ed eredito metodi e proprietà\n",
    "    def __init__(self,x):\n",
    "        super(Classe2, self).__init__(x) #chiamo il costruttore della classe madre\n",
    "    def prt(self): #ridefinisco il metodo prt\n",
    "        print(\"yeah\",self.x)\n",
    "        \n",
    "c2 = Classe2(2)\n",
    "c2.power()\n",
    "c2.prt()"
   ]
  },
  {
   "cell_type": "markdown",
   "metadata": {},
   "source": [
    "## 1.16 Duck Typing\n",
    "\n",
    "Per identificare i tipi dei dati, Python segue il principio del <a href=\"https://en.wikipedia.org/wiki/Duck_typing\">duck typing</a>. Secondo tale principio, i tipi sono definiti utilizzando il _duck test_:\n",
    "\n",
    "<blockquote>If it looks like a duck, swims like a duck, and quacks like a duck, then it probably is a duck.</blockquote>\n",
    "\n",
    "Ciò significa che i tipi sono definiti in relazione alle operazioni che possono essere eseguite su di essi. Vediamo un esempio (preso da Wikipedia)."
   ]
  },
  {
   "cell_type": "code",
   "execution_count": 120,
   "metadata": {},
   "outputs": [
    {
     "name": "stdout",
     "output_type": "stream",
     "text": [
      "Sparrow flying\n",
      "Airplane flying\n",
      "Error: 'Whale' object has no attribute 'fly'\n"
     ]
    }
   ],
   "source": [
    "class Sparrow(object):\n",
    "    def fly(self):\n",
    "        print(\"Sparrow flying\")\n",
    "\n",
    "class Airplane(object):\n",
    "    def fly(self):\n",
    "        print(\"Airplane flying\")\n",
    "\n",
    "class Whale(object):\n",
    "    def swim(self):\n",
    "        print(\"Whale swimming\")\n",
    "\n",
    "def lift_off(entity):\n",
    "    entity.fly()\n",
    "\n",
    "sparrow = Sparrow()\n",
    "airplane = Airplane()\n",
    "whale = Whale()\n",
    "\n",
    "try:\n",
    "    lift_off(sparrow) \n",
    "    lift_off(airplane) \n",
    "    lift_off(whale) #Errore, il \"tipo\" di questo oggetto non permette di eseguire il metodo \"fly\". \n",
    "                    #Secondo il duck test, questo tipo è incompatibile\n",
    "except AttributeError as e:\n",
    "    print(\"Error:\",e)\n",
    "        "
   ]
  },
  {
   "cell_type": "markdown",
   "metadata": {},
   "source": [
    "## 1.17 Eccezioni\n",
    "In maniera simile a molti linguaggi moderni, Python supporta l'uso delle eccezioni. E' possibile catturare una eccezione con il costrutto `try - except`:"
   ]
  },
  {
   "cell_type": "code",
   "execution_count": 121,
   "metadata": {},
   "outputs": [
    {
     "name": "stdout",
     "output_type": "stream",
     "text": [
      "Houston, abbiamo un problema!\n"
     ]
    }
   ],
   "source": [
    "try:\n",
    "    5/0\n",
    "except:\n",
    "    print(\"Houston, abbiamo un problema!\")"
   ]
  },
  {
   "cell_type": "markdown",
   "metadata": {},
   "source": [
    "In Python, le eccezioni sono tipizzate. Possiamo decidere quali tipi di eccezioni catturare come segue:"
   ]
  },
  {
   "cell_type": "code",
   "execution_count": 122,
   "metadata": {},
   "outputs": [
    {
     "name": "stdout",
     "output_type": "stream",
     "text": [
      "Houston, abbiamo un problema!\n"
     ]
    }
   ],
   "source": [
    "try:\n",
    "    5/0\n",
    "except ZeroDivisionError:\n",
    "    print(\"Houston, abbiamo un problema!\")"
   ]
  },
  {
   "cell_type": "markdown",
   "metadata": {},
   "source": [
    "Possiamo avere accesso all'eccezione scatenata (ad esempio ottenere maggiori informazioni) come segue:"
   ]
  },
  {
   "cell_type": "code",
   "execution_count": 123,
   "metadata": {},
   "outputs": [
    {
     "name": "stdout",
     "output_type": "stream",
     "text": [
      "Houston, abbiamo un problema!\n",
      "division by zero\n"
     ]
    }
   ],
   "source": [
    "try:\n",
    "    5/0\n",
    "except ZeroDivisionError as e:\n",
    "    print(\"Houston, abbiamo un problema!\")\n",
    "    print(e)"
   ]
  },
  {
   "cell_type": "markdown",
   "metadata": {},
   "source": [
    "E' possibile lanciare una eccezione mediante `raise`:"
   ]
  },
  {
   "cell_type": "code",
   "execution_count": 124,
   "metadata": {},
   "outputs": [
    {
     "name": "stdout",
     "output_type": "stream",
     "text": [
      "Cannot divide by zero!\n"
     ]
    }
   ],
   "source": [
    "def div(x,y):\n",
    "    if y==0:\n",
    "        raise ZeroDivisionError(\"Cannot divide by zero!\")\n",
    "    else:\n",
    "        return x/y\n",
    "try:\n",
    "    div(5,2)\n",
    "    div(5,0)\n",
    "except Exception as e:\n",
    "    print(e)"
   ]
  },
  {
   "cell_type": "markdown",
   "metadata": {},
   "source": [
    "Possiamo definire nuove eccezioni estendendo la classe `Exception`:"
   ]
  },
  {
   "cell_type": "code",
   "execution_count": 125,
   "metadata": {},
   "outputs": [
    {
     "name": "stdout",
     "output_type": "stream",
     "text": [
      "Exception!\n"
     ]
    }
   ],
   "source": [
    "class MyException(Exception):\n",
    "    def __init__(self, message):\n",
    "        self.message = message\n",
    "\n",
    "try:\n",
    "    raise MyException(\"Exception!\")\n",
    "except Exception as e:\n",
    "    print(e)"
   ]
  },
  {
   "cell_type": "markdown",
   "metadata": {},
   "source": [
    "Un modo veloce e comodo per lanciare una eccezione (un AssertionError nello specifico) quando qualcosa va male, è utilizzare `assert`, che prende in input un booleano e, opzionalmente, un messaggio di errore. Il booleano va posto uguale a `False` se qualcosa è andato storto. Vediamo un esempio:"
   ]
  },
  {
   "cell_type": "code",
   "execution_count": 126,
   "metadata": {},
   "outputs": [
    {
     "name": "stdout",
     "output_type": "stream",
     "text": [
      "Assert failed\n"
     ]
    }
   ],
   "source": [
    "def div(x,y):\n",
    "    assert y!=0, \"Cannot divide by zero!\"\n",
    "    return x/y\n",
    "\n",
    "try:\n",
    "    div(5,2)\n",
    "    div(5,0)\n",
    "except:\n",
    "    print('Assert failed')"
   ]
  },
  {
   "cell_type": "markdown",
   "metadata": {},
   "source": [
    "## 1.18 Definizione di Moduli\n",
    "Quando si costruiscono programmi complessi, può essere utile raggruppare le definizioni di funzione e classi in moduli. Il modo più semplice di definire un modulo in Python consiste nell'inserire le definizioni all'interno di un file apposito `modulo.py`. Le definizioni potranno poi essere importati mediante la sintassi `from modulo import funzione`, a patto che il file che richiama le funzioni e quello che definisce il modulo si trovino nella stessa cartella. Vediamo un esempio:\n",
    "\n",
    "```python\n",
    "#file modulo.py\n",
    "def mysum(a,b):\n",
    "    return a+b\n",
    "\n",
    "def myprod(a,b):\n",
    "    return a*b\n",
    "```\n",
    "\n",
    "```python\n",
    "#file main.py (stessa cartella di modulo.py)\n",
    "from modulo import mysum, myprod\n",
    "print(mysum(2,3)) #5\n",
    "print(myprod(2,3)) #6\n",
    "```"
   ]
  },
  {
   "cell_type": "markdown",
   "metadata": {},
   "source": [
    "Altre informazioni su usi più avanzati di moduli e pacchetti possono essere reperite qui: https://docs.python.org/3/tutorial/modules.html."
   ]
  },
  {
   "cell_type": "markdown",
   "metadata": {},
   "source": [
    "# 2 Numpy\n",
    "\n",
    "**Numpy** è la libreria di riferimento di **scipy** per il calcolo scientifico. Il cuore della libreria è costituito dai **numpy array** che permettono di gestire agevolmente operazioni tra vettori e matrici. Gli array di Python sono in generale **tensori**, ovvero strutture numeriche dal numero di dimensioni variabili, che possono dunque essere array monodimensionali, matrici bidimensionali, o strutture a più dimensioni (es. cuboidi 10 x 10 x 10). Per utilizzare gli array di numpy, dobbiamo prima importare il pacchetto **numpy**:"
   ]
  },
  {
   "cell_type": "code",
   "execution_count": 127,
   "metadata": {},
   "outputs": [],
   "source": [
    "import numpy as np #la notazione \"as\" ci permette di referenziare il namespace numpy semplicemente con np in futuro"
   ]
  },
  {
   "cell_type": "markdown",
   "metadata": {},
   "source": [
    "## 2.1 Numpy Arrays\n",
    "Un array multidimensionale di numpy può essere definito a partire da una lista di liste, come segue:"
   ]
  },
  {
   "cell_type": "code",
   "execution_count": 128,
   "metadata": {},
   "outputs": [
    {
     "name": "stdout",
     "output_type": "stream",
     "text": [
      "List of lists: [[1, 2, 3], [4, 5, 2], [1, 8, 3]]\n",
      "Numpy array:\n",
      " [[1 2 3]\n",
      " [4 5 2]\n",
      " [1 8 3]]\n",
      "Numpy array from tuple:\n",
      " [[1 2 3]\n",
      " [4 5 6]]\n"
     ]
    }
   ],
   "source": [
    "l = [[1,2,3],[4,5,2],[1,8,3]] #una lista contenente tre liste\n",
    "print(\"List of lists:\",l) #viene visualizzata così come l'abbiamo definita\n",
    "a = np.array(l) #costruisco un array di numpy a partire dalla lista di liste\n",
    "print(\"Numpy array:\\n\",a) #ogni lista interna viene identificata come una riga di una matrice bidimensionale\n",
    "print(\"Numpy array from tuple:\\n\",np.array(((1,2,3),(4,5,6)))) #posso creare numpy array anche da tuple"
   ]
  },
  {
   "cell_type": "markdown",
   "metadata": {},
   "source": [
    "Ogni array di numpy ha una proprietà _shape_ che ci permette di determinare il numero di dimensioni della struttura:"
   ]
  },
  {
   "cell_type": "code",
   "execution_count": 129,
   "metadata": {},
   "outputs": [
    {
     "name": "stdout",
     "output_type": "stream",
     "text": [
      "(3, 3)\n"
     ]
    }
   ],
   "source": [
    "print(a.shape) #si tratta di una matrice 3 x 3"
   ]
  },
  {
   "cell_type": "markdown",
   "metadata": {},
   "source": [
    "Vediamo qualche altro esempio"
   ]
  },
  {
   "cell_type": "code",
   "execution_count": 130,
   "metadata": {},
   "outputs": [
    {
     "name": "stdout",
     "output_type": "stream",
     "text": [
      "Array: [1 2 3 4] (4,)\n",
      "Matrix:\n",
      " [[1 2 3 4]\n",
      " [5 4 2 3]\n",
      " [7 5 3 2]\n",
      " [0 2 3 1]] (4, 4)\n",
      "matrix:\n",
      " [[['1' '2' '3' '4']\n",
      "  ['a' 'b' 'c' 'd']]\n",
      "\n",
      " [['5' '4' '2' '3']\n",
      "  ['a' 'b' 'c' 'd']]\n",
      "\n",
      " [['7' '5' '3' '2']\n",
      "  ['a' 'b' 'c' 'd']]\n",
      "\n",
      " [['0' '2' '3' '1']\n",
      "  ['a' 'b' 'c' 'd']]] (4, 2, 4)\n"
     ]
    }
   ],
   "source": [
    "array = np.array([1,2,3,4]) \n",
    "matrice = np.array([[1,2,3,4],[5,4,2,3],[7,5,3,2],[0,2,3,1]]) \n",
    "tensore = np.array([[[1,2,3,4],['a','b','c','d']],[[5,4,2,3],['a','b','c','d']],[[7,5,3,2],['a','b','c','d']],[[0,2,3,1],['a','b','c','d']]]) \n",
    "print('Array:',array, array.shape) #array monodimensionale, avrà una sola dimensione\n",
    "print('Matrix:\\n',matrice, matrice.shape)\n",
    "print('matrix:\\n',tensore, tensore.shape) #tensore, avrà due dimensioni"
   ]
  },
  {
   "cell_type": "markdown",
   "metadata": {},
   "source": [
    "Vediamo qualche operazione tra numpy array:"
   ]
  },
  {
   "cell_type": "code",
   "execution_count": 131,
   "metadata": {},
   "outputs": [
    {
     "name": "stdout",
     "output_type": "stream",
     "text": [
      "Sum: [ 5  5 11  5]\n",
      "Elementwise multiplication: [ 4  6 24  4]\n",
      "Power of two: [ 1  4  9 16]\n",
      "Elementwise power: [   1    8 6561    4]\n",
      "Vector product: 38\n",
      "Minimum: 1\n",
      "Maximum: 4\n",
      "Sum: 16\n",
      "Product: 96\n",
      "Mean: 2.5\n"
     ]
    }
   ],
   "source": [
    "a1 = np.array([1,2,3,4]) \n",
    "a2 = np.array([4,3,8,1]) \n",
    "print(\"Sum:\",a1+a2) #somma tra vettori\n",
    "print(\"Elementwise multiplication:\",a1*a2) #moltiplicazione tra elementi corrispondenti\n",
    "print(\"Power of two:\",a1**2) #quadrato degli elementi\n",
    "print(\"Elementwise power:\",a1**a2) #elevamento a potenza elemento per elemento\n",
    "print(\"Vector product:\",a1.dot(a2)) #prodotto vettoriale\n",
    "print(\"Minimum:\",a1.min()) #minimo dell'array\n",
    "print(\"Maximum:\",a1.max()) #massimo dell'array\n",
    "print(\"Sum:\",a2.sum()) #somma di tutti i valori dell'array\n",
    "print(\"Product:\",a2.prod()) #prodotto di tutti i valori dell'array\n",
    "print(\"Mean:\",a1.mean()) #media di tutti i valori dell'array"
   ]
  },
  {
   "cell_type": "markdown",
   "metadata": {},
   "source": [
    "Operazioni tra matrici:"
   ]
  },
  {
   "cell_type": "code",
   "execution_count": 132,
   "metadata": {},
   "outputs": [
    {
     "name": "stdout",
     "output_type": "stream",
     "text": [
      "Sum: [[ 9  4  4  8]\n",
      " [ 5  8  8  4]\n",
      " [11  9  5  2]\n",
      " [ 0  3 11  7]]\n",
      "Elementwise product:\n",
      " [[ 8  4  3 16]\n",
      " [ 0 16 12  3]\n",
      " [28 20  6  0]\n",
      " [ 0  2 24  6]]\n",
      "Power of two:\n",
      " [[ 1  4  9 16]\n",
      " [25 16  4  9]\n",
      " [49 25  9  4]\n",
      " [ 0  4  9  1]]\n",
      "Elementwise power:\n",
      " [[   1    4    3  256]\n",
      " [   1  256   64    3]\n",
      " [2401  625    9    1]\n",
      " [   1    2 6561    1]]\n",
      "Matrix multiplication:\n",
      " [[20 26 51 30]\n",
      " [48 37 57 42]\n",
      " [68 48 59 45]\n",
      " [12 21 26  8]]\n",
      "Minimum: 0\n",
      "Maximum: 7\n",
      "Minimum along columns: [0 2 2 1]\n",
      "Minimum along rows: [1 2 2 0]\n",
      "Sum: 47\n",
      "Mean: 2.9375\n",
      "Diagonal: [1 4 3 1]\n",
      "Transposed:\n",
      " [[1 5 7 0]\n",
      " [2 4 5 2]\n",
      " [3 2 3 3]\n",
      " [4 3 2 1]]\n"
     ]
    }
   ],
   "source": [
    "m1 = np.array([[1,2,3,4],[5,4,2,3],[7,5,3,2],[0,2,3,1]]) \n",
    "m2 = np.array([[8,2,1,4],[0,4,6,1],[4,4,2,0],[0,1,8,6]]) \n",
    "\n",
    "print(\"Sum:\",m1+m2) #somma tra matrici\n",
    "print(\"Elementwise product:\\n\",m1*m2) #prodotto elemento per elemento\n",
    "print(\"Power of two:\\n\",m1**2) #quadrato degli elementi\n",
    "print(\"Elementwise power:\\n\",m1**m2) #elevamento a potenza elemento per elemento\n",
    "print(\"Matrix multiplication:\\n\",m1.dot(m2)) #prodotto matriciale\n",
    "print(\"Minimum:\",m1.min()) #minimo\n",
    "print(\"Maximum:\",m1.max()) #massimo\n",
    "print(\"Minimum along columns:\",m1.min(0)) #minimo per colonne\n",
    "print(\"Minimum along rows:\",m1.min(1)) #minimo per righe\n",
    "print(\"Sum:\",m1.sum()) #somma dei valori\n",
    "print(\"Mean:\",m1.mean()) #valore medio\n",
    "print(\"Diagonal:\",m1.diagonal()) #diagonale principale della matrice\n",
    "print(\"Transposed:\\n\",m1.T) #matrice trasposta"
   ]
  },
  {
   "cell_type": "markdown",
   "metadata": {},
   "source": [
    "## 2.2 Linspace, Arange, Zeros, Ones, Eye e Random\n",
    "\n",
    "Le funzioni **linspace**, **arange**, **zeros**, **ones**, **eye** e **random** di **numpy** sono utili a generare array numerici al volo. In particolare, la funzione **linspace**, permette di generare una sequenza di **n** numeri equispaziati che vanno da un valore minimo a un valore massimo:"
   ]
  },
  {
   "cell_type": "code",
   "execution_count": 133,
   "metadata": {},
   "outputs": [
    {
     "name": "stdout",
     "output_type": "stream",
     "text": [
      "[10.  12.5 15.  17.5 20. ]\n"
     ]
    }
   ],
   "source": [
    "a=np.linspace(10,20,5) # genera 5 valori equispaziati che vanno da 10 a 20\n",
    "print(a)"
   ]
  },
  {
   "cell_type": "markdown",
   "metadata": {},
   "source": [
    "**arange** è molto simile a **range**, ma restituisce direttamente un array di **numpy**:"
   ]
  },
  {
   "cell_type": "code",
   "execution_count": 134,
   "metadata": {},
   "outputs": [
    {
     "name": "stdout",
     "output_type": "stream",
     "text": [
      "[0 1 2 3 4 5 6 7 8 9]\n",
      "[1 2 3 4 5]\n",
      "[0 2 4 6]\n"
     ]
    }
   ],
   "source": [
    "print(np.arange(10)) #numeri da 0 a 9\n",
    "print(np.arange(1,6)) #numeri da 1 a 5\n",
    "print(np.arange(0,7,2)) #numeri pari da 0 a 6"
   ]
  },
  {
   "cell_type": "markdown",
   "metadata": {},
   "source": [
    "Possiamo creare array contenenti zero o uno di forme arbitrarie mediante **zeros** e **ones**:"
   ]
  },
  {
   "cell_type": "code",
   "execution_count": 135,
   "metadata": {},
   "outputs": [
    {
     "name": "stdout",
     "output_type": "stream",
     "text": [
      "[[0. 0. 0. 0.]\n",
      " [0. 0. 0. 0.]\n",
      " [0. 0. 0. 0.]]\n",
      "[[1.]\n",
      " [1.]]\n"
     ]
    }
   ],
   "source": [
    "print(np.zeros((3,4)))#zeros e ones prendono come parametro una tupla contenente le dimensioni desiderate\n",
    "print(np.ones((2,1)))"
   ]
  },
  {
   "cell_type": "markdown",
   "metadata": {},
   "source": [
    "La funzione **eye** permette di creare una matrice quadrata identità:"
   ]
  },
  {
   "cell_type": "code",
   "execution_count": 136,
   "metadata": {},
   "outputs": [
    {
     "name": "stdout",
     "output_type": "stream",
     "text": [
      "[[1. 0. 0.]\n",
      " [0. 1. 0.]\n",
      " [0. 0. 1.]]\n",
      "[[1. 0. 0. 0. 0.]\n",
      " [0. 1. 0. 0. 0.]\n",
      " [0. 0. 1. 0. 0.]\n",
      " [0. 0. 0. 1. 0.]\n",
      " [0. 0. 0. 0. 1.]]\n"
     ]
    }
   ],
   "source": [
    "print(np.eye(3))\n",
    "print(np.eye(5))"
   ]
  },
  {
   "cell_type": "markdown",
   "metadata": {},
   "source": [
    "Per costruire un array di valori casuali (distribuzione uniforme) tra 0 e 1 (zero incluso, uno escluso), basta scrivere:"
   ]
  },
  {
   "cell_type": "code",
   "execution_count": 137,
   "metadata": {},
   "outputs": [
    {
     "name": "stdout",
     "output_type": "stream",
     "text": [
      "[0.04940046 0.36590481 0.02036412 0.78869353 0.44060789]\n",
      "[[0.17506439 0.5868475 ]\n",
      " [0.41717659 0.84880194]\n",
      " [0.61327861 0.60715505]]\n"
     ]
    }
   ],
   "source": [
    "print(np.random.rand(5)) #un array con 5 valori casuali tra 0 e 1\n",
    "print(np.random.rand(3,2)) #una matrice 3x2 di valori casuali tra 0 e 1"
   ]
  },
  {
   "cell_type": "markdown",
   "metadata": {},
   "source": [
    "Possiamo generare un array di valori casuali distribuiti in maniera normale (Gaussiana) con **randn**:"
   ]
  },
  {
   "cell_type": "code",
   "execution_count": 138,
   "metadata": {},
   "outputs": [
    {
     "name": "stdout",
     "output_type": "stream",
     "text": [
      "[[-0.49148359 -0.75496029]\n",
      " [ 2.32634058  0.33077592]\n",
      " [ 0.38333046  0.35814408]\n",
      " [ 0.017981    1.03952501]\n",
      " [-2.2090141  -0.10050881]]\n"
     ]
    }
   ],
   "source": [
    "print(np.random.randn(5,2))"
   ]
  },
  {
   "cell_type": "markdown",
   "metadata": {},
   "source": [
    "Possiamo generare numeri interi compresi tra un minimo (incluso) e un massimo (escluso) usando **randint**:"
   ]
  },
  {
   "cell_type": "code",
   "execution_count": 139,
   "metadata": {},
   "outputs": [
    {
     "name": "stdout",
     "output_type": "stream",
     "text": [
      "[33 19 42]\n",
      "[[28 44 19]\n",
      " [38 41 20]]\n"
     ]
    }
   ],
   "source": [
    "print(np.random.randint(0,50,3))#tre valori compresi tra 0 e 50 (escluso)\n",
    "print(np.random.randint(0,50,(2,3)))#matrice 2x3 di valori interi casuali tra 0 e 50 (escluso)"
   ]
  },
  {
   "cell_type": "markdown",
   "metadata": {},
   "source": [
    "Per generare valori casuali in maniera replicabile, è possibile specificare un seed:"
   ]
  },
  {
   "cell_type": "code",
   "execution_count": 140,
   "metadata": {},
   "outputs": [
    {
     "name": "stdout",
     "output_type": "stream",
     "text": [
      "[0.69646919 0.28613933 0.22685145 0.55131477 0.71946897]\n"
     ]
    }
   ],
   "source": [
    "np.random.seed(123)\n",
    "print(np.random.rand(5))"
   ]
  },
  {
   "cell_type": "markdown",
   "metadata": {},
   "source": [
    "Il codice sopra (inclusa la definizione del seed) restituisce gli stessi risultati se rieseguito:"
   ]
  },
  {
   "cell_type": "code",
   "execution_count": 141,
   "metadata": {},
   "outputs": [
    {
     "name": "stdout",
     "output_type": "stream",
     "text": [
      "[0.69646919 0.28613933 0.22685145 0.55131477 0.71946897]\n"
     ]
    }
   ],
   "source": [
    "np.random.seed(123)\n",
    "print(np.random.rand(5))"
   ]
  },
  {
   "cell_type": "markdown",
   "metadata": {},
   "source": [
    "## 2.3 max, min, sum, argmax, argmin"
   ]
  },
  {
   "cell_type": "markdown",
   "metadata": {},
   "source": [
    "È possibile calcolare massimi e minimi e somme di una matrice per righe e colonne come segue:"
   ]
  },
  {
   "cell_type": "code",
   "execution_count": 142,
   "metadata": {},
   "outputs": [
    {
     "name": "stdout",
     "output_type": "stream",
     "text": [
      "[[  1  -5   0]\n",
      " [  4   3   6]\n",
      " [  5   8  -7]\n",
      " [ 10   6 -12]]\n",
      "\n",
      "[10  8  6]\n",
      "\n",
      "[ 1  6  8 10]\n",
      "\n",
      "[  1  -5 -12]\n",
      "\n",
      "[ -5   3  -7 -12]\n",
      "\n",
      "[ 20  12 -13]\n",
      "\n",
      "[-4 13  6  4]\n",
      "\n",
      "10\n",
      "-12\n",
      "19\n"
     ]
    }
   ],
   "source": [
    "mat = np.array([[1,-5,0],[4,3,6],[5,8,-7],[10,6,-12]])\n",
    "print(mat)\n",
    "print()\n",
    "print( mat.max(0))# massimi per colonne\n",
    "print()\n",
    "print(mat.max(1))# massimi per righe\n",
    "print()\n",
    "print (mat.min(0))# minimi per colonne\n",
    "print()\n",
    "print(mat.min(1))# minimi per righe\n",
    "print()\n",
    "print(mat.sum(0))# somma per colonne\n",
    "print()\n",
    "print(mat.sum(1))# somma per righe\n",
    "print()\n",
    "print(mat.max())# massimo globale\n",
    "print(mat.min())# minimo globale\n",
    "print(mat.sum())# somma globale"
   ]
  },
  {
   "cell_type": "markdown",
   "metadata": {},
   "source": [
    "È inoltre possibile ottenere gli indici in corrispondenza dei quali si hanno massimi e minimi usando la funzione argmax:"
   ]
  },
  {
   "cell_type": "code",
   "execution_count": 143,
   "metadata": {},
   "outputs": [
    {
     "name": "stdout",
     "output_type": "stream",
     "text": [
      "[3 2 1]\n"
     ]
    }
   ],
   "source": [
    "print(mat.argmax(0))"
   ]
  },
  {
   "cell_type": "markdown",
   "metadata": {},
   "source": [
    "Abbiamo un massimo alla quarta riga nella prima colonna, uno alla terza riga nella seconda colonna e uno alla seconda riga nella terza colonna. Verifichiamolo:"
   ]
  },
  {
   "cell_type": "code",
   "execution_count": 144,
   "metadata": {},
   "outputs": [
    {
     "name": "stdout",
     "output_type": "stream",
     "text": [
      "10\n",
      "8\n",
      "6\n",
      "[10  8  6]\n"
     ]
    }
   ],
   "source": [
    "print(mat[3,0])\n",
    "print(mat[2,1])\n",
    "print(mat[1,2])\n",
    "print(mat.max(0))"
   ]
  },
  {
   "cell_type": "markdown",
   "metadata": {},
   "source": [
    "Analogamente:"
   ]
  },
  {
   "cell_type": "code",
   "execution_count": 145,
   "metadata": {},
   "outputs": [
    {
     "name": "stdout",
     "output_type": "stream",
     "text": [
      "[0 2 1 0]\n",
      "[0 0 3]\n",
      "[1 1 2 2]\n"
     ]
    }
   ],
   "source": [
    "print(mat.argmax(1))\n",
    "print(mat.argmin(0))\n",
    "print(mat.argmin(1))"
   ]
  },
  {
   "cell_type": "markdown",
   "metadata": {},
   "source": [
    "## 2.4 Indicizzazione e Slicing\n",
    "Gli array di numpy possono essere indicizzati in maniera simile a quanto avviene per le liste di Python:"
   ]
  },
  {
   "cell_type": "code",
   "execution_count": 146,
   "metadata": {},
   "outputs": [
    {
     "name": "stdout",
     "output_type": "stream",
     "text": [
      "arr[0]       -> 1\n",
      "arr[:3]      -> [1 2 3]\n",
      "arr[1:5:2]   -> [2 4]\n"
     ]
    }
   ],
   "source": [
    "arr = np.array([1,2,3,4,5])\n",
    "print(\"arr[0]       ->\",arr[0]) #primo elemento dell'array\n",
    "print(\"arr[:3]      ->\",arr[:3]) #primi tre elementi\n",
    "print(\"arr[1:5:2]   ->\",arr[1:4:2]) #dal secondo al quarto (incluso) a passo 2"
   ]
  },
  {
   "cell_type": "markdown",
   "metadata": {},
   "source": [
    "Quando si indicizza un array a più di una dimensioni con un unico indice, viene in automatico indicizzata la prima dimensione. Vediamo qualche esempio con le matrici bidimensionali:"
   ]
  },
  {
   "cell_type": "code",
   "execution_count": 147,
   "metadata": {},
   "outputs": [
    {
     "name": "stdout",
     "output_type": "stream",
     "text": [
      "Matrice:\n",
      " [[1 5 2 7]\n",
      " [2 7 3 2]\n",
      " [1 5 2 1]] (3, 4)\n",
      "mat[0]     -> [1 5 2 7]\n",
      "mat[-1]     -> [1 5 2 1]\n",
      "mat[::2]     -> [[1 5 2 7]\n",
      " [1 5 2 1]]\n"
     ]
    }
   ],
   "source": [
    "mat = np.array(([1,5,2,7],[2,7,3,2],[1,5,2,1])) \n",
    "print(\"Matrice:\\n\",mat,mat.shape) #matrice 3 x 4\n",
    "print(\"mat[0]     ->\",mat[0]) #una matrice è una collezione di righe, per cui mat[0] restituisce la prima riga\n",
    "print(\"mat[-1]     ->\",mat[-1]) #ultima riga\n",
    "print(\"mat[::2]     ->\",mat[::2]) #righe dispari"
   ]
  },
  {
   "cell_type": "markdown",
   "metadata": {},
   "source": [
    "Vediamo qualche esempio con tensori a più dimensioni:"
   ]
  },
  {
   "cell_type": "code",
   "execution_count": 148,
   "metadata": {},
   "outputs": [
    {
     "name": "stdout",
     "output_type": "stream",
     "text": [
      "Matrice:\n",
      " [[[1 5 2 7]\n",
      "  [2 7 3 2]\n",
      "  [1 5 2 1]]\n",
      "\n",
      " [[1 5 2 7]\n",
      "  [2 7 3 2]\n",
      "  [1 5 2 1]]] (2, 3, 4)\n",
      "tens[0]    -> [[1 5 2 7]\n",
      " [2 7 3 2]\n",
      " [1 5 2 1]]\n",
      "tens[-1]    -> [[1 5 2 7]\n",
      " [2 7 3 2]\n",
      " [1 5 2 1]]\n"
     ]
    }
   ],
   "source": [
    "tens = np.array(([[1,5,2,7],\n",
    "                [2,7,3,2],\n",
    "                [1,5,2,1]],\n",
    "                [[1,5,2,7],\n",
    "                [2,7,3,2],\n",
    "                [1,5,2,1]])) \n",
    "print(\"Matrice:\\n\",tens,tens.shape) #tensore 2x3x4\n",
    "print(\"tens[0]    ->\",tens[0])#si tratta della prima matrice 3x4\n",
    "print(\"tens[-1]    ->\",tens[-1])#ultima mtraice 3x4"
   ]
  },
  {
   "cell_type": "markdown",
   "metadata": {},
   "source": [
    "L'indicizzazione può proseguire attraverso le altre dimensioni specificando un ulteriore indice in parentesi quadre o separando i vari indici con la virgola:"
   ]
  },
  {
   "cell_type": "code",
   "execution_count": 149,
   "metadata": {},
   "outputs": [
    {
     "name": "stdout",
     "output_type": "stream",
     "text": [
      "Matrice:\n",
      " [[1 5 2 7]\n",
      " [2 7 3 2]\n",
      " [1 5 2 1]] (3, 4)\n",
      "mat[2][1]  -> 5\n",
      "mat[0,0]   -> 1\n",
      "mat[0]     ->  [1 5 2 7]\n",
      "mat[:,0]   ->  [1 2 1]\n",
      "mat[0,:]   -> [1 5 2 7]\n",
      "mat[0:2,:] ->\n",
      " [[1 5 2 7]\n",
      " [2 7 3 2]]\n",
      "mat[:,0:2] ->\n",
      " [[1 5]\n",
      " [2 7]\n",
      " [1 5]]\n",
      "mat[-1]    -> [1 5 2 1]\n"
     ]
    }
   ],
   "source": [
    "mat = np.array(([1,5,2,7],[2,7,3,2],[1,5,2,1])) \n",
    "print(\"Matrice:\\n\",mat,mat.shape) #matrice 3 x 4\n",
    "print(\"mat[2][1]  ->\",mat[2][1]) #terza riga, seconda colonna\n",
    "print(\"mat[0,0]   ->\",mat[0,0]) #prima riga, prima colonna (notazione più compatta)\n",
    "\n",
    "print(\"mat[0]     -> \",mat[0]) #restituisce l'intera prima riga della matrice\n",
    "print(\"mat[:,0]   -> \",mat[:,0]) #restituisce la prima colonna della matrice. \n",
    "                                #I due punti \":\" significano \"lascia tutto inalterato lungo questa dimensione\"\n",
    "print(\"mat[0,:]   ->\",mat[0,:]) #notazione alternativa per ottenere la prima riga della matrice\n",
    "print(\"mat[0:2,:] ->\\n\",mat[0:2,:]) #prime due righe\n",
    "print(\"mat[:,0:2] ->\\n\",mat[:,0:2]) #prime due colonne\n",
    "print(\"mat[-1]    ->\",mat[-1]) #ultima riga"
   ]
  },
  {
   "cell_type": "markdown",
   "metadata": {},
   "source": [
    "Caso di tensori a più dimensioni:"
   ]
  },
  {
   "cell_type": "code",
   "execution_count": 150,
   "metadata": {},
   "outputs": [
    {
     "name": "stdout",
     "output_type": "stream",
     "text": [
      "mat[:,:,0] -> [['1' 'a']\n",
      " ['5' 'a']\n",
      " ['7' 'a']\n",
      " ['0' 'a']]\n",
      "mat[:,:,1] -> [['2' 'b']\n",
      " ['4' 'b']\n",
      " ['5' 'b']\n",
      " ['2' 'b']]\n",
      "mat[...,0] -> [['1' 'a']\n",
      " ['5' 'a']\n",
      " ['7' 'a']\n",
      " ['0' 'a']]\n",
      "mat[...,1] -> [['2' 'b']\n",
      " ['4' 'b']\n",
      " ['5' 'b']\n",
      " ['2' 'b']]\n"
     ]
    }
   ],
   "source": [
    "mat=np.array([[[1,2,3,4],['a','b','c','d']],\n",
    "              [[5,4,2,3],['a','b','c','d']],\n",
    "              [[7,5,3,2],['a','b','c','d']],\n",
    "              [[0,2,3,1],['a','b','c','d']]]) \n",
    "print(\"mat[:,:,0] ->\", mat[:,:,0]) #matrice 3 x 3 contenuta nel \"primo canale\" del tensore\n",
    "print(\"mat[:,:,1] ->\",mat[:,:,1]) #matrice 3 x 3 contenuta nel \"secondo canale\" del tensore\n",
    "print(\"mat[...,0] ->\", mat[...,0]) #matrice 3 x 3 contenuta nel \"primo canale\" del tensore (notazione alternativa)\n",
    "print(\"mat[...,1] ->\",mat[...,1]) #matrice 3 x 3 contenuta nel \"secondo canale\" del tensore (notazione alternativa)\n",
    "#la notazione \"...\" serve a dire \"lascia tutto invariato lungo le dimensioni omesse\""
   ]
  },
  {
   "cell_type": "markdown",
   "metadata": {},
   "source": [
    "In genere, quando da un array si estrae un sottoinsieme di dati, si parla di **slicing**."
   ]
  },
  {
   "cell_type": "markdown",
   "metadata": {},
   "source": [
    "## 2.4.1 Indicizzazione e Slicing Logici\n",
    "\n",
    "In numpy è inoltre possibile indicizzare gli array in maniera \"logica\", ovvero passando come indici un array di valori booleani. Ad esempio, se vogliamo selezionare il primo e il terzo valore di un array, dobbiamo passare come indici l'array `[True, False, True]`:"
   ]
  },
  {
   "cell_type": "code",
   "execution_count": 151,
   "metadata": {},
   "outputs": [
    {
     "name": "stdout",
     "output_type": "stream",
     "text": [
      "[1 3]\n",
      "[2]\n"
     ]
    }
   ],
   "source": [
    "x = np.array([1,2,3])\n",
    "print(x[np.array([True,False,True])]) #per selezionare solo 1 e 3\n",
    "print(x[np.array([False,True,False])]) #per selezionare solo 2"
   ]
  },
  {
   "cell_type": "markdown",
   "metadata": {},
   "source": [
    "L'indicizzazione logica è molto utile se combinata alla possibilità di costruire array logici \"al volo\" specificando una condizione che gli elementi di un array possono o non possono soddisfare. Ad esempio:"
   ]
  },
  {
   "cell_type": "code",
   "execution_count": 152,
   "metadata": {},
   "outputs": [
    {
     "name": "stdout",
     "output_type": "stream",
     "text": [
      "[0 1 2 3 4 5 6 7 8 9]\n",
      "[False False False  True  True  True  True  True  True  True]\n",
      "[False False False  True False False False False False False]\n"
     ]
    }
   ],
   "source": [
    "x = np.arange(10)\n",
    "print(x)\n",
    "print(x>2) #genera un array di valori booleani\n",
    "#che conterrà True in presenza dei valori di x\n",
    "#che verificano la condizione x>2\n",
    "print(x==3) #True solo in presenza del valore 3"
   ]
  },
  {
   "cell_type": "markdown",
   "metadata": {},
   "source": [
    "Unendo questi due principi, è semplice selezionare solo alcuni valori da un array, sulla base di una condizione:"
   ]
  },
  {
   "cell_type": "code",
   "execution_count": 153,
   "metadata": {},
   "outputs": [
    {
     "name": "stdout",
     "output_type": "stream",
     "text": [
      "[0 2 4 6 8]\n",
      "[1 3 5 7 9]\n",
      "[3 4 5 6 7 8 9]\n"
     ]
    }
   ],
   "source": [
    "x = np.arange(10)\n",
    "print(x[x%2==0]) #seleziona i valori pari\n",
    "print(x[x%2!=0]) #seleziona i valori dispari\n",
    "print(x[x>2]) #seleziona i valori maggiori di 2"
   ]
  },
  {
   "cell_type": "markdown",
   "metadata": {},
   "source": [
    "## 2.5 Reshape\n",
    "In alcuni casi può essere utile cambiare la \"shape\" di una matrice. Ad esempio, una matrice 3x2 può essere modificata riarrangiando gli elementi in modo da ottenere una matrice 2x3, una matrice 1x6 o una matrice 6x1. Ciò si può fare mediante il metodo \"reshape\":"
   ]
  },
  {
   "cell_type": "code",
   "execution_count": 154,
   "metadata": {},
   "outputs": [
    {
     "name": "stdout",
     "output_type": "stream",
     "text": [
      "[[1 2]\n",
      " [3 4]\n",
      " [5 6]]\n",
      "[[1 2 3]\n",
      " [4 5 6]]\n",
      "[[1 2 3 4 5 6]]\n",
      "[[1]\n",
      " [2]\n",
      " [3]\n",
      " [4]\n",
      " [5]\n",
      " [6]]\n",
      "[1 2 3 4 5 6]\n",
      "[1 2 3 4 5 6]\n"
     ]
    }
   ],
   "source": [
    "mat = np.array([[1,2],[3,4],[5,6]])\n",
    "print(mat)\n",
    "print(mat.reshape(2,3))\n",
    "print(mat.reshape(1,6))\n",
    "print(mat.reshape(6,1)) #matrice 6 x 1\n",
    "print(mat.reshape(6)) #vettore unidimensionale\n",
    "print(mat.ravel())#equivalente al precedente, ma aparametrico"
   ]
  },
  {
   "cell_type": "markdown",
   "metadata": {},
   "source": [
    "Notiamo che, se leggiamo per righe (da sinistra verso destra, dall'alto verso il basso), l'ordine degli elementi resta immutato. Possiamo anche lascire che numpy clacoli una delle dimensioni sostituendola con -1:"
   ]
  },
  {
   "cell_type": "code",
   "execution_count": 155,
   "metadata": {},
   "outputs": [
    {
     "name": "stdout",
     "output_type": "stream",
     "text": [
      "[[1 2 3]\n",
      " [4 5 6]]\n",
      "[[1 2 3 4 5 6]]\n"
     ]
    }
   ],
   "source": [
    "print(mat.reshape(2,-1))\n",
    "print(mat.reshape(-1,6))"
   ]
  },
  {
   "cell_type": "markdown",
   "metadata": {},
   "source": [
    "Reshape può prendere in input le singole dimensioni o una tupla contenente la shape. Nell'ultimo caso, risulta comodo fare operazioni di questo genere:"
   ]
  },
  {
   "cell_type": "code",
   "execution_count": 156,
   "metadata": {},
   "outputs": [
    {
     "name": "stdout",
     "output_type": "stream",
     "text": [
      "[[0.72904971 0.43857224]\n",
      " [0.0596779  0.39804426]\n",
      " [0.73799541 0.18249173]]\n"
     ]
    }
   ],
   "source": [
    "mat1 = np.random.rand(3,2)\n",
    "mat2 = np.random.rand(2,3)\n",
    "print(mat2.reshape(mat1.shape)) #diamo a mat2 la stessa shape di mat1"
   ]
  },
  {
   "cell_type": "markdown",
   "metadata": {},
   "source": [
    "## 2.6 Composizione di Array Mediante `concatenate` e `stack`\n",
    "Numpy permette di unire diversi array mediante due principali funzioni: `concatenate` e `vstack`. La funzione `concatenate` prende in input una lista (o tupla) di array e permette di concatenarli lungo una dimensione (`axis`) esistente specificata, che di default è pari a zero (concatenazione per righe):"
   ]
  },
  {
   "cell_type": "code",
   "execution_count": 157,
   "metadata": {},
   "outputs": [
    {
     "name": "stdout",
     "output_type": "stream",
     "text": [
      "[[0 1 2]\n",
      " [3 4 5]\n",
      " [6 7 8]] (3, 3) \n",
      "\n",
      "[[0 1 2]\n",
      " [3 4 5]\n",
      " [6 7 8]\n",
      " [0 1 2]\n",
      " [3 4 5]\n",
      " [6 7 8]] (6, 3) \n",
      "\n",
      "[[0 1 2]\n",
      " [3 4 5]\n",
      " [6 7 8]\n",
      " [0 1 2]\n",
      " [3 4 5]\n",
      " [6 7 8]\n",
      " [0 1 2]\n",
      " [3 4 5]\n",
      " [6 7 8]] (9, 3)\n"
     ]
    }
   ],
   "source": [
    "a=np.arange(9).reshape(3,3)\n",
    "print(a,a.shape,\"\\n\")\n",
    "cat=np.concatenate([a,a])\n",
    "print(cat,cat.shape,\"\\n\")\n",
    "cat2=np.concatenate([a,a,a])\n",
    "print(cat2,cat2.shape)"
   ]
  },
  {
   "cell_type": "markdown",
   "metadata": {},
   "source": [
    "E' possibile concatenare array su una dimensione diversa specificandola mediante il parametro `axis`:"
   ]
  },
  {
   "cell_type": "code",
   "execution_count": 158,
   "metadata": {},
   "outputs": [
    {
     "name": "stdout",
     "output_type": "stream",
     "text": [
      "[[0 1 2]\n",
      " [3 4 5]\n",
      " [6 7 8]] (3, 3) \n",
      "\n",
      "[[0 1 2 0 1 2]\n",
      " [3 4 5 3 4 5]\n",
      " [6 7 8 6 7 8]] (3, 6) \n",
      "\n",
      "[[0 1 2 0 1 2 0 1 2]\n",
      " [3 4 5 3 4 5 3 4 5]\n",
      " [6 7 8 6 7 8 6 7 8]] (3, 9)\n"
     ]
    }
   ],
   "source": [
    "a=np.arange(9).reshape(3,3)\n",
    "print(a,a.shape,\"\\n\")\n",
    "cat=np.concatenate([a,a], axis=1) #concatenazione per colonne\n",
    "print(cat,cat.shape,\"\\n\")\n",
    "cat2=np.concatenate([a,a,a], axis=1) #concatenazione per colonne\n",
    "print(cat2,cat2.shape)"
   ]
  },
  {
   "cell_type": "markdown",
   "metadata": {},
   "source": [
    "Affinché la concatenazione sia compatibile, gli array della lista devono avere lo stesso numero di dimensioni lungo quelle che **non vengono concatenate**:"
   ]
  },
  {
   "cell_type": "code",
   "execution_count": 159,
   "metadata": {},
   "outputs": [
    {
     "name": "stdout",
     "output_type": "stream",
     "text": [
      "(3, 6) (3, 3)\n"
     ]
    }
   ],
   "source": [
    "print(cat.shape,a.shape) #concatenazione lungo l'asse 0, le dimensioni lungo gli altri assi devono essere uguali"
   ]
  },
  {
   "cell_type": "markdown",
   "metadata": {},
   "source": [
    "La funzione `stack`, a differenza di `concatenate` permette di concatenare array lungo una nuova dimensione. Si confrontino gli output delle due funzioni:"
   ]
  },
  {
   "cell_type": "code",
   "execution_count": 160,
   "metadata": {},
   "outputs": [
    {
     "name": "stdout",
     "output_type": "stream",
     "text": [
      "[[0 1 2]\n",
      " [3 4 5]\n",
      " [6 7 8]\n",
      " [0 1 2]\n",
      " [3 4 5]\n",
      " [6 7 8]] (6, 3)\n",
      "[[[0 1 2]\n",
      "  [3 4 5]\n",
      "  [6 7 8]]\n",
      "\n",
      " [[0 1 2]\n",
      "  [3 4 5]\n",
      "  [6 7 8]]] (2, 3, 3)\n"
     ]
    }
   ],
   "source": [
    "cat=np.concatenate([a,a])\n",
    "print(cat,cat.shape)\n",
    "stack=np.stack([a,a])\n",
    "print(stack,stack.shape)"
   ]
  },
  {
   "cell_type": "markdown",
   "metadata": {},
   "source": [
    "Nel caso di `stack`, gli array sono stati concatenati lungo una nuova dimensione. E' possibile specificare dimensioni alternative come nel caso di `concatenate`:"
   ]
  },
  {
   "cell_type": "code",
   "execution_count": 161,
   "metadata": {},
   "outputs": [
    {
     "name": "stdout",
     "output_type": "stream",
     "text": [
      "[[[0 1 2]\n",
      "  [0 1 2]]\n",
      "\n",
      " [[3 4 5]\n",
      "  [3 4 5]]\n",
      "\n",
      " [[6 7 8]\n",
      "  [6 7 8]]] (3, 2, 3)\n"
     ]
    }
   ],
   "source": [
    "stack=np.stack([a,a],axis=1)\n",
    "print(stack,stack.shape)"
   ]
  },
  {
   "cell_type": "markdown",
   "metadata": {},
   "source": [
    "In questo caso, gli array sono stati concatenati lungo la seconda dimensione."
   ]
  },
  {
   "cell_type": "code",
   "execution_count": 162,
   "metadata": {},
   "outputs": [
    {
     "name": "stdout",
     "output_type": "stream",
     "text": [
      "[[[0 0]\n",
      "  [1 1]\n",
      "  [2 2]]\n",
      "\n",
      " [[3 3]\n",
      "  [4 4]\n",
      "  [5 5]]\n",
      "\n",
      " [[6 6]\n",
      "  [7 7]\n",
      "  [8 8]]] (3, 3, 2)\n"
     ]
    }
   ],
   "source": [
    "stack=np.stack([a,a],axis=2)\n",
    "print(stack,stack.shape)"
   ]
  },
  {
   "cell_type": "markdown",
   "metadata": {},
   "source": [
    "In questo caso, gli array sono stati concatenati lungo l'ultima dimensione."
   ]
  },
  {
   "cell_type": "markdown",
   "metadata": {},
   "source": [
    "## 2.7 Tipi\n",
    "Ogni array di numpy ha il suo tipo (si veda https://docs.scipy.org/doc/numpy-1.13.0/user/basics.types.html per la lista di tipi supportati). Possiamo vedere il tipo di un array ispezionando la proprietà dtype:"
   ]
  },
  {
   "cell_type": "code",
   "execution_count": 163,
   "metadata": {},
   "outputs": [
    {
     "name": "stdout",
     "output_type": "stream",
     "text": [
      "float64\n"
     ]
    }
   ],
   "source": [
    "print(mat1.dtype)"
   ]
  },
  {
   "cell_type": "markdown",
   "metadata": {},
   "source": [
    "Possiamo specificare il tipo in fase di costruzione dell'array:"
   ]
  },
  {
   "cell_type": "code",
   "execution_count": 164,
   "metadata": {},
   "outputs": [
    {
     "name": "stdout",
     "output_type": "stream",
     "text": [
      "int64\n"
     ]
    }
   ],
   "source": [
    "mat = np.array([[1,2,3],[4,5,6]],int)\n",
    "print(mat.dtype)"
   ]
  },
  {
   "cell_type": "markdown",
   "metadata": {},
   "source": [
    "Possiamo inoltre cambiare il tipo di un array al volo utilizzando `astype`. Questo è comodo ad esempio se vogliamo effettuare una divisione non intera:"
   ]
  },
  {
   "cell_type": "code",
   "execution_count": 165,
   "metadata": {},
   "outputs": [
    {
     "name": "stdout",
     "output_type": "stream",
     "text": [
      "[[0.5 1.  1.5]\n",
      " [2.  2.5 3. ]]\n",
      "[[0.5 1.  1.5]\n",
      " [2.  2.5 3. ]]\n"
     ]
    }
   ],
   "source": [
    "print(mat/2)\n",
    "print(mat.astype(float)/2)"
   ]
  },
  {
   "cell_type": "markdown",
   "metadata": {},
   "source": [
    "## 2.8 Gestione della Memoria in Numpy\n",
    "Numpy gestisce la memoria in maniera dinamica per questioni di efficienza. Pertanto, un assegnamento o una operazione di slicing, in genere **non creano una nuova copia dei dati**. Si consideri ad esempio questo codice:"
   ]
  },
  {
   "cell_type": "code",
   "execution_count": 166,
   "metadata": {},
   "outputs": [
    {
     "name": "stdout",
     "output_type": "stream",
     "text": [
      "[[1 2 3]\n",
      " [4 5 6]]\n",
      "[1 2]\n"
     ]
    }
   ],
   "source": [
    "a=np.array([[1,2,3],[4,5,6]])\n",
    "print(a)\n",
    "b=a[0,0:2]\n",
    "print(b)"
   ]
  },
  {
   "cell_type": "markdown",
   "metadata": {},
   "source": [
    "L'operazione di slicing `b=a[0,0:2]` ha solo permesso di ottenere una nuova \"vista\" di una parte di `a`, ma i dati non sono stati replicati in memoria. Pertanto, se modifichiamo un elemento di b, la modifica verrà applicata in realtà ad `a`:"
   ]
  },
  {
   "cell_type": "code",
   "execution_count": 167,
   "metadata": {},
   "outputs": [
    {
     "name": "stdout",
     "output_type": "stream",
     "text": [
      "[-1  2]\n",
      "[[-1  2  3]\n",
      " [ 4  5  6]]\n"
     ]
    }
   ],
   "source": [
    "b[0]=-1\n",
    "print(b)\n",
    "print(a)"
   ]
  },
  {
   "cell_type": "markdown",
   "metadata": {},
   "source": [
    "Per evitare questo genere di comportamenti, è possibile utilizzare il metodo `copy` che forza numpy a creare una nuova copia dei dati:"
   ]
  },
  {
   "cell_type": "code",
   "execution_count": 168,
   "metadata": {},
   "outputs": [
    {
     "name": "stdout",
     "output_type": "stream",
     "text": [
      "[[1 2 3]\n",
      " [4 5 6]]\n",
      "[1 2]\n",
      "[-1  2]\n",
      "[[1 2 3]\n",
      " [4 5 6]]\n"
     ]
    }
   ],
   "source": [
    "a=np.array([[1,2,3],[4,5,6]])\n",
    "print(a)\n",
    "b=a[0,0:2].copy()\n",
    "\n",
    "print(b)\n",
    "b[0]=-1\n",
    "print(b)\n",
    "print(a)"
   ]
  },
  {
   "cell_type": "markdown",
   "metadata": {},
   "source": [
    "In questa nuova versione del codice, `a` non viene più modificato alla modifica di `b`."
   ]
  },
  {
   "cell_type": "markdown",
   "metadata": {},
   "source": [
    "## 2.9 Broadcasting\n",
    "Numpy gestisce in maniera intelligente le operazioni tra array che presentano shape diverse sotto determinate condizioni. Vediamo un esempio pratico: supponiamo di avere una matrice $2\\times3$ e un array $1\\times3$:"
   ]
  },
  {
   "cell_type": "code",
   "execution_count": 169,
   "metadata": {},
   "outputs": [
    {
     "name": "stdout",
     "output_type": "stream",
     "text": [
      "[[1. 2. 3.]\n",
      " [4. 5. 6.]]\n",
      "[2 3 8]\n"
     ]
    }
   ],
   "source": [
    "mat=np.array([[1,2,3],[4,5,6]],dtype=np.float)\n",
    "arr=np.array([2,3,8])\n",
    "print(mat)\n",
    "print(arr)"
   ]
  },
  {
   "cell_type": "markdown",
   "metadata": {},
   "source": [
    "Supponiamo adesso di voler dividere, elemento per elemento, tutti i valori di ogni riga della matrice per i valori dell'array. Possiamo eseguire l'operazione richiesta mediante un ciclo for:"
   ]
  },
  {
   "cell_type": "code",
   "execution_count": 170,
   "metadata": {},
   "outputs": [
    {
     "name": "stdout",
     "output_type": "stream",
     "text": [
      "[[0.5        0.66666667 0.375     ]\n",
      " [2.         1.66666667 0.75      ]]\n"
     ]
    }
   ],
   "source": [
    "mat2=mat.copy() #copia il contenuto della matrice per non sovrascriverla\n",
    "for i in range(mat2.shape[0]):#indicizza le righe\n",
    "    mat2[i]=mat2[i]/arr\n",
    "print(mat2)"
   ]
  },
  {
   "cell_type": "code",
   "execution_count": 171,
   "metadata": {},
   "outputs": [
    {
     "data": {
      "text/plain": [
       "(3,)"
      ]
     },
     "execution_count": 171,
     "metadata": {},
     "output_type": "execute_result"
    }
   ],
   "source": [
    "arr.shape"
   ]
  },
  {
   "cell_type": "markdown",
   "metadata": {},
   "source": [
    "Se non volessimo utilizzare cicli for, potremmo replicare _arr_ in modo da ottenere una matrice $2 \\times 3$ e poi effettuare una semplice divisione elemento per elemento:"
   ]
  },
  {
   "cell_type": "code",
   "execution_count": 172,
   "metadata": {},
   "outputs": [
    {
     "name": "stdout",
     "output_type": "stream",
     "text": [
      "[[2 3 8]\n",
      " [2 3 8]]\n",
      "[[0.5        0.66666667 0.375     ]\n",
      " [2.         1.66666667 0.75      ]]\n"
     ]
    }
   ],
   "source": [
    "arr2=np.stack([arr,arr])\n",
    "print(arr2)\n",
    "\n",
    "print(mat/arr2)"
   ]
  },
  {
   "cell_type": "markdown",
   "metadata": {},
   "source": [
    "Lo stesso risultato si può ottenere semplicemente chiedendo a numpy di dividere mat per arr:"
   ]
  },
  {
   "cell_type": "code",
   "execution_count": 173,
   "metadata": {},
   "outputs": [
    {
     "name": "stdout",
     "output_type": "stream",
     "text": [
      "[[0.5        0.66666667 0.375     ]\n",
      " [2.         1.66666667 0.75      ]]\n"
     ]
    }
   ],
   "source": [
    "print(mat/arr)"
   ]
  },
  {
   "cell_type": "markdown",
   "metadata": {},
   "source": [
    "Ciò avviene in quanto **numpy** confronta le dimensioni dei due operandi ($2 \\times 3$ e $1 \\times 3$) e adatta l'operando con shape più piccola a quello con shape più grande, replicandone gli elementi lungo la dimensione unitaria (la prima). Il broadcasting in pratica generalizza le operazioni tra scalari e vettori/matrici del tipo:"
   ]
  },
  {
   "cell_type": "code",
   "execution_count": 174,
   "metadata": {},
   "outputs": [
    {
     "name": "stdout",
     "output_type": "stream",
     "text": [
      "[[ 2.  4.  6.]\n",
      " [ 8. 10. 12.]]\n",
      "[ 4  6 16]\n"
     ]
    }
   ],
   "source": [
    "print(2*mat)\n",
    "print(2*arr)"
   ]
  },
  {
   "cell_type": "markdown",
   "metadata": {},
   "source": [
    "In generale, quando vengono effettuate operazioni tra due array, numpy compara le shape dimensione per dimensione, dall'ultima alla prima. Due dimensioni sono compatibili se:\n",
    " * Sono uguali;\n",
    " * Una di loro è uguale a uno.\n",
    "\n",
    "Inoltre, le due shape non devono avere necessariamente lo stesso numero di dimensioni.\n",
    " \n",
    "Ad esempio, le seguenti shape sono compatibili:\n",
    " \\begin{eqnarray}\n",
    " 2 \\times 3 \\times 5 \\\\\n",
    " 2 \\times 3 \\times 5\n",
    " \\end{eqnarray}\n",
    " \n",
    " \\begin{eqnarray}\n",
    " 2 \\times 3 \\times 5 \\\\\n",
    " 2 \\times 1 \\times 5\n",
    " \\end{eqnarray}\n",
    " \n",
    " \\begin{eqnarray}\n",
    " 2 \\times 3 \\times 5 \\\\\n",
    " 3 \\times 5\n",
    " \\end{eqnarray}\n",
    " \n",
    " \\begin{eqnarray}\n",
    " 2 \\times 3 \\times 5 \\\\\n",
    " 3 \\times 1\n",
    " \\end{eqnarray}\n",
    " \n",
    "Vediamo altri esempi di broadcasting:"
   ]
  },
  {
   "cell_type": "code",
   "execution_count": 175,
   "metadata": {},
   "outputs": [
    {
     "name": "stdout",
     "output_type": "stream",
     "text": [
      "Mat1 shape (2, 2, 3)\n",
      "Mat2 shape (2, 3)\n",
      "\n",
      "Mat1\n",
      " [[[1 3 5]\n",
      "  [7 6 2]]\n",
      "\n",
      " [[6 5 2]\n",
      "  [8 9 9]]]\n",
      "\n",
      "Mat2\n",
      " [[2 1 3]\n",
      " [7 6 2]]\n",
      "\n",
      "Mat1*Mat2\n",
      " [[[ 2  3 15]\n",
      "  [49 36  4]]\n",
      "\n",
      " [[12  5  6]\n",
      "  [56 54 18]]]\n"
     ]
    }
   ],
   "source": [
    "mat1=np.array([[[1,3,5],[7,6,2]],[[6,5,2],[8,9,9]]])\n",
    "mat2=np.array([[2,1,3],[7,6,2]])\n",
    "print(\"Mat1 shape\",mat1.shape)\n",
    "print(\"Mat2 shape\",mat2.shape)\n",
    "print()\n",
    "print(\"Mat1\\n\",mat1)\n",
    "print()\n",
    "print(\"Mat2\\n\",mat2)\n",
    "print()\n",
    "print(\"Mat1*Mat2\\n\",mat1*mat2)"
   ]
  },
  {
   "cell_type": "markdown",
   "metadata": {},
   "source": [
    "Il prodotto tra i due tensori è stato effettuato moltiplicando le matrici bidimensionali `mat1[0,...]` e `mat2[0,...]` per `mat2`. Ciò è equivalente a ripetere gli elementi di `mat2` lungo la dimensione mancante ed effettuare un prodotto punto a punto tra `mat1` e la versione adattata di `mat2`."
   ]
  },
  {
   "cell_type": "code",
   "execution_count": 176,
   "metadata": {},
   "outputs": [
    {
     "name": "stdout",
     "output_type": "stream",
     "text": [
      "Mat1 shape (2, 2, 3)\n",
      "Mat2 shape (2, 1, 3)\n",
      "\n",
      "Mat1\n",
      " [[[1 3 5]\n",
      "  [7 6 2]]\n",
      "\n",
      " [[6 5 2]\n",
      "  [8 9 9]]]\n",
      "\n",
      "Mat2\n",
      " [[[1 3 5]]\n",
      "\n",
      " [[6 5 2]]]\n",
      "\n",
      "Mat1*Mat2\n",
      " [[[ 1  9 25]\n",
      "  [ 7 18 10]]\n",
      "\n",
      " [[36 25  4]\n",
      "  [48 45 18]]]\n"
     ]
    }
   ],
   "source": [
    "mat1=np.array([[[1,3,5],[7,6,2]],[[6,5,2],[8,9,9]]])\n",
    "mat2=np.array([[[1,3,5]],[[6,5,2]]])\n",
    "print(\"Mat1 shape\",mat1.shape)\n",
    "print(\"Mat2 shape\",mat2.shape)\n",
    "print()\n",
    "print(\"Mat1\\n\",mat1)\n",
    "print()\n",
    "print(\"Mat2\\n\",mat2)\n",
    "print()\n",
    "print(\"Mat1*Mat2\\n\",mat1*mat2)"
   ]
  },
  {
   "cell_type": "markdown",
   "metadata": {},
   "source": [
    "In questo caso, il prodotto tra i due tensori è stato ottenuto moltiplicando tutte le righe delle matrici bidimensionali `mat1[0,...]` per `mat2[0]` (prima riga di mat2) e tutte le righe delle matrici bidimensionali `mat1[1,...]` per `mat2[1]` (seconda riga di mat2). Ciò è equivalente a ripetere tutti gli elementi di `mat2` lungo la seconda dimensione (quella contenente $1$) ed effettuare un prodotto punto a punto tra `mat1` e la versione adattata di `mat2`."
   ]
  },
  {
   "cell_type": "markdown",
   "metadata": {},
   "source": [
    "# 3. Matplotlib\n",
    "\n",
    "**Matplotlib** è la libreria di riferimento per la creazione di grafici in Python. Si tratta di una libreria molto potente e ben documentata (https://matplotlib.org/). Vediamo alcuni esempi classici di utilizzo della libreria."
   ]
  },
  {
   "cell_type": "markdown",
   "metadata": {},
   "source": [
    "## 3.1 Plot bidimensionale\n",
    "\n",
    "Vediamo come stampare la funzione:\n",
    "\n",
    "\\begin{equation}\n",
    "y = x^2.\n",
    "\\end{equation}\n",
    "\n",
    "Per stampare la funzione, dovremo fornire a matplotlib una serie di coppi di valori $(x,y)$ che verfichino l'equazione riportata sopra. Il modo più semplice per farlo consiste nel:\n",
    " * Definire un vettore arbitrario di valori $x$ estratti dal dominio della funzione;\n",
    " * Calcolare i rispettivi punti $y$ utilizzando la forma analitica riportata sopra;\n",
    " * Eseguire il plot dei valori mediante matplotlib.\n",
    " \n",
    "I due vettori possono essere definiti così:"
   ]
  },
  {
   "cell_type": "code",
   "execution_count": 233,
   "metadata": {},
   "outputs": [],
   "source": [
    "x = np.linspace(-100,100,300) #campioniamo in maniera lineare 300 punti tra -100 e 100\n",
    "y = x**2 #calcoliamo il quadrato di ognuno dei punti di x"
   ]
  },
  {
   "cell_type": "markdown",
   "metadata": {},
   "source": [
    "Procediamo alla stampa:"
   ]
  },
  {
   "cell_type": "code",
   "execution_count": 234,
   "metadata": {},
   "outputs": [
    {
     "data": {
      "image/png": "[encoded data removed]",
      "text/plain": [
       "<Figure size 432x288 with 1 Axes>"
      ]
     },
     "metadata": {
      "needs_background": "light"
     },
     "output_type": "display_data"
    }
   ],
   "source": [
    "from matplotlib import pyplot as plt #importo il modulo pyplot da matplotlib e lo chiamo plt\n",
    "\n",
    "plt.plot(x,y) #stampa le coppie x,y come punti nello spazio cartesiano\n",
    "plt.xlabel('x') #imposta una etichetta per l'asse x\n",
    "plt.ylabel('y') #imposta una etichetta per l'asse y\n",
    "plt.title('Il mio grafico') #imposta il titolo del grafico\n",
    "plt.show() #mostra il grafico"
   ]
  },
  {
   "cell_type": "markdown",
   "metadata": {},
   "source": [
    "E' possibile controllare diversi aspetti del plot, tra cui i limiti degli assi x e y, la posizione dei \"tick\" (le lineette che orizzontali e verticali sugli assi) o aggiungere una griglia. Vediamo qualche esempio:"
   ]
  },
  {
   "cell_type": "code",
   "execution_count": 179,
   "metadata": {},
   "outputs": [
    {
     "data": {
      "image/png": "[encoded data removed]",
      "text/plain": [
       "<Figure size 432x288 with 1 Axes>"
      ]
     },
     "metadata": {
      "needs_background": "light"
     },
     "output_type": "display_data"
    }
   ],
   "source": [
    "plt.plot(x,y) #stampiamo lo stesso plot\n",
    "plt.xlim([-50,50]) #visualizziamo i valori x solo tra -20 e 40\n",
    "plt.ylim([0,2500]) #e i valori y solo tra 0 e 4000\n",
    "plt.xticks([-40,0,40]) #inseriamo solo -40, 0 e 40 come \"tick\" sull'asse x\n",
    "plt.yticks([1000,2000]) #solo 1000 e 2000 come tick y\n",
    "plt.grid() #aggiungiamo una griglia\n",
    "plt.show()"
   ]
  },
  {
   "cell_type": "markdown",
   "metadata": {},
   "source": [
    "## 3.2 Subplot\n",
    "\n",
    "Spesso può essere utile confrontare diversi grafici. Per fare ciò, possiamo avvalerci della funzione subplot, che permette di costruire una \"griglia di grafici\".\n",
    "\n",
    "Vediamo ad esempio come stampare le seguenti funzioni in una griglia 2 x 2:\n",
    "\n",
    "\\begin{equation}\n",
    "y=x^2, \\ \\ \\ y=log(x), \\ \\ \\  y=x^2 \\cdot log(x), \\ \\ \\  y=log(x)/x\n",
    "\\end{equation}"
   ]
  },
  {
   "cell_type": "code",
   "execution_count": 180,
   "metadata": {},
   "outputs": [
    {
     "data": {
      "image/png": "[encoded data removed]",
      "text/plain": [
       "<Figure size 1152x720 with 4 Axes>"
      ]
     },
     "metadata": {
      "needs_background": "light"
     },
     "output_type": "display_data"
    }
   ],
   "source": [
    "plt.figure(figsize=(16,10)) #definisce una figura con una data dimensione (in pollici)\n",
    "plt.subplot(2,2,1) #definisce una griglia 2x2 e seleziona la prima cella come cella corrente\n",
    "x = np.linspace(-100,100,300)\n",
    "plt.plot(x**2) #primo grafico\n",
    "plt.title('x^2') #imposta un titolo per la cella corrente\n",
    "\n",
    "plt.subplot(2,2,2) #sempre nella stessa grliglia 2x2, seleziona la seconda cella\n",
    "x = np.linspace(1,100,300)\n",
    "plt.plot(np.log(x)) #secondo grafico\n",
    "plt.title('log(x)') #imposta un titolo per la cella corrente\n",
    "\n",
    "plt.subplot(2,2,3) #seleziona la terza cella\n",
    "x = np.linspace(1,100,300)\n",
    "plt.plot(x**2*np.log(x)) #terzo grafico\n",
    "plt.title('x^2 log(x)') #imposta un titolo per la cella corrente\n",
    "\n",
    "plt.subplot(2,2,4) #seleziona la quarta cella\n",
    "x = np.linspace(1,100,300)\n",
    "plt.plot(np.log(x)/x) #quarto grafico\n",
    "plt.title('log(x)/x') #imposta un titolo per la cella corrente\n",
    "\n",
    "plt.show() #mostra la figura"
   ]
  },
  {
   "cell_type": "markdown",
   "metadata": {},
   "source": [
    "## 3.3 Colori e stili\n",
    "\n",
    "E' possibile utilizzare diversi colori e stili per i grafici. Sotto alcuni esempi:"
   ]
  },
  {
   "cell_type": "code",
   "execution_count": 181,
   "metadata": {},
   "outputs": [
    {
     "data": {
      "image/png": "[encoded data removed]",
      "text/plain": [
       "<Figure size 1152x576 with 6 Axes>"
      ]
     },
     "metadata": {
      "needs_background": "light"
     },
     "output_type": "display_data"
    }
   ],
   "source": [
    "x = np.linspace(-2*np.pi,2*np.pi,50)\n",
    "y = np.sin(x)\n",
    "\n",
    "plt.figure(figsize=(16,8))\n",
    "plt.subplot(231) #versione abbreviata di plt.subplot(2,3,1)\n",
    "plt.plot(x,y,'--') #linea tratteggiata\n",
    "plt.subplot(232)\n",
    "plt.plot(x,y,'.') #solo punti\n",
    "plt.subplot(233)\n",
    "plt.plot(x,y,'r', linewidth=2) #linea rossa, spessore 2\n",
    "plt.subplot(234)\n",
    "plt.plot(x,y,'o') #cerchietti\n",
    "plt.subplot(235)\n",
    "plt.plot(x,y,'o-g') #cerchietti uniti da linee verdi\n",
    "plt.subplot(236)\n",
    "plt.plot(x,y,'o--', linewidth=0.5) #cerchietti uniti da linee tratteggiate, spessore 0.5\n",
    "\n",
    "plt.show()"
   ]
  },
  {
   "cell_type": "markdown",
   "metadata": {},
   "source": [
    "## 3.4 Sovrapposizione di linee e legenda\n",
    "\n",
    "E' semplice sovrapporre più linee mediante **matplotlib**:"
   ]
  },
  {
   "cell_type": "code",
   "execution_count": 182,
   "metadata": {},
   "outputs": [
    {
     "data": {
      "image/png": "[encoded data removed]",
      "text/plain": [
       "<Figure size 432x288 with 1 Axes>"
      ]
     },
     "metadata": {
      "needs_background": "light"
     },
     "output_type": "display_data"
    }
   ],
   "source": [
    "plt.figure()\n",
    "plt.plot(x,x**2)\n",
    "plt.plot(x,x**3) #al secondo plot, matplotlib cambierà automaticamente colore\n",
    "plt.legend(['x^2','x^3']) #possiamo anche inserire una legenda. \n",
    "#GLi elementi della legenda verranno associati alle linee nell'ordine in cui sono stati plottati\n",
    "plt.show()"
   ]
  },
  {
   "cell_type": "markdown",
   "metadata": {},
   "source": [
    "Matplotlib è una librerira molto versatile. Sul sito ufficiale di Matplotlib è presente una galleria di esempi di plot con relativo codice (https://matplotlib.org/2.1.1/gallery/index.html)."
   ]
  },
  {
   "cell_type": "markdown",
   "metadata": {},
   "source": [
    "# 4. Introduzione a PyTorch\n",
    "\n",
    "PyTorch è una libreria Python per il calcolo scientifico pensata per due usi:\n",
    " * In sostituzione a Numpy, per sfruttare tutte le potenzialità del calcolo parallelo su GPU;\n",
    " * Come piattaforma per il deep learning."
   ]
  },
  {
   "cell_type": "markdown",
   "metadata": {},
   "source": [
    "## 4.1 Tensori\n",
    "L'elemento base di PyTorch è il tensore. Si tratta di un tipo di dato molto simile al Numpy array, che ci permette di gestire tensori multidimensionali. Esempi di tensori sono gli array (tensori monodimensionali) e le matrici (tensori  bidimensionali). \n",
    "\n",
    "Per lavorare con i tensori in PyTorch, importiamo il modulo `torch`:"
   ]
  },
  {
   "cell_type": "code",
   "execution_count": 183,
   "metadata": {},
   "outputs": [],
   "source": [
    "import torch"
   ]
  },
  {
   "cell_type": "markdown",
   "metadata": {},
   "source": [
    "Possiamo costruire un tensore non inizializzato come segue:"
   ]
  },
  {
   "cell_type": "code",
   "execution_count": 184,
   "metadata": {},
   "outputs": [
    {
     "name": "stdout",
     "output_type": "stream",
     "text": [
      "tensor([[-3.8565e-03,  4.5831e-41, -2.3891e+33],\n",
      "        [ 4.5916e-41,  4.4842e-44,  0.0000e+00]])\n"
     ]
    }
   ],
   "source": [
    "x = torch.Tensor(2, 3)\n",
    "print(x)"
   ]
  },
  {
   "cell_type": "markdown",
   "metadata": {},
   "source": [
    "Dato che il tensore non è inizializzato, il suo contenuto può essere qualsiasi (attenzione, non abbiamo la certezza che il contenuto sia neanche \"casuale\" - in generale esso dipende dallo stato attuale del sistema).\n",
    "\n",
    "Possiamo costruire un tensore inizializzato in maniera casuale usando la funzione `rand`:"
   ]
  },
  {
   "cell_type": "code",
   "execution_count": 185,
   "metadata": {},
   "outputs": [
    {
     "name": "stdout",
     "output_type": "stream",
     "text": [
      "tensor([[0.6185, 0.8912, 0.5438],\n",
      "        [0.5136, 0.0390, 0.5465]])\n"
     ]
    }
   ],
   "source": [
    "x = torch.rand(2, 3)\n",
    "print(x)"
   ]
  },
  {
   "cell_type": "markdown",
   "metadata": {},
   "source": [
    "Similmente a quanto possibile con Numpy, possiamo creare tensori di zeri e tensori di uno come segue:"
   ]
  },
  {
   "cell_type": "code",
   "execution_count": 186,
   "metadata": {},
   "outputs": [
    {
     "name": "stdout",
     "output_type": "stream",
     "text": [
      "tensor([[0., 0., 0.],\n",
      "        [0., 0., 0.]])\n",
      "tensor([[1., 1., 1.],\n",
      "        [1., 1., 1.]])\n"
     ]
    }
   ],
   "source": [
    "print(torch.zeros(2,3))\n",
    "print(torch.ones(2,3))"
   ]
  },
  {
   "cell_type": "markdown",
   "metadata": {},
   "source": [
    "Analogamente a quanto avviene per Numpy, è possibile creare tensori a partire da liste di Python:"
   ]
  },
  {
   "cell_type": "code",
   "execution_count": 187,
   "metadata": {},
   "outputs": [
    {
     "data": {
      "text/plain": [
       "tensor([[1., 2., 3.],\n",
       "        [4., 5., 6.]])"
      ]
     },
     "execution_count": 187,
     "metadata": {},
     "output_type": "execute_result"
    }
   ],
   "source": [
    "torch.Tensor([[1,2,3],[4,5,6]])"
   ]
  },
  {
   "cell_type": "markdown",
   "metadata": {},
   "source": [
    "### 4.1.1 Tipi dei tensori\n",
    "\n",
    "Così come in numpy, anche in PyTorch ogni tensore ha un tipo. In particolare sono disponibili i seguenti tipi:\n",
    "\n",
    "<table>\n",
    "    <tr><td> FloatTensor </td><td> numeri in virgola mobile a 32 bit </td></tr>\n",
    "    <tr><td> DoubleTensor </td><td> numeri in virgola mobile a 64 bit </td></tr>\n",
    "    <tr><td> HalfTensor </td><td> numeri in virgola mobile a 16 bit </td></tr>\n",
    "    <tr><td> ByteTensor </td><td> numeri interi senza segno a 8 bit </td></tr>\n",
    "    <tr><td> CharTensor </td><td> numeri interi con segno a 8 bit </td></tr>\n",
    "    <tr><td> ShortTensor </td><td> numeri interi con segno a 16 bit </td></tr>\n",
    "    <tr><td> IntTensor </td><td> numeri interi con segno a 32 bit </td></tr>\n",
    "    <tr><td> LongTensor </td><td> numeri interi con segno a 64 bit </td></tr>\n",
    "</table>\n",
    "\n",
    "Maggiori informazioni sono disponibili qui: http://pytorch.org/docs/master/tensors.html#torch-tensor\n",
    "\n",
    "Ogni tipo ha un costruttore dedicato, per cui se vogliamo costruire un tensore di Int possiamo scrivere:"
   ]
  },
  {
   "cell_type": "code",
   "execution_count": 188,
   "metadata": {},
   "outputs": [
    {
     "data": {
      "text/plain": [
       "tensor([1, 2, 3], dtype=torch.int32)"
      ]
     },
     "execution_count": 188,
     "metadata": {},
     "output_type": "execute_result"
    }
   ],
   "source": [
    "torch.IntTensor([1,2,3])"
   ]
  },
  {
   "cell_type": "markdown",
   "metadata": {},
   "source": [
    "In pratica `Tensor` è un alias a `FloatTensor`, per cui ogni tensore che abbiamo costruito negli esempi precedenti è di tipo `FloatTensor`. Possiamo ottenere il tipo di un tensore mediante il metodo `type()`:"
   ]
  },
  {
   "cell_type": "code",
   "execution_count": 189,
   "metadata": {},
   "outputs": [
    {
     "name": "stdout",
     "output_type": "stream",
     "text": [
      "torch.FloatTensor\n"
     ]
    }
   ],
   "source": [
    "print(x.type())"
   ]
  },
  {
   "cell_type": "markdown",
   "metadata": {},
   "source": [
    "### 4.1.2 Shape\n",
    "Analogamente a quanto avviene con Numpy, ogni tensore ha una \"forma\" (shape). Questa si può richiamare mediante la proprietà `shape` o mediante il metodo `size`:"
   ]
  },
  {
   "cell_type": "code",
   "execution_count": 190,
   "metadata": {},
   "outputs": [
    {
     "name": "stdout",
     "output_type": "stream",
     "text": [
      "torch.Size([2, 3])\n",
      "torch.Size([2, 3])\n"
     ]
    }
   ],
   "source": [
    "print(x.shape)\n",
    "print(x.size())"
   ]
  },
  {
   "cell_type": "markdown",
   "metadata": {},
   "source": [
    "Tutte le shape sono di tipo `tensor.Size`. Il metodo size, permette di accedere ai singoli elementi della shape passandone gli indici tra parentesi, per cui le seguenti notazioni sono equivalenti:"
   ]
  },
  {
   "cell_type": "code",
   "execution_count": 191,
   "metadata": {},
   "outputs": [
    {
     "name": "stdout",
     "output_type": "stream",
     "text": [
      "2 2\n",
      "3 3\n"
     ]
    }
   ],
   "source": [
    "print(x.shape[0], x.size(0))\n",
    "print(x.shape[1], x.size(1))"
   ]
  },
  {
   "cell_type": "markdown",
   "metadata": {},
   "source": [
    "Come in Numpy, anche in PyTorch è possibile cambiare la shape di un tensore. In questo caso però non utilizziamo il metodo `reshape`, ma il metodo `view`. Tale metodo **non crea** una nuova copia del tensore, ma bensì fornisce **una nuova vista** del tensore (in pratica la posizione degli elementi del tensore in memoria resta invariata). Vediamo qualche esempio:"
   ]
  },
  {
   "cell_type": "code",
   "execution_count": 192,
   "metadata": {},
   "outputs": [
    {
     "name": "stdout",
     "output_type": "stream",
     "text": [
      "tensor([0.6185, 0.8912, 0.5438, 0.5136, 0.0390, 0.5465])\n",
      "tensor([[0.6185, 0.8912],\n",
      "        [0.5438, 0.5136],\n",
      "        [0.0390, 0.5465]])\n",
      "tensor([[0.6185, 0.8912, 0.5438, 0.5136, 0.0390, 0.5465]])\n"
     ]
    }
   ],
   "source": [
    "print(x.view(-1))\n",
    "print(x.view(3,2))\n",
    "print(x.view(1,-1))"
   ]
  },
  {
   "cell_type": "markdown",
   "metadata": {},
   "source": [
    "**Domanda 9**\n",
    "<img src=\"img/qmark.jpg\" style=\"width:150px; float:left;\"/>\n",
    "\n",
    "Che dimensioni avranno i tensori costruiti come segue?\n",
    "\n",
    "```python\n",
    "torch.Tensor([[1,2,3],[5,4,3]])\n",
    "torch.Tensor([[[2,1],[3,3],[2,3]],[[2,2],[3,2],[4,5]]])\n",
    "torch.Tensor([1,2,3])\n",
    "```"
   ]
  },
  {
   "cell_type": "markdown",
   "metadata": {},
   "source": [
    "**Risposta 9**\n",
    "<img style=\"float: left;width:150px;\" src=\"img/note.png\">\n",
    "\n",
    "<div style=\"background-color:#efefef; margin-left:150px; border:solid 1px; border-color:#dddddd; border-radius: 3px;\">\n",
    "<br><br><br><br><br><br>\n",
    "</div>"
   ]
  },
  {
   "cell_type": "markdown",
   "metadata": {},
   "source": [
    "### 4.1.3 Operazioni tra tensori\n",
    "\n",
    "Così come in Numpy, i tensori supportano delle operazioni, quali ad esempio la somma, la sottrazione, la moltiplicazione elemento per elemento (prodotto di Hadamard), la divisione elemento per elemento e la moltiplicazione riga per colonna. Vediamo qualche esempio:"
   ]
  },
  {
   "cell_type": "code",
   "execution_count": 193,
   "metadata": {},
   "outputs": [
    {
     "name": "stdout",
     "output_type": "stream",
     "text": [
      "tensor([[1., 4., 5.],\n",
      "        [4., 2., 8.]])\n",
      "tensor([[3., 3., 2.],\n",
      "        [2., 1., 8.]])\n",
      "tensor([[ 4.,  7.,  7.],\n",
      "        [ 6.,  3., 16.]])\n",
      "tensor([[-2.,  1.,  3.],\n",
      "        [ 2.,  1.,  0.]])\n",
      "tensor([[ 3., 12., 10.],\n",
      "        [ 8.,  2., 64.]])\n",
      "tensor([[0.3333, 1.3333, 2.5000],\n",
      "        [2.0000, 2.0000, 1.0000]])\n"
     ]
    }
   ],
   "source": [
    "x = torch.Tensor([[1,4,5],[4,2,8]])\n",
    "y = torch.Tensor([[3,3,2],[2,1,8]])\n",
    "\n",
    "print(x)\n",
    "print(y)\n",
    "print(x+y)\n",
    "print(x-y)\n",
    "print(x*y)\n",
    "print(x/y)"
   ]
  },
  {
   "cell_type": "markdown",
   "metadata": {},
   "source": [
    "Esistono altre due sintassi per effettuare le operazioni di somma. Una, equivalente a quella appena vista, è la seguente:"
   ]
  },
  {
   "cell_type": "code",
   "execution_count": 194,
   "metadata": {},
   "outputs": [
    {
     "name": "stdout",
     "output_type": "stream",
     "text": [
      "tensor([[1., 4., 5.],\n",
      "        [4., 2., 8.]])\n",
      "tensor([[3., 3., 2.],\n",
      "        [2., 1., 8.]])\n",
      "tensor([[ 4.,  7.,  7.],\n",
      "        [ 6.,  3., 16.]])\n",
      "tensor([[-2.,  1.,  3.],\n",
      "        [ 2.,  1.,  0.]])\n",
      "tensor([[ 3., 12., 10.],\n",
      "        [ 8.,  2., 64.]])\n",
      "tensor([[0.3333, 1.3333, 2.5000],\n",
      "        [2.0000, 2.0000, 1.0000]])\n"
     ]
    }
   ],
   "source": [
    "x = torch.Tensor([[1,4,5],[4,2,8]])\n",
    "y = torch.Tensor([[3,3,2],[2,1,8]])\n",
    "\n",
    "\n",
    "print(x)\n",
    "print(y)\n",
    "print(torch.add(x,y)) #x+y\n",
    "print(torch.add(x,-y)) #x-y\n",
    "print(torch.mul(x,y)) #x*y\n",
    "print(torch.div(x,y)) #x/y"
   ]
  },
  {
   "cell_type": "markdown",
   "metadata": {},
   "source": [
    "L'altra notazione è quella che ci permette di fare operazioni \"in-place\", ovvero, operazioni del tipo:\n",
    "```c\n",
    "x+=y\n",
    "```\n",
    "\n",
    "Le operazioni in-place si effettuano utilizzando degli specific metodi dei tensori che terminano per \"\\_\". Il carattere underscore serve a distinguere le operazioni in-place da quelle non in-place:"
   ]
  },
  {
   "cell_type": "code",
   "execution_count": 195,
   "metadata": {},
   "outputs": [
    {
     "name": "stdout",
     "output_type": "stream",
     "text": [
      "tensor([[1., 4., 5.],\n",
      "        [4., 2., 8.]])\n",
      "tensor([[3., 3., 2.],\n",
      "        [2., 1., 8.]])\n",
      "tensor([[ 4.,  7.,  7.],\n",
      "        [ 6.,  3., 16.]])\n"
     ]
    }
   ],
   "source": [
    "print(x)\n",
    "print(y)\n",
    "x.add_(y)\n",
    "print(x)"
   ]
  },
  {
   "cell_type": "markdown",
   "metadata": {},
   "source": [
    "Notiamo come l'operazione in-place ha modificato il contenuto di \"x\". Altre operazioni in-place sono:"
   ]
  },
  {
   "cell_type": "code",
   "execution_count": 196,
   "metadata": {},
   "outputs": [
    {
     "name": "stdout",
     "output_type": "stream",
     "text": [
      "tensor([[ 4.,  7.,  7.],\n",
      "        [ 6.,  3., 16.]])\n",
      "tensor([[ 12.,  21.,  14.],\n",
      "        [ 12.,   3., 128.]])\n",
      "tensor([[ 4.,  7.,  7.],\n",
      "        [ 6.,  3., 16.]])\n"
     ]
    }
   ],
   "source": [
    "print(x)\n",
    "x.mul_(y)\n",
    "print(x)\n",
    "x.div_(y)\n",
    "print(x)"
   ]
  },
  {
   "cell_type": "markdown",
   "metadata": {},
   "source": [
    "Inserire l'underscore è importante, se lo omettiamo l'operazione non è più in-place:"
   ]
  },
  {
   "cell_type": "code",
   "execution_count": 197,
   "metadata": {},
   "outputs": [
    {
     "name": "stdout",
     "output_type": "stream",
     "text": [
      "tensor([[ 4.,  7.,  7.],\n",
      "        [ 6.,  3., 16.]])\n",
      "tensor([[ 4.,  7.,  7.],\n",
      "        [ 6.,  3., 16.]])\n"
     ]
    }
   ],
   "source": [
    "print(x)\n",
    "x.mul(y)\n",
    "print(x) #x non ha cambiato valore"
   ]
  },
  {
   "cell_type": "markdown",
   "metadata": {},
   "source": [
    "Inoltre, i tensori di PyTorch supportano le comuni operazioni supportate da Numpy:"
   ]
  },
  {
   "cell_type": "code",
   "execution_count": 198,
   "metadata": {},
   "outputs": [
    {
     "name": "stdout",
     "output_type": "stream",
     "text": [
      "tensor(7.1667)\n",
      "tensor([ 5.0000,  5.0000, 11.5000])\n",
      "tensor(43.)\n",
      "tensor(16.)\n",
      "tensor(3.)\n"
     ]
    }
   ],
   "source": [
    "print(x.mean()) #media\n",
    "print(x.mean(0)) #media per colonne\n",
    "print(x.sum()) #somma\n",
    "print(x.max()) #massimo\n",
    "print(x.min()) #minimo"
   ]
  },
  {
   "cell_type": "markdown",
   "metadata": {},
   "source": [
    "In PyTorch, la funzione `max` permette di effettuare contemporaneamente le operazioni `max` e `argmax`. In particolare, quando si passa un argomento a `max`, questa funzione restituisce due elementi: i valori massimi e gli indici in corrispondenza dei quali si hanno tali massimi:"
   ]
  },
  {
   "cell_type": "code",
   "execution_count": 199,
   "metadata": {},
   "outputs": [
    {
     "name": "stdout",
     "output_type": "stream",
     "text": [
      "tensor([[-5.,  1.,  0.],\n",
      "        [ 0.,  2., -2.]])\n",
      "tensor([0., 2., 0.])\n",
      "tensor([1, 1, 0])\n"
     ]
    }
   ],
   "source": [
    "x = torch.Tensor([[-5,1,0],[0,2,-2]])\n",
    "valori, indici = x.max(0)\n",
    "print(x)\n",
    "print(valori)\n",
    "print(indici)"
   ]
  },
  {
   "cell_type": "markdown",
   "metadata": {},
   "source": [
    "### 4.1.4 Indicizzazione\n",
    "L'indicizzazione di tensori PyTorch avviene esattamente come l'indicizzazione di array Numpy. Alcuni esempi:"
   ]
  },
  {
   "cell_type": "code",
   "execution_count": 200,
   "metadata": {},
   "outputs": [
    {
     "name": "stdout",
     "output_type": "stream",
     "text": [
      "tensor([[-5.,  1.,  0.],\n",
      "        [ 0.,  2., -2.]])\n",
      "tensor([-5.,  1.,  0.])\n",
      "tensor([ 0.,  2., -2.])\n",
      "tensor(2.)\n"
     ]
    }
   ],
   "source": [
    "print(x)\n",
    "print(x[0])\n",
    "print(x[1,:])\n",
    "print(x[1,1])"
   ]
  },
  {
   "cell_type": "markdown",
   "metadata": {},
   "source": [
    "### 4.1.5 Numpy bridge\n",
    "\n",
    "Abbiamo visto che tensori di PyTorch e array di Numpy sono simili in molti punti. In pratica può essere utile convertire un array da Numpy a PyTorch e viceversa. Ciò è possibile mediante degli specifici metodi. Possiamo convertire un tensore di PyTorch in un array di Numpy richiamando il metodo `numpy`:"
   ]
  },
  {
   "cell_type": "code",
   "execution_count": 201,
   "metadata": {},
   "outputs": [
    {
     "name": "stdout",
     "output_type": "stream",
     "text": [
      "tensor([[-5.,  1.,  0.],\n",
      "        [ 0.,  2., -2.]])\n",
      "[[-5.  1.  0.]\n",
      " [ 0.  2. -2.]]\n"
     ]
    }
   ],
   "source": [
    "print(x)\n",
    "print(x.numpy() )"
   ]
  },
  {
   "cell_type": "markdown",
   "metadata": {},
   "source": [
    "Analogamente, possiamo utilizzare la funzione `from_numpy` del modulo `torch` per convertire un array di numpy in un tensore di PyTorch:"
   ]
  },
  {
   "cell_type": "code",
   "execution_count": 202,
   "metadata": {},
   "outputs": [
    {
     "name": "stdout",
     "output_type": "stream",
     "text": [
      "[1 2 3]\n",
      "tensor([1, 2, 3])\n"
     ]
    }
   ],
   "source": [
    "import numpy as np\n",
    "a = np.array([1,2,3])\n",
    "b = torch.from_numpy(a)\n",
    "print(a)\n",
    "print(b)"
   ]
  },
  {
   "cell_type": "markdown",
   "metadata": {},
   "source": [
    "Esiste una corrispondenza tra i tipi di PyTorch e i tipi di Numpy. In particolare vediamo che l'array di int che abbiamo creato è stato automaticamente convertito in un LongTensor:"
   ]
  },
  {
   "cell_type": "code",
   "execution_count": 203,
   "metadata": {},
   "outputs": [
    {
     "name": "stdout",
     "output_type": "stream",
     "text": [
      "int64\n",
      "torch.LongTensor\n"
     ]
    }
   ],
   "source": [
    "print(a.dtype)\n",
    "print(b.type())"
   ]
  },
  {
   "cell_type": "markdown",
   "metadata": {},
   "source": [
    "La corrispondenza completa tra tipi di Numpy e tipi di PyTorch è la seguente:\n",
    "\n",
    "| | |\n",
    "|-|-|\n",
    "|Tipo di Numpy | Tipo di PyTorch |\n",
    "|`int16` | `ShortTensor`|\n",
    "|`int32` | `IntTensor` |\n",
    "|`int64` | `LongTensor` |\n",
    "|`uint8` | `ByteTensor` |\n",
    "|`float32` | `FloatTensor` |\n",
    "|`float64` | `DoubleTensor` |\n",
    "|`double` | `DoubleTensor` |"
   ]
  },
  {
   "cell_type": "markdown",
   "metadata": {},
   "source": [
    "Dopo la conversione, i tensori di PyTorch e gli array di Numpy corrispondenti condividono le stesse locazioni di memoria, per cui modificarne uno comporta modificarli entrambi. Vediamo un esempio:"
   ]
  },
  {
   "cell_type": "code",
   "execution_count": 204,
   "metadata": {},
   "outputs": [
    {
     "name": "stdout",
     "output_type": "stream",
     "text": [
      "[[1 3 6]\n",
      " [7 7 7]] tensor([[1, 3, 6],\n",
      "        [7, 7, 7]], dtype=torch.int16)\n",
      "[[ 1  3  6]\n",
      " [ 7  7 -1]] tensor([[ 1,  3,  6],\n",
      "        [ 7,  7, -1]], dtype=torch.int16)\n"
     ]
    }
   ],
   "source": [
    "a = np.array([[1,3,6],[7,7,7]],'int16')\n",
    "b = torch.from_numpy(a)\n",
    "\n",
    "print(a,b)\n",
    "\n",
    "b[1,2]=-1\n",
    "print(a,b)"
   ]
  },
  {
   "cell_type": "markdown",
   "metadata": {},
   "source": [
    "Come possiamo notare, entrambe le matrici sono state modificate. Lo stesso vale quando la conversione avviene in senso opposto:"
   ]
  },
  {
   "cell_type": "code",
   "execution_count": 205,
   "metadata": {},
   "outputs": [
    {
     "name": "stdout",
     "output_type": "stream",
     "text": [
      "tensor([[1, 2, 3],\n",
      "        [3, 3, 3]]) [[1 2 3]\n",
      " [3 3 3]]\n",
      "tensor([[-8,  2,  3],\n",
      "        [ 3,  3,  3]]) [[-8  2  3]\n",
      " [ 3  3  3]]\n"
     ]
    }
   ],
   "source": [
    "a = torch.LongTensor([[1,2,3],[3,3,3]])\n",
    "b = a.numpy()\n",
    "print(a,b)\n",
    "\n",
    "b[0,0]=-8\n",
    "print(a,b)"
   ]
  },
  {
   "cell_type": "markdown",
   "metadata": {},
   "source": [
    "### 4.1.6 Supporto GPU\n",
    "\n",
    "Tutti i tensori vengono di default istanziati nella memoria di sistema. Le operazioni tra questi tensori vengono dunque eseguite in CPU. Se il supporto alla GPU è disponibile, è possibile spostare i tensori in GPU mediante il metodo `to(device)`, specificando come device `cuda`. Se entrambi i tensori sono in GPU, l'operazione viene effettuata interamente in GPU (e quindi sarà più veloce!). Possiamo controllare che il supporto alla GPU sia effettivamente abilitato mediante il metodo `torch.cuda.is_available()`. Vediamo un esempio:"
   ]
  },
  {
   "cell_type": "code",
   "execution_count": 206,
   "metadata": {},
   "outputs": [],
   "source": [
    "x = torch.Tensor([1,2,3])\n",
    "y = torch.Tensor([4,5,6])\n",
    "\n",
    "if torch.cuda.is_available():\n",
    "    x = x.to('cuda')\n",
    "    y = y.to('cuda')\n",
    "    print(x + y) #questa operazione viene effettuata in GPU"
   ]
  },
  {
   "cell_type": "markdown",
   "metadata": {},
   "source": [
    "E' possibile spostare nuovamente i tensori in CPU specificando `cpu` come device:"
   ]
  },
  {
   "cell_type": "code",
   "execution_count": 207,
   "metadata": {},
   "outputs": [
    {
     "name": "stdout",
     "output_type": "stream",
     "text": [
      "tensor([5., 7., 9.])\n"
     ]
    }
   ],
   "source": [
    "x.to('cpu')\n",
    "y.to('cpu')\n",
    "print(x+y) #questa operazione viene effettuata in CPU"
   ]
  },
  {
   "cell_type": "markdown",
   "metadata": {},
   "source": [
    "**Domanda 10**\n",
    "<img src=\"img/qmark.jpg\" style=\"width:150px; float:left;\"/>\n",
    "\n",
    "Si consideri il seguente tensore:\n",
    "\n",
    "```python\n",
    "t = torch.Tensor([[4,8,2],[6,6,9]])\n",
    "```\n",
    "\n",
    " * Qual è il tipo di t?\n",
    " * Qual è il risultato dell'operazione ```t[1,0]```?\n",
    " * Qual è il risultato dell'operazione ```(t**2)[0]```?\n",
    " * Qual è la differenza tra le operazioni ```t/2``` e ```t/=2```? Quale delle due operazioni è più efficiente in termini di memoria?"
   ]
  },
  {
   "cell_type": "markdown",
   "metadata": {},
   "source": [
    "**Risposta 10**\n",
    "<img style=\"float: left;width:150px;\" src=\"img/note.png\">\n",
    "\n",
    "<div style=\"background-color:#efefef; margin-left:150px; border:solid 1px; border-color:#dddddd; border-radius: 3px;\">\n",
    "<br><br><br><br><br><br>\n",
    "</div>"
   ]
  },
  {
   "cell_type": "markdown",
   "metadata": {},
   "source": [
    "**Domanda 11**\n",
    "<img src=\"img/qmark.jpg\" style=\"width:150px; float:left;\"/>\n",
    "\n",
    "Si consideri il seguente codice\n",
    "\n",
    "```python\n",
    "t = torch.Tensor([[4,8,2],[6,6,9]])\n",
    "n = t.numpy()\n",
    "n/=2\n",
    "```\n",
    "\n",
    "Qual è il valore di ```t[0,2]```?"
   ]
  },
  {
   "cell_type": "markdown",
   "metadata": {},
   "source": [
    "**Risposta 11**\n",
    "<img style=\"float: left;width:150px;\" src=\"img/note.png\">\n",
    "\n",
    "<div style=\"background-color:#efefef; margin-left:150px; border:solid 1px; border-color:#dddddd; border-radius: 3px;\">\n",
    "<br><br><br><br><br><br>\n",
    "</div>"
   ]
  },
  {
   "cell_type": "markdown",
   "metadata": {},
   "source": [
    "## 4.2 Autograd\n",
    "\n",
    "Autograd è il pacchetto di Python che permette la differenziazione automatica. Dal momento che le reti neurali sono assimilabili a funzioni composte, la differenziazione automatica ci risparmia la fatica di calcolare le derivate manualmente per ottimizzare i parametri mediante metodi basati sulla discesa del gradiente. Per permettere la differenziazione automatica, ogni tensore di PyTorch contiene le seguenti due proprietà:\n",
    " * `grad`: il gradiente relativo al tensore. Per i tensori appena creati, questa proprietà sarà impostata a `None` in quanto nessun gradiente è stato ancora calcolato;\n",
    " * `grad_fn`: un riferimento alla funzione che ha generato il tensore, nel caso in cui esso sia frutto di una operazione tra tensori (es. una somma). Se il tensore è stato generato dall'utente, allora `grad_fn` sarà `None`.\n",
    "\n",
    "Il calcolo dei gradienti non è abilitato di default sui tensori. Per abilitalo, bisognerà richiamare il metodo `requires_grad_(True)`. Vediamo un esempio:"
   ]
  },
  {
   "cell_type": "code",
   "execution_count": 208,
   "metadata": {},
   "outputs": [
    {
     "name": "stdout",
     "output_type": "stream",
     "text": [
      "Tensore: tensor([3.], requires_grad=True)\n",
      "Gradiente: None\n",
      "Funzione che ha generato il tensore: None\n"
     ]
    }
   ],
   "source": [
    "from torch.autograd import Variable\n",
    "x = torch.Tensor([3])\n",
    "x.requires_grad_(True)\n",
    "\n",
    "print(\"Tensore:\",x)\n",
    "print(\"Gradiente:\",x.grad)\n",
    "print(\"Funzione che ha generato il tensore:\",x.grad_fn)"
   ]
  },
  {
   "cell_type": "markdown",
   "metadata": {},
   "source": [
    "Inizialmente `grad_fn` è `None` perché il tensore è stato creato manualmente dall'utente. Anche `grad` è `None` perché ancora non abbiamo eseguito nessuna differenziazione. Il tensore appena creato è assimilabile a una **variabile indipendente**, che contiene un valore arbitrario. Vediamo di costruire una variabile **dipendente**, il cui valore dipende da quello di `x`. Ad esempio:\n",
    "\\begin{equation}\n",
    "y=2x^2\n",
    "\\end{equation}"
   ]
  },
  {
   "cell_type": "code",
   "execution_count": 209,
   "metadata": {},
   "outputs": [],
   "source": [
    "y =2*x**2"
   ]
  },
  {
   "cell_type": "markdown",
   "metadata": {},
   "source": [
    "Ispezioniamo le proprietà del nuovo tensore `y`:"
   ]
  },
  {
   "cell_type": "code",
   "execution_count": 210,
   "metadata": {},
   "outputs": [
    {
     "name": "stdout",
     "output_type": "stream",
     "text": [
      "tensor([18.], grad_fn=<MulBackward0>)\n",
      "<MulBackward0 object at 0x7fc28b568da0>\n",
      "None\n"
     ]
    }
   ],
   "source": [
    "print(y)\n",
    "print(y.grad_fn)\n",
    "print(y.grad)"
   ]
  },
  {
   "cell_type": "markdown",
   "metadata": {},
   "source": [
    "Il valore del tensore è $18$ (ovvero il valore di $x^2$ moltiplicato per $2$). `grad_fn` adesso punta a un oggetto chiamato `MulBackward0`. Ciò indica che la variabile `y` è stata creata moltiplicando una costante per una variabile. `grad` invece è ancora `None`. Per \"riempire\" il valore di `grad`, dobbiamo avviare il processo di differenziazione. Prima però riflettiamo su un punto: qual è la derivata di $y$ rispetto a $x$?\n",
    "\n",
    "\\begin{equation}\n",
    "y'(x) = 4x\n",
    "\\end{equation}\n",
    "\n",
    "La derivata di $y$ rispetto a $x$ è una funzione dipendente dalla variabile $x$. Qual è il valore della derivata di $y$ rispetto a $x$ calcolato nel punto $x=3$?\n",
    "\n",
    "\\begin{equation}\n",
    "y'(2)= 4\\cdot 3 = 12\n",
    "\\end{equation}\n",
    "\n",
    "Nel caso generale a più variabili, questo valore è detto gradiente. Avviamo il processo di differenziazione mediante il metodo `backward`. Questo metodo va richiamato sulla variabile `y`, in quanto"
   ]
  },
  {
   "cell_type": "code",
   "execution_count": 211,
   "metadata": {},
   "outputs": [],
   "source": [
    "y.backward()"
   ]
  },
  {
   "cell_type": "markdown",
   "metadata": {},
   "source": [
    "Il processo di differenziazione in pratica ha:\n",
    " * Calcolato la derivata di y rispetto a tutte le variabili indipendenti;\n",
    " * Valutato la funzione derivata nei valori assunti dalle variabili indipendenti.\n",
    " \n",
    "Il gradiente rispetto alla variabile dipendente $x$ si trova adesso dentro `x.grad`:"
   ]
  },
  {
   "cell_type": "code",
   "execution_count": 212,
   "metadata": {},
   "outputs": [
    {
     "name": "stdout",
     "output_type": "stream",
     "text": [
      "tensor([12.])\n"
     ]
    }
   ],
   "source": [
    "print(x.grad)"
   ]
  },
  {
   "cell_type": "markdown",
   "metadata": {},
   "source": [
    "Come ci aspettiamo, questo valore è pari a $8$. Osserviamo che il gradiente di $y$ è ancora `None`:"
   ]
  },
  {
   "cell_type": "code",
   "execution_count": 213,
   "metadata": {},
   "outputs": [
    {
     "name": "stdout",
     "output_type": "stream",
     "text": [
      "None\n"
     ]
    }
   ],
   "source": [
    "print(y.grad)"
   ]
  },
  {
   "cell_type": "markdown",
   "metadata": {},
   "source": [
    "Ciò è normale in quanto `y` è la variabile **dipendente**. Notiamo che la differenziazione può essere effettuata solo una volta. Se proviamo a eseguire `backward` nuovamente, otteniamo un errore. Si provi a eseguire nuovamente:\n",
    "\n",
    "```python \n",
    "y.backward()\n",
    "```"
   ]
  },
  {
   "cell_type": "markdown",
   "metadata": {},
   "source": [
    "Attenzione, la funzione `backward` non cancella eventuali vecchi valori dei gradienti, ma li accumula (ovvero li somma). Consideriamo il seguente esempio:"
   ]
  },
  {
   "cell_type": "code",
   "execution_count": 214,
   "metadata": {},
   "outputs": [
    {
     "name": "stdout",
     "output_type": "stream",
     "text": [
      "tensor([12.])\n",
      "tensor([24.])\n"
     ]
    }
   ],
   "source": [
    "x = torch.Tensor([3])\n",
    "x.requires_grad_(True)\n",
    "y = 2*x**2\n",
    "\n",
    "y.backward()\n",
    "print(x.grad)\n",
    "\n",
    "y = 2*x**2\n",
    "y.backward()\n",
    "print(x.grad)"
   ]
  },
  {
   "cell_type": "markdown",
   "metadata": {},
   "source": [
    "Il gradiente di y rispetto a x è sempre 12, ma nel secondo caso, questo valore viene sommato al gradiente pre-esistente. Per evitare di accumulare i gradienti, è necessario azzerarli manualmente come segue:"
   ]
  },
  {
   "cell_type": "code",
   "execution_count": 215,
   "metadata": {},
   "outputs": [
    {
     "name": "stdout",
     "output_type": "stream",
     "text": [
      "tensor([12.])\n",
      "tensor([12.])\n"
     ]
    }
   ],
   "source": [
    "x = torch.Tensor([3])\n",
    "x.requires_grad_(True)\n",
    "y = 2*x**2\n",
    "\n",
    "y.backward()\n",
    "print(x.grad)\n",
    "\n",
    "x.grad.data.zero_()\n",
    "\n",
    "y = 2*x**2\n",
    "y.backward()\n",
    "print(x.grad)"
   ]
  },
  {
   "cell_type": "markdown",
   "metadata": {},
   "source": [
    "**Domanda 12**\n",
    "<img src=\"img/qmark.jpg\" style=\"width:150px; float:left;\"/>\n",
    "\n",
    "Si consideri il seguente codice\n",
    "\n",
    "```python\n",
    "x = Variable(torch.Tensor([6]), requires_grad=True)\n",
    "y = 0.5 * x**2 \n",
    "y.backward()\n",
    "```\n",
    "\n",
    "Qual è il valore di ```x.grad```?"
   ]
  },
  {
   "cell_type": "markdown",
   "metadata": {},
   "source": [
    "**Risposta 12**\n",
    "<img style=\"float: left;width:150px;\" src=\"img/note.png\">\n",
    "\n",
    "<div style=\"background-color:#efefef; margin-left:150px; border:solid 1px; border-color:#dddddd; border-radius: 3px;\">\n",
    "<br><br><br><br><br><br>\n",
    "</div>"
   ]
  },
  {
   "cell_type": "markdown",
   "metadata": {},
   "source": [
    "**Domanda 13**\n",
    "<img src=\"img/qmark.jpg\" style=\"width:150px; float:left;\"/>\n",
    "\n",
    "Il seguente codice viene eseguito dopo il precedente:\n",
    "\n",
    "```python\n",
    "y = x**2 \n",
    "y.backward()\n",
    "```\n",
    "\n",
    "Qual è il valore di ```x.grad```?"
   ]
  },
  {
   "cell_type": "markdown",
   "metadata": {},
   "source": [
    "**Risposta 13**\n",
    "<img style=\"float: left;width:150px;\" src=\"img/note.png\">\n",
    "\n",
    "<div style=\"background-color:#efefef; margin-left:150px; border:solid 1px; border-color:#dddddd; border-radius: 3px;\">\n",
    "<br><br><br><br><br><br>\n",
    "</div>"
   ]
  },
  {
   "cell_type": "markdown",
   "metadata": {},
   "source": [
    "### 4.2.1 Esempio a più variabili\n",
    "\n",
    "Generalmente si parla di gradiente nel caso di funzioni di più variabili indipendenti. In questi casi, il gradiente può essere definito come un vettore che ha come componenti le derivate parziali di una funzione rispetto alle singole variabili. Ad esempio, consideriamo la seguente funzione di tre variabili indipendenti $x$, $y$ e $z$:\n",
    "\n",
    "\\begin{equation}\n",
    "f(x,y,z) = \\frac{x^2-\\frac{1}{y}}{z}\n",
    "\\end{equation}\n",
    "\n",
    "Il gradiente $\\nabla f$ di f è una funzione vettoriale. I suoi valori sono dunque vettori di tre dimensioni. In particolare, se assumiamo un sistema di riferimento Cartesiano ortonormale (ogni terna di valori $(x,y,z)$ può essere vista come un punto nello spazio 3D), il gradiente di $f$ può essere definito come:\n",
    "\n",
    "\\begin{equation}\n",
    "\\nabla f = \\frac{\\partial f}{\\partial x} \\hat{\\mathbf{x}} + \\frac{\\partial f}{\\partial y} \\hat{\\mathbf{y}} + \\frac{\\partial f}{\\partial z} \\hat{\\mathbf{z}}\n",
    "\\end{equation}\n",
    "\n",
    "dove $\\frac{\\partial f}{\\partial x}$, $\\frac{\\partial f}{\\partial y}$ e $\\frac{\\partial f}{\\partial z}$ sono le derivate parziali di $f$ rispetto a $x$, $y$ e $z$ e $\\hat{\\mathbf{x}}$, $\\hat{\\mathbf{y}}$ e $\\hat{\\mathbf{z}}$ sono i versori lungo i tre assi.\n",
    "\n",
    "Pertanto, il gradiente di $f$ calcolato nel punto $(x,y,z)$ sarà dato da:\n",
    "\n",
    "\\begin{equation}\n",
    "\\nabla f(x,y,z) = (\\frac{\\partial f}{\\partial x}(x,y,z), \\frac{\\partial f}{\\partial y}(x,y,z), \\frac{\\partial f}{\\partial z}(x,y,z))\n",
    "\\end{equation}\n",
    "\n",
    "Calcoliamo le derivate parziali della funzione $f$:\n",
    "\n",
    "\\begin{equation}\n",
    "\\frac{\\partial f}{\\partial x} = \\frac{2x}{z}, \\frac{\\partial f}{\\partial y} = \\frac{1}{y^2z}, \\frac{\\partial f}{\\partial y} = \\frac{1-x^2y}{z^2y}\n",
    "\\end{equation}\n",
    "\n",
    "Qual è il gradiente di $f$ nel punto (3,2,3)?\n",
    "\\begin{equation}\n",
    "\\nabla f(3,2,3) = (\\frac{\\partial f}{\\partial x}(3,2,3), \\frac{\\partial f}{\\partial y}(3,2,3), \\frac{\\partial f}{\\partial z}(3,2,3)) =(2,0.08, -0.95)\n",
    "\\end{equation}\n",
    "\n",
    "In pratica, PyTorch ci permette di ottenre lo stesso risultato senza dover specificare esplicitamente le derivate parziali.\n",
    "\n",
    "Definiamo la funzione f:"
   ]
  },
  {
   "cell_type": "code",
   "execution_count": 216,
   "metadata": {},
   "outputs": [],
   "source": [
    "f = lambda x,y,z : (x**2-1/y)/z"
   ]
  },
  {
   "cell_type": "markdown",
   "metadata": {},
   "source": [
    "Adesso definiamo tre variabili indipendenti $x$, $y$ e $z$ e assegniamo loro i valori 3,2,3:"
   ]
  },
  {
   "cell_type": "code",
   "execution_count": 217,
   "metadata": {},
   "outputs": [
    {
     "data": {
      "text/plain": [
       "tensor([3.], requires_grad=True)"
      ]
     },
     "execution_count": 217,
     "metadata": {},
     "output_type": "execute_result"
    }
   ],
   "source": [
    "x = torch.Tensor([3]); x.requires_grad_(True)\n",
    "y = torch.Tensor([2]); y.requires_grad_(True)\n",
    "z = torch.Tensor([3]); z.requires_grad_(True)"
   ]
  },
  {
   "cell_type": "markdown",
   "metadata": {},
   "source": [
    "Applichiamo la funzione $f$ alle tre variabili:"
   ]
  },
  {
   "cell_type": "code",
   "execution_count": 218,
   "metadata": {},
   "outputs": [],
   "source": [
    "result = f(x,y,z)"
   ]
  },
  {
   "cell_type": "markdown",
   "metadata": {},
   "source": [
    "`result` è una nuova variabile:"
   ]
  },
  {
   "cell_type": "code",
   "execution_count": 219,
   "metadata": {},
   "outputs": [
    {
     "name": "stdout",
     "output_type": "stream",
     "text": [
      "tensor([2.8333], grad_fn=<DivBackward0>)\n"
     ]
    }
   ],
   "source": [
    "print(result)"
   ]
  },
  {
   "cell_type": "markdown",
   "metadata": {},
   "source": [
    "Avviamo il processo di differenziazione richiamando `backward` sulla variabile indipendente:"
   ]
  },
  {
   "cell_type": "code",
   "execution_count": 220,
   "metadata": {},
   "outputs": [],
   "source": [
    "result.backward()"
   ]
  },
  {
   "cell_type": "markdown",
   "metadata": {},
   "source": [
    "Controlliamo i valori dei gradienti rispetto a $x$, $y$ e $z$:"
   ]
  },
  {
   "cell_type": "code",
   "execution_count": 221,
   "metadata": {},
   "outputs": [
    {
     "name": "stdout",
     "output_type": "stream",
     "text": [
      "2.00\n",
      "0.08\n",
      "-0.94\n"
     ]
    }
   ],
   "source": [
    "print(\"%0.2f\" % x.grad)\n",
    "print(\"%0.2f\" % y.grad)\n",
    "print(\"%0.2f\" % z.grad)"
   ]
  },
  {
   "cell_type": "markdown",
   "metadata": {},
   "source": [
    "**Domanda 14**\n",
    "<img src=\"img/qmark.jpg\" style=\"width:150px; float:left;\"/>\n",
    "\n",
    "Si consideri il seguente codice:\n",
    "\n",
    "```python\n",
    "x = Variable(torch.Tensor([3]), requires_grad=True)\n",
    "y = Variable(torch.Tensor([6]), requires_grad=True)\n",
    "\n",
    "z = 0.5*x**2+3*y\n",
    "z.backward()\n",
    "```\n",
    "\n",
    "Quali sono i valori di ```x.grad``` e ```y.grad```?"
   ]
  },
  {
   "cell_type": "markdown",
   "metadata": {},
   "source": [
    "**Risposta 14**\n",
    "<img style=\"float: left;width:150px;\" src=\"img/note.png\">\n",
    "\n",
    "<div style=\"background-color:#efefef; margin-left:150px; border:solid 1px; border-color:#dddddd; border-radius: 3px;\">\n",
    "<br><br><br><br><br><br>\n",
    "</div>"
   ]
  },
  {
   "cell_type": "markdown",
   "metadata": {},
   "source": [
    "### 4.2.2 Grafo computazionale\n",
    "\n",
    "Tensori e operazioni tra tensori formano un grafo diretto aciclico. Se tutte le operazioni sono differenziabili, autograd permette di calcolare in automatico i gradienti di ogni nodo del grafi rispetto al nodo sul quale si è richiamato il metodo `backward`. Vediamo un esempio:"
   ]
  },
  {
   "cell_type": "code",
   "execution_count": 222,
   "metadata": {},
   "outputs": [],
   "source": [
    "x=torch.Tensor([1])\n",
    "y=torch.Tensor([5])\n",
    "z=torch.Tensor([2])\n",
    "p=torch.Tensor([5])\n",
    "q=torch.Tensor([6])\n",
    "\n",
    "x.requires_grad_(True)\n",
    "y.requires_grad_(True)\n",
    "z.requires_grad_(True)\n",
    "p.requires_grad_(True)\n",
    "q.requires_grad_(True)\n",
    "\n",
    "a=x+2*y+3*z\n",
    "b=a*p\n",
    "c=b/q"
   ]
  },
  {
   "cell_type": "markdown",
   "metadata": {},
   "source": [
    "I tensori e le operazioni definiscono il seguente grafo diretto aciclico:\n",
    "\n",
    "<img width=70% src='img/grafo.jpg'>\n",
    "\n",
    "Nel grafo, i nodi in verde identificano variabili definite dall'utente (variabili indipendenti), mentre i nodi blu identificano variabili che sono frutto di operazioni tra tensori (variabili dipendenti)."
   ]
  },
  {
   "cell_type": "markdown",
   "metadata": {},
   "source": [
    "Dato un nodo (es. `c`), autograd permette di calcolare automaticamente le derivate parziali dei nodi creati dall'utente (variabili indipendenti) rispetto al nodo scelto (variabili dipendenti). Ad esempio, richiamando il metodo:"
   ]
  },
  {
   "cell_type": "code",
   "execution_count": 223,
   "metadata": {},
   "outputs": [],
   "source": [
    "c.backward()"
   ]
  },
  {
   "cell_type": "markdown",
   "metadata": {},
   "source": [
    "Otteniamo le seguenti derivate parziali:\n",
    "\n",
    "\\begin{equation}\n",
    "\\frac{\\partial c}{\\partial x}(1)\n",
    "\\end{equation}"
   ]
  },
  {
   "cell_type": "code",
   "execution_count": 224,
   "metadata": {},
   "outputs": [
    {
     "data": {
      "text/plain": [
       "tensor([0.8333])"
      ]
     },
     "execution_count": 224,
     "metadata": {},
     "output_type": "execute_result"
    }
   ],
   "source": [
    "x.grad"
   ]
  },
  {
   "cell_type": "markdown",
   "metadata": {},
   "source": [
    "\\begin{equation}\n",
    "\\frac{\\partial c}{\\partial y}(5)\n",
    "\\end{equation}"
   ]
  },
  {
   "cell_type": "code",
   "execution_count": 225,
   "metadata": {},
   "outputs": [
    {
     "data": {
      "text/plain": [
       "tensor([1.6667])"
      ]
     },
     "execution_count": 225,
     "metadata": {},
     "output_type": "execute_result"
    }
   ],
   "source": [
    "y.grad"
   ]
  },
  {
   "cell_type": "markdown",
   "metadata": {},
   "source": [
    "\\begin{equation}\n",
    "\\frac{\\partial c}{\\partial z}(2)\n",
    "\\end{equation}"
   ]
  },
  {
   "cell_type": "code",
   "execution_count": 226,
   "metadata": {},
   "outputs": [
    {
     "data": {
      "text/plain": [
       "tensor([2.5000])"
      ]
     },
     "execution_count": 226,
     "metadata": {},
     "output_type": "execute_result"
    }
   ],
   "source": [
    "z.grad"
   ]
  },
  {
   "cell_type": "markdown",
   "metadata": {},
   "source": [
    "\\begin{equation}\n",
    "\\frac{\\partial c}{\\partial p}(5)\n",
    "\\end{equation}"
   ]
  },
  {
   "cell_type": "code",
   "execution_count": 227,
   "metadata": {},
   "outputs": [
    {
     "data": {
      "text/plain": [
       "tensor([2.8333])"
      ]
     },
     "execution_count": 227,
     "metadata": {},
     "output_type": "execute_result"
    }
   ],
   "source": [
    "p.grad"
   ]
  },
  {
   "cell_type": "markdown",
   "metadata": {},
   "source": [
    "\\begin{equation}\n",
    "\\frac{\\partial c}{\\partial q}(6)\n",
    "\\end{equation}"
   ]
  },
  {
   "cell_type": "code",
   "execution_count": 228,
   "metadata": {},
   "outputs": [
    {
     "data": {
      "text/plain": [
       "tensor([-2.3611])"
      ]
     },
     "execution_count": 228,
     "metadata": {},
     "output_type": "execute_result"
    }
   ],
   "source": [
    "q.grad"
   ]
  },
  {
   "cell_type": "markdown",
   "metadata": {},
   "source": [
    "### 4.2.2 Fermare il calcolo dei gradienti\n",
    "Tensori e funzioni formano un grafo diretto aciclico. Richiamando `backward` su uno dei nodi, verrà attivato il processo di differenziazione automatico che coinvolgerà in cascata tutti i nodi ad esso connesso. Nel caso di grafi molto grandi, il calcolo dei gradienti può essere una operazione computazionalmente costosa. Nel caso in cui non serva calcolare i gradienti rispetto ad un determinato tensore, è possibile fermarne il calcolo in maniera esplicita."
   ]
  },
  {
   "cell_type": "markdown",
   "metadata": {},
   "source": [
    "#### Detach\n",
    "Il metodo `detach` permette di \"staccare\" un tensore dal grafo diretto aciclo, di fatto escludendo la computazione dei gradienti dei nodi del sottografo \"staccato\". Riprendiamo l'esempio precedente, ma questa volta calcoliamo il valore di `b` utilizzando una versione \"detached\" di `a`:"
   ]
  },
  {
   "cell_type": "code",
   "execution_count": 229,
   "metadata": {},
   "outputs": [],
   "source": [
    "x=torch.Tensor([1])\n",
    "y=torch.Tensor([5])\n",
    "z=torch.Tensor([2])\n",
    "p=torch.Tensor([5])\n",
    "q=torch.Tensor([6])\n",
    "\n",
    "x.requires_grad_(True)\n",
    "y.requires_grad_(True)\n",
    "z.requires_grad_(True)\n",
    "p.requires_grad_(True)\n",
    "q.requires_grad_(True)\n",
    "\n",
    "a=x+2*y+3*z\n",
    "b=a.detach()*p ###NOTA a.detach()\n",
    "c=b/q"
   ]
  },
  {
   "cell_type": "markdown",
   "metadata": {},
   "source": [
    "Il codice scritto sopra è equivalente al seguente grafo.\n",
    "\n",
    "<img src='img/grafo2.jpg' width=70%>\n",
    "\n",
    "Dove per i nodi in grigio non viene calcolato alcun gradiente. Verifichiamo:"
   ]
  },
  {
   "cell_type": "code",
   "execution_count": 230,
   "metadata": {},
   "outputs": [
    {
     "name": "stdout",
     "output_type": "stream",
     "text": [
      "None\n",
      "None\n",
      "None\n",
      "tensor([2.8333])\n",
      "tensor([-2.3611])\n"
     ]
    }
   ],
   "source": [
    "c.backward()\n",
    "print(x.grad)\n",
    "print(y.grad)\n",
    "print(z.grad)\n",
    "print(p.grad)\n",
    "print(q.grad)"
   ]
  },
  {
   "cell_type": "markdown",
   "metadata": {},
   "source": [
    "Come ci aspettavamo, i gradienti relativi a `x`, `y` e `z` non sono stati calcolati, mentre quelli relativi a `p` e `q` sono stati correttamente calcolati."
   ]
  },
  {
   "cell_type": "markdown",
   "metadata": {},
   "source": [
    "#### with torch.no_grad()\n",
    "\n",
    "E' inoltre possibile disattivare o attivare la costruzione stessa del grafo computazionale inserendo il codice in uno specifico contesto attivato mediante `with torch.no_grad()`. Vediamo un esempio in cui la costruzione del grafo è abilitata:"
   ]
  },
  {
   "cell_type": "code",
   "execution_count": 231,
   "metadata": {},
   "outputs": [
    {
     "name": "stdout",
     "output_type": "stream",
     "text": [
      "tensor([0.8333])\n",
      "tensor([1.6667])\n",
      "tensor([2.5000])\n",
      "tensor([2.8333])\n",
      "tensor([-2.3611])\n"
     ]
    }
   ],
   "source": [
    "x=torch.Tensor([1])\n",
    "y=torch.Tensor([5])\n",
    "z=torch.Tensor([2])\n",
    "p=torch.Tensor([5])\n",
    "q=torch.Tensor([6])\n",
    "\n",
    "x.requires_grad_(True)\n",
    "y.requires_grad_(True)\n",
    "z.requires_grad_(True)\n",
    "p.requires_grad_(True)\n",
    "q.requires_grad_(True)\n",
    "\n",
    "#specificando \"True\", abilitiamo la costruzione del grafo\n",
    "with torch.set_grad_enabled(True):\n",
    "    a=x+2*y+3*z\n",
    "    b=a*p\n",
    "    c=b/q\n",
    "    \n",
    "    c.backward()\n",
    "    print(x.grad)\n",
    "    print(y.grad)\n",
    "    print(z.grad)\n",
    "    print(p.grad)\n",
    "    print(q.grad)"
   ]
  },
  {
   "cell_type": "markdown",
   "metadata": {},
   "source": [
    "Analogamente, possiamo disabilitare la costruzione del grafo come segue:"
   ]
  },
  {
   "cell_type": "code",
   "execution_count": 232,
   "metadata": {},
   "outputs": [
    {
     "name": "stdout",
     "output_type": "stream",
     "text": [
      "element 0 of tensors does not require grad and does not have a grad_fn\n",
      "None\n",
      "None\n",
      "None\n",
      "None\n",
      "None\n"
     ]
    }
   ],
   "source": [
    "x=torch.Tensor([1])\n",
    "y=torch.Tensor([5])\n",
    "z=torch.Tensor([2])\n",
    "p=torch.Tensor([5])\n",
    "q=torch.Tensor([6])\n",
    "\n",
    "x.requires_grad_(True)\n",
    "y.requires_grad_(True)\n",
    "z.requires_grad_(True)\n",
    "p.requires_grad_(True)\n",
    "q.requires_grad_(True)\n",
    "\n",
    "#specificando \"False\", disabilitiamo la costruzione del grafo\n",
    "with torch.set_grad_enabled(False):\n",
    "    a=x+2*y+3*z\n",
    "    b=a*p\n",
    "    c=b/q\n",
    "    \n",
    "    try:\n",
    "        c.backward() #questa operazione scatena una eccezione, il calolo dei gradienti è disabilitato\n",
    "    except Exception as e:\n",
    "        print(e)\n",
    "    print(x.grad)\n",
    "    print(y.grad)\n",
    "    print(z.grad)\n",
    "    print(p.grad)\n",
    "    print(q.grad)"
   ]
  },
  {
   "cell_type": "markdown",
   "metadata": {},
   "source": [
    "In questo secondo esempio, notiamo come, sebbene il calcolo dei gradienti sia abilitato per ciascun tensore, il contesto `torch.set_grad_enabled` permette di disabilitare il calcolo dei gradienti e risparmiare memoria."
   ]
  },
  {
   "cell_type": "markdown",
   "metadata": {},
   "source": [
    "# Esercizi\n",
    "<img src=\"img/code.png\" style=\"width:150px; margin-right:30px; float:left\">\n",
    "<b>Esercizio 1</b>\n",
    "\n",
    "Definire la lista `[1,8,2,6,15,21,76,22,0,111,23,12,24]`, dunque:\n",
    " * Stampare il primo numero della lista;\n",
    " * Stampare l'ultimo numero della lista;\n",
    " * Stampare la somma dei numeri con indici dispari (e.g., 1,3,5,...) nella lista;\n",
    " * Stampare la lista ordinata in senso inverso;\n",
    " * Stampare la media dei numeri contenuti nella lista.\n"
   ]
  },
  {
   "cell_type": "markdown",
   "metadata": {},
   "source": [
    "<img src=\"img/code.png\" style=\"width:150px; margin-right:30px; float:left\">\n",
    "<b>Esercizio 2</b>\n",
    "\n",
    "Si definisca un dizionario `mesi` che mappi i nomi dei mesi nei loro corrispettivi numerici. Ad esempio, il risultato di:\n",
    "```python\n",
    "print mesi['Gennaio']```\n",
    "deve essere\n",
    "```python\n",
    "1\n",
    "```"
   ]
  },
  {
   "cell_type": "markdown",
   "metadata": {},
   "source": [
    "<img src=\"img/code.png\" style=\"width:150px; margin-right:30px; float:left\">\n",
    "<b>Esercizio 3</b>\n",
    "\n",
    "Si considerino le seguenti liste:\n",
    "\n",
    "```python\n",
    "l1 = [1,2,3]\n",
    "l2 = [4,5,6]\n",
    "l3 = [5,2,6]\n",
    "```\n",
    "\n",
    "Si combinino un ciclo for, **zip** e **enumerate** per ottenere il seguente output:\n",
    "\n",
    "```\n",
    "0 -> 10\n",
    "1 -> 9\n",
    "2 -> 15\n",
    "```"
   ]
  },
  {
   "cell_type": "markdown",
   "metadata": {},
   "source": [
    "<img src=\"img/code.png\" style=\"width:150px; margin-right:30px; float:left\">\n",
    "<b>Esercizio 4</b>\n",
    "\n",
    "Si ripeta l'esercizio **2** utilizzando la comprensione di dizionari. A tale scopo, si definisca prima la lista `['Gennaio','Febbraio','Marzo','Aprile','Maggio','Giugno',`\n",
    "`'Luglio','Agosto','Settembre','Ottobre','Novembre','Dicembre']`. \n",
    "\n",
    "Si costruisca dunque il dizionario desiderato utilizzando la comprensione di dizionari e la funzione `enum`"
   ]
  },
  {
   "cell_type": "markdown",
   "metadata": {},
   "source": [
    "<img src=\"img/code.png\" style=\"width:150px; margin-right:30px; float:left\">\n",
    "<b>Esercizio 5</b>\n",
    "\n",
    "Date le variabili:\n",
    "\n",
    "```python\n",
    "obj='triangolo'\n",
    "area=21.167822\n",
    "```\n",
    "\n",
    "stampare le stringhe:\n",
    " * L'area del triangolo è 21.16\n",
    " * 21.1678 è l'area del triangolo\n",
    "\n",
    "Utilizzare la formattazione di stringhe per ottenere il risultato."
   ]
  },
  {
   "cell_type": "markdown",
   "metadata": {},
   "source": [
    "<img src=\"img/code.png\" style=\"width:150px; margin-right:30px; float:left\">\n",
    "<b>Esercizio 6</b>\n",
    "Scrivere una funzione che estragga il dominio da un indirizzo email. Ad esempio, se l'indirizzo è \"furnari@dmi.unict.it\", la funzione deve estrarre \"dmi.unict.it\"."
   ]
  },
  {
   "cell_type": "markdown",
   "metadata": {},
   "source": [
    "<img src=\"img/code.png\" style=\"width:150px; margin-right:30px; float:left\">\n",
    "<b>Esercizio 7</b>\n",
    "\n",
    "Definire una matrice 3x4, poi:\n",
    " * Stampare la prima riga della matrice;\n",
    " * Stampare la seconda colonna della matrice;\n",
    " * Sommare la prima e l'ultima colonna della matrice;\n",
    " * Sommare gli elementi lungo la diagonale principale;\n",
    " * Stampare il numero di elementi della matrice."
   ]
  },
  {
   "cell_type": "markdown",
   "metadata": {},
   "source": [
    "<img src=\"img/code.png\" style=\"width:150px; margin-right:30px; float:left\">\n",
    "<b>Esercizio 8</b>\n",
    "\n",
    "Si generi un array di $100$ numeri compresi tra $2$ e $4$ e si calcoli la somma degli elementi i cui quadrati hanno un valore maggiore di $8$."
   ]
  },
  {
   "cell_type": "markdown",
   "metadata": {},
   "source": [
    "<img src=\"img/code.png\" style=\"width:150px; margin-right:30px; float:left\">\n",
    "<b>Esercizio 9</b>\n",
    "\n",
    "Si generi la seguente matrice scrivendo la minore quantità di codice possibile:\n",
    "\n",
    "```\n",
    "0 1 2\n",
    "3 4 5\n",
    "6 7 8\n",
    "```\n",
    "\n",
    "Si ripeta l'esercizio generando una matrice $25 \\times 13$ dello stesso tipo."
   ]
  },
  {
   "cell_type": "markdown",
   "metadata": {},
   "source": [
    "<img src=\"img/code.png\" style=\"width:150px; margin-right:30px; float:left\">\n",
    "<b>Esercizio 10</b>\n",
    "\n",
    "Si scriva il codice per ottenere il seguente grafico:\n",
    "\n",
    "<img style=\"margin:0\" src=\"img/curva.png\">"
   ]
  },
  {
   "cell_type": "markdown",
   "metadata": {},
   "source": [
    "<img src=\"img/code.png\" style=\"width:150px; margin-right:30px; float:left\">\n",
    "<b>Esercizio 11</b>\n",
    "\n",
    "Definire i seguenti tensori di interi:\n",
    " * ```A: [[1,3,6],[4,5,9]]```\n",
    " * ```B: [[6,7,9],[9,8,2]]```\n",
    " \n",
    "Si effettuino le seguenti operazioni:\n",
    " * Calolare la somma tra A e B e mettere il risultato in nuovo tensore C;\n",
    " * Sottrarre B and A (modificandone il valore);\n",
    " * Calcolare il massimo per righe di A;\n",
    " * Calcolare la somma per righe di B;"
   ]
  },
  {
   "cell_type": "markdown",
   "metadata": {},
   "source": [
    "<img src=\"img/code.png\" style=\"width:150px; margin-right:30px; float:left\">\n",
    "<b>Esercizio 12</b>\n",
    "\n",
    "Si consideri la seguente funzione:\n",
    "\\begin{equation}f(x,y) = \\frac{x}{y^x}-y^3\\end{equation}\n",
    "\n",
    "Si calcoli il gradiente della funzione nel punto $(0,8)$"
   ]
  },
  {
   "cell_type": "markdown",
   "metadata": {},
   "source": [
    "# References\n",
    "\n",
    " * Documentazione di Python 3. https://docs.python.org/3/\n",
    " * Documentazione di Numpy. http://www.numpy.org/\n",
    " * Documentazione di PyTorch. https://pytorch.org/docs/stable/index.html\n",
    " * PyTorch Tensor Tutorial. http://pytorch.org/tutorials/beginner/blitz/tensor_tutorial.html\n",
    " * PyTorch Autograd Tutorial. http://pytorch.org/tutorials/beginner/blitz/autograd_tutorial.html"
   ]
  }
 ],
 "metadata": {
  "anaconda-cloud": {},
  "kernelspec": {
   "display_name": "Python 3",
   "language": "python",
   "name": "python3"
  },
  "language_info": {
   "codemirror_mode": {
    "name": "ipython",
    "version": 3
   },
   "file_extension": ".py",
   "mimetype": "text/x-python",
   "name": "python",
   "nbconvert_exporter": "python",
   "pygments_lexer": "ipython3",
   "version": "3.7.3"
  }
 },
 "nbformat": 4,
 "nbformat_minor": 1
}
